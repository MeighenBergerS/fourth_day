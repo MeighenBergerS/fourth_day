{
 "cells": [
  {
   "cell_type": "code",
   "execution_count": 1,
   "metadata": {},
   "outputs": [],
   "source": [
    "# Name: probabilistic_model_constructions.ipynb\n",
    "# Authors: Stephan Meighen-Berger\n",
    "# Constructs a probabilistic model which can be used instead of the cpu heavy simulation\n",
    "# Still in BETA!!!"
   ]
  },
  {
   "cell_type": "code",
   "execution_count": 2,
   "metadata": {},
   "outputs": [],
   "source": [
    "# General imports\n",
    "import numpy as np\n",
    "import matplotlib.pyplot as plt\n",
    "import sys\n",
    "from tqdm import tqdm\n",
    "import pickle"
   ]
  },
  {
   "cell_type": "code",
   "execution_count": 3,
   "metadata": {},
   "outputs": [],
   "source": [
    "# Adding path to module\n",
    "sys.path.append(\"../\")"
   ]
  },
  {
   "cell_type": "code",
   "execution_count": 4,
   "metadata": {},
   "outputs": [],
   "source": [
    "# picture path\n",
    "PICS = '../pics/'"
   ]
  },
  {
   "cell_type": "code",
   "execution_count": 5,
   "metadata": {},
   "outputs": [],
   "source": [
    "# Module imports\n",
    "from fourth_day import Fourth_Day, config\n",
    "from fourth_day.pdfs import construct_pdf"
   ]
  },
  {
   "cell_type": "code",
   "execution_count": 6,
   "metadata": {},
   "outputs": [],
   "source": [
    "# Plotting standards\n",
    "std_size = 6.\n",
    "fontsize = 20.\n",
    "lw=1.\n",
    "h_length=1."
   ]
  },
  {
   "cell_type": "code",
   "execution_count": 7,
   "metadata": {},
   "outputs": [],
   "source": [
    "from matplotlib import rc\n",
    "rc('font',**{'family':'sans-serif','sans-serif':['Helvetica']})\n",
    "## for Palatino and other serif fonts use:\n",
    "#rc('font',**{'family':'serif','serif':['Palatino']})\n",
    "rc('text', usetex=True)"
   ]
  },
  {
   "cell_type": "code",
   "execution_count": 8,
   "metadata": {},
   "outputs": [],
   "source": [
    "# Scenario Settings\n",
    "# These are general settings pertaining to the simulation run\n",
    "config['scenario']['population size'] = 1  # The starting population size\n",
    "config['scenario']['duration'] = 600 * 5  # Total simulation time in seconds\n",
    "config['scenario']['exclusion'] = True  # If an exclusion zone should be used (the detector)\n",
    "config['scenario']['injection']['rate'] = 2e-1  #  Injection rate in per second, a distribution is constructed from this value\n",
    "pos_det_y = 0.5 * 15. - 0.15\n",
    "config['scenario']['injection']['y range'] = [pos_det_y - 5., pos_det_y + 5.]  # The y-range of injection\n",
    "config['scenario']['light prop'] = {  # Where the emitted light should be propagated to (typically the detector location)\n",
    "            \"switch\": False,  # If light should be propagated\n",
    "            \"x_pos\": 3.,  # The x-coordinates\n",
    "            \"y_pos\": 0.5 * 15. - 0.15,  # The y-coordinates\n",
    "        }\n",
    "config['scenario']['detector'] = {  # detector specific properties, positions are defined as offsets from the light prop values\n",
    "    \"switch\": False,  # If the detector should be modelled\n",
    "    \"type\": \"PMTSpec\",  # Detector name, implemented types are given in the config\n",
    "    \"response\": True,  # If a detector response should be used\n",
    "    \"acceptance\": \"Flat\",  # Flat acceptance\n",
    "    \"mean detection prob\": 0.5  # Used for the acceptance calculation\n",
    "}\n",
    "# ---------------------------------------------\n",
    "# Organisms\n",
    "# Organisms properties are defined here\n",
    "config['organisms']['emission fraction'] = 0.1  # Amount of energy an organism uses per pulse\n",
    "config['organisms']['alpha'] = 5e0  # Proportionality factor for the emission probability\n",
    "config['organisms'][\"minimal shear stress\"] = 0.05  # The minimal amount of shear stress needed to emit (generic units)\n",
    "config[\"organisms\"][\"filter\"] = 'depth'  # Method of filtering organisms (here depth)\n",
    "config[\"organisms\"][\"depth filter\"] = 1000.  # Organisms need to exist below this depth\n",
    "# ---------------------------------------------\n",
    "# Geometry\n",
    "# These settings define the geometry of the system\n",
    "# Typically a box (simulation volume) with a spherical exclusion zone (detector)\n",
    "config['geometry']['volume'] = {\n",
    "    'function': 'rectangle',\n",
    "    'x_length': 30.,\n",
    "    'y_length': 15.,\n",
    "    'offset': None,\n",
    "}\n",
    "# Reduce the observation size to reduce the computational load\n",
    "config['geometry']['observation'] = {\n",
    "    'function': 'rectangle',\n",
    "    'x_length': 30.,\n",
    "    'y_length': 15.,\n",
    "    \"offset\": np.array([0., 0.]),\n",
    "}\n",
    "# The detector volume\n",
    "config['geometry'][\"exclusion\"] = {\n",
    "    \"function\": \"sphere\",\n",
    "    \"radius\": 0.15,\n",
    "    \"x_pos\": 3.,\n",
    "    \"y_pos\": 0.5 * 15. - 0.15,\n",
    "}\n",
    "# ---------------------------------------------\n",
    "# Water\n",
    "# Properties of the current model\n",
    "config['water']['model']['name'] = 'custom'  # Use a custom (non analytic) model\n",
    "config['water']['model']['off set'] = np.array([0., 0.])  # Offset of the custom model\n",
    "config['water']['model']['directory'] = \"../data/current/Parabola_5mm/run_2cm_npy/\"  # The files used by the custom model\n",
    "config['water']['model']['time step'] = 5.  # in Seconds"
   ]
  },
  {
   "cell_type": "code",
   "execution_count": 9,
   "metadata": {},
   "outputs": [
    {
     "name": "stderr",
     "output_type": "stream",
     "text": [
      "100%|████████████████████████████████████████████████████████████████████████████| 100/100 [15:53:47<00:00, 572.27s/it]\n"
     ]
    }
   ],
   "source": [
    "runs = 100\n",
    "alpha = 1e1\n",
    "# Storage\n",
    "x_all = []\n",
    "y_all = []\n",
    "x_flash = []\n",
    "y_flash = []\n",
    "for seed in tqdm(range(runs)):\n",
    "    # Create new data\n",
    "    config['scenario']['class'] = 'New'\n",
    "    # Seed\n",
    "    config['general'][\"random state seed\"] = seed\n",
    "    # Alpha\n",
    "    config['organisms']['alpha'] = alpha\n",
    "    # Creating a fourth_day object\n",
    "    fd = Fourth_Day()\n",
    "    # Launching solver\n",
    "    fd.sim()\n",
    "    # Analyzing data\n",
    "    # Temporary storage\n",
    "    x_loc = []\n",
    "    y_loc = []\n",
    "    x_loc_flash = []\n",
    "    y_loc_flash = []\n",
    "    # Fetching all positions and only the flashers\n",
    "    for stat in fd.statistics:\n",
    "        # All of them\n",
    "        x_loc.append(stat[\"pos_x\"].values)\n",
    "        y_loc.append(stat[\"pos_y\"].values)\n",
    "        # Only the flashers\n",
    "        # Making sure there is something to work with\n",
    "        tmp = stat[\"pos_x\"].values[stat[\"pulse start\"].values]\n",
    "        tmp2 = stat[\"pos_y\"].values[stat[\"pulse start\"].values]\n",
    "        if len(tmp) > 0:\n",
    "            x_loc_flash.append(tmp)\n",
    "            y_loc_flash.append(tmp2)\n",
    "        else:\n",
    "            continue\n",
    "    x_loc = np.array(x_loc).ravel()\n",
    "    y_loc = np.array(y_loc).ravel()\n",
    "    # Errors can happen if empty\n",
    "    try:\n",
    "        x_loc_flash = np.array(x_loc_flash).ravel()\n",
    "        y_loc_flash = np.array(y_loc_flash).ravel()\n",
    "    except:\n",
    "        continue\n",
    "    x_all.append(x_loc)\n",
    "    y_all.append(y_loc)\n",
    "    x_flash.append(x_loc_flash)\n",
    "    y_flash.append(y_loc_flash)"
   ]
  },
  {
   "cell_type": "code",
   "execution_count": 10,
   "metadata": {},
   "outputs": [],
   "source": [
    "pickle.dump([x_all, y_all, x_flash, y_flash], open(\"probability_model/offcenter_2cm_raw_v2.pkl\", \"wb\" ) )"
   ]
  },
  {
   "cell_type": "code",
   "execution_count": null,
   "metadata": {},
   "outputs": [],
   "source": []
  }
 ],
 "metadata": {
  "kernelspec": {
   "display_name": "Python 3",
   "language": "python",
   "name": "python3"
  },
  "language_info": {
   "codemirror_mode": {
    "name": "ipython",
    "version": 3
   },
   "file_extension": ".py",
   "mimetype": "text/x-python",
   "name": "python",
   "nbconvert_exporter": "python",
   "pygments_lexer": "ipython3",
   "version": "3.7.6"
  }
 },
 "nbformat": 4,
 "nbformat_minor": 2
}
