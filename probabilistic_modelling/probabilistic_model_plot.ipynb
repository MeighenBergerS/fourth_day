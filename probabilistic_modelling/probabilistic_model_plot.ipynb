{
 "cells": [
  {
   "cell_type": "code",
   "execution_count": 1,
   "metadata": {},
   "outputs": [],
   "source": [
    "# Name: example_prob_model_plot.ipynb\n",
    "# Authors: Stephan Meighen-Berger\n",
    "# Plots the used prob model"
   ]
  },
  {
   "cell_type": "code",
   "execution_count": 2,
   "metadata": {},
   "outputs": [],
   "source": [
    "# General imports\n",
    "import numpy as np\n",
    "import matplotlib.pyplot as plt\n",
    "import sys\n",
    "import pandas as pd\n",
    "from tqdm import tqdm\n",
    "import pickle\n",
    "from scipy.signal import find_peaks\n",
    "from scipy.interpolate import RectBivariateSpline, UnivariateSpline\n",
    "# from mpl_toolkits.mplot3d import Axes3D\n",
    "import pandas as pd"
   ]
  },
  {
   "cell_type": "code",
   "execution_count": 3,
   "metadata": {},
   "outputs": [],
   "source": [
    "# Adding path to module\n",
    "sys.path.append(\"../\")"
   ]
  },
  {
   "cell_type": "code",
   "execution_count": 4,
   "metadata": {},
   "outputs": [],
   "source": [
    "from fourth_day.pdfs import construct_pdf"
   ]
  },
  {
   "cell_type": "code",
   "execution_count": 5,
   "metadata": {},
   "outputs": [],
   "source": [
    "# picture path\n",
    "PICS = '../pics/'"
   ]
  },
  {
   "cell_type": "code",
   "execution_count": 6,
   "metadata": {},
   "outputs": [],
   "source": [
    "# New approach\n",
    "data = pickle.load( open(\"probability_model/offcenter_2cm_raw_v2.pkl\", \"rb\" ) )\n",
    "x_all = np.array(data[0])\n",
    "y_all = np.array(data[1])\n",
    "x_flash = np.array(data[2])\n",
    "y_flash = np.array(data[3])\n",
    "pos_det_y = 0.5 * 15. - 0.15"
   ]
  },
  {
   "cell_type": "code",
   "execution_count": 7,
   "metadata": {},
   "outputs": [],
   "source": [
    "# Cleaning\n",
    "# Flattening and touching up\n",
    "# Need to check why this needs to run twice\n",
    "for i in range(2):\n",
    "    x_all = np.array([np.array([elem]).flatten() for elem in x_all])\n",
    "    y_all = np.array([np.array([elem]).flatten() for elem in y_all])\n",
    "    x_flash = np.array([np.array([elem]).flatten() for elem in x_flash])\n",
    "    y_flash = np.array([np.array([elem]).flatten() for elem in y_flash])\n",
    "    x_all = np.concatenate(x_all).ravel()\n",
    "    y_all = np.concatenate(y_all).ravel()\n",
    "    x_flash = np.concatenate(x_flash).ravel()\n",
    "    y_flash = np.concatenate(y_flash).ravel()"
   ]
  },
  {
   "cell_type": "code",
   "execution_count": 8,
   "metadata": {},
   "outputs": [],
   "source": [
    "# The bins\n",
    "xedges = np.linspace(0., 30., 301)\n",
    "yedges = np.linspace(0., 15., 151)"
   ]
  },
  {
   "cell_type": "code",
   "execution_count": 9,
   "metadata": {},
   "outputs": [],
   "source": [
    "# Binning all\n",
    "H_all, xedges, yedges = np.histogram2d(x_all, y_all, bins=(xedges, yedges))"
   ]
  },
  {
   "cell_type": "code",
   "execution_count": 10,
   "metadata": {},
   "outputs": [],
   "source": [
    "# Binning the flashes\n",
    "H_flash, xedges, yedges = np.histogram2d(x_flash, y_flash, bins=(xedges, yedges))"
   ]
  },
  {
   "cell_type": "code",
   "execution_count": 11,
   "metadata": {},
   "outputs": [],
   "source": [
    "from matplotlib import rc\n",
    "rc('font',**{'family':'sans-serif','sans-serif':['Helvetica']})\n",
    "rc('text', usetex=True)"
   ]
  },
  {
   "cell_type": "code",
   "execution_count": 12,
   "metadata": {},
   "outputs": [],
   "source": [
    "# Plotting standards\n",
    "std_size = 3.\n",
    "fontsize = 10.\n",
    "lw=1.\n",
    "h_length=1.\n",
    "export_dpi=500"
   ]
  },
  {
   "cell_type": "code",
   "execution_count": 13,
   "metadata": {},
   "outputs": [
    {
     "name": "stderr",
     "output_type": "stream",
     "text": [
      "C:\\Users\\steph\\anaconda3\\lib\\site-packages\\ipykernel_launcher.py:9: RuntimeWarning: invalid value encountered in true_divide\n",
      "  if __name__ == '__main__':\n"
     ]
    },
    {
     "data": {
      "image/png": "[encoded data removed]",
      "text/plain": [
       "<Figure size 216x162 with 1 Axes>"
      ]
     },
     "metadata": {
      "needs_background": "light"
     },
     "output_type": "display_data"
    }
   ],
   "source": [
    "# Plotting\n",
    "figure, (ax1) = plt.subplots(1, 1, figsize=(std_size, std_size * 6. / 8.), sharex=True)\n",
    "# -------------------------------------------------------------------------------------\n",
    "# Plot mesh\n",
    "X, Y = np.meshgrid(xedges, yedges)\n",
    "# X, Y = np.meshgrid((xedges[1:] + xedges[:-1])/2., (yedges[1:] + yedges[:-1])/2.)\n",
    "# -------------------------------------------------------------------------------------\n",
    "# Plot\n",
    "ax1.pcolormesh(X, Y, np.nan_to_num(H_flash.T / H_all.T), vmax=0.05)\n",
    "# ax1.contourf(X, Y, np.nan_to_num(H_flash.T / H_all.T), np.linspace(0., 0.5, 20))\n",
    "ax1.set_aspect('equal')\n",
    "# -------------------------------------------------------------------------------------\n",
    "# Axis\n",
    "ax1.set_xlabel(r\"$\\mathrm{X\\;[m]}$\", fontsize=fontsize)\n",
    "ax1.set_ylabel(r\"$\\mathrm{Y\\;[m]}$\", fontsize=fontsize)\n",
    "ax1.tick_params(axis = 'both', which = 'major', labelsize=fontsize, direction='in')\n",
    "ax1.tick_params(axis = 'both', which = 'minor', labelsize=fontsize, direction='in')\n",
    "ax1.set_xlim(0., 25.)\n",
    "ax1.set_ylim(pos_det_y - 5., pos_det_y + 5.)\n",
    "figure.tight_layout()\n",
    "# -------------------------------------------------------------------------------------\n",
    "# Storing\n",
    "figure.savefig(PICS + \"Organism_Flashes_10cm.png\",\n",
    "                bbox_inches='tight', dpi=export_dpi)"
   ]
  },
  {
   "cell_type": "code",
   "execution_count": null,
   "metadata": {},
   "outputs": [],
   "source": []
  }
 ],
 "metadata": {
  "kernelspec": {
   "display_name": "Python 3",
   "language": "python",
   "name": "python3"
  },
  "language_info": {
   "codemirror_mode": {
    "name": "ipython",
    "version": 3
   },
   "file_extension": ".py",
   "mimetype": "text/x-python",
   "name": "python",
   "nbconvert_exporter": "python",
   "pygments_lexer": "ipython3",
   "version": "3.7.6"
  }
 },
 "nbformat": 4,
 "nbformat_minor": 2
}
