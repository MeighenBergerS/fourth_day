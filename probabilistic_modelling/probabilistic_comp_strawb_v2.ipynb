{
 "cells": [
  {
   "cell_type": "code",
   "execution_count": 2,
   "metadata": {},
   "outputs": [],
   "source": [
    "# Name: probabilistic_comp_strawb_v2.ipynb\n",
    "# Authors: Stephan Meighen-Berger\n",
    "# This is still in BETA!!!\n",
    "# Comparison with STRAW-b data.\n",
    "# Here we use the fact that the emissions seem to happen randomly and\n",
    "# generate enough data to get every type of observed peak\n",
    "# Note that here we are using the probabilistic model!\n",
    "# To make a comparison large sets of data need to be generated.\n",
    "# Running the data creation on a cluster is highly recommended!"
   ]
  },
  {
   "cell_type": "code",
   "execution_count": 3,
   "metadata": {},
   "outputs": [],
   "source": [
    "# General imports\n",
    "import sys\n",
    "import numpy as np\n",
    "import matplotlib.pyplot as plt\n",
    "from tqdm import tqdm\n",
    "import pickle\n",
    "from scipy.signal import find_peaks, peak_widths\n",
    "from scipy.interpolate import RectBivariateSpline, UnivariateSpline\n",
    "from scipy.optimize import curve_fit\n",
    "import scipy.stats as stats"
   ]
  },
  {
   "cell_type": "code",
   "execution_count": 4,
   "metadata": {},
   "outputs": [],
   "source": [
    "# Adding path to module\n",
    "sys.path.append(\"../\")"
   ]
  },
  {
   "cell_type": "code",
   "execution_count": 5,
   "metadata": {},
   "outputs": [],
   "source": [
    "# picture path\n",
    "PICS = '../pics/'"
   ]
  },
  {
   "cell_type": "code",
   "execution_count": 6,
   "metadata": {},
   "outputs": [],
   "source": [
    "# Module imports\n",
    "from fourth_day import Fourth_Day, config\n",
    "from fourth_day.pdfs import construct_pdf"
   ]
  },
  {
   "cell_type": "code",
   "execution_count": 7,
   "metadata": {},
   "outputs": [],
   "source": [
    "def load_and_parse(str_velocity: str) -> RectBivariateSpline:\n",
    "    \"\"\" Loads the generated probability grids and constructs a\n",
    "    bivariate spline based on these\n",
    "    \n",
    "    Parameters\n",
    "    ----------\n",
    "    str_velocity : str\n",
    "        String for the velocity to use\n",
    "\n",
    "    Returns\n",
    "    -------\n",
    "    spl_prob : scipy.interpolate.RectBivariateSpline\n",
    "        The RectBivariateSpline object containing the probabilties of emission based on position (x,y)\n",
    "    \"\"\"\n",
    "    prob_params = pickle.load(open(\"probability_model/prob_model_\" + str_velocity +\n",
    "                                   \".pkl\", \"rb\"))\n",
    "    xedges = prob_params[0]\n",
    "    yedges = prob_params[1]\n",
    "    prob_grid = prob_params[2]\n",
    "    print(\"Shapes:\")\n",
    "    print(xedges.shape)\n",
    "    print(yedges.shape)\n",
    "    print((prob_grid.T).shape)\n",
    "    spl_prob = RectBivariateSpline(\n",
    "        np.diff(xedges) + xedges[:-1],\n",
    "        np.diff(yedges) + yedges[:-1],\n",
    "        prob_grid.T, kx=1, ky=1, s=0)\n",
    "    return spl_prob"
   ]
  },
  {
   "cell_type": "code",
   "execution_count": 8,
   "metadata": {},
   "outputs": [],
   "source": [
    "def constuct_sample_distro(\n",
    "    mean: float, sd: float, distro_type: str, wavelengths: np.array,\n",
    "    emission_time=100., simulation_step=1.):\n",
    "    \"\"\" Constructs a sample distribution (time-series)\n",
    "    based on the mean, sd and distribution type\n",
    "    \n",
    "    Parameters\n",
    "    ----------\n",
    "    mean : float\n",
    "        The distribution mean\n",
    "    sd : float\n",
    "        The distribution sd\n",
    "    distro_type : str\n",
    "        The distribution type\n",
    "    wavelengths : np.array\n",
    "        The wavelengths of interest\n",
    "    emission_time : float\n",
    "        OPTIONAL, the duration of light emission\n",
    "    simulation_step : float\n",
    "        OPTIONAL, steps to use in the time series\n",
    "\n",
    "    Returns\n",
    "    -------\n",
    "    time_series : np.array\n",
    "        The normalized time series for each wavelength\n",
    "\n",
    "    Raises\n",
    "    ------\n",
    "    ValueError\n",
    "        Unknown pdf distribution\n",
    "    \n",
    "    \"\"\"\n",
    "    # Treat uniform runs differently\n",
    "    if distro_type == \"Uniform\":\n",
    "        return np.ones(int(emission_time / simulation_step))\n",
    "    else:\n",
    "        # Constructing pdf\n",
    "        if distro_type == \"Gamma\":\n",
    "            distro = construct_pdf(\n",
    "                {\"class\": \"Gamma\",\n",
    "                \"mean\": mean,\n",
    "                \"sd\": sd\n",
    "                })\n",
    "        elif distro_type == \"Gauss\":\n",
    "            distro = construct_pdf(\n",
    "                {\"class\": \"Normal\",\n",
    "                \"mean\": mean,\n",
    "                \"sd\": sd\n",
    "                })\n",
    "        else:\n",
    "            raise ValueError(\"Unknown distribution type! Used: \" + distro_type)\n",
    "        # Normalizing the pdf\n",
    "        norm_distro = (\n",
    "            distro.pdf(np.arange(0., emission_time, simulation_step)) /\n",
    "            np.trapz(distro.pdf(np.arange(0., emission_time, simulation_step)),\n",
    "                    np.arange(0., emission_time, simulation_step))\n",
    "        )\n",
    "        # Constructing the wavelengths\n",
    "        wave_pdf = construct_pdf(\n",
    "            {\"class\": \"Normal\",\n",
    "            \"mean\": 450.,\n",
    "            \"sd\": 50.\n",
    "            })\n",
    "        # Normalizing according to the desired grid\n",
    "        norm_wave = (\n",
    "            wave_pdf.pdf(wavelengths) /\n",
    "            np.trapz(wave_pdf.pdf(wavelengths), wavelengths)\n",
    "        )\n",
    "        # Constructing the time series depending on the wavelengths\n",
    "        time_series = np.array([\n",
    "            norm_distro * normalization\n",
    "            for normalization in norm_wave\n",
    "        ])\n",
    "        return time_series"
   ]
  },
  {
   "cell_type": "code",
   "execution_count": 9,
   "metadata": {},
   "outputs": [],
   "source": [
    "def peak_sample(xys: np.array, wavelengths: np.array, time_series: np.array,\n",
    "                run_type: str):\n",
    "    \"\"\" Samples the xys positions for the resulting measured peaks.\n",
    "    \n",
    "    Parameters\n",
    "    ----------\n",
    "    xys : np.array\n",
    "        The x,y coordinates to sample (shape (n, 2))\n",
    "    wavelengths : np.array\n",
    "        The wavelengths of interest\n",
    "    time_series : np.array\n",
    "        The time series of emission (normalized) according to the wavelengths\n",
    "    run_type : str\n",
    "        Switches between uniform and non-uniform sampling\n",
    "\n",
    "    Returns\n",
    "    -------\n",
    "    sim_counts : np.array\n",
    "        The resulting measurements for the xys\n",
    "    \"\"\"\n",
    "    # --------------------------------------------------------------------\n",
    "    #  Making some basic input checks\n",
    "    # --------------------------------------------------------------------\n",
    "    # Some basic settings for the run\n",
    "    config['scenario']['class'] = 'Calibration'  # This should be a calibration run (pre-defined positions)\n",
    "    config['scenario']['light prop'] = {  # Where the detector is located\n",
    "                \"switch\": True,\n",
    "                \"x_pos\": 5.,\n",
    "                \"y_pos\": 10.,\n",
    "            }\n",
    "    config['scenario']['detector'] = {  # The detector to use (should be the PMT-spec from STRAW-b or its approximate)\n",
    "        \"switch\": True,\n",
    "        \"type\": \"PMTSpec_Func\",\n",
    "        \"response\": True,\n",
    "        \"acceptance\": \"Flat\",\n",
    "        \"mean detection prob\": 1.\n",
    "    }\n",
    "    config['geometry']['detector properties'][\"PMTSpec_Func\"] = {\n",
    "        \"x_pos\": 2.,\n",
    "        \"y_pos\": 5.,\n",
    "        \"det num\": 12, #12 pmts numbered by position \n",
    "        \"x_offsets\": np.array(\n",
    "            [0.1,0.,-0.1,0., 0.12,-0.12,-0.12,0.12, 0.2,-0.04,-0.2,0.04]\n",
    "        ) / 2., #test radius 0.3 meter, real radius 0.15 meter\n",
    "        \"y_offsets\": np.array(\n",
    "            [0.,0.1,0.,-0.1,  0.12,0.12,-0.12,-0.12, 0.04,0.2,-0.04,-0.2]\n",
    "        ) / 2.,\n",
    "        \"angle offset\": np.array([\n",
    "            90., 90., 90., 90., 90., 90.,\n",
    "            90., 90., 90., 90., 90., 90.]),  # In which direction the detector(s) points\n",
    "        \"opening angle\": np.array([\n",
    "            25., 25., 25., 25., 25., 25.,\n",
    "            25., 25., 25., 25., 25., 25.]),  # 25., # from dark box rotation test result: +-25 degrees\n",
    "        \"quantum efficiency\": \"Func\",  # whether flat or function\n",
    "        \"wavelength acceptance\": np.array([ #position number,center wavelength,quantum efficiency (if flat)\n",
    "            [395., 405.],\n",
    "            [505., 515.],\n",
    "            [420., 430.],\n",
    "            [465., 475.],\n",
    "            [300., 600.],\n",
    "            [487., 497.],\n",
    "            [540., 560.],\n",
    "            [515., 535.],\n",
    "            [475., 485.],\n",
    "            [445., 455.],\n",
    "            [455., 465.],\n",
    "            [325., 375.],                                     \n",
    "        ]),\n",
    "        \"quantum func\": np.array([\n",
    "            [[395., 400., 405.], np.array([0.26, 0.26, 0.26])],\n",
    "            [[505., 510., 515.], np.array([0.16, 0.16, 0.16])],\n",
    "            [[420., 425., 430.], np.array([0.28, 0.28, 0.28])],\n",
    "            [[465., 470., 475.], np.array([0.23, 0.23, 0.23])],\n",
    "            [[300., 500., 600.], np.array([1., 1., 1.])],\n",
    "            [[487., 490., 497.], np.array([0.1, 0.1, 0.1])],\n",
    "            [[540., 550., 560.], np.array([0.1, 0.1, 0.1])],\n",
    "            [[515., 525., 535.], np.array([0.13, 0.13, 0.13])],\n",
    "            [[475., 480., 485.], np.array([0.2, 0.2, 0.2])],\n",
    "            [[445., 450., 455.], np.array([0.2, 0.2, 0.2])],\n",
    "            [[455., 460., 465.], np.array([0.23, 0.23, 0.23])],\n",
    "            [[325., 350., 375.], np.array([0.3, 0.3, 0.3])],\n",
    "        ])\n",
    "    }\n",
    "    # The injected pulse\n",
    "    injection_pulse = {}\n",
    "    if run_type == \"Uniform\":\n",
    "        for id_wave, wavelength in enumerate(wavelengths):\n",
    "            injection_pulse[wavelength] = time_series\n",
    "    else:\n",
    "        for id_wave, wavelength in enumerate(wavelengths):\n",
    "            injection_pulse[wavelength] = time_series[id_wave]\n",
    "    config['calibration']['light curve'] = injection_pulse\n",
    "    sim_counts = []\n",
    "    # Starting the loop over the positions\n",
    "    for xy in tqdm(xys):\n",
    "        # The flasher position\n",
    "        config['calibration']['pos_arr'] = xy\n",
    "        # Creating a fourth_day object\n",
    "        fd = Fourth_Day()\n",
    "        # Launching solver\n",
    "        fd.sim()\n",
    "        sim_counts.append(fd.measured)\n",
    "    return sim_counts"
   ]
  },
  {
   "cell_type": "code",
   "execution_count": 10,
   "metadata": {},
   "outputs": [],
   "source": [
    "# Parameters\n",
    "wavelengths = np.linspace(300., 600., 61)\n",
    "dx2, dy2 = 1., 1.\n",
    "x2 = np.arange(0., 25., dx2)\n",
    "y2 = np.arange(0., 12., dy2)\n",
    "mesh = np.array(np.meshgrid(x2, y2))\n",
    "combinations = mesh.T.reshape(-1, 2)"
   ]
  },
  {
   "cell_type": "code",
   "execution_count": 11,
   "metadata": {},
   "outputs": [
    {
     "name": "stdout",
     "output_type": "stream",
     "text": [
      "Shapes:\n",
      "(301,)\n",
      "(151,)\n",
      "(300, 150)\n"
     ]
    }
   ],
   "source": [
    "# Constructing the probabilities of emission\n",
    "prob_spline = load_and_parse('5cm')\n",
    "# Constructing the emission time series\n",
    "time_series_1 = constuct_sample_distro(2., 0.3, \"Gamma\", wavelengths,\n",
    "                                       emission_time=10., simulation_step=0.1)\n",
    "time_series_2 = constuct_sample_distro(1., 0.15, \"Gamma\", wavelengths,\n",
    "                                       emission_time=10., simulation_step=0.1)"
   ]
  },
  {
   "cell_type": "code",
   "execution_count": 12,
   "metadata": {},
   "outputs": [
    {
     "data": {
      "text/plain": [
       "<matplotlib.collections.PathCollection at 0x23de91dce80>"
      ]
     },
     "execution_count": 12,
     "metadata": {},
     "output_type": "execute_result"
    },
    {
     "data": {
      "image/png": "[encoded data removed]",
      "text/plain": [
       "<Figure size 432x288 with 1 Axes>"
      ]
     },
     "metadata": {
      "needs_background": "light"
     },
     "output_type": "display_data"
    }
   ],
   "source": [
    "# plt.scatter(range(time_series_1.shape[0]), time_series_1)\n",
    "plt.scatter(range(time_series_1.shape[1]), time_series_1[30])\n",
    "plt.scatter(range(time_series_2.shape[1]), time_series_2[30])"
   ]
  },
  {
   "cell_type": "code",
   "execution_count": 13,
   "metadata": {
    "scrolled": true
   },
   "outputs": [],
   "source": [
    "# Running the peak sampler\n",
    "# constructed_peak_samples_1 = peak_sample(\n",
    "#     combinations, wavelengths, time_series_1, \"Uniform\"\n",
    "# )\n",
    "# constructed_peak_samples_2 = peak_sample(\n",
    "#     combinations, wavelengths, time_series_2\n",
    "# )"
   ]
  },
  {
   "cell_type": "code",
   "execution_count": 14,
   "metadata": {},
   "outputs": [],
   "source": [
    "def distro_fetcher(peak_samples):\n",
    "    detectors = {}\n",
    "    for det in peak_samples[0].keys():\n",
    "        detectors[det] = []\n",
    "        for sample in peak_samples:\n",
    "            detectors[det].append(sample[det])\n",
    "        detectors[det] = np.array(detectors[det])\n",
    "    return detectors\n",
    "# detector_tmp = distro_fetcher(constructed_peak_samples_1)"
   ]
  },
  {
   "cell_type": "code",
   "execution_count": 15,
   "metadata": {},
   "outputs": [],
   "source": [
    "# for pos_sig in detector_tmp[\"Detector 4\"]:\n",
    "#     plt.plot(range(time_series_1.shape[0]), pos_sig)"
   ]
  },
  {
   "cell_type": "code",
   "execution_count": 16,
   "metadata": {},
   "outputs": [],
   "source": [
    "# Plotting standards\n",
    "std_size = 10.  # The plot size\n",
    "fontsize = 20.\n",
    "lw=1.\n",
    "h_length=1."
   ]
  },
  {
   "cell_type": "code",
   "execution_count": 17,
   "metadata": {},
   "outputs": [],
   "source": [
    "from matplotlib import rc\n",
    "rc('font',**{'family':'sans-serif','sans-serif':['Helvetica']})\n",
    "rc('text', usetex=False)"
   ]
  },
  {
   "cell_type": "code",
   "execution_count": 18,
   "metadata": {},
   "outputs": [],
   "source": [
    "# Function used to smooth the plots\n",
    "def smooth(y, box_pts):\n",
    "    box = np.ones(box_pts) / box_pts\n",
    "    y_smooth = np.convolve(y, box, mode='same')\n",
    "    return y_smooth"
   ]
  },
  {
   "cell_type": "code",
   "execution_count": 19,
   "metadata": {},
   "outputs": [],
   "source": [
    "# Fetching data\n",
    "PMT_measurements = np.loadtxt('../data/detector/STRAW-B/PMT_Total.txt',delimiter=',')\n",
    "PMT_sorted = PMT_measurements[PMT_measurements[:, 0].argsort()]"
   ]
  },
  {
   "cell_type": "code",
   "execution_count": 20,
   "metadata": {},
   "outputs": [],
   "source": [
    "xdat = (PMT_sorted[:, 0][:380] - 30.)\n",
    "ydat = smooth(np.log10(PMT_sorted[:, 1][:380]) - 0., 1)\n",
    "ydat[ydat < 3.5] = 3.5\n",
    "ydat = ydat - 3.5"
   ]
  },
  {
   "cell_type": "code",
   "execution_count": 21,
   "metadata": {},
   "outputs": [
    {
     "name": "stdout",
     "output_type": "stream",
     "text": [
      "[ 12  78 107 143 167 226 285 322 361]\n"
     ]
    },
    {
     "name": "stderr",
     "output_type": "stream",
     "text": [
      "<ipython-input-21-76d218b1c1ae>:3: PeakPropertyWarning: some peaks have a prominence of 0\n",
      "  results_full  = peak_widths(xdat, peaks_found, rel_height=1.)\n",
      "<ipython-input-21-76d218b1c1ae>:3: PeakPropertyWarning: some peaks have a width of 0\n",
      "  results_full  = peak_widths(xdat, peaks_found, rel_height=1.)\n"
     ]
    }
   ],
   "source": [
    "# Found\n",
    "peaks_found, properties = find_peaks(ydat, height=0.2, width=4)\n",
    "results_full  = peak_widths(xdat, peaks_found, rel_height=1.)\n",
    "print(peaks_found)\n",
    "# Manual\n",
    "peaks = np.insert(peaks_found, [3, 8], [125, 335])"
   ]
  },
  {
   "cell_type": "code",
   "execution_count": 22,
   "metadata": {},
   "outputs": [
    {
     "name": "stderr",
     "output_type": "stream",
     "text": [
      "findfont: Font family ['sans-serif'] not found. Falling back to DejaVu Sans.\n",
      "findfont: Generic family 'sans-serif' not found because none of the following families were found: Helvetica\n"
     ]
    },
    {
     "data": {
      "image/png": "[encoded data removed]",
      "text/plain": [
       "<Figure size 432x288 with 1 Axes>"
      ]
     },
     "metadata": {
      "needs_background": "light"
     },
     "output_type": "display_data"
    }
   ],
   "source": [
    "# Find peaks\n",
    "# Data\n",
    "plt.plot(xdat, ydat, label='data')\n",
    "# Peaks\n",
    "plt.scatter(xdat[peaks], ydat[peaks], marker='X', color='g')\n",
    "# plt.vlines(x=xdat[peaks], ymin=ydat[peaks] - properties[\"prominences\"],\n",
    "#            ymax = ydat[peaks], color = \"C1\")\n",
    "plt.legend(loc='upper right')\n",
    "# plt.xlim(0., 1)\n",
    "plt.show()"
   ]
  },
  {
   "cell_type": "code",
   "execution_count": 23,
   "metadata": {},
   "outputs": [],
   "source": [
    "# Plotting standards\n",
    "std_size = 3.\n",
    "fontsize = 10.\n",
    "lw=1.\n",
    "h_length=1.\n",
    "export_dpi=500\n",
    "# Font style\n",
    "from matplotlib import rc, rcParams\n",
    "rc('font',**{'family':'sans-serif','sans-serif':['Helvetica']})\n",
    "rc('text', usetex=True)\n",
    "rcParams.update({'errorbar.capsize': 4})"
   ]
  },
  {
   "cell_type": "code",
   "execution_count": 37,
   "metadata": {},
   "outputs": [
    {
     "data": {
      "image/png": "[encoded data removed]",
      "text/plain": [
       "<Figure size 216x162 with 1 Axes>"
      ]
     },
     "metadata": {
      "needs_background": "light"
     },
     "output_type": "display_data"
    }
   ],
   "source": [
    "# Splitting data manually\n",
    "upper_bounds = [42, 26, 13, 10, 17, 19, 50, 31, 15, 23, -1]\n",
    "ranges = []\n",
    "counter = 0\n",
    "colors = ['#d95f02', '#7570b3']\n",
    "for id_up, upper_bound in enumerate(upper_bounds):\n",
    "    if id_up == 0:\n",
    "        ranges.append([0, upper_bounds[0]])\n",
    "    elif id_up == len(upper_bounds)-1:\n",
    "        ranges.append([ranges[-1][1]-1, -1])\n",
    "    else:\n",
    "        ranges.append([ranges[-1][1]-1, peaks[id_up]+upper_bound])\n",
    "# Plotting peak fits\n",
    "figure, (ax1) = plt.subplots(\n",
    "        1, 1, figsize=(std_size, std_size * 6. / 8.), sharex=True\n",
    ")\n",
    "# -----------------------------------------------------------------\n",
    "# Plot\n",
    "for range_set in ranges:\n",
    "    ax1.plot(xdat[range_set[0]:range_set[1]],\n",
    "             (10**(ydat + 3.6))[range_set[0]:range_set[1]], lw=lw,\n",
    "             color=colors[counter])\n",
    "    counter += 1\n",
    "    counter = counter % 2\n",
    "# ----------------------------------------------------------------\n",
    "# Axis\n",
    "ax1.set_xscale('linear')\n",
    "ax1.set_yscale('log')\n",
    "ax1.set_xlabel(r'$\\mathrm{t}\\;[\\mathrm{s}]$', fontsize=fontsize)\n",
    "ax1.set_ylabel(r'$\\mathrm{Rate}\\;\\mathrm{[Hz]}$', fontsize=fontsize)\n",
    "ax1.tick_params(axis = 'both', which = 'major',\n",
    "        labelsize=fontsize, direction='in')\n",
    "ax1.tick_params(axis = 'both', which = 'minor',\\\n",
    "        labelsize=fontsize, direction='in')\n",
    "ax1.set_xlim(0., 6.4)\n",
    "ax1.set_ylim(3e3, 3e6)\n",
    "# -------------------------------------------------------------------\n",
    "# Text\n",
    "ax1.text(0.2, 1.5e6, r'$\\mathrm{Smoothed\\;Data}$', fontsize=fontsize)\n",
    "# -------------------------------------------------------------------\n",
    "# Legend\n",
    "# h, l = ax1.get_legend_handles_labels()\n",
    "# lgd1 = ax1.legend(h[:2],l[:2], loc=9, bbox_to_anchor=(0.5, +1.3),\n",
    "#                   ncol=3, fontsize=fontsize, handlelength=h_length,\n",
    "#                   fancybox=True, frameon=False)\n",
    "# lgd2 = ax1.legend(h[2:],l[2:], loc=9, bbox_to_anchor=(0.5, +1.18),\n",
    "#                   ncol=3, fontsize=fontsize, handlelength=h_length,\n",
    "#                   fancybox=True, frameon=False)\n",
    "# ax1.add_artist(lgd1)\n",
    "# -------------------------------------------------------------------\n",
    "# Storing\n",
    "figure.savefig(PICS + \"Data_Regions.png\",\n",
    "               bbox_inches='tight', dpi=export_dpi)"
   ]
  },
  {
   "cell_type": "code",
   "execution_count": 25,
   "metadata": {},
   "outputs": [],
   "source": [
    "# Fitting\n",
    "def gamma_func(x, amp, mean, sd):\n",
    "    distro = construct_pdf(\n",
    "        {\"class\": \"Gamma\",\n",
    "        \"mean\": mean,\n",
    "        \"sd\": sd\n",
    "        })\n",
    "    return distro.pdf(x) * amp\n",
    "def cauchy(x, loc, scale, k):\n",
    "    rv = stats.cauchy(loc, scale)\n",
    "    res = []\n",
    "    for xid in x:\n",
    "        if xid < 3.6:\n",
    "            res.append(0.)\n",
    "        elif xid <= loc:\n",
    "            res.append(rv.pdf(xid))\n",
    "        else:\n",
    "            res.append(rv.pdf(loc) - k * (xid-loc))\n",
    "    res = np.array(res)\n",
    "    return res\n",
    "def cauchy_pos(x, loc, scale, k):\n",
    "    tmp = cauchy(x, loc, scale, k)\n",
    "    tmp[tmp < 0.] = 0.\n",
    "    return tmp"
   ]
  },
  {
   "cell_type": "code",
   "execution_count": 26,
   "metadata": {},
   "outputs": [],
   "source": [
    "# Fit\n",
    "popt_list = []\n",
    "for idrange, range_set in enumerate(ranges):\n",
    "    if idrange == 0:\n",
    "        popt, _ = curve_fit(gamma_func,\n",
    "                        xdat[range_set[0]:range_set[1]],\n",
    "                        ydat[range_set[0]:range_set[1]])\n",
    "    # Subtract previous fit\n",
    "    elif idrange in [6]:\n",
    "        popt, _ = curve_fit(\n",
    "            cauchy,\n",
    "            xdat[range_set[0]:range_set[1]],\n",
    "            ydat[range_set[0]:range_set[1]] -\n",
    "            gamma_func(xdat[range_set[0]:range_set[1]],\n",
    "            *popt_list[idrange-1]))\n",
    "    elif idrange in [7]:\n",
    "        popt, _ = curve_fit(\n",
    "            gamma_func,\n",
    "            xdat[range_set[0]:range_set[1]],\n",
    "            ydat[range_set[0]:range_set[1]] -\n",
    "            cauchy_pos(xdat[range_set[0]:range_set[1]],\n",
    "            *popt_list[idrange-1]))\n",
    "    else:\n",
    "        popt, _ = curve_fit(\n",
    "            gamma_func,\n",
    "            xdat[range_set[0]:range_set[1]],\n",
    "            ydat[range_set[0]:range_set[1]] -\n",
    "            gamma_func(xdat[range_set[0]:range_set[1]],\n",
    "            *popt_list[idrange-1]))\n",
    "    popt_list.append(popt)"
   ]
  },
  {
   "cell_type": "code",
   "execution_count": 28,
   "metadata": {},
   "outputs": [
    {
     "data": {
      "image/png": "[encoded data removed]",
      "text/plain": [
       "<Figure size 216x162 with 1 Axes>"
      ]
     },
     "metadata": {
      "needs_background": "light"
     },
     "output_type": "display_data"
    }
   ],
   "source": [
    "# Plotting peak fits\n",
    "figure, (ax1) = plt.subplots(\n",
    "        1, 1, figsize=(std_size, std_size * 6. / 8.), sharex=True\n",
    ")\n",
    "# -----------------------------------------------------------------\n",
    "# total sim\n",
    "total = []\n",
    "for idrange, range_set in enumerate(ranges):\n",
    "        if idrange in [6]:\n",
    "                total.append(cauchy_pos(xdat, *popt_list[idrange]))\n",
    "        else:\n",
    "                total.append(gamma_func(xdat, *popt_list[idrange]))\n",
    "total = np.sum(total, axis=0)\n",
    "spl_total = UnivariateSpline(xdat, total, k=1, s=0)\n",
    "# -----------------------------------------------------------------\n",
    "# Data\n",
    "skipval = 4  # Skipping data points for the plot due to density\n",
    "ax1.errorbar(\n",
    "        xdat[::skipval],\n",
    "        10**(ydat + 3.6)[::skipval],\n",
    "        yerr=(10**(ydat + 3.6) * 0.2)[::skipval],\n",
    "        color='k',\n",
    "        label=r'$\\mathrm{Data}$',\n",
    "        fmt='o',\n",
    "        lw=0.5,\n",
    "        markersize=1\n",
    ")\n",
    "# --------------------------------------------------------\n",
    "# Noise and Sim\n",
    "noise_mean = 3.6\n",
    "noise_sd = 1e3\n",
    "sim_grid = np.linspace(0., 6.5, 75)\n",
    "noise = np.random.normal(10**noise_mean, noise_sd, len(sim_grid))\n",
    "total_noise = 10**(spl_total(sim_grid) + 3.6) + noise - 10**noise_mean\n",
    "color_org = '#1b9e77'\n",
    "ax1.plot(\n",
    "        sim_grid, total_noise,\n",
    "        color=color_org, label=r'$\\mathrm{Simulation}$', lw=1.,\n",
    ")\n",
    "ax1.fill_between(\n",
    "        sim_grid, total_noise*1.2, total_noise*0.8,\n",
    "        color=color_org, label=r'$\\mathrm{Simulation\\;Error}$', alpha=0.2,\n",
    ")\n",
    "# -----------------------------------------------------------------\n",
    "# Text\n",
    "ax1.text(0.2, 4e4, r'$\\mathrm{G}2$', fontsize=fontsize)\n",
    "ax1.text(1.1, 4e5, r'$\\mathrm{G}1$', fontsize=fontsize)\n",
    "ax1.text(2., 1.5e5, r'$\\mathrm{G}1$', fontsize=fontsize)\n",
    "ax1.text(2.2, 5e4, r'$\\mathrm{G}1$', fontsize=fontsize)\n",
    "ax1.text(2.8, 1.6e5, r'$\\mathrm{G}1$', fontsize=fontsize)\n",
    "ax1.text(2.95, 1.6e4, r'$\\mathrm{G}1$', fontsize=fontsize)\n",
    "ax1.text(3.8, 1.7e6, r'$\\mathrm{C}1$', fontsize=fontsize)\n",
    "ax1.text(5.8, 8e5, r'$\\mathrm{G}2$', fontsize=fontsize)\n",
    "ax1.text(5.9, 6e4, r'$\\mathrm{G}1$', fontsize=fontsize)\n",
    "# ----------------------------------------------------------------\n",
    "# Axis\n",
    "ax1.set_xscale('linear')\n",
    "ax1.set_yscale('log')\n",
    "ax1.set_xlabel(r'$\\mathrm{t}\\;[\\mathrm{s}]$', fontsize=fontsize)\n",
    "ax1.set_ylabel(r'$\\mathrm{Rate}\\;\\mathrm{[Hz]}$', fontsize=fontsize)\n",
    "ax1.tick_params(axis = 'both', which = 'major',\n",
    "        labelsize=fontsize, direction='in')\n",
    "ax1.tick_params(axis = 'both', which = 'minor',\\\n",
    "        labelsize=fontsize, direction='in')\n",
    "ax1.set_xlim(0., 6.4)\n",
    "ax1.set_ylim(3e3, 3e6)\n",
    "# -------------------------------------------------------------------\n",
    "# Legend\n",
    "h, l = ax1.get_legend_handles_labels()\n",
    "lgd1 = ax1.legend(h[:2],l[:2], loc=9, bbox_to_anchor=(0.5, +1.3),\n",
    "                  ncol=3, fontsize=fontsize, handlelength=h_length,\n",
    "                  fancybox=True, frameon=False)\n",
    "lgd2 = ax1.legend(h[2:],l[2:], loc=9, bbox_to_anchor=(0.5, +1.18),\n",
    "                  ncol=3, fontsize=fontsize, handlelength=h_length,\n",
    "                  fancybox=True, frameon=False)\n",
    "ax1.add_artist(lgd1)\n",
    "# -------------------------------------------------------------------\n",
    "# Storing\n",
    "figure.savefig(PICS + \"Comp_Example.png\",\n",
    "               bbox_inches='tight', dpi=export_dpi)"
   ]
  },
  {
   "cell_type": "code",
   "execution_count": 32,
   "metadata": {},
   "outputs": [
    {
     "data": {
      "image/png": "[encoded data removed]",
      "text/plain": [
       "<Figure size 216x162 with 1 Axes>"
      ]
     },
     "metadata": {
      "needs_background": "light"
     },
     "output_type": "display_data"
    }
   ],
   "source": [
    "# Final distributions used for the simulation\n",
    "# Splitting data manually\n",
    "x_set = np.linspace(0., 10., 100)\n",
    "# Plotting peak fits\n",
    "figure, (ax1) = plt.subplots(\n",
    "        1, 1, figsize=(std_size, std_size * 6. / 8.), sharex=True\n",
    ")\n",
    "# -----------------------------------------------------------------\n",
    "# PDF Plots\n",
    "# Gamma\n",
    "ax1.plot(x_set, gamma_func(x_set, 1., 2., 0.3), color='#1f78b4', lw=lw,\n",
    "         label=r'$\\mathrm{G1}$')\n",
    "ax1.plot(x_set, gamma_func(x_set, 1., 1., 0.15), color='#a6cee3', lw=lw,\n",
    "         label=r'$\\mathrm{G2}$')\n",
    "# Cauchy\n",
    "cauchy_raw = cauchy_pos(x_set, 3.75, 0.121, 2.45)\n",
    "cauchy_norm = cauchy_raw / np.trapz(cauchy_raw, x=x_set)\n",
    "ax1.plot(x_set, cauchy_norm, color='#b2df8a', lw=lw,\n",
    "         label=r'$\\mathrm{C1}$')\n",
    "# ----------------------------------------------------------------\n",
    "# Axis\n",
    "ax1.set_xscale('linear')\n",
    "ax1.set_yscale('linear')\n",
    "ax1.set_xlabel(r'$\\mathrm{t}\\;[\\mathrm{s}]$', fontsize=fontsize)\n",
    "ax1.set_ylabel(r'$\\mathrm{PDF}$', fontsize=fontsize)\n",
    "ax1.tick_params(axis = 'both', which = 'major',\n",
    "        labelsize=fontsize, direction='in')\n",
    "ax1.tick_params(axis = 'both', which = 'minor',\\\n",
    "        labelsize=fontsize, direction='in')\n",
    "ax1.set_xlim(0., 6.)\n",
    "# ax1.set_ylim(3e3, 3e6)\n",
    "# -------------------------------------------------------------------\n",
    "# Legend\n",
    "h, l = ax1.get_legend_handles_labels()\n",
    "lgd1 = ax1.legend(h[:3],l[:3], loc=9, bbox_to_anchor=(0.5, +1.2),\n",
    "                  ncol=3, fontsize=fontsize, handlelength=h_length,\n",
    "                  fancybox=True, frameon=False)\n",
    "# lgd2 = ax1.legend(h[2:],l[2:], loc=9, bbox_to_anchor=(0.5, +1.18),\n",
    "#                   ncol=3, fontsize=fontsize, handlelength=h_length,\n",
    "#                   fancybox=True, frameon=False)\n",
    "ax1.add_artist(lgd1)\n",
    "# -------------------------------------------------------------------\n",
    "# Storing\n",
    "figure.savefig(PICS + \"Fit_PDFs.png\",\n",
    "               bbox_inches='tight', dpi=export_dpi)"
   ]
  },
  {
   "cell_type": "code",
   "execution_count": 38,
   "metadata": {},
   "outputs": [
    {
     "data": {
      "text/plain": [
       "0.09900000000000002"
      ]
     },
     "execution_count": 38,
     "metadata": {},
     "output_type": "execute_result"
    }
   ],
   "source": [
    "np.mean(cauchy_norm)"
   ]
  },
  {
   "cell_type": "code",
   "execution_count": 40,
   "metadata": {},
   "outputs": [
    {
     "data": {
      "text/plain": [
       "0.30695698552842565"
      ]
     },
     "execution_count": 40,
     "metadata": {},
     "output_type": "execute_result"
    }
   ],
   "source": [
    "np.std(cauchy_norm)"
   ]
  },
  {
   "cell_type": "code",
   "execution_count": 42,
   "metadata": {},
   "outputs": [
    {
     "data": {
      "text/plain": [
       "3981.0717055349733"
      ]
     },
     "execution_count": 42,
     "metadata": {},
     "output_type": "execute_result"
    }
   ],
   "source": [
    "10**3.6"
   ]
  },
  {
   "cell_type": "code",
   "execution_count": 47,
   "metadata": {},
   "outputs": [
    {
     "data": {
      "text/plain": [
       "4267.4"
      ]
     },
     "execution_count": 47,
     "metadata": {},
     "output_type": "execute_result"
    }
   ],
   "source": [
    "2850 * 1.5 - 7.6"
   ]
  },
  {
   "cell_type": "code",
   "execution_count": 6,
   "metadata": {},
   "outputs": [
    {
     "data": {
      "text/plain": [
       "35.94865058828129"
      ]
     },
     "execution_count": 6,
     "metadata": {},
     "output_type": "execute_result"
    }
   ],
   "source": [
    "np.exp(-30. * 0.03) / (4. * np.pi * 30.**2.) * 1e12 / 1e6"
   ]
  },
  {
   "cell_type": "code",
   "execution_count": null,
   "metadata": {},
   "outputs": [],
   "source": []
  }
 ],
 "metadata": {
  "interpreter": {
   "hash": "904ccb1227efbef717d526345be67ea66dc100e23c9cff416769e656c3d92628"
  },
  "kernelspec": {
   "display_name": "Python 3.9.5 64-bit ('fd': conda)",
   "name": "python3"
  },
  "language_info": {
   "codemirror_mode": {
    "name": "ipython",
    "version": 3
   },
   "file_extension": ".py",
   "mimetype": "text/x-python",
   "name": "python",
   "nbconvert_exporter": "python",
   "pygments_lexer": "ipython3",
   "version": "3.9.5"
  }
 },
 "nbformat": 4,
 "nbformat_minor": 2
}
