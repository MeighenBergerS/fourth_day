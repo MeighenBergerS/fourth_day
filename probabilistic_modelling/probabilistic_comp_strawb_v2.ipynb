{
 "cells": [
  {
   "cell_type": "code",
   "execution_count": 1,
   "metadata": {},
   "outputs": [],
   "source": [
    "# Name: probabilistic_comp_strawb_v2.ipynb\n",
    "# Authors: Stephan Meighen-Berger\n",
    "# This is still in BETA!!!\n",
    "# Comparison with STRAW-b data.\n",
    "# Here we use the fact that the emissions seem to happen randomly and\n",
    "# generate enough data to get every type of observed peak\n",
    "# Note that here we are using the probabilistic model!\n",
    "# To make a comparison large sets of data need to be generated.\n",
    "# Running the data creation on a cluster is highly recommended!"
   ]
  },
  {
   "cell_type": "code",
   "execution_count": 2,
   "metadata": {},
   "outputs": [],
   "source": [
    "# General imports\n",
    "import sys\n",
    "import numpy as np\n",
    "import matplotlib.pyplot as plt\n",
    "from tqdm import tqdm\n",
    "import pickle\n",
    "from scipy.signal import find_peaks\n",
    "from scipy.interpolate import RectBivariateSpline"
   ]
  },
  {
   "cell_type": "code",
   "execution_count": 3,
   "metadata": {},
   "outputs": [],
   "source": [
    "# Adding path to module\n",
    "sys.path.append(\"../\")"
   ]
  },
  {
   "cell_type": "code",
   "execution_count": 4,
   "metadata": {},
   "outputs": [],
   "source": [
    "# picture path\n",
    "PICS = '../pics/'"
   ]
  },
  {
   "cell_type": "code",
   "execution_count": 5,
   "metadata": {},
   "outputs": [],
   "source": [
    "# Module imports\n",
    "from fourth_day import Fourth_Day, config\n",
    "from fourth_day.pdfs import construct_pdf"
   ]
  },
  {
   "cell_type": "code",
   "execution_count": 6,
   "metadata": {},
   "outputs": [],
   "source": [
    "def load_and_parse(str_velocity: str) -> RectBivariateSpline:\n",
    "    \"\"\" Loads the generated probability grids and constructs a\n",
    "    bivariate spline based on these\n",
    "    \n",
    "    Parameters\n",
    "    ----------\n",
    "    str_velocity : str\n",
    "        String for the velocity to use\n",
    "\n",
    "    Returns\n",
    "    -------\n",
    "    spl_prob : scipy.interpolate.RectBivariateSpline\n",
    "        The RectBivariateSpline object containing the probabilties of emission based on position (x,y)\n",
    "    \"\"\"\n",
    "    prob_params = pickle.load(open(\"probability_model/prob_model_\" + str_velocity +\n",
    "                                   \".pkl\", \"rb\"))\n",
    "    xedges = prob_params[0]\n",
    "    yedges = prob_params[1]\n",
    "    prob_grid = prob_params[2]\n",
    "    print(\"Shapes:\")\n",
    "    print(xedges.shape)\n",
    "    print(yedges.shape)\n",
    "    print((prob_grid.T).shape)\n",
    "    spl_prob = RectBivariateSpline(\n",
    "        np.diff(xedges) + xedges[:-1],\n",
    "        np.diff(yedges) + yedges[:-1],\n",
    "        prob_grid.T, kx=1, ky=1, s=0)\n",
    "    return spl_prob"
   ]
  },
  {
   "cell_type": "code",
   "execution_count": 27,
   "metadata": {},
   "outputs": [],
   "source": [
    "def constuct_sample_distro(\n",
    "    mean: float, sd: float, distro_type: str, wavelengths: np.array,\n",
    "    emission_time=100., simulation_step=1.):\n",
    "    \"\"\" Constructs a sample distribution (time-series)\n",
    "    based on the mean, sd and distribution type\n",
    "    \n",
    "    Parameters\n",
    "    ----------\n",
    "    mean : float\n",
    "        The distribution mean\n",
    "    sd : float\n",
    "        The distribution sd\n",
    "    distro_type : str\n",
    "        The distribution type\n",
    "    wavelengths : np.array\n",
    "        The wavelengths of interest\n",
    "    emission_time : float\n",
    "        OPTIONAL, the duration of light emission\n",
    "    simulation_step : float\n",
    "        OPTIONAL, steps to use in the time series\n",
    "\n",
    "    Returns\n",
    "    -------\n",
    "    time_series : np.array\n",
    "        The normalized time series for each wavelength\n",
    "\n",
    "    Raises\n",
    "    ------\n",
    "    ValueError\n",
    "        Unknown pdf distribution\n",
    "    \n",
    "    \"\"\"\n",
    "    # Treat uniform runs differently\n",
    "    if distro_type == \"Uniform\":\n",
    "        return np.ones(int(emission_time / simulation_step))\n",
    "    else:\n",
    "        # Constructing pdf\n",
    "        if distro_type == \"Gamma\":\n",
    "            distro = construct_pdf(\n",
    "                {\"class\": \"Gamma\",\n",
    "                \"mean\": mean,\n",
    "                \"sd\": sd\n",
    "                })\n",
    "        elif distro_type == \"Gauss\":\n",
    "            distro = construct_pdf(\n",
    "                {\"class\": \"Normal\",\n",
    "                \"mean\": mean,\n",
    "                \"sd\": sd\n",
    "                })\n",
    "        else:\n",
    "            raise ValueError(\"Unknown distribution type! Used: \" + distro_type)\n",
    "        # Normalizing the pdf\n",
    "        norm_distro = (\n",
    "            distro.pdf(np.arange(0., emission_time, simulation_step)) /\n",
    "            np.trapz(distro.pdf(np.arange(0., emission_time, simulation_step)),\n",
    "                    np.arange(0., emission_time, simulation_step))\n",
    "        )\n",
    "        # Constructing the wavelengths\n",
    "        wave_pdf = construct_pdf(\n",
    "            {\"class\": \"Normal\",\n",
    "            \"mean\": 450.,\n",
    "            \"sd\": 50.\n",
    "            })\n",
    "        # Normalizing according to the desired grid\n",
    "        norm_wave = (\n",
    "            wave_pdf.pdf(wavelengths) /\n",
    "            np.trapz(wave_pdf.pdf(wavelengths), wavelengths)\n",
    "        )\n",
    "        # Constructing the time series depending on the wavelengths\n",
    "        time_series = np.array([\n",
    "            norm_distro * normalization\n",
    "            for normalization in norm_wave\n",
    "        ])\n",
    "        return time_series"
   ]
  },
  {
   "cell_type": "code",
   "execution_count": 33,
   "metadata": {},
   "outputs": [],
   "source": [
    "def peak_sample(xys: np.array, wavelengths: np.array, time_series: np.array,\n",
    "                run_type: str):\n",
    "    \"\"\" Samples the xys positions for the resulting measured peaks.\n",
    "    \n",
    "    Parameters\n",
    "    ----------\n",
    "    xys : np.array\n",
    "        The x,y coordinates to sample (shape (n, 2))\n",
    "    wavelengths : np.array\n",
    "        The wavelengths of interest\n",
    "    time_series : np.array\n",
    "        The time series of emission (normalized) according to the wavelengths\n",
    "    run_type : str\n",
    "        Switches between uniform and non-uniform sampling\n",
    "\n",
    "    Returns\n",
    "    -------\n",
    "    sim_counts : np.array\n",
    "        The resulting measurements for the xys\n",
    "    \"\"\"\n",
    "    # --------------------------------------------------------------------\n",
    "    #  Making some basic input checks\n",
    "    # --------------------------------------------------------------------\n",
    "    # Some basic settings for the run\n",
    "    config['scenario']['class'] = 'Calibration'  # This should be a calibration run (pre-defined positions)\n",
    "    config['scenario']['light prop'] = {  # Where the detector is located\n",
    "                \"switch\": True,\n",
    "                \"x_pos\": 5.,\n",
    "                \"y_pos\": 10.,\n",
    "            }\n",
    "    config['scenario']['detector'] = {  # The detector to use (should be the PMT-spec from STRAW-b or its approximate)\n",
    "        \"switch\": True,\n",
    "        \"type\": \"PMTSpec_Func\",\n",
    "        \"response\": True,\n",
    "        \"acceptance\": \"Flat\",\n",
    "        \"mean detection prob\": 1.\n",
    "    }\n",
    "    config['geometry']['detector properties'][\"PMTSpec_Func\"] = {\n",
    "        \"x_pos\": 2.,\n",
    "        \"y_pos\": 5.,\n",
    "        \"det num\": 12, #12 pmts numbered by position \n",
    "        \"x_offsets\": np.array(\n",
    "            [0.1,0.,-0.1,0., 0.12,-0.12,-0.12,0.12, 0.2,-0.04,-0.2,0.04]\n",
    "        ) / 2., #test radius 0.3 meter, real radius 0.15 meter\n",
    "        \"y_offsets\": np.array(\n",
    "            [0.,0.1,0.,-0.1,  0.12,0.12,-0.12,-0.12, 0.04,0.2,-0.04,-0.2]\n",
    "        ) / 2.,\n",
    "        \"angle offset\": np.array([\n",
    "            90., 90., 90., 90., 90., 90.,\n",
    "            90., 90., 90., 90., 90., 90.]),  # In which direction the detector(s) points\n",
    "        \"opening angle\": np.array([\n",
    "            25., 25., 25., 25., 25., 25.,\n",
    "            25., 25., 25., 25., 25., 25.]),  # 25., # from dark box rotation test result: +-25 degrees\n",
    "        \"quantum efficiency\": \"Func\",  # whether flat or function\n",
    "        \"wavelength acceptance\": np.array([ #position number,center wavelength,quantum efficiency (if flat)\n",
    "            [395., 405.],\n",
    "            [505., 515.],\n",
    "            [420., 430.],\n",
    "            [465., 475.],\n",
    "            [300., 600.],\n",
    "            [487., 497.],\n",
    "            [540., 560.],\n",
    "            [515., 535.],\n",
    "            [475., 485.],\n",
    "            [445., 455.],\n",
    "            [455., 465.],\n",
    "            [325., 375.],                                     \n",
    "        ]),\n",
    "        \"quantum func\": np.array([\n",
    "            [[395., 400., 405.], np.array([0.26, 0.26, 0.26])],\n",
    "            [[505., 510., 515.], np.array([0.16, 0.16, 0.16])],\n",
    "            [[420., 425., 430.], np.array([0.28, 0.28, 0.28])],\n",
    "            [[465., 470., 475.], np.array([0.23, 0.23, 0.23])],\n",
    "            [[300., 500., 600.], np.array([1., 1., 1.])],\n",
    "            [[487., 490., 497.], np.array([0.1, 0.1, 0.1])],\n",
    "            [[540., 550., 560.], np.array([0.1, 0.1, 0.1])],\n",
    "            [[515., 525., 535.], np.array([0.13, 0.13, 0.13])],\n",
    "            [[475., 480., 485.], np.array([0.2, 0.2, 0.2])],\n",
    "            [[445., 450., 455.], np.array([0.2, 0.2, 0.2])],\n",
    "            [[455., 460., 465.], np.array([0.23, 0.23, 0.23])],\n",
    "            [[325., 350., 375.], np.array([0.3, 0.3, 0.3])],\n",
    "        ])\n",
    "    }\n",
    "    # The injected pulse\n",
    "    injection_pulse = {}\n",
    "    if run_type == \"Uniform\":\n",
    "        for id_wave, wavelength in enumerate(wavelengths):\n",
    "            injection_pulse[wavelength] = time_series\n",
    "    else:\n",
    "        for id_wave, wavelength in enumerate(wavelengths):\n",
    "            injection_pulse[wavelength] = time_series[id_wave]\n",
    "    config['calibration']['light curve'] = injection_pulse\n",
    "    sim_counts = []\n",
    "    # Starting the loop over the positions\n",
    "    for xy in tqdm(xys):\n",
    "        # The flasher position\n",
    "        config['calibration']['pos_arr'] = xy\n",
    "        # Creating a fourth_day object\n",
    "        fd = Fourth_Day()\n",
    "        # Launching solver\n",
    "        fd.sim()\n",
    "        sim_counts.append(fd.measured)\n",
    "    return sim_counts"
   ]
  },
  {
   "cell_type": "code",
   "execution_count": 9,
   "metadata": {},
   "outputs": [],
   "source": [
    "# Parameters\n",
    "wavelengths = np.linspace(300., 600., 61)\n",
    "dx2, dy2 = 1., 1.\n",
    "x2 = np.arange(0., 25., dx2)\n",
    "y2 = np.arange(0., 12., dy2)\n",
    "mesh = np.array(np.meshgrid(x2, y2))\n",
    "combinations = mesh.T.reshape(-1, 2)"
   ]
  },
  {
   "cell_type": "code",
   "execution_count": 28,
   "metadata": {},
   "outputs": [
    {
     "name": "stdout",
     "output_type": "stream",
     "text": [
      "Shapes:\n",
      "(301,)\n",
      "(151,)\n",
      "(300, 150)\n"
     ]
    }
   ],
   "source": [
    "# Constructing the probabilities of emission\n",
    "prob_spline = load_and_parse('5cm')\n",
    "# Constructing the emission time series\n",
    "time_series_1 = constuct_sample_distro(2., 1.5, \"Uniform\", wavelengths,\n",
    "                                       emission_time=1., simulation_step=0.1)\n",
    "# time_series_2 = constuct_sample_distro(2., 0.3, \"Gamma\", wavelengths,\n",
    "#                                        emission_time=1., simulation_step=0.1)"
   ]
  },
  {
   "cell_type": "code",
   "execution_count": 29,
   "metadata": {},
   "outputs": [
    {
     "data": {
      "text/plain": [
       "<matplotlib.collections.PathCollection at 0x26be2dae2e0>"
      ]
     },
     "execution_count": 29,
     "metadata": {},
     "output_type": "execute_result"
    },
    {
     "data": {
      "image/png": "[encoded data removed]",
      "text/plain": [
       "<Figure size 432x288 with 1 Axes>"
      ]
     },
     "metadata": {
      "needs_background": "light"
     },
     "output_type": "display_data"
    }
   ],
   "source": [
    "plt.scatter(range(time_series_1.shape[0]), time_series_1)\n",
    "# plt.scatter(range(time_series_2.shape[1]), time_series_2[30])"
   ]
  },
  {
   "cell_type": "code",
   "execution_count": 34,
   "metadata": {
    "scrolled": true
   },
   "outputs": [
    {
     "name": "stderr",
     "output_type": "stream",
     "text": [
      "100%|██████████| 300/300 [13:09<00:00,  2.63s/it]\n"
     ]
    }
   ],
   "source": [
    "# Running the peak sampler\n",
    "constructed_peak_samples_1 = peak_sample(\n",
    "    combinations, wavelengths, time_series_1, \"Uniform\"\n",
    ")\n",
    "# constructed_peak_samples_2 = peak_sample(\n",
    "#     combinations, wavelengths, time_series_2\n",
    "# )"
   ]
  },
  {
   "cell_type": "code",
   "execution_count": 35,
   "metadata": {},
   "outputs": [],
   "source": [
    "def distro_fetcher(peak_samples):\n",
    "    detectors = {}\n",
    "    for det in peak_samples[0].keys():\n",
    "        detectors[det] = []\n",
    "        for sample in peak_samples:\n",
    "            detectors[det].append(sample[det])\n",
    "        detectors[det] = np.array(detectors[det])\n",
    "    return detectors\n",
    "detector_tmp = distro_fetcher(constructed_peak_samples_1)"
   ]
  },
  {
   "cell_type": "code",
   "execution_count": 38,
   "metadata": {},
   "outputs": [
    {
     "data": {
      "image/png": "[encoded data removed]",
      "text/plain": [
       "<Figure size 432x288 with 1 Axes>"
      ]
     },
     "metadata": {
      "needs_background": "light"
     },
     "output_type": "display_data"
    }
   ],
   "source": [
    "for pos_sig in detector_tmp[\"Detector 4\"]:\n",
    "    plt.plot(range(time_series_1.shape[0]), pos_sig)"
   ]
  },
  {
   "cell_type": "code",
   "execution_count": 39,
   "metadata": {},
   "outputs": [],
   "source": [
    "# Plotting standards\n",
    "std_size = 10.  # The plot size\n",
    "fontsize = 20.\n",
    "lw=1.\n",
    "h_length=1."
   ]
  },
  {
   "cell_type": "code",
   "execution_count": 40,
   "metadata": {},
   "outputs": [],
   "source": [
    "from matplotlib import rc\n",
    "rc('font',**{'family':'sans-serif','sans-serif':['Helvetica']})\n",
    "rc('text', usetex=False)"
   ]
  },
  {
   "cell_type": "code",
   "execution_count": 41,
   "metadata": {},
   "outputs": [],
   "source": [
    "# Function used to smooth the plots\n",
    "def smooth(y, box_pts):\n",
    "    box = np.ones(box_pts) / box_pts\n",
    "    y_smooth = np.convolve(y, box, mode='same')\n",
    "    return y_smooth"
   ]
  },
  {
   "cell_type": "code",
   "execution_count": 42,
   "metadata": {},
   "outputs": [],
   "source": [
    "# Fetching data\n",
    "PMT_measurements = np.loadtxt('../data/detector/STRAW-B/PMT_Total.txt',delimiter=',')\n",
    "PMT_sorted = PMT_measurements[PMT_measurements[:, 0].argsort()]"
   ]
  },
  {
   "cell_type": "code",
   "execution_count": 43,
   "metadata": {},
   "outputs": [],
   "source": [
    "xdat = (PMT_sorted[:, 0][:380] - 30.)\n",
    "ydat = smooth(np.log10(PMT_sorted[:, 1][:380]) - 0., 1)\n",
    "ydat[ydat < 0.] = 0."
   ]
  },
  {
   "cell_type": "code",
   "execution_count": 57,
   "metadata": {},
   "outputs": [
    {
     "data": {
      "image/png": "[encoded data removed]",
      "text/plain": [
       "<Figure size 432x288 with 1 Axes>"
      ]
     },
     "metadata": {
      "needs_background": "light"
     },
     "output_type": "display_data"
    }
   ],
   "source": [
    "# Data\n",
    "plt.plot(xdat, ydat, label='data')\n",
    "# Peaks\n",
    "peaks, properties = find_peaks(ydat, height=3.9, width=3)\n",
    "plt.scatter(xdat[peaks], ydat[peaks], marker='X', color='g')\n",
    "plt.vlines(x=xdat[peaks], ymin=ydat[peaks] - properties[\"prominences\"],\n",
    "           ymax = ydat[peaks], color = \"C1\")\n",
    "plt.legend(loc='upper right')\n",
    "# plt.xlim(0., 1)\n",
    "plt.show()"
   ]
  },
  {
   "cell_type": "code",
   "execution_count": null,
   "metadata": {},
   "outputs": [],
   "source": []
  }
 ],
 "metadata": {
  "interpreter": {
   "hash": "904ccb1227efbef717d526345be67ea66dc100e23c9cff416769e656c3d92628"
  },
  "kernelspec": {
   "display_name": "Python 3.9.5 64-bit ('fd': conda)",
   "name": "python3"
  },
  "language_info": {
   "codemirror_mode": {
    "name": "ipython",
    "version": 3
   },
   "file_extension": ".py",
   "mimetype": "text/x-python",
   "name": "python",
   "nbconvert_exporter": "python",
   "pygments_lexer": "ipython3",
   "version": "3.9.5"
  }
 },
 "nbformat": 4,
 "nbformat_minor": 2
}
