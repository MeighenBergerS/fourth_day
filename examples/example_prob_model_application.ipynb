{
 "cells": [
  {
   "cell_type": "code",
   "execution_count": 1,
   "metadata": {},
   "outputs": [
    {
     "data": {
      "text/plain": [
       "'\\nName: example_prob_model_application.ipynb\\nAuthors: Stephan Meighen-Berger\\nExample how to apply the probabilistic model\\nTODO: Implement this in the main code\\n'"
      ]
     },
     "execution_count": 1,
     "metadata": {},
     "output_type": "execute_result"
    }
   ],
   "source": [
    "\"\"\"\n",
    "Name: example_prob_model_application.ipynb\n",
    "Authors: Stephan Meighen-Berger\n",
    "Example how to apply the probabilistic model\n",
    "TODO: Implement this in the main code\n",
    "\"\"\""
   ]
  },
  {
   "cell_type": "code",
   "execution_count": 2,
   "metadata": {},
   "outputs": [],
   "source": [
    "# General imports\n",
    "import numpy as np\n",
    "import matplotlib.pyplot as plt\n",
    "import sys\n",
    "import pandas as pd\n",
    "from tqdm import tqdm\n",
    "import pickle\n",
    "from scipy.interpolate import RectBivariateSpline, UnivariateSpline\n",
    "# from mpl_toolkits.mplot3d import Axes3D\n",
    "import pandas as pd"
   ]
  },
  {
   "cell_type": "code",
   "execution_count": 3,
   "metadata": {},
   "outputs": [],
   "source": [
    "# Adding path to module\n",
    "sys.path.append(\"../\")"
   ]
  },
  {
   "cell_type": "code",
   "execution_count": 4,
   "metadata": {},
   "outputs": [],
   "source": [
    "from fourth_day.pdfs import construct_pdf"
   ]
  },
  {
   "cell_type": "code",
   "execution_count": 5,
   "metadata": {},
   "outputs": [],
   "source": [
    "# picture path\n",
    "PICS = '../pics/'"
   ]
  },
  {
   "cell_type": "code",
   "execution_count": 6,
   "metadata": {},
   "outputs": [],
   "source": [
    "# Plotting standards\n",
    "std_size = 6.\n",
    "fontsize = 20.\n",
    "lw=1.\n",
    "h_length=1."
   ]
  },
  {
   "cell_type": "code",
   "execution_count": 7,
   "metadata": {},
   "outputs": [],
   "source": [
    "from matplotlib import rc\n",
    "rc('font',**{'family':'sans-serif','sans-serif':['Helvetica']})\n",
    "## for Palatino and other serif fonts use:\n",
    "#rc('font',**{'family':'serif','serif':['Palatino']})\n",
    "rc('text', usetex=True)"
   ]
  },
  {
   "cell_type": "code",
   "execution_count": 8,
   "metadata": {},
   "outputs": [],
   "source": [
    "data_0 = pickle.load( open(\"offcenter_0.p\", \"rb\" ) )\n",
    "data_1 = pickle.load( open(\"offcenter_1.p\", \"rb\" ) )\n",
    "data_2 = pickle.load( open(\"offcenter_2.p\", \"rb\" ) )\n",
    "data_3 = pickle.load( open(\"offcenter_3.p\", \"rb\" ) )"
   ]
  },
  {
   "cell_type": "code",
   "execution_count": 9,
   "metadata": {},
   "outputs": [],
   "source": [
    "id_alpha = 0\n",
    "counts_0, edges_0 = np.histogram(\n",
    "    data_0['x_arr'][id_alpha],\n",
    "    bins=np.linspace(0., 26., 131),\n",
    "    weights=1./data_0['norm'][id_alpha]\n",
    ")\n",
    "counts_1, edges_1 = np.histogram(\n",
    "    data_1['x_arr'][id_alpha],\n",
    "    bins=np.linspace(0., 26., 131),\n",
    "    weights=1./data_1['norm'][id_alpha]\n",
    ")\n",
    "counts_2, edges_2 = np.histogram(\n",
    "    data_2['x_arr'][id_alpha],\n",
    "    bins=np.linspace(0., 26., 131),\n",
    "    weights=1./data_2['norm'][id_alpha]\n",
    ")\n",
    "counts_3, edges_3 = np.histogram(\n",
    "    data_3['x_arr'][id_alpha],\n",
    "    bins=np.linspace(0., 26., 131),\n",
    "    weights=1./data_3['norm'][id_alpha]\n",
    ")"
   ]
  },
  {
   "cell_type": "code",
   "execution_count": 10,
   "metadata": {},
   "outputs": [],
   "source": [
    "spl_prob = RectBivariateSpline(\n",
    "    (edges_0[1:] + edges_0[:-1]) / 2.,\n",
    "    np.array([0., 1., 2., 3.]),\n",
    "    np.array([counts_0, counts_1, counts_2, counts_3]).T, s=0.4)"
   ]
  },
  {
   "cell_type": "code",
   "execution_count": 11,
   "metadata": {},
   "outputs": [],
   "source": [
    "dx2, dy2 = 0.1, 0.1\n",
    "x2 = np.arange(0., 3., dx2)\n",
    "y2 = np.arange(0., 26., dy2)\n",
    "X2, Y2 = np.meshgrid(x2,y2)\n",
    "Z2 = spl_prob(y2, x2)\n",
    "Z2[Z2 < 0.] = 0."
   ]
  },
  {
   "cell_type": "code",
   "execution_count": 12,
   "metadata": {},
   "outputs": [],
   "source": [
    "# %matplotlib notebook\n",
    "# figure, ax = plt.subplots(1, 1, figsize=(std_size, std_size * 6. / 8.), sharex=True, subplot_kw={'projection': '3d'})\n",
    "# ax.plot_wireframe(X2, Y2, Z2, color='k')"
   ]
  },
  {
   "cell_type": "code",
   "execution_count": 13,
   "metadata": {},
   "outputs": [],
   "source": [
    "# Parameters\n",
    "detector_position = np.array([0., 0.])\n",
    "dens = 1e-1\n",
    "acceptance_range = np.array([30., 90.])\n",
    "simulation_step = 0.1\n",
    "simulation_time = 1000.\n",
    "wavelengths = np.linspace(300., 600., 301)\n",
    "emission_time = 100.\n",
    "photon_counts = 1e10\n",
    "efficiency = 0.1\n",
    "water_vel = 0.5 * simulation_step\n",
    "rest_time = 100. / simulation_step\n",
    "species = np.array([\"Species 1\", \"Species 2\"])\n",
    "gamma_test = construct_pdf(\n",
    "    {\"class\": \"Gamma\",\n",
    "     \"mean\": 2. / simulation_step,\n",
    "     \"sd\": 1.5 / simulation_step\n",
    "    })\n",
    "gamma_test_2 = construct_pdf(\n",
    "    {\"class\": \"Gamma\",\n",
    "     \"mean\": 0.2 / simulation_step,\n",
    "     \"sd\": 0.15 / simulation_step\n",
    "    })\n",
    "gauss_test = construct_pdf(\n",
    "    {\"class\": \"Normal\",\n",
    "     \"mean\": 450.,\n",
    "     \"sd\": 50.\n",
    "    })\n",
    "min_y = 0.\n",
    "max_y = 3.\n",
    "max_x = 26.\n",
    "starting_pop = 2\n",
    "pop_size = starting_pop\n",
    "injection_count = dens * (max_y - min_y) * water_vel\n",
    "expected_counts = int(injection_count * simulation_time)\n",
    "injection_times = np.sort(np.random.randint(int(simulation_time / simulation_step), size=expected_counts))"
   ]
  },
  {
   "cell_type": "code",
   "execution_count": 14,
   "metadata": {},
   "outputs": [],
   "source": [
    "unqiue_times, unique_counts = np.unique(injection_times, return_counts=True)"
   ]
  },
  {
   "cell_type": "code",
   "execution_count": 15,
   "metadata": {},
   "outputs": [],
   "source": [
    "# The population\n",
    "population = pd.DataFrame(\n",
    "    {\n",
    "        \"species\": None,\n",
    "        \"pos_x\": 0.,\n",
    "        \"pos_y\": 0.,\n",
    "        \"observed\": True,\n",
    "        \"flashing\": False,\n",
    "        \"can_flash\": True,\n",
    "        \"rest_time\": 0,\n",
    "    },\n",
    "    index=np.arange(starting_pop),\n",
    ")\n",
    "population.loc[:, 'pos_y'] = np.random.uniform(min_y, max_y, starting_pop)\n",
    "# Species\n",
    "if len(species) > 1:\n",
    "    pop_index_sample = np.random.randint(\n",
    "        0, len(species), starting_pop\n",
    "    )\n",
    "elif len(species) == 1:\n",
    "    pop_index_sample = np.zeros(starting_pop, dtype=np.int)\n",
    "population.loc[:, 'species'] = (\n",
    "    species[pop_index_sample]\n",
    ")"
   ]
  },
  {
   "cell_type": "code",
   "execution_count": 16,
   "metadata": {},
   "outputs": [
    {
     "name": "stderr",
     "output_type": "stream",
     "text": [
      "  0%|                                                                                        | 0/10000 [00:00<?, ?it/s]C:\\Users\\steph\\anaconda3\\lib\\site-packages\\pandas\\core\\computation\\expressions.py:178: UserWarning: evaluating in Python space because the '+' operator is not supported by numexpr for the bool dtype, use '|' instead\n",
      "  f\"evaluating in Python space because the {repr(op_str)} \"\n",
      "100%|████████████████████████████████████████████████████████████████████████████| 10000/10000 [01:46<00:00, 93.94it/s]\n"
     ]
    }
   ],
   "source": [
    "statistics = list(range(int(simulation_time / simulation_step)))\n",
    "for i in tqdm(range(int(simulation_time / simulation_step))):\n",
    "    counter = 0\n",
    "    # Resetting the flash\n",
    "    population.loc[:, 'flashing'] = False\n",
    "    if i in unqiue_times:\n",
    "        inject = unique_counts[counter]\n",
    "        for j in range(inject):\n",
    "            if len(species) > 1:\n",
    "                pop_index_sample = np.random.randint(\n",
    "                    0, len(species), 1\n",
    "                )\n",
    "            elif len(species) == 1:\n",
    "                pop_index_sample = np.zeros(1, dtype=np.int)\n",
    "            population.loc[pop_size + (j+1)] = [\n",
    "                species[pop_index_sample][0],\n",
    "                0.,\n",
    "                np.random.uniform(min_y, max_y),\n",
    "                True,\n",
    "                False,\n",
    "                True,\n",
    "                0\n",
    "            ]\n",
    "            pop_size += 1\n",
    "        counter += 1\n",
    "    # Injection only according to array\n",
    "    observation_mask = population.loc[:, 'observed']\n",
    "    # propagation\n",
    "    population.loc[observation_mask, 'pos_x'] = population.loc[observation_mask, 'pos_x'] + water_vel\n",
    "    # Checking if should emit\n",
    "    prob_arr = spl_prob(\n",
    "        population.loc[observation_mask, 'pos_x'].values,\n",
    "        population.loc[observation_mask, 'pos_y'].values, grid=False)\n",
    "    prob_arr[prob_arr < 0.] = 0.\n",
    "    flash_mask = np.logical_and(np.array(np.random.binomial(1, prob_arr, len(prob_arr)), dtype=bool),\n",
    "                                population.loc[observation_mask, 'can_flash'].values)\n",
    "    population.loc[observation_mask, 'flashing'] += flash_mask\n",
    "    can_flash_mask =  population.loc[:, 'flashing'].values\n",
    "    population.loc[can_flash_mask, 'can_flash'] = False\n",
    "    # Counting the rest\n",
    "    resting_mask = population.loc[:, 'can_flash'].values\n",
    "    population.loc[~resting_mask, 'rest_time'] += 1\n",
    "    # Checking if can flash again\n",
    "    flash_mask = np.greater(population.loc[:, 'rest_time'], rest_time)\n",
    "    population.loc[flash_mask, 'rest_time'] = 0\n",
    "    population.loc[flash_mask, 'can_flash'] = True\n",
    "    # Observed\n",
    "    new_observation_mask = np.less(population.loc[observation_mask, 'pos_x'], max_x)\n",
    "    population.loc[observation_mask, 'observed'] = new_observation_mask\n",
    "    statistics[i] = population.copy()"
   ]
  },
  {
   "cell_type": "code",
   "execution_count": 17,
   "metadata": {},
   "outputs": [],
   "source": [
    "flashes = np.zeros(len(statistics))\n",
    "for id_pop, pop in enumerate(statistics):\n",
    "    flashes[id_pop] = (np.sum(pop.loc[:, \"flashing\"]))"
   ]
  },
  {
   "cell_type": "code",
   "execution_count": 18,
   "metadata": {},
   "outputs": [],
   "source": [
    "x_arr = np.arange(len(flashes))"
   ]
  },
  {
   "cell_type": "code",
   "execution_count": 19,
   "metadata": {},
   "outputs": [
    {
     "data": {
      "image/png": "[encoded data removed]",
      "text/plain": [
       "<Figure size 432x324 with 1 Axes>"
      ]
     },
     "metadata": {
      "needs_background": "light"
     },
     "output_type": "display_data"
    }
   ],
   "source": [
    "figure, (ax1) = plt.subplots(1, 1, figsize=(std_size, std_size * 6. / 8.), sharex=True)\n",
    "ax1.scatter(x_arr * simulation_step, flashes)\n",
    "ax1.set_xscale('linear')\n",
    "ax1.set_yscale('linear')\n",
    "ax1.set_xlabel(r'$\\mathrm{t}\\;[\\mathrm{s}]$', fontsize=fontsize)\n",
    "ax1.set_ylabel(r'$\\mathrm{Flashes}$', fontsize=fontsize)\n",
    "ax1.tick_params(axis = 'both', which = 'major', labelsize=fontsize, direction='in')\n",
    "ax1.tick_params(axis = 'both', which = 'minor', labelsize=fontsize, direction='in')\n",
    "# ax1.grid(True)\n",
    "h, l = ax1.get_legend_handles_labels()\n",
    "lgd1 = ax1.legend(h,l, loc=9, bbox_to_anchor=(0.5, +1.2),\n",
    "                  ncol=5, fontsize=fontsize, handlelength=h_length,\n",
    "                  fancybox=True, frameon=False)\n",
    "# ax1.set_ylim(1e3,1e7)\n",
    "# ax1.set_xlim(350, 400)\n",
    "plt.tight_layout()\n",
    "plt.show()"
   ]
  },
  {
   "cell_type": "code",
   "execution_count": 20,
   "metadata": {},
   "outputs": [
    {
     "name": "stderr",
     "output_type": "stream",
     "text": [
      "findfont: Font family ['sans-serif'] not found. Falling back to DejaVu Sans.\n"
     ]
    },
    {
     "data": {
      "image/png": "[encoded data removed]",
      "text/plain": [
       "<Figure size 432x324 with 1 Axes>"
      ]
     },
     "metadata": {
      "needs_background": "light"
     },
     "output_type": "display_data"
    }
   ],
   "source": [
    "# Testing the time pdf\n",
    "test_grid = np.linspace(0., 100. / simulation_step, 1000)\n",
    "figure, (ax1) = plt.subplots(1, 1, figsize=(std_size, std_size * 6. / 8.), sharex=True)\n",
    "ax1.plot(test_grid * simulation_step,\n",
    "         gamma_test.pdf(test_grid),\n",
    "         lw=lw, label=r'$\\mathrm{Test\\;1}$')\n",
    "ax1.plot(test_grid * simulation_step,\n",
    "         gamma_test_2.pdf(test_grid),\n",
    "         lw=lw, label=r'$\\mathrm{Test\\;2}$')\n",
    "ax1.set_xscale('linear')\n",
    "ax1.set_yscale('log')\n",
    "ax1.set_xlabel(r'$\\mathrm{t}\\;[\\mathrm{s}]$', fontsize=fontsize)\n",
    "ax1.set_ylabel(r'$\\mathrm{PDF}$', fontsize=fontsize)\n",
    "ax1.tick_params(axis = 'both', which = 'major', labelsize=fontsize, direction='in')\n",
    "ax1.tick_params(axis = 'both', which = 'minor', labelsize=fontsize, direction='in')\n",
    "# ax1.grid(True)\n",
    "h, l = ax1.get_legend_handles_labels()\n",
    "lgd1 = ax1.legend(h,l, loc=9, bbox_to_anchor=(0.5, +1.2),\n",
    "                  ncol=5, fontsize=fontsize, handlelength=h_length,\n",
    "                  fancybox=True, frameon=False)\n",
    "ax1.set_ylim(1e-4, 1e1)\n",
    "ax1.set_xlim(0., 20)\n",
    "plt.tight_layout()\n",
    "plt.show()"
   ]
  },
  {
   "cell_type": "code",
   "execution_count": 21,
   "metadata": {},
   "outputs": [
    {
     "data": {
      "image/png": "[encoded data removed]",
      "text/plain": [
       "<Figure size 432x324 with 1 Axes>"
      ]
     },
     "metadata": {
      "needs_background": "light"
     },
     "output_type": "display_data"
    }
   ],
   "source": [
    "# Testing the gaus pdf\n",
    "test_grid = np.linspace(0., 1000., 1000)\n",
    "figure, (ax1) = plt.subplots(1, 1, figsize=(std_size, std_size * 6. / 8.), sharex=True)\n",
    "ax1.plot(test_grid,\n",
    "         gauss_test.pdf(test_grid),\n",
    "         lw=lw, label=r'$\\mathrm{Gauss\\; Pulse}$')\n",
    "ax1.set_xscale('linear')\n",
    "ax1.set_yscale('log')\n",
    "ax1.set_xlabel(r'$\\lambda\\;[\\mathrm{nm}]$', fontsize=fontsize)\n",
    "ax1.set_ylabel(r'$\\mathrm{PDF}$', fontsize=fontsize)\n",
    "ax1.tick_params(axis = 'both', which = 'major', labelsize=fontsize, direction='in')\n",
    "ax1.tick_params(axis = 'both', which = 'minor', labelsize=fontsize, direction='in')\n",
    "# ax1.grid(True)\n",
    "h, l = ax1.get_legend_handles_labels()\n",
    "lgd1 = ax1.legend(h,l, loc=9, bbox_to_anchor=(0.5, +1.2),\n",
    "                  ncol=5, fontsize=fontsize, handlelength=h_length,\n",
    "                  fancybox=True, frameon=False)\n",
    "ax1.set_ylim(1e-4, 1e1)\n",
    "ax1.set_xlim(0., 1000)\n",
    "plt.tight_layout()\n",
    "plt.show()"
   ]
  },
  {
   "cell_type": "code",
   "execution_count": 22,
   "metadata": {},
   "outputs": [],
   "source": [
    "# Normalizing pdfs\n",
    "norm_time_series_1 = (\n",
    "    gamma_test.pdf(np.arange(0., emission_time, simulation_step)) /\n",
    "    np.trapz(gamma_test.pdf(np.arange(0., emission_time, simulation_step)),\n",
    "             np.arange(0., emission_time, simulation_step))\n",
    ")\n",
    "norm_time_series_2 = (\n",
    "    gamma_test_2.pdf(np.arange(0., emission_time, simulation_step)) /\n",
    "    np.trapz(gamma_test.pdf(np.arange(0., emission_time, simulation_step)),\n",
    "             np.arange(0., emission_time, simulation_step))\n",
    ")\n",
    "norm_time_series_1 = norm_time_series_1 * photon_counts\n",
    "norm_time_series_2 = norm_time_series_2 * photon_counts\n",
    "norm_dic = {\n",
    "    species[0]: norm_time_series_1,\n",
    "    species[1]: norm_time_series_2\n",
    "}\n",
    "norm_wavelengths = (\n",
    "    gauss_test.pdf(wavelengths) /\n",
    "    np.trapz(gauss_test.pdf(wavelengths), wavelengths)\n",
    ")"
   ]
  },
  {
   "cell_type": "code",
   "execution_count": 23,
   "metadata": {},
   "outputs": [],
   "source": [
    "# The attenuation function\n",
    "attenuation_vals = np.array([\n",
    "    [\n",
    "        299.,\n",
    "        329.14438502673795, 344.11764705882354, 362.2994652406417,\n",
    "        399.44415494181, 412.07970421102266, 425.75250006203635,\n",
    "        442.53703565845314, 457.1974490682151, 471.8380108687561,\n",
    "        484.3544504826423, 495.7939402962853, 509.29799746891985,\n",
    "        519.6903148961513, 530.0627807141617, 541.5022705278046,\n",
    "        553.9690811186382, 567.4929899004939, 580.9771954639073,\n",
    "        587.1609717362714, 593.3348222040249, 599.4391920395047,\n",
    "        602.4715253480235\n",
    "    ],\n",
    "    [\n",
    "        0.8,\n",
    "        0.6279453220864465,0.3145701363176568,\n",
    "        0.12591648888305143,0.026410321551339357, 0.023168667048510762,\n",
    "        0.020703255370450736, 0.019552708373076478,\n",
    "        0.019526153330089138, 0.020236306473695613,\n",
    "        0.02217620815962483, 0.025694647290888873,\n",
    "        0.031468126242251794, 0.03646434475343956,\n",
    "        0.04385011375530569, 0.05080729755501162,\n",
    "        0.061086337538657706, 0.07208875589035815, 0.09162216168767365,\n",
    "        0.11022281058708046, 0.1350811713674855, 0.18848851206491904,\n",
    "        0.23106528395398912\n",
    "    ]\n",
    "])\n",
    "atten_spl = UnivariateSpline(attenuation_vals[0], attenuation_vals[1], k=1, s=0)\n",
    "atten_vals = atten_spl(wavelengths)"
   ]
  },
  {
   "cell_type": "code",
   "execution_count": 24,
   "metadata": {},
   "outputs": [],
   "source": [
    "# Applying emission pdf\n",
    "# And propagating\n",
    "arriving_light = np.zeros((int(simulation_time / simulation_step), len(wavelengths)))\n",
    "for id_step, pop in enumerate(statistics):\n",
    "    flashing_mask = pop.loc[:, 'flashing'].values\n",
    "    if np.sum(flashing_mask) > 0:\n",
    "        x_arr = pop.loc[flashing_mask, 'pos_x'].values\n",
    "        y_arr = pop.loc[flashing_mask, 'pos_y'].values\n",
    "        species_arr = pop.loc[flashing_mask, \"species\"].values\n",
    "        distances = np.sqrt(\n",
    "            (x_arr - detector_position[0])**2. +\n",
    "            (y_arr - detector_position[1])**2.\n",
    "        )\n",
    "        angles = np.array(\n",
    "            np.arctan2(\n",
    "                (y_arr - detector_position[1]),\n",
    "                (x_arr - detector_position[0]))\n",
    "        )\n",
    "        angles = np.degrees(angles)\n",
    "        outside_minus = np.less(angles, acceptance_range[0])\n",
    "        outside_plus = np.greater(angles, acceptance_range[1])\n",
    "        angle_check = np.logical_and(~outside_minus, ~outside_plus)\n",
    "        angle_squash = angle_check.astype(float)\n",
    "        atten_facs = np.array([\n",
    "            np.exp(-distances[id_flash] * atten_vals) / (4. * np.pi * distances[id_flash]**2.)\n",
    "            for id_flash in range(np.sum(flashing_mask))\n",
    "        ])\n",
    "        curr_pulse = np.array([\n",
    "            [\n",
    "                (norm_time * norm_wavelengths * atten_facs[id_flash]) * efficiency * angle_squash[id_flash]\n",
    "                for norm_time in norm_dic[species_arr[id_flash]]\n",
    "            ]\n",
    "            for id_flash in range(np.sum(flashing_mask))\n",
    "        ])\n",
    "        # Checking if end is being overshot\n",
    "        if id_step+int(emission_time / simulation_step) <= len(arriving_light):\n",
    "            arriving_light[id_step:id_step+int(emission_time / simulation_step), :] += (\n",
    "                np.sum(curr_pulse, axis=0)\n",
    "            )\n",
    "        else:\n",
    "            arriving_light[id_step:id_step+int(emission_time / simulation_step), :] += (\n",
    "                np.sum(curr_pulse, axis=0)[0:len(arriving_light) - (id_step+int(emission_time / simulation_step))]\n",
    "            )"
   ]
  },
  {
   "cell_type": "code",
   "execution_count": 26,
   "metadata": {},
   "outputs": [
    {
     "data": {
      "image/png": "[encoded data removed]",
      "text/plain": [
       "<Figure size 432x324 with 1 Axes>"
      ]
     },
     "metadata": {
      "needs_background": "light"
     },
     "output_type": "display_data"
    }
   ],
   "source": [
    "figure, (ax1) = plt.subplots(1, 1, figsize=(std_size, std_size * 6. / 8.), sharex=True)\n",
    "id_1 = 0\n",
    "id_2 = 200\n",
    "id_3 = 300\n",
    "ax1.plot(np.arange(0., simulation_time, simulation_step), arriving_light[:, id_1],\n",
    "         lw=lw, label=r'$\\lambda = %.f\\;\\mathrm{[nm]}$' % wavelengths[id_1])\n",
    "ax1.plot(np.arange(0., simulation_time, simulation_step), arriving_light[:, id_2],\n",
    "         lw=lw, label=r'$\\lambda = %.f\\;\\mathrm{[nm]}$' % wavelengths[id_2])\n",
    "ax1.plot(np.arange(0., simulation_time, simulation_step), arriving_light[:, id_3],\n",
    "         lw=lw, label=r'$\\lambda = %.f\\;\\mathrm{[nm]}$' % wavelengths[id_3])\n",
    "ax1.set_xscale('linear')\n",
    "ax1.set_yscale('log')\n",
    "ax1.set_xlabel(r'$\\mathrm{t}\\;[\\mathrm{s}]$', fontsize=fontsize)\n",
    "ax1.set_ylabel(r'$\\mathrm{Arriving\\;Photons}$', fontsize=fontsize)\n",
    "ax1.tick_params(axis = 'both', which = 'major', labelsize=fontsize, direction='in')\n",
    "ax1.tick_params(axis = 'both', which = 'minor', labelsize=fontsize, direction='in')\n",
    "# ax1.grid(True)\n",
    "h, l = ax1.get_legend_handles_labels()\n",
    "lgd1 = ax1.legend(h,l, loc=9, bbox_to_anchor=(0.5, +1.4),\n",
    "                  ncol=2, fontsize=fontsize, handlelength=h_length,\n",
    "                  fancybox=True, frameon=False)\n",
    "ax1.set_ylim(1e0, 1e6)\n",
    "# ax1.set_xlim(0., 20)\n",
    "plt.tight_layout()\n",
    "plt.show()\n",
    "figure.savefig(PICS + \"Prob_Zoom.png\",\n",
    "               bbox_inches='tight')"
   ]
  },
  {
   "cell_type": "code",
   "execution_count": null,
   "metadata": {},
   "outputs": [],
   "source": []
  }
 ],
 "metadata": {
  "kernelspec": {
   "display_name": "Python 3",
   "language": "python",
   "name": "python3"
  },
  "language_info": {
   "codemirror_mode": {
    "name": "ipython",
    "version": 3
   },
   "file_extension": ".py",
   "mimetype": "text/x-python",
   "name": "python",
   "nbconvert_exporter": "python",
   "pygments_lexer": "ipython3",
   "version": "3.7.6"
  }
 },
 "nbformat": 4,
 "nbformat_minor": 2
}
