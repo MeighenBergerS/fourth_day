{
 "cells": [
  {
   "cell_type": "code",
   "execution_count": 1,
   "metadata": {},
   "outputs": [
    {
     "data": {
      "text/plain": [
       "'\\nName: example.ipynb\\nAuthors: Stephan Meighen-Berger\\nExample for the package\\n'"
      ]
     },
     "execution_count": 1,
     "metadata": {},
     "output_type": "execute_result"
    }
   ],
   "source": [
    "\"\"\"\n",
    "Name: example.ipynb\n",
    "Authors: Stephan Meighen-Berger\n",
    "Example for the package\n",
    "\"\"\""
   ]
  },
  {
   "cell_type": "code",
   "execution_count": 2,
   "metadata": {},
   "outputs": [],
   "source": [
    "# General imports\n",
    "import numpy as np\n",
    "import matplotlib.pyplot as plt\n",
    "import sys\n",
    "import pandas as pd"
   ]
  },
  {
   "cell_type": "code",
   "execution_count": 3,
   "metadata": {},
   "outputs": [],
   "source": [
    "# Adding path to module\n",
    "sys.path.append(\"../\")"
   ]
  },
  {
   "cell_type": "code",
   "execution_count": 4,
   "metadata": {},
   "outputs": [],
   "source": [
    "# picture path\n",
    "PICS = '../pics/'"
   ]
  },
  {
   "cell_type": "code",
   "execution_count": 5,
   "metadata": {},
   "outputs": [
    {
     "ename": "SyntaxError",
     "evalue": "invalid syntax (lucifer.py, line 51)",
     "output_type": "error",
     "traceback": [
      "Traceback \u001b[0;36m(most recent call last)\u001b[0m:\n",
      "  File \u001b[1;32m\"/Users/ruohanli/opt/anaconda3/lib/python3.7/site-packages/IPython/core/interactiveshell.py\"\u001b[0m, line \u001b[1;32m3326\u001b[0m, in \u001b[1;35mrun_code\u001b[0m\n    exec(code_obj, self.user_global_ns, self.user_ns)\n",
      "  File \u001b[1;32m\"<ipython-input-5-9ec05d6aca3e>\"\u001b[0m, line \u001b[1;32m2\u001b[0m, in \u001b[1;35m<module>\u001b[0m\n    from fourth_day import Fourth_Day, config\n",
      "  File \u001b[1;32m\"../fourth_day/__init__.py\"\u001b[0m, line \u001b[1;32m3\u001b[0m, in \u001b[1;35m<module>\u001b[0m\n    from .fourth_day import Fourth_Day\n",
      "\u001b[0;36m  File \u001b[0;32m\"../fourth_day/fourth_day.py\"\u001b[0;36m, line \u001b[0;32m52\u001b[0;36m, in \u001b[0;35m<module>\u001b[0;36m\u001b[0m\n\u001b[0;31m    from .lucifer import Lucifer\u001b[0m\n",
      "\u001b[0;36m  File \u001b[0;32m\"../fourth_day/lucifer.py\"\u001b[0;36m, line \u001b[0;32m51\u001b[0m\n\u001b[0;31m    0.8.,\u001b[0m\n\u001b[0m        ^\u001b[0m\n\u001b[0;31mSyntaxError\u001b[0m\u001b[0;31m:\u001b[0m invalid syntax\n"
     ]
    }
   ],
   "source": [
    "# Module imports\n",
    "from fourth_day import Fourth_Day, config"
   ]
  },
  {
   "cell_type": "code",
   "execution_count": null,
   "metadata": {},
   "outputs": [],
   "source": [
    "# Some example settings\n",
    "# General\n",
    "config[\"general\"][\"random state seed\"] = 1337\n",
    "# Scenario\n",
    "config['scenario']['population size'] = 10\n",
    "config['scenario']['duration'] = 100\n",
    "config['scenario']['organism movement'] = False\n",
    "config['scenario']['exclusion'] = True\n",
    "config['scenario']['injection']['rate'] = 1e-1\n",
    "config['scenario']['injection']['y range'] = [5., 15.]\n",
    "config['scenario']['light prop'] = {\n",
    "            \"switch\": True,\n",
    "            \"x_pos\": 5.,\n",
    "            \"y_pos\": 10.,\n",
    "        }\n",
    "config['scenario']['detector'] = {\n",
    "    \"switch\": True,\n",
    "    \"type\": \"PMTSpec\",\n",
    "    \"response\": True,\n",
    "    \"acceptance\": \"Flat\",\n",
    "    \"mean detection prob\": 0.5\n",
    "}\n",
    "# Organisms \n",
    "config['organisms']['emission fraction'] = 0.1\n",
    "config['organisms']['alpha'] = 10.\n",
    "config['organisms']['photon yield'] = 1e6\n",
    "# Geometry\n",
    "config['geometry']['volume'] = {\n",
    "    'function': 'rectangle',\n",
    "    'x_length': 40.,\n",
    "    'y_length': 20.,\n",
    "    'offset': None,\n",
    "}\n",
    "config['geometry']['observation'] = {\n",
    "    'function': 'rectangle',\n",
    "    'x_length': 40.,\n",
    "    'y_length': 12.,\n",
    "    \"offset\": np.array([0., 4.]),\n",
    "}\n",
    "config['geometry'][\"exclusion\"] = {\n",
    "    \"function\": \"sphere\",\n",
    "    \"radius\": 0.3,\n",
    "    \"x_pos\": 5.,\n",
    "    \"y_pos\": 10.,\n",
    "}\n",
    "# Water\n",
    "config['water']['model']['name'] = 'custom' # 'potential cylinder'\n",
    "config['water']['model']['directory'] = \"../data/current/cyclic/\"\n",
    "config['water']['model']['time step'] = 50\n",
    "config['advanced']['starting step'] = 575"
   ]
  },
  {
   "cell_type": "code",
   "execution_count": null,
   "metadata": {},
   "outputs": [],
   "source": [
    "# Creating a fourth_day object\n",
    "fd = Fourth_Day()"
   ]
  },
  {
   "cell_type": "code",
   "execution_count": null,
   "metadata": {},
   "outputs": [],
   "source": [
    "# Launching solver\n",
    "fd.sim()"
   ]
  },
  {
   "cell_type": "code",
   "execution_count": null,
   "metadata": {},
   "outputs": [],
   "source": [
    "# from scipy.stats import gamma\n",
    "# test_array=np.full((24,),10)\n",
    "# gamma.pdf(test_array,a=3)"
   ]
  },
  {
   "cell_type": "code",
   "execution_count": null,
   "metadata": {},
   "outputs": [],
   "source": [
    "fd.statistics[-1]"
   ]
  },
  {
   "cell_type": "code",
   "execution_count": null,
   "metadata": {},
   "outputs": [],
   "source": [
    "# Random noise\n",
    "noise = np.abs(np.random.normal(2e2, 1e2, len(fd.t)))"
   ]
  },
  {
   "cell_type": "code",
   "execution_count": null,
   "metadata": {},
   "outputs": [],
   "source": [
    "# Plotting standards\n",
    "std_size = 10.\n",
    "fontsize = 20.\n",
    "lw=1.5\n",
    "h_length=1.5"
   ]
  },
  {
   "cell_type": "code",
   "execution_count": null,
   "metadata": {
    "scrolled": false
   },
   "outputs": [],
   "source": [
    "# Energy distributions\n",
    "figure, (ax1) = plt.subplots(1, 1, figsize=(std_size, std_size * 6. / 8.), sharex=True)\n",
    "for detector in fd.measured.keys():\n",
    "    ax1.plot(fd.t / 5.,\n",
    "             fd.measured[detector].values + noise,\n",
    "             lw=lw, label=detector)\n",
    "ax1.set_xscale('linear')\n",
    "ax1.set_yscale('log')\n",
    "ax1.set_xlabel(r'$t\\;[s]$', fontsize=fontsize)\n",
    "ax1.set_ylabel(r'$Unweighted\\;Photons$', fontsize=fontsize)\n",
    "ax1.tick_params(axis = 'both', which = 'major', labelsize=fontsize, direction='in')\n",
    "ax1.tick_params(axis = 'both', which = 'minor', labelsize=fontsize, direction='in')\n",
    "ax1.grid(True)\n",
    "h, l = ax1.get_legend_handles_labels()\n",
    "lgd1 = ax1.legend(h,l, loc=9, bbox_to_anchor=(0.9, +2.),\n",
    "                  ncol=1, fontsize=fontsize, handlelength=h_length,\n",
    "                  fancybox=True, frameon=True)\n",
    "ax1.set_ylim(2e1,1e6)\n",
    "#ax1.set_xlim(1e3, max(fd.t / 5.))\n",
    "plt.show()"
   ]
  },
  {
   "cell_type": "code",
   "execution_count": null,
   "metadata": {},
   "outputs": [],
   "source": [
    "figure.savefig(PICS + \"MC_Example.png\",\n",
    "               bbox_inches='tight')"
   ]
  },
  {
   "cell_type": "code",
   "execution_count": null,
   "metadata": {},
   "outputs": [],
   "source": []
  }
 ],
 "metadata": {
  "kernelspec": {
   "display_name": "Python 3",
   "language": "python",
   "name": "python3"
  },
  "language_info": {
   "codemirror_mode": {
    "name": "ipython",
    "version": 3
   },
   "file_extension": ".py",
   "mimetype": "text/x-python",
   "name": "python",
   "nbconvert_exporter": "python",
   "pygments_lexer": "ipython3",
   "version": "3.7.4"
  }
 },
 "nbformat": 4,
 "nbformat_minor": 2
}
