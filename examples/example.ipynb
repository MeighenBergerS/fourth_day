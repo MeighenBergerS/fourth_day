{
 "cells": [
  {
   "cell_type": "code",
   "execution_count": 1,
   "metadata": {},
   "outputs": [
    {
     "data": {
      "text/plain": [
       "'\\nName: example.ipynb\\nAuthors: Stephan Meighen-Berger\\nExample for the package\\n'"
      ]
     },
     "execution_count": 1,
     "metadata": {},
     "output_type": "execute_result"
    }
   ],
   "source": [
    "\"\"\"\n",
    "Name: example.ipynb\n",
    "Authors: Stephan Meighen-Berger\n",
    "Example for the package\n",
    "\"\"\""
   ]
  },
  {
   "cell_type": "code",
   "execution_count": 2,
   "metadata": {},
   "outputs": [],
   "source": [
    "# General imports\n",
    "import numpy as np\n",
    "import matplotlib.pyplot as plt\n",
    "import sys\n",
    "import pandas as pd\n",
    "import imageio\n",
    "from tqdm import tqdm"
   ]
  },
  {
   "cell_type": "code",
   "execution_count": 3,
   "metadata": {},
   "outputs": [],
   "source": [
    "# Adding path to module\n",
    "sys.path.append(\"../\")"
   ]
  },
  {
   "cell_type": "code",
   "execution_count": 4,
   "metadata": {},
   "outputs": [],
   "source": [
    "# picture path\n",
    "PICS = '../pics/'"
   ]
  },
  {
   "cell_type": "code",
   "execution_count": 5,
   "metadata": {},
   "outputs": [],
   "source": [
    "# Module imports\n",
    "from fourth_day import Fourth_Day, config"
   ]
  },
  {
   "cell_type": "code",
   "execution_count": 6,
   "metadata": {},
   "outputs": [],
   "source": [
    "# Some example settings\n",
    "config['scenario']['population size'] = 10\n",
    "config['scenario']['duration'] = 1000\n",
    "config['scenario']['organism movement'] = False\n",
    "config['scenario']['exclusion'] = True\n",
    "config['scenario']['injection']['rate'] = 1e-3\n",
    "config['scenario']['injection']['y range'] = [0., 10.]\n",
    "config['scenario']['light prop'] = {\n",
    "            \"switch\": True,\n",
    "            \"x_pos\": 5.,\n",
    "            \"y_pos\": 10.,\n",
    "        }\n",
    "config['scenario']['detector'] = {\n",
    "    \"switch\": True,\n",
    "    \"type\": \"PMTSpec\",\n",
    "    \"response\": True,\n",
    "    \"acceptance\": \"Flat\",\n",
    "    \"mean detection prob\": 0.5\n",
    "}\n",
    "# Organisms \n",
    "config['organisms']['emission fraction'] = 0.1\n",
    "config['organisms']['alpha'] = 10.\n",
    "# Geometry\n",
    "config['geometry']['volume'] = {\n",
    "    'function': 'rectangle',\n",
    "    'x_length': 26.,\n",
    "    'y_length': 10.,\n",
    "    'offset': None,\n",
    "}\n",
    "config['geometry']['observation'] = {\n",
    "    'function': 'rectangle',\n",
    "    'x_length': 26.,\n",
    "    'y_length': 10.,\n",
    "    \"offset\": np.array([0., 0.]),\n",
    "}\n",
    "config['geometry'][\"exclusion\"] = {\n",
    "    \"function\": \"sphere\",\n",
    "    \"radius\": 0.15,\n",
    "    \"x_pos\": 2.,\n",
    "    \"y_pos\": 5.,\n",
    "}\n",
    "# Water\n",
    "config['water']['model']['name'] = 'custom' # 'potential cylinder'\n",
    "config['water']['model']['off set'] = np.array([0., 2.5])\n",
    "config['water']['model']['directory'] = \"../data/current/Long_run_corr/\"\n",
    "config['water']['model']['time step'] = 0.1\n",
    "config['advanced']['starting step'] = 0"
   ]
  },
  {
   "cell_type": "code",
   "execution_count": 7,
   "metadata": {},
   "outputs": [],
   "source": [
    "# Creating a fourth_day object\n",
    "fd = Fourth_Day()"
   ]
  },
  {
   "cell_type": "code",
   "execution_count": 8,
   "metadata": {},
   "outputs": [
    {
     "ename": "TypeError",
     "evalue": "'numpy.float64' object is not iterable",
     "output_type": "error",
     "traceback": [
      "\u001b[1;31m---------------------------------------------------------------------------\u001b[0m",
      "\u001b[1;31mTypeError\u001b[0m                                 Traceback (most recent call last)",
      "\u001b[1;32m<ipython-input-8-1b10ec16dfd5>\u001b[0m in \u001b[0;36m<module>\u001b[1;34m\u001b[0m\n\u001b[0;32m      1\u001b[0m \u001b[1;31m# Launching solver\u001b[0m\u001b[1;33m\u001b[0m\u001b[1;33m\u001b[0m\u001b[1;33m\u001b[0m\u001b[0m\n\u001b[1;32m----> 2\u001b[1;33m \u001b[0mfd\u001b[0m\u001b[1;33m.\u001b[0m\u001b[0msim\u001b[0m\u001b[1;33m(\u001b[0m\u001b[1;33m)\u001b[0m\u001b[1;33m\u001b[0m\u001b[1;33m\u001b[0m\u001b[0m\n\u001b[0m",
      "\u001b[1;32m~\\Documents\\PhD\\fourth_day\\fourth_day\\fourth_day.py\u001b[0m in \u001b[0;36msim\u001b[1;34m(self)\u001b[0m\n\u001b[0;32m    239\u001b[0m             self._light_yields = self._lucifer.light_bringer(\n\u001b[0;32m    240\u001b[0m                 \u001b[0mself\u001b[0m\u001b[1;33m.\u001b[0m\u001b[0m_statistics\u001b[0m\u001b[1;33m,\u001b[0m\u001b[1;33m\u001b[0m\u001b[1;33m\u001b[0m\u001b[0m\n\u001b[1;32m--> 241\u001b[1;33m                 \u001b[0mself\u001b[0m\u001b[1;33m.\u001b[0m\u001b[0m_life\u001b[0m\u001b[1;33m\u001b[0m\u001b[1;33m\u001b[0m\u001b[0m\n\u001b[0m\u001b[0;32m    242\u001b[0m             )\n\u001b[0;32m    243\u001b[0m             \u001b[1;32mif\u001b[0m \u001b[0mconfig\u001b[0m\u001b[1;33m[\u001b[0m\u001b[1;34m'scenario'\u001b[0m\u001b[1;33m]\u001b[0m\u001b[1;33m[\u001b[0m\u001b[1;34m\"detector\"\u001b[0m\u001b[1;33m]\u001b[0m\u001b[1;33m[\u001b[0m\u001b[1;34m\"response\"\u001b[0m\u001b[1;33m]\u001b[0m\u001b[1;33m:\u001b[0m\u001b[1;33m\u001b[0m\u001b[1;33m\u001b[0m\u001b[0m\n",
      "\u001b[1;32m~\\Documents\\PhD\\fourth_day\\fourth_day\\lucifer.py\u001b[0m in \u001b[0;36mlight_bringer\u001b[1;34m(self, statistics, life)\u001b[0m\n\u001b[0;32m    196\u001b[0m                         np.sum(self._propagation(emission_photons, x_pos,\n\u001b[0;32m    197\u001b[0m                                                  \u001b[0my_pos\u001b[0m\u001b[1;33m,\u001b[0m\u001b[1;33m\u001b[0m\u001b[1;33m\u001b[0m\u001b[0m\n\u001b[1;32m--> 198\u001b[1;33m                                                  nm_range), axis=1)\n\u001b[0m\u001b[0;32m    199\u001b[0m                     ])\n\u001b[0;32m    200\u001b[0m                 \u001b[1;31m# No emitter\u001b[0m\u001b[1;33m\u001b[0m\u001b[1;33m\u001b[0m\u001b[1;33m\u001b[0m\u001b[0m\n",
      "\u001b[1;32m~\\Documents\\PhD\\fourth_day\\fourth_day\\lucifer.py\u001b[0m in \u001b[0;36m_propagation\u001b[1;34m(self, photon_counts, pos_x, pos_y, wavelengths)\u001b[0m\n\u001b[0;32m    146\u001b[0m                     \u001b[1;32mfor\u001b[0m \u001b[0matten\u001b[0m \u001b[1;32min\u001b[0m \u001b[0mattenuation_factor\u001b[0m\u001b[1;33m\u001b[0m\u001b[1;33m\u001b[0m\u001b[0m\n\u001b[0;32m    147\u001b[0m                     ]\n\u001b[1;32m--> 148\u001b[1;33m                 \u001b[1;32mfor\u001b[0m \u001b[0mi\u001b[0m \u001b[1;32min\u001b[0m \u001b[0mrange\u001b[0m\u001b[1;33m(\u001b[0m\u001b[1;36m0\u001b[0m\u001b[1;33m,\u001b[0m \u001b[0mself\u001b[0m\u001b[1;33m.\u001b[0m\u001b[0m_det_geom\u001b[0m\u001b[1;33m[\u001b[0m\u001b[1;34m\"det num\"\u001b[0m\u001b[1;33m]\u001b[0m\u001b[1;33m)\u001b[0m\u001b[1;33m\u001b[0m\u001b[1;33m\u001b[0m\u001b[0m\n\u001b[0m\u001b[0;32m    149\u001b[0m             ])\n\u001b[0;32m    150\u001b[0m             return (\n",
      "\u001b[1;32m~\\Documents\\PhD\\fourth_day\\fourth_day\\lucifer.py\u001b[0m in \u001b[0;36m<listcomp>\u001b[1;34m(.0)\u001b[0m\n\u001b[0;32m    146\u001b[0m                     \u001b[1;32mfor\u001b[0m \u001b[0matten\u001b[0m \u001b[1;32min\u001b[0m \u001b[0mattenuation_factor\u001b[0m\u001b[1;33m\u001b[0m\u001b[1;33m\u001b[0m\u001b[0m\n\u001b[0;32m    147\u001b[0m                     ]\n\u001b[1;32m--> 148\u001b[1;33m                 \u001b[1;32mfor\u001b[0m \u001b[0mi\u001b[0m \u001b[1;32min\u001b[0m \u001b[0mrange\u001b[0m\u001b[1;33m(\u001b[0m\u001b[1;36m0\u001b[0m\u001b[1;33m,\u001b[0m \u001b[0mself\u001b[0m\u001b[1;33m.\u001b[0m\u001b[0m_det_geom\u001b[0m\u001b[1;33m[\u001b[0m\u001b[1;34m\"det num\"\u001b[0m\u001b[1;33m]\u001b[0m\u001b[1;33m)\u001b[0m\u001b[1;33m\u001b[0m\u001b[1;33m\u001b[0m\u001b[0m\n\u001b[0m\u001b[0;32m    149\u001b[0m             ])\n\u001b[0;32m    150\u001b[0m             return (\n",
      "\u001b[1;31mTypeError\u001b[0m: 'numpy.float64' object is not iterable"
     ]
    }
   ],
   "source": [
    "# Launching solver\n",
    "fd.sim()"
   ]
  },
  {
   "cell_type": "code",
   "execution_count": null,
   "metadata": {},
   "outputs": [],
   "source": [
    "# from scipy.stats import gamma\n",
    "# test_array=np.full((24,),10)\n",
    "# gamma.pdf(test_array,a=3)"
   ]
  },
  {
   "cell_type": "code",
   "execution_count": null,
   "metadata": {},
   "outputs": [],
   "source": [
    "fd.statistics[-1]"
   ]
  },
  {
   "cell_type": "code",
   "execution_count": null,
   "metadata": {},
   "outputs": [],
   "source": [
    "# Plotting standards\n",
    "std_size = 3.\n",
    "fontsize = 10.\n",
    "lw=1.\n",
    "h_length=0.2"
   ]
  },
  {
   "cell_type": "code",
   "execution_count": null,
   "metadata": {},
   "outputs": [],
   "source": [
    "from matplotlib import rc\n",
    "rc('font',**{'family':'sans-serif','sans-serif':['Helvetica']})\n",
    "## for Palatino and other serif fonts use:\n",
    "#rc('font',**{'family':'serif','serif':['Palatino']})\n",
    "rc('text', usetex=True)"
   ]
  },
  {
   "cell_type": "code",
   "execution_count": null,
   "metadata": {},
   "outputs": [],
   "source": [
    "def smooth(y, box_pts):\n",
    "    box = np.ones(box_pts)/box_pts\n",
    "    y_smooth = np.convolve(y, box, mode='same')\n",
    "    return y_smooth"
   ]
  },
  {
   "cell_type": "code",
   "execution_count": null,
   "metadata": {
    "scrolled": false
   },
   "outputs": [],
   "source": [
    "# Energy distributions\n",
    "wavelengths = {\n",
    "    \"Detector 1\": [\"1\", \"#4575b4\"],\n",
    "    \"Detector 5\": [\"2\", \"#91bfdb\"],\n",
    "    \"Detector 8\": [\"3\", \"#e0f3f8\"],\n",
    "    \"Detector 3\": [\"4\", \"#fee090\"],\n",
    "    \"Detector 10\": [\"5\", \"#fc8d59\"],\n",
    "#     \"Detector 2\": [\"6\", \"#d73027\"],\n",
    "}\n",
    "figure, (ax1) = plt.subplots(1, 1, figsize=(std_size, std_size * 6. / 8.), sharex=True)\n",
    "for detector in wavelengths.keys():\n",
    "    # Random noise\n",
    "    ax1.plot(fd.t,\n",
    "             smooth(fd.measured[detector].values, 5),\n",
    "             lw=lw, label=r\"$\\mathrm{%s}$\" % wavelengths[detector][0], color=wavelengths[detector][1])\n",
    "total = smooth(fd.measured[\"Detector 1\"].values, 5)\n",
    "for detector in wavelengths.keys():\n",
    "    if detector == \"Detector 1\":\n",
    "        continue\n",
    "    # Random noise\n",
    "    total += smooth(fd.measured[detector].values, 5)\n",
    "ax1.plot(fd.t, total, color='k')\n",
    "ax1.set_xscale('linear')\n",
    "ax1.set_yscale('log')\n",
    "ax1.set_xlabel(r'$\\mathrm{t}\\;[\\mathrm{s}]$', fontsize=fontsize)\n",
    "ax1.set_ylabel(r'$\\mathrm{Photons}$', fontsize=fontsize)\n",
    "ax1.tick_params(axis = 'both', which = 'major', labelsize=fontsize, direction='in')\n",
    "ax1.tick_params(axis = 'both', which = 'minor', labelsize=fontsize, direction='in')\n",
    "# ax1.grid(True)\n",
    "h, l = ax1.get_legend_handles_labels()\n",
    "lgd1 = ax1.legend(h,l, loc=9, bbox_to_anchor=(0.5, +1.2),\n",
    "                  ncol=5, fontsize=fontsize, handlelength=h_length,\n",
    "                  fancybox=True, frameon=False)\n",
    "# ax1.set_ylim(1e3,1e10)\n",
    "# ax1.set_xlim(390., 400)\n",
    "plt.tight_layout()\n",
    "plt.show()"
   ]
  },
  {
   "cell_type": "code",
   "execution_count": null,
   "metadata": {},
   "outputs": [],
   "source": [
    "figure.savefig(PICS + \"MC_Example.pdf\",\n",
    "               bbox_inches='tight')"
   ]
  },
  {
   "cell_type": "code",
   "execution_count": null,
   "metadata": {},
   "outputs": [],
   "source": [
    "courseness = 1000"
   ]
  },
  {
   "cell_type": "code",
   "execution_count": null,
   "metadata": {},
   "outputs": [],
   "source": [
    "figure, (ax1, ax2) = plt.subplots(2, 1, figsize=(std_size, std_size * 6. / 8.), sharex=True)\n",
    "x_grid = np.linspace(0., config['geometry']['volume']['x_length'], courseness)\n",
    "y_grid = (\n",
    "    np.linspace(0., config['geometry']['volume']['y_length'], courseness) +\n",
    "    config['water']['model']['off set'][1]\n",
    ")\n",
    "X, Y = np.meshgrid(x_grid, y_grid)\n",
    "all_points = []\n",
    "for i in range(0, len(x_grid)):\n",
    "    all_points.append(np.vstack((X[i], Y[i])).T)\n",
    "# The water current\n",
    "x_vel = []\n",
    "y_vel = []\n",
    "grad = []\n",
    "for j in range(0, len(x_grid)):\n",
    "    # x_vel_tmp, y_vel_tmp, vel_abs = fd._current.velocities(all_points[j], q + config['advanced']['starting step'])\n",
    "    grad_tmp = fd._current.gradients(all_points[j], 600)\n",
    "    # x_vel.append(x_vel_tmp)\n",
    "    # y_vel.append(y_vel_tmp)\n",
    "    grad.append(grad_tmp)\n",
    "grad = np.array(grad)\n",
    "vmax = 1.\n",
    "vmin = 0.\n",
    "ax1.imshow(grad.reshape(courseness, courseness), cmap='plasma',\n",
    "           vmax=vmax, vmin=vmin, extent=[0., 26., 0., 10.])\n",
    "# ax.quiver(x_grid, y_grid, x_vel, y_vel, grad)\n",
    "# The emitters\n",
    "emission_mask = fd.statistics[-1].loc[:, 'is_emitting']\n",
    "ax1.scatter(fd.statistics[-1].loc[~emission_mask, 'pos_x'].values,\n",
    "            fd.statistics[-1].loc[~emission_mask, 'pos_y'].values,\n",
    "            color='g',\n",
    "            s=3.\n",
    ")\n",
    "ax1.scatter(fd.statistics[-1].loc[emission_mask, 'pos_x'].values,\n",
    "            fd.statistics[-1].loc[emission_mask, 'pos_y'].values,\n",
    "            color='r',\n",
    "            s=3.\n",
    ")\n",
    "# Exclusion\n",
    "# theta goes from 0 to 2pi\n",
    "theta = np.linspace(0, 2*np.pi, 50)\n",
    "# the radius of the circle\n",
    "r = config['geometry']['exclusion']['radius']\n",
    "# compute x1 and x2\n",
    "x1 = r*np.cos(theta)\n",
    "x2 = r*np.sin(theta)\n",
    "ax1.plot(x1 + config['geometry']['exclusion']['x_pos'], x2 + config['geometry']['exclusion']['y_pos'],\n",
    "         lw=lw/2, color='k')\n",
    "# Additional options\n",
    "# ax1.set_xlabel(r'$X\\;[\\mathrm{m}]$', fontsize=fontsize)\n",
    "ax1.set_ylabel(r'$Y\\;[\\mathrm{m}]$', fontsize=fontsize)\n",
    "ax1.tick_params(axis = 'both', which = 'major', labelsize=fontsize)\n",
    "ax1.tick_params(axis = 'both', which = 'minor', labelsize=fontsize)\n",
    "# ax1.title=ax1.set_title('Population t = %.f s' %(fd.t[q]), fontsize=fontsize)\n",
    "ax1.set_xlim(0., 10.)\n",
    "ax1.set_ylim(3., 7.)\n",
    "# ----------------------------------------------------------------------------\n",
    "x_grid = np.linspace(0., config['geometry']['volume']['x_length'], courseness)\n",
    "y_grid = (\n",
    "    np.linspace(0., config['geometry']['volume']['y_length'], courseness) +\n",
    "    config['water']['model']['off set'][1]\n",
    ")\n",
    "X, Y = np.meshgrid(x_grid, y_grid)\n",
    "all_points = []\n",
    "for i in range(0, len(x_grid)):\n",
    "    all_points.append(np.vstack((X[i], Y[i])).T)\n",
    "# The water current\n",
    "x_vel = []\n",
    "y_vel = []\n",
    "grad = []\n",
    "for j in range(0, len(x_grid)):\n",
    "    # x_vel_tmp, y_vel_tmp, vel_abs = fd._current.velocities(all_points[j], q + config['advanced']['starting step'])\n",
    "    grad_tmp = fd._current.gradients(all_points[j], 600)\n",
    "    # x_vel.append(x_vel_tmp)\n",
    "    # y_vel.append(y_vel_tmp)\n",
    "    grad.append(grad_tmp)\n",
    "grad = np.array(grad)\n",
    "vmax = 0.05\n",
    "vmin = 0.\n",
    "ax2.imshow(grad.reshape(courseness, courseness), cmap='plasma',\n",
    "           vmax=vmax, vmin=vmin, extent=[0., 26., 0., 10.])\n",
    "# ax.quiver(x_grid, y_grid, x_vel, y_vel, grad)\n",
    "# The emitters\n",
    "emission_mask = fd.statistics[-1].loc[:, 'is_emitting']\n",
    "ax2.scatter(fd.statistics[-1].loc[~emission_mask, 'pos_x'].values,\n",
    "            fd.statistics[-1].loc[~emission_mask, 'pos_y'].values,\n",
    "            color='g',\n",
    "            s=3.\n",
    ")\n",
    "ax2.scatter(fd.statistics[-1].loc[emission_mask, 'pos_x'].values,\n",
    "            fd.statistics[-1].loc[emission_mask, 'pos_y'].values,\n",
    "            color='r',\n",
    "            s=3.\n",
    ")\n",
    "# Exclusion\n",
    "# theta goes from 0 to 2pi\n",
    "theta = np.linspace(0, 2*np.pi, 50)\n",
    "# the radius of the circle\n",
    "r = config['geometry']['exclusion']['radius']\n",
    "# compute x1 and x2\n",
    "x1 = r*np.cos(theta)\n",
    "x2 = r*np.sin(theta)\n",
    "ax2.plot(x1 + config['geometry']['exclusion']['x_pos'], x2 + config['geometry']['exclusion']['y_pos'],\n",
    "         lw=lw/2, color='k')\n",
    "# Additional options\n",
    "ax2.set_xlabel(r'$X\\;[\\mathrm{m}]$', fontsize=fontsize)\n",
    "ax2.set_ylabel(r'$Y\\;[\\mathrm{m}]$', fontsize=fontsize)\n",
    "ax2.tick_params(axis = 'both', which = 'major', labelsize=fontsize)\n",
    "ax2.tick_params(axis = 'both', which = 'minor', labelsize=fontsize)\n",
    "# ax1.title=ax1.set_title('Population t = %.f s' %(fd.t[q]), fontsize=fontsize)\n",
    "ax2.set_xlim(0., 10.)\n",
    "ax2.set_ylim(3., 7.)\n",
    "plt.tight_layout()\n",
    "plt.show()"
   ]
  },
  {
   "cell_type": "code",
   "execution_count": null,
   "metadata": {},
   "outputs": [],
   "source": [
    "figure.savefig(PICS + \"MC_Pop.pdf\",\n",
    "               bbox_inches='tight')"
   ]
  }
 ],
 "metadata": {
  "kernelspec": {
   "display_name": "Python 3",
   "language": "python",
   "name": "python3"
  },
  "language_info": {
   "codemirror_mode": {
    "name": "ipython",
    "version": 3
   },
   "file_extension": ".py",
   "mimetype": "text/x-python",
   "name": "python",
   "nbconvert_exporter": "python",
   "pygments_lexer": "ipython3",
   "version": "3.7.6"
  }
 },
 "nbformat": 4,
 "nbformat_minor": 2
}
