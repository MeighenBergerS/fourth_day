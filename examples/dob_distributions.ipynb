{
 "cells": [
  {
   "cell_type": "code",
   "execution_count": 1,
   "metadata": {},
   "outputs": [
    {
     "data": {
      "text/plain": [
       "'\\nName: dob_distributions.ipynb\\nAuthors: Stephan Meighen-Berger\\nTesting ground for different light emission spectra\\n'"
      ]
     },
     "execution_count": 1,
     "metadata": {},
     "output_type": "execute_result"
    }
   ],
   "source": [
    "\"\"\"\n",
    "Name: dob_distributions.ipynb\n",
    "Authors: Stephan Meighen-Berger\n",
    "Testing ground for different light emission spectra\n",
    "\"\"\""
   ]
  },
  {
   "cell_type": "code",
   "execution_count": 2,
   "metadata": {},
   "outputs": [],
   "source": [
    "\"\"\"\n",
    "Imports\n",
    "\"\"\"\n",
    "import numpy as np\n",
    "import matplotlib.pyplot as plt\n",
    "from scipy.stats import gamma\n",
    "from scipy.signal import peak_widths, find_peaks\n",
    "from scipy.optimize import root\n",
    "import logging\n",
    "# import warnings\n",
    "from scipy.stats import gamma\n",
    "import sys\n",
    "sys.path.append(\"../core/\")"
   ]
  },
  {
   "cell_type": "code",
   "execution_count": 3,
   "metadata": {},
   "outputs": [],
   "source": [
    "# Importing dob module\n",
    "from dob import DOB"
   ]
  },
  {
   "cell_type": "code",
   "execution_count": 4,
   "metadata": {},
   "outputs": [
    {
     "name": "stderr",
     "output_type": "stream",
     "text": [
      "INFO:dob_logger.DOB.__init__:---------------------------------------------------\n",
      "INFO:dob_logger.DOB.__init__:Welcome to DOB!\n",
      "INFO:dob_logger.DOB.__init__:This package will help you model deep sea bioluminescence!\n",
      "INFO:dob_logger.DOB.__init__:---------------------------------------------------\n",
      "INFO:dob_logger.DOB.__init__:Creating life...\n",
      "INFO:dob_logger.dob_vita.__init__:Loading phyla according to config\n",
      "DEBUG:dob_logger.dob_vita.__init__:No classes defined\n",
      "INFO:dob_logger.dob_vita.__init__:Loading and parsing Ctenophores.txt\n",
      "DEBUG:dob_logger.dob_vita.__init__:Classes defined\n",
      "INFO:dob_logger.dob_vita.__init__:Loading and parsing Cnidaria_Scyphomedusae.txt\n",
      "INFO:dob_logger.dob_vita.__init__:Loading and parsing Cnidaria_Hydrozoa.txt\n",
      "INFO:dob_logger.dob_vita.__init__:Loading and parsing Cnidaria_Hydrozoa_Hydroidolina_Siphonophores_Calycophorae.txt\n",
      "INFO:dob_logger.dob_vita.__init__:Loading and parsing Cnidaria_Hydrozoa_Hydroidolina_Siphonophores_Physonectae.txt\n",
      "DEBUG:dob_logger.dob_vita.__init__:Classes defined\n",
      "INFO:dob_logger.dob_vita.__init__:Loading and parsing Proteobacteria_Gammaproteobacteria.txt\n",
      "INFO:dob_logger.DOB.__init__:Creation finished\n",
      "INFO:dob_logger.DOB.__init__:---------------------------------------------------\n",
      "INFO:dob_logger.DOB.__init__:Initializing flood\n",
      "DEBUG:dob_logger.dob_flood.__init__:Filtering by averaging.\n",
      "DEBUG:dob_logger.dob_flood.__flood_average__:1 out of 42 Ctenophores survived the flood\n",
      "DEBUG:dob_logger.dob_flood.__flood_average__:1 out of 59 Cnidaria survived the flood\n",
      "DEBUG:dob_logger.dob_flood.__flood_average__:1 out of 1 Proteobacteria survived the flood\n",
      "INFO:dob_logger.DOB.__init__:Survivors collected!\n",
      "INFO:dob_logger.DOB.__init__:---------------------------------------------------\n",
      "INFO:dob_logger.DOB.__init__:Starting genesis\n",
      "DEBUG:dob_logger.dob_genesis.__init__:Genesis of Gamma distributions\n",
      "INFO:dob_logger.DOB.__init__:Finished genesis\n",
      "INFO:dob_logger.DOB.__init__:---------------------------------------------------\n"
     ]
    }
   ],
   "source": [
    "# Setting the debug level\n",
    "logging.basicConfig(level=logging.DEBUG)\n",
    "dob = DOB()"
   ]
  },
  {
   "cell_type": "code",
   "execution_count": 5,
   "metadata": {},
   "outputs": [
    {
     "data": {
      "text/plain": [
       "{'Ctenophores': array([0.00000000e+000, 0.00000000e+000, 6.79425273e-308, ...,\n",
       "        1.52094311e-119, 1.18934020e-119, 9.29998435e-120]),\n",
       " 'Cnidaria': array([0.00000000e+000, 0.00000000e+000, 0.00000000e+000, ...,\n",
       "        1.98254495e-144, 1.47923618e-144, 1.10365344e-144]),\n",
       " 'Proteobacteria': array([0.00000000e+000, 0.00000000e+000, 0.00000000e+000, ...,\n",
       "        1.11481141e-153, 8.09864622e-154, 5.88302981e-154])}"
      ]
     },
     "execution_count": 5,
     "metadata": {},
     "output_type": "execute_result"
    }
   ],
   "source": [
    "dob.pdfs"
   ]
  },
  {
   "cell_type": "code",
   "execution_count": 9,
   "metadata": {},
   "outputs": [
    {
     "data": {
      "image/png": "[encoded data removed]",
      "text/plain": [
       "<Figure size 432x288 with 1 Axes>"
      ]
     },
     "metadata": {
      "needs_background": "light"
     },
     "output_type": "display_data"
    }
   ],
   "source": [
    "for key in dob.pdfs.keys():\n",
    "    plt.plot(np.linspace(0., 2000., 2001), dob.pdfs[key])\n",
    "    plt.xlim(0., 750)"
   ]
  },
  {
   "cell_type": "code",
   "execution_count": null,
   "metadata": {},
   "outputs": [],
   "source": []
  }
 ],
 "metadata": {
  "kernelspec": {
   "display_name": "Python 3",
   "language": "python",
   "name": "python3"
  },
  "language_info": {
   "codemirror_mode": {
    "name": "ipython",
    "version": 3
   },
   "file_extension": ".py",
   "mimetype": "text/x-python",
   "name": "python",
   "nbconvert_exporter": "python",
   "pygments_lexer": "ipython3",
   "version": "3.7.4"
  }
 },
 "nbformat": 4,
 "nbformat_minor": 2
}
