{
 "cells": [
  {
   "cell_type": "code",
   "execution_count": 1,
   "metadata": {},
   "outputs": [
    {
     "data": {
      "text/plain": [
       "'\\nName: fd_video.ipynb\\nAuthors: Stephan Meighen-Berger, Martina Karl\\nExample for the MC method runs\\n'"
      ]
     },
     "execution_count": 1,
     "metadata": {},
     "output_type": "execute_result"
    }
   ],
   "source": [
    "\"\"\"\n",
    "Name: fd_video.ipynb\n",
    "Authors: Stephan Meighen-Berger, Martina Karl\n",
    "Example how to create a video of the simulation\n",
    "Requires mpl_toolkits and imageio\n",
    "\"\"\""
   ]
  },
  {
   "cell_type": "code",
   "execution_count": 2,
   "metadata": {},
   "outputs": [],
   "source": [
    "# General imports\n",
    "import numpy as np\n",
    "import matplotlib.pyplot as plt\n",
    "import sys\n",
    "from tqdm import tqdm\n",
    "import matplotlib.colors as colors\n",
    "from mpl_toolkits.mplot3d import Axes3D\n",
    "import imageio"
   ]
  },
  {
   "cell_type": "code",
   "execution_count": 3,
   "metadata": {},
   "outputs": [],
   "source": [
    "# Latex text rendering\n",
    "from matplotlib import rc\n",
    "rc('font',**{'family':'sans-serif','sans-serif':['Helvetica']})\n",
    "rc('text', usetex=True)"
   ]
  },
  {
   "cell_type": "code",
   "execution_count": 4,
   "metadata": {},
   "outputs": [],
   "source": [
    "# Adding path to module\n",
    "sys.path.append(\"../core/\")"
   ]
  },
  {
   "cell_type": "code",
   "execution_count": 5,
   "metadata": {},
   "outputs": [],
   "source": [
    "# picture path\n",
    "PICS = '../pics/'"
   ]
  },
  {
   "cell_type": "code",
   "execution_count": 6,
   "metadata": {},
   "outputs": [],
   "source": [
    "# Module imports\n",
    "from fourth_day import FD\n",
    "from fd_config import config"
   ]
  },
  {
   "cell_type": "code",
   "execution_count": 7,
   "metadata": {},
   "outputs": [
    {
     "name": "stderr",
     "output_type": "stream",
     "text": [
      "INFO: ---------------------------------------------------\n",
      "INFO: ---------------------------------------------------\n",
      "INFO: Welcome to FD!\n",
      "INFO: This package will help you model deep sea bioluminescence! (And some other things)\n",
      "INFO: ---------------------------------------------------\n",
      "INFO: ---------------------------------------------------\n",
      "INFO: Creating life...\n",
      "INFO: Loading phyla according to config\n",
      "INFO: Data extracted from Latz, M.I., Frank, T.M. & Case, J.F., Marine Biology 98 (1988)\n",
      "INFO: Loading and parsing Cnidaria_Scyphomedusae.txt\n",
      "INFO: Loading and parsing Cnidaria_Hydrozoa.txt\n",
      "INFO: Loading and parsing Cnidaria_Hydrozoa_Hydroidolina_Siphonophores_Calycophorae.txt\n",
      "INFO: Loading and parsing Cnidaria_Hydrozoa_Hydroidolina_Siphonophores_Physonectae.txt\n",
      "INFO: Loading and parsing Proteobacteria_Gammaproteobacteria.txt\n",
      "INFO: Creation finished\n",
      "INFO: ---------------------------------------------------\n",
      "INFO: ---------------------------------------------------\n",
      "INFO: Initializing flood\n",
      "INFO: Survivors collected!\n",
      "INFO: ---------------------------------------------------\n",
      "INFO: ---------------------------------------------------\n",
      "INFO: Starting genesis\n",
      "INFO: Finished genesis\n",
      "INFO: ---------------------------------------------------\n",
      "INFO: ---------------------------------------------------\n",
      "INFO: Forging combined distribution\n",
      "INFO: To use custom weights for the populations, \n",
      "INFO: run fd_smithing with custom weights\n",
      "INFO: Finished forging\n",
      "INFO: ---------------------------------------------------\n",
      "INFO: ---------------------------------------------------\n",
      "INFO: Creating the world\n",
      "INFO: Finished world building\n",
      "INFO: ---------------------------------------------------\n",
      "INFO: ---------------------------------------------------\n",
      "INFO: Random encounter model\n",
      "INFO: Using the Gerritsen_Strickler model\n",
      "INFO: Finished the encounter model\n",
      "INFO: ---------------------------------------------------\n",
      "INFO: ---------------------------------------------------\n",
      "INFO: To run the simulation use the solve method\n",
      "INFO: ---------------------------------------------------\n",
      "INFO: ---------------------------------------------------\n"
     ]
    }
   ],
   "source": [
    "# Creating a fourth_day object\n",
    "fd = FD()"
   ]
  },
  {
   "cell_type": "code",
   "execution_count": 8,
   "metadata": {},
   "outputs": [
    {
     "name": "stderr",
     "output_type": "stream",
     "text": [
      "INFO: ---------------------------------------------------\n",
      "INFO: ---------------------------------------------------\n",
      "INFO: Calculating light yields\n",
      "../core\\fd_roll_dice.py:289: RuntimeWarning: invalid value encountered in double_scalars\n",
      "  (np.linalg.norm(new_vec) * np.linalg.norm(current_vec))\n",
      "INFO: Finished calculation\n",
      "INFO: Get the results by typing self.results\n",
      "INFO: Structure of dictionray:\n",
      "INFO: [\"t\", \"total\", \"encounter\", \"shear\", \"history\"]\n",
      "INFO: ---------------------------------------------------\n",
      "INFO: ---------------------------------------------------\n"
     ]
    }
   ],
   "source": [
    "# Launching solver\n",
    "fd.sim()"
   ]
  },
  {
   "cell_type": "code",
   "execution_count": 9,
   "metadata": {},
   "outputs": [],
   "source": [
    "# Plotting standards\n",
    "std_size = 10.\n",
    "fontsize = 20.\n",
    "lw=3.\n",
    "h_length=1.5"
   ]
  },
  {
   "cell_type": "code",
   "execution_count": 10,
   "metadata": {},
   "outputs": [
    {
     "name": "stderr",
     "output_type": "stream",
     "text": [
      "300it [00:45,  6.55it/s]\n"
     ]
    }
   ],
   "source": [
    "# Animation stack\n",
    "fontsize = 15.\n",
    "# The frames are created in a loop\n",
    "cmap = plt.cm.inferno\n",
    "norm = colors.Normalize(vmin=0., vmax=1.)\n",
    "for i, _ in tqdm(enumerate(fd.results['t'])):\n",
    "    figure = plt.figure(figsize=(std_size, std_size * 6. / 8.))\n",
    "    ax = figure.add_subplot(111, projection='3d')\n",
    "    ax.scatter(fd.results['history'][i][:,0],\n",
    "               fd.results['history'][i][:,1],\n",
    "               fd.results['history'][i][:,2],\n",
    "               color=cmap(norm(fd.results['history'][i][:,-1] / fd.results['history'][i][:,-2])),\n",
    "               s=50.\n",
    "               )\n",
    "    ax.title=ax.set_title('Population t = %.f s' %fd.results['t'][i], fontsize=fontsize)\n",
    "    ax.set_xlim(-fd.world_size/2, fd.world_size/2)\n",
    "    ax.set_ylim(-fd.world_size/2, fd.world_size/2)\n",
    "    ax.set_zlim(-fd.world_size/2, fd.world_size/2)\n",
    "    ax.set_xlabel(r'$X\\;[\\mathrm{mm}]$', fontsize=fontsize)\n",
    "    ax.set_ylabel(r'$Y\\;[\\mathrm{mm}]$', fontsize=fontsize)\n",
    "    ax.set_zlabel(r'$Z\\;[\\mathrm{mm}]$', fontsize=fontsize)\n",
    "    ax.tick_params(axis = 'both', which = 'major', labelsize=fontsize)\n",
    "    ax.tick_params(axis = 'both', which = 'minor', labelsize=fontsize)\n",
    "    figure.savefig(PICS + '\\\\Frames\\\\frame_%d.png' %i)\n",
    "    plt.close(figure)"
   ]
  },
  {
   "cell_type": "code",
   "execution_count": 11,
   "metadata": {},
   "outputs": [],
   "source": [
    "images = []\n",
    "filenames = np.array([\n",
    "    PICS + 'Frames\\\\frame_%d.png' %i\n",
    "    for i in range(len(fd.results['t']))\n",
    "])\n",
    "for filename in filenames:\n",
    "    images.append(imageio.imread(filename))\n",
    "imageio.mimsave(PICS + '%s.gif' %fd.config['geometry'],\n",
    "                images, duration=0.1)"
   ]
  },
  {
   "cell_type": "code",
   "execution_count": null,
   "metadata": {},
   "outputs": [],
   "source": []
  }
 ],
 "metadata": {
  "kernelspec": {
   "display_name": "Python 3",
   "language": "python",
   "name": "python3"
  },
  "language_info": {
   "codemirror_mode": {
    "name": "ipython",
    "version": 3
   },
   "file_extension": ".py",
   "mimetype": "text/x-python",
   "name": "python",
   "nbconvert_exporter": "python",
   "pygments_lexer": "ipython3",
   "version": "3.7.4"
  }
 },
 "nbformat": 4,
 "nbformat_minor": 2
}
