{
 "cells": [
  {
   "cell_type": "code",
   "execution_count": 1,
   "metadata": {},
   "outputs": [],
   "source": [
    "# General imports\n",
    "import numpy as np\n",
    "import matplotlib.pyplot as plt\n",
    "import sys\n",
    "import pandas as pd\n",
    "\n",
    "# Adding path to module\n",
    "sys.path.append(\"../\")\n",
    "\n",
    "# picture path\n",
    "PICS = '../pics/'\n",
    "\n",
    "# Module imports\n",
    "from fourth_day import Fourth_Day, config\n",
    "\n",
    "# Some example settings\n",
    "# Scenario\n",
    "config['scenario']['population size'] = 1000\n",
    "config['scenario']['encounters'] = True\n",
    "config['scenario']['exclusion'] = False\n",
    "config['scenario']['injection']['rate'] = 0\n",
    "config['scenario']['duration'] = 200\n",
    "config['organisms']['emission fraction'] = 0.5\n",
    "# Geometry\n",
    "config['geometry']['volume'] = {\n",
    "    'function': 'rectangle',\n",
    "    'x_length': 0.1,\n",
    "    'y_length': 0.1,\n",
    "    'offset': None,\n",
    "}\n",
    "config['geometry']['observation'] = {\n",
    "    'function': 'rectangle',\n",
    "    'x_length': 0.1,\n",
    "    'y_length': 0.1,\n",
    "    'offset': None,\n",
    "}\n",
    "# Water\n",
    "config['water']['model']['name'] = 'none'\n",
    "config['water']['model']['time step'] = 1\n",
    "\n",
    "# Plotting standards\n",
    "std_size = 10.\n",
    "fontsize = 20.\n",
    "lw=3.\n",
    "h_length=1.5"
   ]
  },
  {
   "cell_type": "code",
   "execution_count": 2,
   "metadata": {},
   "outputs": [],
   "source": [
    "# Creating a fourth_day object\n",
    "fd = Fourth_Day()\n",
    "# Launching solver\n",
    "fd.sim()"
   ]
  },
  {
   "cell_type": "code",
   "execution_count": 3,
   "metadata": {},
   "outputs": [],
   "source": [
    "'''\n",
    "this wavelength_attentuation function is extract from \n",
    "https://pdfs.semanticscholar.org/1e88/9ce6ebf1ec84ab1e3f934377c89c0257080c.pdf\n",
    "by https://apps.automeris.io/wpd/ Plot digitizer read points\n",
    "'''\n",
    "wavelength_data = [399.44415494181,412.07970421102266,425.75250006203635,442.53703565845314,\n",
    "                   457.1974490682151,471.8380108687561,484.3544504826423,495.7939402962853,509.29799746891985,\n",
    "                  519.6903148961513,530.0627807141617,541.5022705278046,553.9690811186382,567.4929899004939,\n",
    "                  580.9771954639073,587.1609717362714,593.3348222040249,599.4391920395047,602.4715253480235]\n",
    "attenuation_data = [0.026410321551339357,0.023168667048510762,0.020703255370450736,0.019552708373076478,\n",
    "                    0.019526153330089138,0.020236306473695613,0.02217620815962483,0.025694647290888873,\n",
    "                    0.031468126242251794,0.03646434475343956,0.04385011375530569,0.05080729755501162,\n",
    "                    0.061086337538657706,0.07208875589035815,0.09162216168767365,0.11022281058708046,\n",
    "                   0.1350811713674855,0.18848851206491904,0.23106528395398912]\n",
    "\n",
    "#interplote from 400nm to 600nm\n",
    "from scipy import interpolate\n",
    "attenuation_wavelength_function = interpolate.interp1d(wavelength_data, attenuation_data, kind='quadratic')\n",
    "\n",
    "#default detector position\n",
    "detector_pos =[5.,10.]\n",
    "\n",
    "'''\n",
    "this function calculate light intensity after propagation in seawater\n",
    "using formula I=I_0*(1/R^2) * exp(k*R), where R is light path length, k = attenuation + scattering coefficient\n",
    "'''\n",
    "def propagation(photon_number, pos_x, pos_y, wavelength):\n",
    "    \n",
    "    path = np.sqrt( (pos_x-detector_pos[0])**2+(pos_y-detector_pos[1])**2) # in m\n",
    "    attenuation_factor = attenuation_wavelength_function(wavelength) # [m^-1]\n",
    "    intensity = photon_number*np.exp(path*attenuation_factor)/(path)**2\n",
    "    \n",
    "    return intensity"
   ]
  },
  {
   "cell_type": "code",
   "execution_count": 4,
   "metadata": {},
   "outputs": [],
   "source": [
    "sum_intensity_list = []\n",
    "#for every time interval, when light was emitted, then save position and encounter photon for this species\n",
    "for i in range(len(fd.t)):\n",
    "    masked_encounter_photons = np.ma.masked_where(fd.statistics[i].loc[:, 'is_emitting'].values == False, fd.statistics[0].loc[:, 'encounter photons'].values)\n",
    "    masked_pos_x = np.ma.masked_where(fd.statistics[i].loc[:, 'is_emitting'].values == False, fd.statistics[0].loc[:, 'pos_x'].values)\n",
    "    masked_pos_y = np.ma.masked_where(fd.statistics[i].loc[:, 'is_emitting'].values == False, fd.statistics[0].loc[:, 'pos_y'].values)\n",
    "    masked_species = np.ma.masked_where(fd.statistics[i].loc[:, 'is_emitting'].values == False, fd.statistics[0].loc[:, 'species'].values)\n",
    "\n",
    "    encounter_photons = masked_encounter_photons.compressed()\n",
    "    pos_x = masked_pos_x.compressed()\n",
    "    pos_y = masked_pos_y.compressed()\n",
    "    species = masked_species.compressed()\n",
    "\n",
    "    #wavelength info for this emittion is extracted from its pdf mean value\n",
    "    emit_wavelength = []\n",
    "    for species_key in species:\n",
    "        wavelength_mean = fd._life.Light_pdfs[species_key]._mean\n",
    "        emit_wavelength.append(wavelength_mean)\n",
    "        \n",
    "    #calculate new intensity after propagation    \n",
    "    intensity_list =[]\n",
    "    for i in range(len(species)):\n",
    "        new_intensity = propagation(encounter_photons[i], pos_x[i], pos_y[i], emit_wavelength[i])\n",
    "        intensity_list.append(new_intensity)\n",
    "    sum_intensity_list.append(np.sum(intensity_list))"
   ]
  },
  {
   "cell_type": "code",
   "execution_count": 6,
   "metadata": {},
   "outputs": [
    {
     "data": {
      "image/png": "[encoded data removed]",
      "text/plain": [
       "<Figure size 720x540 with 1 Axes>"
      ]
     },
     "metadata": {
      "needs_background": "light"
     },
     "output_type": "display_data"
    }
   ],
   "source": [
    "#plot\n",
    "figure, (ax1) = plt.subplots(1, 1, figsize=(std_size, std_size * 6. / 8.), sharex=True)\n",
    "ax1.plot(fd.t,sum_intensity_list,'bo')\n",
    "ax1.set_xscale('linear')\n",
    "ax1.set_yscale('log')\n",
    "ax1.set_xlim(1e0, 2e1)# max(fd.t))\n",
    "ax1.set_xlabel(r'$t\\;[s]$', fontsize=fontsize)\n",
    "ax1.set_ylabel(r'$Intensity\\;I[]$', fontsize=fontsize)\n",
    "ax1.tick_params(axis = 'both', which = 'major', labelsize=fontsize, direction='in')\n",
    "ax1.tick_params(axis = 'both', which = 'minor', labelsize=fontsize, direction='in')\n",
    "ax1.grid(True)\n",
    "plt.show()"
   ]
  },
  {
   "cell_type": "code",
   "execution_count": null,
   "metadata": {},
   "outputs": [],
   "source": []
  }
 ],
 "metadata": {
  "kernelspec": {
   "display_name": "Python 3",
   "language": "python",
   "name": "python3"
  },
  "language_info": {
   "codemirror_mode": {
    "name": "ipython",
    "version": 3
   },
   "file_extension": ".py",
   "mimetype": "text/x-python",
   "name": "python",
   "nbconvert_exporter": "python",
   "pygments_lexer": "ipython3",
   "version": "3.7.7"
  }
 },
 "nbformat": 4,
 "nbformat_minor": 2
}
