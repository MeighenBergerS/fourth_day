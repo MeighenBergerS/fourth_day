{
 "cells": [
  {
   "cell_type": "code",
   "execution_count": 1,
   "metadata": {},
   "outputs": [
    {
     "data": {
      "text/plain": [
       "'\\nName: example_probabilistic_model.ipynb\\nAuthors: Stephan Meighen-Berger\\nConstructs a probabilistic model which can be used instead of the cpu heavy simulation\\n'"
      ]
     },
     "execution_count": 1,
     "metadata": {},
     "output_type": "execute_result"
    }
   ],
   "source": [
    "\"\"\"\n",
    "Name: example_probabilistic_model.ipynb\n",
    "Authors: Stephan Meighen-Berger\n",
    "Constructs a probabilistic model which can be used instead of the cpu heavy simulation\n",
    "\"\"\""
   ]
  },
  {
   "cell_type": "code",
   "execution_count": 2,
   "metadata": {},
   "outputs": [],
   "source": [
    "# General imports\n",
    "import numpy as np\n",
    "import matplotlib.pyplot as plt\n",
    "import sys\n",
    "import pandas as pd\n",
    "from tqdm import tqdm\n",
    "import pickle"
   ]
  },
  {
   "cell_type": "code",
   "execution_count": 3,
   "metadata": {},
   "outputs": [],
   "source": [
    "# Adding path to module\n",
    "sys.path.append(\"../\")"
   ]
  },
  {
   "cell_type": "code",
   "execution_count": 4,
   "metadata": {},
   "outputs": [],
   "source": [
    "# picture path\n",
    "PICS = '../pics/'"
   ]
  },
  {
   "cell_type": "code",
   "execution_count": 5,
   "metadata": {},
   "outputs": [],
   "source": [
    "# Module imports\n",
    "from fourth_day import Fourth_Day, config\n",
    "from fourth_day.pdfs import construct_pdf"
   ]
  },
  {
   "cell_type": "code",
   "execution_count": 6,
   "metadata": {},
   "outputs": [],
   "source": [
    "# Plotting standards\n",
    "std_size = 6.\n",
    "fontsize = 20.\n",
    "lw=1.\n",
    "h_length=1."
   ]
  },
  {
   "cell_type": "code",
   "execution_count": 7,
   "metadata": {},
   "outputs": [],
   "source": [
    "from matplotlib import rc\n",
    "rc('font',**{'family':'sans-serif','sans-serif':['Helvetica']})\n",
    "## for Palatino and other serif fonts use:\n",
    "#rc('font',**{'family':'serif','serif':['Palatino']})\n",
    "rc('text', usetex=True)"
   ]
  },
  {
   "cell_type": "code",
   "execution_count": 8,
   "metadata": {},
   "outputs": [],
   "source": [
    "# Some example settings\n",
    "config['scenario']['population size'] = 2\n",
    "config['scenario']['duration'] = 6000\n",
    "config['scenario']['organism movement'] = False\n",
    "config['scenario']['exclusion'] = True\n",
    "config['scenario']['injection']['rate'] = 1e-2\n",
    "config['scenario']['light prop'] = {\n",
    "            \"switch\": False,\n",
    "            \"x_pos\": 5.,\n",
    "            \"y_pos\": 10.,\n",
    "        }\n",
    "config['scenario']['detector'] = {\n",
    "    \"switch\": False,\n",
    "}\n",
    "# Organisms\n",
    "config['organisms']['emission fraction'] = 0.1\n",
    "# Geometry\n",
    "config['geometry']['volume'] = {\n",
    "    'function': 'rectangle',\n",
    "    'x_length': 26.,\n",
    "    'y_length': 10.,\n",
    "    'offset': None,\n",
    "}\n",
    "config['geometry']['observation'] = {\n",
    "    'function': 'rectangle',\n",
    "    'x_length': 26.,\n",
    "    'y_length': 10.,\n",
    "    \"offset\": np.array([0., 0.]),\n",
    "}\n",
    "config['geometry'][\"exclusion\"] = {\n",
    "    \"function\": \"sphere\",\n",
    "    \"radius\": 0.15,\n",
    "    \"x_pos\": 2.,\n",
    "    \"y_pos\": 5.,\n",
    "}\n",
    "# Water\n",
    "config['water']['model']['name'] = 'custom' # using grid files\n",
    "config['water']['model']['off set'] = np.array([0., 2.5])\n",
    "config['water']['model']['directory'] = \"../data/current/Long_run_corr/\"\n",
    "config['water']['model']['time step'] = 0.1\n",
    "config['advanced']['starting step'] = 0"
   ]
  },
  {
   "cell_type": "code",
   "execution_count": 9,
   "metadata": {},
   "outputs": [
    {
     "name": "stderr",
     "output_type": "stream",
     "text": [
      "100%|███████████████████████████████████████████████████████████████████████████████████| 3/3 [11:14<00:00, 224.90s/it]\n",
      "100%|███████████████████████████████████████████████████████████████████████████████████| 3/3 [10:59<00:00, 219.90s/it]\n",
      "100%|███████████████████████████████████████████████████████████████████████████████████| 3/3 [11:28<00:00, 229.56s/it]\n",
      "100%|███████████████████████████████████████████████████████████████████████████████████| 3/3 [10:31<00:00, 210.37s/it]\n",
      "100%|███████████████████████████████████████████████████████████████████████████████████| 3/3 [10:00<00:00, 200.06s/it]\n",
      "100%|███████████████████████████████████████████████████████████████████████████████████| 3/3 [10:01<00:00, 200.61s/it]\n",
      "100%|███████████████████████████████████████████████████████████████████████████████████| 3/3 [11:50<00:00, 236.78s/it]\n",
      "100%|███████████████████████████████████████████████████████████████████████████████████| 3/3 [11:56<00:00, 238.81s/it]\n",
      "100%|███████████████████████████████████████████████████████████████████████████████████| 3/3 [11:04<00:00, 221.57s/it]\n",
      "100%|███████████████████████████████████████████████████████████████████████████████████| 3/3 [10:45<00:00, 215.31s/it]\n",
      "100%|███████████████████████████████████████████████████████████████████████████████████| 3/3 [11:14<00:00, 224.79s/it]\n",
      "100%|███████████████████████████████████████████████████████████████████████████████████| 3/3 [10:55<00:00, 218.53s/it]\n",
      "100%|███████████████████████████████████████████████████████████████████████████████████| 3/3 [08:37<00:00, 172.65s/it]\n",
      "100%|███████████████████████████████████████████████████████████████████████████████████| 3/3 [09:04<00:00, 181.58s/it]\n",
      "100%|███████████████████████████████████████████████████████████████████████████████████| 3/3 [09:11<00:00, 183.95s/it]\n"
     ]
    }
   ],
   "source": [
    "runs = 3\n",
    "alphas = [1e1, 1e0, 1e-1]\n",
    "y_ranges = [\n",
    "    [[4.9, 5.1], '0'],\n",
    "    [[5.9, 6.1], '1'],\n",
    "    [[6.9, 7.1], '2'],\n",
    "    [[7.9, 8.1], '3'],\n",
    "    [[9.9, 10.1], '5']\n",
    "]\n",
    "for y_range in y_ranges:\n",
    "    alpha_x_arr = []\n",
    "    alpha_norm_arr = []\n",
    "    config['scenario']['injection']['y range'] = y_range[0]\n",
    "    for alpha in alphas:\n",
    "        run_x = []\n",
    "        run_norm = []\n",
    "        for seed in tqdm(range(runs)):\n",
    "            # Reuse sim data\n",
    "            config['scenario']['class'] = 'New'\n",
    "            config['scenario'][\"statistics storage\"][\"name\"] = (\n",
    "                \"probabilistic_offcenter_%s_alpha_%d_seed_%d\" %(y_range[1], int(np.log10(alpha)), int(seed))\n",
    "            )\n",
    "            # Seed\n",
    "            config['general'][\"random state seed\"] = seed\n",
    "            # Alpha\n",
    "            config['organisms']['alpha'] = alpha\n",
    "            # Creating a fourth_day object\n",
    "            fd = Fourth_Day()\n",
    "            # Launching solver\n",
    "            fd.sim()\n",
    "            # Analyzing data\n",
    "            x_loc = []\n",
    "            for stat in fd.statistics:\n",
    "                tmp = stat[\"pos_x\"].values[stat[\"pulse start\"].values]\n",
    "                if len(tmp) > 0:\n",
    "                    x_loc.append(tmp)\n",
    "                else:\n",
    "                    continue\n",
    "            try:\n",
    "                x_loc = np.concatenate(x_loc).ravel()\n",
    "                run_x.append(x_loc)\n",
    "            except:\n",
    "                continue\n",
    "            # Normalization\n",
    "            norm_fac = []\n",
    "            for x_l in x_loc:\n",
    "                norm_fac.append(len(\n",
    "                    fd.statistics[-1][\"pos_x\"].values[np.where(fd.statistics[-1][\"pos_x\"].values >= x_l ) ]\n",
    "                ))\n",
    "            norm_fac = np.array(norm_fac)\n",
    "            run_norm.append(norm_fac)\n",
    "        run_x = np.concatenate(run_x).ravel()\n",
    "        run_norm = np.concatenate(run_norm).ravel() * runs\n",
    "        alpha_x_arr.append(run_x)\n",
    "        alpha_norm_arr.append(run_norm)\n",
    "    to_dump = {\n",
    "        'alphas': alphas,\n",
    "        'x_arr': alpha_x_arr,\n",
    "        'norm': alpha_norm_arr\n",
    "    }\n",
    "    pickle.dump(to_dump, open(\"offcenter_v2_%s.p\" % y_range[1], \"wb\" ) )"
   ]
  },
  {
   "cell_type": "code",
   "execution_count": 9,
   "metadata": {},
   "outputs": [],
   "source": [
    "data_0 = pickle.load( open(\"offcenter_v2_0.p\", \"rb\" ) )\n",
    "data_1 = pickle.load( open(\"offcenter_v2_1.p\", \"rb\" ) )\n",
    "data_2 = pickle.load( open(\"offcenter_v2_2.p\", \"rb\" ) )\n",
    "data_3 = pickle.load( open(\"offcenter_v2_3.p\", \"rb\" ) )\n",
    "data_5 = pickle.load( open(\"offcenter_v2_5.p\", \"rb\" ) )"
   ]
  },
  {
   "cell_type": "code",
   "execution_count": 11,
   "metadata": {},
   "outputs": [
    {
     "data": {
      "image/png": "[encoded data removed]",
      "text/plain": [
       "<Figure size 432x324 with 1 Axes>"
      ]
     },
     "metadata": {
      "needs_background": "light"
     },
     "output_type": "display_data"
    },
    {
     "data": {
      "image/png": "[encoded data removed]",
      "text/plain": [
       "<Figure size 432x324 with 1 Axes>"
      ]
     },
     "metadata": {
      "needs_background": "light"
     },
     "output_type": "display_data"
    },
    {
     "data": {
      "image/png": "[encoded data removed]",
      "text/plain": [
       "<Figure size 432x324 with 1 Axes>"
      ]
     },
     "metadata": {
      "needs_background": "light"
     },
     "output_type": "display_data"
    },
    {
     "data": {
      "image/png": "[encoded data removed]",
      "text/plain": [
       "<Figure size 432x324 with 1 Axes>"
      ]
     },
     "metadata": {
      "needs_background": "light"
     },
     "output_type": "display_data"
    },
    {
     "data": {
      "image/png": "[encoded data removed]",
      "text/plain": [
       "<Figure size 432x324 with 1 Axes>"
      ]
     },
     "metadata": {
      "needs_background": "light"
     },
     "output_type": "display_data"
    }
   ],
   "source": [
    "# Probability distributions 0\n",
    "edgecolors = ['r', 'magenta', 'purple', 'b']\n",
    "alphas_plt = [1., 1., 1., 1.]\n",
    "figure, (ax1) = plt.subplots(1, 1, figsize=(std_size, std_size * 6. / 8.), sharex=True)\n",
    "for id_alpha, alpha in enumerate(data_0['alphas']):\n",
    "    counts, edges = np.histogram(data_0['x_arr'][id_alpha],\n",
    "                        bins=np.linspace(0., 26., 131),\n",
    "                        weights=1./data_0['norm'][id_alpha]\n",
    "                        )\n",
    "    hist = ax1.bar(edges[:-1],\n",
    "                    counts,\n",
    "                    color=edgecolors[id_alpha],\n",
    "                    alpha=alphas_plt[id_alpha],\n",
    "                    label=r'$\\alpha = %.e$' % alpha,\n",
    "                    lw=lw)\n",
    "ax1.set_xscale('linear')\n",
    "ax1.set_yscale('linear')\n",
    "ax1.set_xlabel(r'$\\mathrm{X}\\;[\\mathrm{m}]$', fontsize=fontsize)\n",
    "ax1.set_ylabel(r'$\\mathrm{Normalized\\;Flashes}$', fontsize=fontsize)\n",
    "ax1.tick_params(axis = 'both', which = 'major', labelsize=fontsize, direction='in')\n",
    "ax1.tick_params(axis = 'both', which = 'minor', labelsize=fontsize, direction='in')\n",
    "ax1.axvline(2., color='k', lw=lw)\n",
    "# ax1.grid(True)\n",
    "h, l = ax1.get_legend_handles_labels()\n",
    "lgd1 = ax1.legend(h,l, loc=9, bbox_to_anchor=(0.5, +1.4),\n",
    "                  ncol=2, fontsize=fontsize, handlelength=h_length,\n",
    "                  fancybox=True, frameon=False)\n",
    "ax1.set_ylim(0., 0.4)\n",
    "ax1.set_xlim(0., 26.)\n",
    "plt.tight_layout()\n",
    "plt.show()\n",
    "figure.savefig(PICS + \"0_prob.png\",\n",
    "               bbox_inches='tight')\n",
    "# Probability distributions 1\n",
    "edgecolors = ['r', 'magenta', 'purple', 'b']\n",
    "alphas_plt = [1., 1., 1., 1.]\n",
    "figure, (ax1) = plt.subplots(1, 1, figsize=(std_size, std_size * 6. / 8.), sharex=True)\n",
    "for id_alpha, alpha in enumerate(data_1['alphas']):\n",
    "    counts, edges = np.histogram(data_1['x_arr'][id_alpha],\n",
    "                        bins=np.linspace(0., 26., 131),\n",
    "                        weights=1./data_1['norm'][id_alpha]\n",
    "                        )\n",
    "    hist = ax1.bar(edges[:-1],\n",
    "                    counts,\n",
    "                    color=edgecolors[id_alpha],\n",
    "                    alpha=alphas_plt[id_alpha],\n",
    "                    label=r'$\\alpha = %.e$' % alpha,\n",
    "                    lw=lw)\n",
    "ax1.set_xscale('linear')\n",
    "ax1.set_yscale('linear')\n",
    "ax1.set_xlabel(r'$\\mathrm{X}\\;[\\mathrm{m}]$', fontsize=fontsize)\n",
    "ax1.set_ylabel(r'$\\mathrm{Normalized\\;Flashes}$', fontsize=fontsize)\n",
    "ax1.tick_params(axis = 'both', which = 'major', labelsize=fontsize, direction='in')\n",
    "ax1.tick_params(axis = 'both', which = 'minor', labelsize=fontsize, direction='in')\n",
    "ax1.axvline(2., color='k', lw=lw)\n",
    "# ax1.grid(True)\n",
    "h, l = ax1.get_legend_handles_labels()\n",
    "lgd1 = ax1.legend(h,l, loc=9, bbox_to_anchor=(0.5, +1.4),\n",
    "                  ncol=2, fontsize=fontsize, handlelength=h_length,\n",
    "                  fancybox=True, frameon=False)\n",
    "ax1.set_ylim(0., 0.4)\n",
    "ax1.set_xlim(0., 26.)\n",
    "plt.tight_layout()\n",
    "plt.show()\n",
    "figure.savefig(PICS + \"1_prob.png\",\n",
    "               bbox_inches='tight')\n",
    "# Probability distributions 2\n",
    "edgecolors = ['r', 'magenta', 'purple', 'b']\n",
    "alphas_plt = [1., 1., 1., 1.]\n",
    "figure, (ax1) = plt.subplots(1, 1, figsize=(std_size, std_size * 6. / 8.), sharex=True)\n",
    "for id_alpha, alpha in enumerate(data_2['alphas']):\n",
    "    counts, edges = np.histogram(data_2['x_arr'][id_alpha],\n",
    "                        bins=np.linspace(0., 26., 131),\n",
    "                        weights=1./data_2['norm'][id_alpha]\n",
    "                        )\n",
    "    hist = ax1.bar(edges[:-1],\n",
    "                    counts,\n",
    "                    color=edgecolors[id_alpha],\n",
    "                    alpha=alphas_plt[id_alpha],\n",
    "                    label=r'$\\alpha = %.e$' % alpha,\n",
    "                    lw=lw)\n",
    "ax1.set_xscale('linear')\n",
    "ax1.set_yscale('linear')\n",
    "ax1.set_xlabel(r'$\\mathrm{X}\\;[\\mathrm{m}]$', fontsize=fontsize)\n",
    "ax1.set_ylabel(r'$\\mathrm{Normalized\\;Flashes}$', fontsize=fontsize)\n",
    "ax1.tick_params(axis = 'both', which = 'major', labelsize=fontsize, direction='in')\n",
    "ax1.tick_params(axis = 'both', which = 'minor', labelsize=fontsize, direction='in')\n",
    "ax1.axvline(2., color='k', lw=lw)\n",
    "# ax1.grid(True)\n",
    "h, l = ax1.get_legend_handles_labels()\n",
    "lgd1 = ax1.legend(h,l, loc=9, bbox_to_anchor=(0.5, +1.4),\n",
    "                  ncol=2, fontsize=fontsize, handlelength=h_length,\n",
    "                  fancybox=True, frameon=False)\n",
    "ax1.set_ylim(0., 0.4)\n",
    "ax1.set_xlim(0., 26.)\n",
    "plt.tight_layout()\n",
    "plt.show()\n",
    "figure.savefig(PICS + \"2_prob.png\",\n",
    "               bbox_inches='tight')\n",
    "# Probability distributions 3\n",
    "edgecolors = ['r', 'magenta', 'purple', 'b']\n",
    "alphas_plt = [1., 1., 1., 1.]\n",
    "figure, (ax1) = plt.subplots(1, 1, figsize=(std_size, std_size * 6. / 8.), sharex=True)\n",
    "for id_alpha, alpha in enumerate(data_3['alphas']):\n",
    "    counts, edges = np.histogram(data_3['x_arr'][id_alpha],\n",
    "                        bins=np.linspace(0., 26., 131),\n",
    "                        weights=1./data_3['norm'][id_alpha]\n",
    "                        )\n",
    "    hist = ax1.bar(edges[:-1],\n",
    "                    counts,\n",
    "                    color=edgecolors[id_alpha],\n",
    "                    alpha=alphas_plt[id_alpha],\n",
    "                    label=r'$\\alpha = %.e$' % alpha,\n",
    "                    lw=lw)\n",
    "ax1.set_xscale('linear')\n",
    "ax1.set_yscale('linear')\n",
    "ax1.set_xlabel(r'$\\mathrm{X}\\;[\\mathrm{m}]$', fontsize=fontsize)\n",
    "ax1.set_ylabel(r'$\\mathrm{Normalized\\;Flashes}$', fontsize=fontsize)\n",
    "ax1.tick_params(axis = 'both', which = 'major', labelsize=fontsize, direction='in')\n",
    "ax1.tick_params(axis = 'both', which = 'minor', labelsize=fontsize, direction='in')\n",
    "ax1.axvline(2., color='k', lw=lw)\n",
    "# ax1.grid(True)\n",
    "h, l = ax1.get_legend_handles_labels()\n",
    "lgd1 = ax1.legend(h,l, loc=9, bbox_to_anchor=(0.5, +1.4),\n",
    "                  ncol=2, fontsize=fontsize, handlelength=h_length,\n",
    "                  fancybox=True, frameon=False)\n",
    "ax1.set_ylim(0., 0.4)\n",
    "ax1.set_xlim(0., 26.)\n",
    "plt.tight_layout()\n",
    "plt.show()\n",
    "figure.savefig(PICS + \"3_prob.png\",\n",
    "               bbox_inches='tight')\n",
    "# Probability distributions 5\n",
    "edgecolors = ['r', 'magenta', 'purple', 'b']\n",
    "alphas_plt = [1., 1., 1., 1.]\n",
    "figure, (ax1) = plt.subplots(1, 1, figsize=(std_size, std_size * 6. / 8.), sharex=True)\n",
    "for id_alpha, alpha in enumerate(data_5['alphas']):\n",
    "    counts, edges = np.histogram(data_5['x_arr'][id_alpha],\n",
    "                        bins=np.linspace(0., 26., 131),\n",
    "                        weights=1./data_5['norm'][id_alpha]\n",
    "                        )\n",
    "    hist = ax1.bar(edges[:-1],\n",
    "                    counts,\n",
    "                    color=edgecolors[id_alpha],\n",
    "                    alpha=alphas_plt[id_alpha],\n",
    "                    label=r'$\\alpha = %.e$' % alpha,\n",
    "                    lw=lw)\n",
    "ax1.set_xscale('linear')\n",
    "ax1.set_yscale('linear')\n",
    "ax1.set_xlabel(r'$\\mathrm{X}\\;[\\mathrm{m}]$', fontsize=fontsize)\n",
    "ax1.set_ylabel(r'$\\mathrm{Normalized\\;Flashes}$', fontsize=fontsize)\n",
    "ax1.tick_params(axis = 'both', which = 'major', labelsize=fontsize, direction='in')\n",
    "ax1.tick_params(axis = 'both', which = 'minor', labelsize=fontsize, direction='in')\n",
    "ax1.axvline(2., color='k', lw=lw)\n",
    "# ax1.grid(True)\n",
    "h, l = ax1.get_legend_handles_labels()\n",
    "lgd1 = ax1.legend(h,l, loc=9, bbox_to_anchor=(0.5, +1.4),\n",
    "                  ncol=2, fontsize=fontsize, handlelength=h_length,\n",
    "                  fancybox=True, frameon=False)\n",
    "ax1.set_ylim(0., 0.4)\n",
    "ax1.set_xlim(0., 26.)\n",
    "plt.tight_layout()\n",
    "plt.show()\n",
    "figure.savefig(PICS + \"5_prob.png\",\n",
    "               bbox_inches='tight')"
   ]
  },
  {
   "cell_type": "code",
   "execution_count": null,
   "metadata": {},
   "outputs": [],
   "source": []
  }
 ],
 "metadata": {
  "kernelspec": {
   "display_name": "Python 3",
   "language": "python",
   "name": "python3"
  },
  "language_info": {
   "codemirror_mode": {
    "name": "ipython",
    "version": 3
   },
   "file_extension": ".py",
   "mimetype": "text/x-python",
   "name": "python",
   "nbconvert_exporter": "python",
   "pygments_lexer": "ipython3",
   "version": "3.7.6"
  }
 },
 "nbformat": 4,
 "nbformat_minor": 2
}
