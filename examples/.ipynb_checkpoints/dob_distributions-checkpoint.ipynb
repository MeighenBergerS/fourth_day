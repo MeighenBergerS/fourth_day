{
 "cells": [
  {
   "cell_type": "code",
   "execution_count": 1,
   "metadata": {},
   "outputs": [
    {
     "data": {
      "text/plain": [
       "'\\nName: dob_distributions.ipynb\\nAuthors: Stephan Meighen-Berger\\nTesting ground for different light emission spectra\\n'"
      ]
     },
     "execution_count": 1,
     "metadata": {},
     "output_type": "execute_result"
    }
   ],
   "source": [
    "\"\"\"\n",
    "Name: dob_distributions.ipynb\n",
    "Authors: Stephan Meighen-Berger\n",
    "Testing ground for different light emission spectra\n",
    "\"\"\""
   ]
  },
  {
   "cell_type": "code",
   "execution_count": 2,
   "metadata": {},
   "outputs": [],
   "source": [
    "\"\"\"\n",
    "Imports\n",
    "\"\"\"\n",
    "import numpy as np\n",
    "import matplotlib.pyplot as plt\n",
    "from scipy.stats import gamma\n",
    "from scipy.signal import peak_widths, find_peaks\n",
    "from scipy.optimize import root\n",
    "import logging\n",
    "# import warnings\n",
    "from scipy.stats import gamma\n",
    "import sys\n",
    "sys.path.append(\"../core/\")"
   ]
  },
  {
   "cell_type": "code",
   "execution_count": 3,
   "metadata": {},
   "outputs": [],
   "source": [
    "# Importing dob module\n",
    "from dob import DOB"
   ]
  },
  {
   "cell_type": "code",
   "execution_count": 4,
   "metadata": {},
   "outputs": [
    {
     "name": "stderr",
     "output_type": "stream",
     "text": [
      "INFO:dob_logger.DOB.__init__:---------------------------------------------------\n",
      "INFO:dob_logger.DOB.__init__:Welcome to DOB!\n",
      "INFO:dob_logger.DOB.__init__:This package will help you model deep sea bioluminescence!\n",
      "INFO:dob_logger.DOB.__init__:---------------------------------------------------\n",
      "INFO:dob_logger.DOB.__init__:Creating life...\n",
      "INFO:dob_logger.dob_vita.__init__:Loading phyla according to config\n",
      "DEBUG:dob_logger.dob_vita.__init__:No classes defined\n",
      "INFO:dob_logger.dob_vita.__init__:Loading and parsing Ctenophores.txt\n",
      "DEBUG:dob_logger.dob_vita.__init__:Classes defined\n",
      "INFO:dob_logger.dob_vita.__init__:Loading and parsing Cnidaria_Scyphomedusae.txt\n",
      "INFO:dob_logger.dob_vita.__init__:Loading and parsing Cnidaria_Hydrozoa.txt\n",
      "INFO:dob_logger.dob_vita.__init__:Loading and parsing Cnidaria_Hydrozoa_Hydroidolina_Siphonophores_Calycophorae.txt\n",
      "INFO:dob_logger.dob_vita.__init__:Loading and parsing Cnidaria_Hydrozoa_Hydroidolina_Siphonophores_Physonectae.txt\n",
      "DEBUG:dob_logger.dob_vita.__init__:Classes defined\n",
      "INFO:dob_logger.dob_vita.__init__:Loading and parsing Proteobacteria_Gammaproteobacteria.txt\n",
      "INFO:dob_logger.DOB.__init__:Creation finished\n",
      "INFO:dob_logger.DOB.__init__:---------------------------------------------------\n",
      "INFO:dob_logger.DOB.__init__:Initializing flood (filter)\n",
      "DEBUG:dob_logger.dob_flood.__init__:Filtering by averaging.\n",
      "DEBUG:dob_logger.dob_flood.__flood_average__:2 out of 42 Ctenophores survived the flood\n",
      "DEBUG:dob_logger.dob_flood.__flood_average__:2 out of 59 Cnidaria survived the flood\n",
      "DEBUG:dob_logger.dob_flood.__flood_average__:2 out of 1 Proteobacteria survived the flood\n",
      "INFO:dob_logger.DOB.__init__:Survivors collected!\n",
      "INFO:dob_logger.DOB.__init__:---------------------------------------------------\n"
     ]
    },
    {
     "name": "stdout",
     "output_type": "stream",
     "text": [
      "[458.0 459.0 492.0 492.0 488.0 490.0 501.0 491.0 489.0 491.0 495.0 493.0\n",
      " 488.0 490.0 493.0 468.0 482.0 489.0 483.0 467.0 496.0 500.0 490.0 489.0\n",
      " 491.0 470.0 469.0 473.0 488.0 488.0 492.0 488.0 490.0 485.0 497.0 489.0\n",
      " 471.0 472.0 489.0 491.0 483.0 501.0]\n",
      "[90.0 102.0 102.0 91.0 88.0 94.0 121.0 88.0 88.0 89.0 89.0 89.0 88.0 90.0\n",
      " 89.0 84.0 79.0 95.0 85.0 82.0 94.0 88.0 98.0 98.0 103.0 94.0 85.0 81.0\n",
      " 93.0 92.0 90.0 88.0 89.0 88.0 87.0 86.0 85.0 94.0 90.0 92.0 89.0 90.0]\n"
     ]
    }
   ],
   "source": [
    "# Setting the debug level\n",
    "logging.basicConfig(level=logging.DEBUG)\n",
    "dob = DOB()"
   ]
  },
  {
   "cell_type": "code",
   "execution_count": 5,
   "metadata": {},
   "outputs": [
    {
     "data": {
      "text/plain": [
       "dict_keys(['Ctenophores', 'Cnidaria_Scyphomedusae', 'Cnidaria_Hydrozoa', 'Cnidaria_Hydrozoa_Hydroidolina_Siphonophores_Calycophorae', 'Cnidaria_Hydrozoa_Hydroidolina_Siphonophores_Physonectae', 'Proteobacteria_Gammaproteobacteria'])"
      ]
     },
     "execution_count": 5,
     "metadata": {},
     "output_type": "execute_result"
    }
   ],
   "source": [
    "dob.life.keys()"
   ]
  },
  {
   "cell_type": "code",
   "execution_count": 6,
   "metadata": {},
   "outputs": [
    {
     "data": {
      "text/plain": [
       "array([['Photobacterium phosphoreum ANT-2200'],\n",
       "       [490.0],\n",
       "       [80.0],\n",
       "       [2200.0]], dtype=object)"
      ]
     },
     "execution_count": 6,
     "metadata": {},
     "output_type": "execute_result"
    }
   ],
   "source": [
    "dob.life['Proteobacteria_Gammaproteobacteria']"
   ]
  },
  {
   "cell_type": "code",
   "execution_count": 7,
   "metadata": {},
   "outputs": [],
   "source": [
    "x = np.linspace(0., 2000., 2000)"
   ]
  },
  {
   "cell_type": "code",
   "execution_count": 8,
   "metadata": {},
   "outputs": [],
   "source": [
    "def equ_to_solve(k):\n",
    "    scale = dob.life['Proteobacteria_Gammaproteobacteria'][1, 0] / k\n",
    "    signal = gamma.pdf(x, k, scale=scale)\n",
    "    peaks = signal.argmax()\n",
    "    fwhm = peak_widths(signal, [peaks], rel_height=0.5)\n",
    "    width = (fwhm[-1] - fwhm[-2])[0]\n",
    "    res = width - dob.life['Proteobacteria_Gammaproteobacteria'][2, 0]\n",
    "    return res"
   ]
  },
  {
   "cell_type": "code",
   "execution_count": 9,
   "metadata": {},
   "outputs": [
    {
     "data": {
      "text/plain": [
       "    fjac: array([[-1.]])\n",
       "     fun: 1.921307557495311e-11\n",
       " message: 'The solution converged.'\n",
       "    nfev: 10\n",
       "     qtf: array([1.98383532e-11])\n",
       "       r: array([0.1921768])\n",
       "  status: 1\n",
       " success: True\n",
       "       x: array([206.92772043])"
      ]
     },
     "execution_count": 9,
     "metadata": {},
     "output_type": "execute_result"
    }
   ],
   "source": [
    "root(equ_to_solve, 100.)"
   ]
  },
  {
   "cell_type": "code",
   "execution_count": 10,
   "metadata": {},
   "outputs": [],
   "source": [
    "test = equ_to_solve(10.)"
   ]
  },
  {
   "cell_type": "code",
   "execution_count": 13,
   "metadata": {},
   "outputs": [
    {
     "data": {
      "text/plain": [
       "[<matplotlib.lines.Line2D at 0x269a8064588>]"
      ]
     },
     "execution_count": 13,
     "metadata": {},
     "output_type": "execute_result"
    },
    {
     "data": {
      "image/png": "[encoded data removed]",
      "text/plain": [
       "<Figure size 432x288 with 1 Axes>"
      ]
     },
     "metadata": {
      "needs_background": "light"
     },
     "output_type": "display_data"
    }
   ],
   "source": [
    "plt.plot(x, gamma.pdf(x, 10., scale=dob.life['Proteobacteria_Gammaproteobacteria'][1, 0] / 10.))\n",
    "signal = gamma.pdf(x, 10., scale=dob.life['Proteobacteria_Gammaproteobacteria'][1, 0] / 10.)\n",
    "peaks = signal.argmax()\n",
    "plt.plot(x[peaks], signal[peaks], \"x\")"
   ]
  },
  {
   "cell_type": "code",
   "execution_count": null,
   "metadata": {},
   "outputs": [],
   "source": []
  }
 ],
 "metadata": {
  "kernelspec": {
   "display_name": "Python 3",
   "language": "python",
   "name": "python3"
  },
  "language_info": {
   "codemirror_mode": {
    "name": "ipython",
    "version": 3
   },
   "file_extension": ".py",
   "mimetype": "text/x-python",
   "name": "python",
   "nbconvert_exporter": "python",
   "pygments_lexer": "ipython3",
   "version": "3.7.4"
  }
 },
 "nbformat": 4,
 "nbformat_minor": 2
}
