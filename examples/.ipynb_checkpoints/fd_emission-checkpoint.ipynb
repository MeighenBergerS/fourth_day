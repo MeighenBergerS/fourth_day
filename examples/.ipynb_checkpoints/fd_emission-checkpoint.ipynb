{
 "cells": [
  {
   "cell_type": "code",
   "execution_count": 1,
   "metadata": {},
   "outputs": [
    {
     "data": {
      "text/plain": [
       "'\\nName: fd_emission.ipynb\\nAuthors: Stephan Meighen-Berger\\nTesting the emission rate of the creatures\\n'"
      ]
     },
     "execution_count": 1,
     "metadata": {},
     "output_type": "execute_result"
    }
   ],
   "source": [
    "\"\"\"\n",
    "Name: fd_emission.ipynb\n",
    "Authors: Stephan Meighen-Berger\n",
    "Testing the emission rate of the creatures\n",
    "\"\"\""
   ]
  },
  {
   "cell_type": "code",
   "execution_count": 2,
   "metadata": {},
   "outputs": [],
   "source": [
    "\"\"\"\n",
    "Imports\n",
    "\"\"\"\n",
    "import numpy as np\n",
    "import matplotlib.pyplot as plt\n",
    "from scipy.stats import gamma\n",
    "from scipy.signal import peak_widths, find_peaks\n",
    "from scipy.optimize import root\n",
    "import logging\n",
    "import warnings\n",
    "from scipy.stats import gamma\n",
    "import sys\n",
    "sys.path.append(\"../core/\")"
   ]
  },
  {
   "cell_type": "code",
   "execution_count": 3,
   "metadata": {},
   "outputs": [],
   "source": [
    "# Latex text rendering\n",
    "from matplotlib import rc\n",
    "rc('font',**{'family':'sans-serif','sans-serif':['Helvetica']})\n",
    "rc('text', usetex=True)"
   ]
  },
  {
   "cell_type": "code",
   "execution_count": 4,
   "metadata": {},
   "outputs": [],
   "source": [
    "# Importing dob module\n",
    "from fourth_day import FD\n",
    "from fd_config import config"
   ]
  },
  {
   "cell_type": "code",
   "execution_count": 5,
   "metadata": {},
   "outputs": [
    {
     "name": "stderr",
     "output_type": "stream",
     "text": [
      "INFO: ---------------------------------------------------\n",
      "INFO: ---------------------------------------------------\n",
      "INFO: Welcome to FD!\n",
      "INFO: This package will help you model deep sea bioluminescence!\n",
      "INFO: ---------------------------------------------------\n",
      "INFO: ---------------------------------------------------\n",
      "INFO: Creating life...\n",
      "INFO: Loading phyla according to config\n",
      "INFO: Data extracted from Latz, M.I., Frank, T.M. & Case, J.F., Marine Biology 98 (1988)\n",
      "INFO: Loading and parsing Cnidaria_Scyphomedusae.txt\n",
      "INFO: Loading and parsing Cnidaria_Hydrozoa.txt\n",
      "INFO: Loading and parsing Cnidaria_Hydrozoa_Hydroidolina_Siphonophores_Calycophorae.txt\n",
      "INFO: Loading and parsing Cnidaria_Hydrozoa_Hydroidolina_Siphonophores_Physonectae.txt\n",
      "INFO: Loading and parsing Proteobacteria_Gammaproteobacteria.txt\n",
      "INFO: Creation finished\n",
      "INFO: ---------------------------------------------------\n",
      "INFO: ---------------------------------------------------\n",
      "INFO: Initializing flood\n",
      "INFO: Survivors collected!\n",
      "INFO: ---------------------------------------------------\n",
      "INFO: ---------------------------------------------------\n",
      "INFO: Starting genesis\n",
      "INFO: Finished genesis\n",
      "INFO: ---------------------------------------------------\n",
      "INFO: ---------------------------------------------------\n",
      "INFO: Forging combined distribution\n",
      "INFO: To use custom weights for the populations, \n",
      "INFO: run fd_smithing with custom weights\n",
      "INFO: Finished forging\n",
      "INFO: ---------------------------------------------------\n",
      "INFO: ---------------------------------------------------\n",
      "INFO: Creating the world\n",
      "INFO: Finished world building\n",
      "INFO: ---------------------------------------------------\n",
      "INFO: ---------------------------------------------------\n",
      "INFO: Random encounter model\n",
      "INFO: Using the Gerritsen_Strickler model\n",
      "INFO: Finished the encounter model\n",
      "INFO: ---------------------------------------------------\n",
      "INFO: ---------------------------------------------------\n",
      "INFO: To run the simulation use the solve method\n",
      "INFO: ---------------------------------------------------\n",
      "INFO: ---------------------------------------------------\n"
     ]
    }
   ],
   "source": [
    "# Setting the debug level\n",
    "# logging.basicConfig(level=logging.DEBUG)\n",
    "# Turning off warnings\n",
    "warnings.filterwarnings(\"ignore\", category=RuntimeWarning)\n",
    "fd = FD(org_filter='generous')"
   ]
  },
  {
   "cell_type": "code",
   "execution_count": 6,
   "metadata": {},
   "outputs": [
    {
     "name": "stderr",
     "output_type": "stream",
     "text": [
      "INFO: ---------------------------------------------------\n",
      "INFO: ---------------------------------------------------\n",
      "INFO: Calculating light yields\n",
      "INFO: Finished calculation\n",
      "INFO: It took 9 seconds\n",
      "INFO: ---------------------------------------------------\n",
      "INFO: ---------------------------------------------------\n"
     ]
    }
   ],
   "source": [
    "# Solving\n",
    "distances = np.logspace(0., 3, 20)\n",
    "velocity = 0.3\n",
    "light_yields = fd.solve(1000, velocity, distances, 1., run_count=1000)"
   ]
  },
  {
   "cell_type": "code",
   "execution_count": 7,
   "metadata": {},
   "outputs": [],
   "source": [
    "std_size = 6.\n",
    "fontsize = 20.\n",
    "lw=3."
   ]
  },
  {
   "cell_type": "code",
   "execution_count": 8,
   "metadata": {},
   "outputs": [
    {
     "data": {
      "image/png": "[encoded data removed]",
      "text/plain": [
       "<Figure size 432x324 with 1 Axes>"
      ]
     },
     "metadata": {
      "needs_background": "light"
     },
     "output_type": "display_data"
    }
   ],
   "source": [
    "# Energy distributions\n",
    "figure, ax = plt.subplots(figsize=(std_size, std_size * 6. / 8.))\n",
    "iterations = range(1, 100)\n",
    "res = np.array([fd.rate_model.rate(velocity, 1000, 1e6) for i in iterations])\n",
    "mean = np.mean(res)\n",
    "sigma = np.var(res)\n",
    "ax.scatter(iterations, res, s=lw*5)\n",
    "ax.axhline(np.mean(res), lw=lw, color='r')\n",
    "ax.set_xlim(min(iterations), max(iterations))\n",
    "# ax.set_ylim(0., 0.03)\n",
    "ax.set_xscale('linear')\n",
    "ax.set_yscale('linear')\n",
    "ax.set_xlabel(r'$Iteration$', fontsize=fontsize)\n",
    "ax.set_ylabel(r'$Unweighted\\;Photons$', fontsize=fontsize)\n",
    "ax.tick_params(axis = 'both', which = 'major', labelsize=fontsize, direction='in')\n",
    "ax.tick_params(axis = 'both', which = 'minor', labelsize=fontsize, direction='in')\n",
    "plt.grid(True)\n",
    "plt.show()"
   ]
  },
  {
   "cell_type": "code",
   "execution_count": 9,
   "metadata": {},
   "outputs": [
    {
     "data": {
      "image/png": "[encoded data removed]",
      "text/plain": [
       "<Figure size 432x324 with 1 Axes>"
      ]
     },
     "metadata": {
      "needs_background": "light"
     },
     "output_type": "display_data"
    }
   ],
   "source": [
    "# Energy distributions\n",
    "figure, ax = plt.subplots(figsize=(std_size, std_size * 6. / 8.))\n",
    "mean = np.array([\n",
    "    np.mean(light_yields[:, i])\n",
    "    for i in range(len(distances))\n",
    "])\n",
    "max_var = np.array([\n",
    "    np.max(light_yields[:, i])\n",
    "    for i in range(len(distances))\n",
    "])\n",
    "min_var = np.array([\n",
    "    np.min(light_yields[:, i])\n",
    "    for i in range(len(distances))\n",
    "])\n",
    "ax.plot(distances, mean, lw=lw, color='k')\n",
    "ax.fill_between(distances, min_var, max_var, color='purple', alpha=0.5)\n",
    "ax.set_xlim(1e0, 1e3)\n",
    "ax.set_ylim(1e-4, 1e4)\n",
    "ax.set_xscale('log')\n",
    "ax.set_yscale('log')\n",
    "ax.set_xlabel(r'$Distance\\;[\\mathrm{m}]$', fontsize=fontsize)\n",
    "ax.set_ylabel(r'$Unweighted\\;Photons$', fontsize=fontsize)\n",
    "ax.tick_params(axis = 'both', which = 'major', labelsize=fontsize, direction='in')\n",
    "ax.tick_params(axis = 'both', which = 'minor', labelsize=fontsize, direction='in')\n",
    "plt.grid(True)\n",
    "plt.show()"
   ]
  },
  {
   "cell_type": "code",
   "execution_count": null,
   "metadata": {},
   "outputs": [],
   "source": []
  }
 ],
 "metadata": {
  "kernelspec": {
   "display_name": "Python 3",
   "language": "python",
   "name": "python3"
  },
  "language_info": {
   "codemirror_mode": {
    "name": "ipython",
    "version": 3
   },
   "file_extension": ".py",
   "mimetype": "text/x-python",
   "name": "python",
   "nbconvert_exporter": "python",
   "pygments_lexer": "ipython3",
   "version": "3.7.4"
  }
 },
 "nbformat": 4,
 "nbformat_minor": 2
}
