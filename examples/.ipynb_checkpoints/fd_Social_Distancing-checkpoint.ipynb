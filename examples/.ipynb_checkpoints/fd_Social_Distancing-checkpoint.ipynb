{
 "cells": [
  {
   "cell_type": "code",
   "execution_count": 1,
   "metadata": {},
   "outputs": [
    {
     "data": {
      "text/plain": [
       "'\\nName: fd_Social_Distancing.ipynb\\nAuthors: Stephan Meighen-Berger, Martina Karl\\nExample how to use fourth_day with social distancing\\n'"
      ]
     },
     "execution_count": 1,
     "metadata": {},
     "output_type": "execute_result"
    }
   ],
   "source": [
    "\"\"\"\n",
    "Name: fd_Social_Distancing.ipynb\n",
    "Authors: Stephan Meighen-Berger, Martina Karl\n",
    "Example how to use fourth_day with social distancing\n",
    "\"\"\""
   ]
  },
  {
   "cell_type": "code",
   "execution_count": 2,
   "metadata": {},
   "outputs": [],
   "source": [
    "# General imports\n",
    "import numpy as np\n",
    "import matplotlib.pyplot as plt\n",
    "import sys\n",
    "from tqdm import tqdm"
   ]
  },
  {
   "cell_type": "code",
   "execution_count": 3,
   "metadata": {},
   "outputs": [],
   "source": [
    "# Latex text rendering\n",
    "from matplotlib import rc\n",
    "rc('font',**{'family':'sans-serif','sans-serif':['Helvetica']})\n",
    "rc('text', usetex=True)"
   ]
  },
  {
   "cell_type": "code",
   "execution_count": 4,
   "metadata": {},
   "outputs": [],
   "source": [
    "# Adding path to module\n",
    "sys.path.append(\"../core/\")"
   ]
  },
  {
   "cell_type": "code",
   "execution_count": 5,
   "metadata": {},
   "outputs": [],
   "source": [
    "# Module imports\n",
    "from fourth_day import FD\n",
    "from fd_config import config"
   ]
  },
  {
   "cell_type": "code",
   "execution_count": 6,
   "metadata": {},
   "outputs": [],
   "source": [
    "# Creating a fourth_day object\n",
    "fd = FD(org_filter='generous')"
   ]
  },
  {
   "cell_type": "code",
   "execution_count": 7,
   "metadata": {},
   "outputs": [],
   "source": [
    "# Launching solver\n",
    "seconds = 10000\n",
    "pop = 3000\n",
    "infected=5"
   ]
  },
  {
   "cell_type": "code",
   "execution_count": 8,
   "metadata": {},
   "outputs": [],
   "source": [
    "# Plotting standards\n",
    "std_size = 10.\n",
    "fontsize = 20.\n",
    "lw=3.\n",
    "h_length=1.5"
   ]
  },
  {
   "cell_type": "code",
   "execution_count": null,
   "metadata": {},
   "outputs": [
    {
     "name": "stderr",
     "output_type": "stream",
     "text": [
      "../core\\fd_roll_dice_social.py:285: RuntimeWarning: invalid value encountered in double_scalars\n",
      "  (np.linalg.norm(new_vec) * np.linalg.norm(current_vec))\n"
     ]
    }
   ],
   "source": [
    "res_store = []\n",
    "mean_vel = [1., 1.5, 2.]\n",
    "for i in range(3):\n",
    "    res_store.append(fd.solve(pop, mean_vel[i], 2., None, seconds=seconds, vel_var=1., dist_var=1., infected=10))"
   ]
  },
  {
   "cell_type": "code",
   "execution_count": null,
   "metadata": {},
   "outputs": [],
   "source": [
    "# Binning function\n",
    "def binning(array, s_bin=10):\n",
    "    return np.array([\n",
    "        np.sum(array[i*s_bin:(i+1)*s_bin])\n",
    "        for i in range(int(len(array)/s_bin))\n",
    "    ])"
   ]
  },
  {
   "cell_type": "code",
   "execution_count": null,
   "metadata": {},
   "outputs": [],
   "source": [
    "# Binning\n",
    "bin_size = 100\n",
    "res_binned = np.array([\n",
    "    binning(np.sum(res_store[i], axis=1), s_bin=bin_size)\n",
    "    for i in range(len(res_store))\n",
    "])"
   ]
  },
  {
   "cell_type": "code",
   "execution_count": null,
   "metadata": {},
   "outputs": [],
   "source": [
    "# Custom function\n",
    "def smooth(y, box_pts):\n",
    "    box = np.ones(box_pts)/box_pts\n",
    "    y_smooth = np.convolve(y, box, mode='same')\n",
    "    return y_smooth"
   ]
  },
  {
   "cell_type": "code",
   "execution_count": null,
   "metadata": {},
   "outputs": [],
   "source": [
    "from scipy.signal import savgol_filter\n",
    "res_smoothed = np.array([\n",
    "    savgol_filter(res_binned[i], 31, 3)\n",
    "    for i in range(len(res_binned))\n",
    "])"
   ]
  },
  {
   "cell_type": "code",
   "execution_count": null,
   "metadata": {},
   "outputs": [],
   "source": [
    "# Energy distributions\n",
    "figure, ax = plt.subplots(figsize=(std_size, std_size * 6. / 8.))\n",
    "colors = ['#fdcc8a',\n",
    "          '#fc8d59',\n",
    "          '#d7301f']\n",
    "for i, _ in enumerate(mean_vel):\n",
    "    ax.errorbar(\n",
    "        fd.t[::bin_size], \n",
    "        res_binned[i],\n",
    "        yerr=np.sqrt(res_binned[i]),\n",
    "        fmt='o',\n",
    "        markersize=lw, color=colors[i],\n",
    "        alpha=0.5,\n",
    "        label=r'$v_{social} = %.1f$' %mean_vel[i]\n",
    "    )\n",
    "    ax.plot(\n",
    "        fd.t[::bin_size], \n",
    "        res_smoothed[i],\n",
    "        lw=lw, color=colors[i],\n",
    "    )\n",
    "ax.set_xlim(1e0, 4000)\n",
    "ax.set_ylim(0., 200)\n",
    "ax.set_xscale('linear')\n",
    "ax.set_yscale('linear')\n",
    "ax.set_xlabel(r'$t$', fontsize=fontsize)\n",
    "ax.set_ylabel(r'$Infections$', fontsize=fontsize)\n",
    "ax.tick_params(axis = 'both', which = 'major', labelsize=fontsize, direction='in')\n",
    "ax.tick_params(axis = 'both', which = 'minor', labelsize=fontsize, direction='in')\n",
    "plt.grid(True)\n",
    "h, l = ax.get_legend_handles_labels()\n",
    "lgd1 = ax.legend(h,l, loc=9, bbox_to_anchor=(0.8, +1.),\n",
    "                 ncol=1, fontsize=fontsize, handlelength=h_length,\n",
    "                 fancybox=True, frameon=True)\n",
    "ax.add_artist(lgd1)\n",
    "plt.show()"
   ]
  },
  {
   "cell_type": "code",
   "execution_count": null,
   "metadata": {},
   "outputs": [],
   "source": [
    "# figure.savefig(\"C:\\\\Users\\\\steph\\\\OneDrive\\\\University TUM\\\\PhD\\\\Plots\\\\Biolumi\\\\MC_Social_Rate_pop_2000_infected_5.png\",\n",
    "#                bbox_inches='tight')"
   ]
  },
  {
   "cell_type": "code",
   "execution_count": null,
   "metadata": {},
   "outputs": [],
   "source": [
    "\"\"\"\n",
    "# Animation stack\n",
    "# This requires \"save population\" in config to be set to true\n",
    "fontsize = 15.\n",
    "import matplotlib.colors as colors\n",
    "# The frames are created in a loop\n",
    "cmap = plt.cm.viridis\n",
    "norm = colors.Normalize(vmin=0., vmax=1.)\n",
    "for i, _ in tqdm(enumerate(fd.t)):\n",
    "    figure = plt.figure(figsize=(std_size, std_size * 6. / 8.))\n",
    "    ax = figure.add_subplot(111)\n",
    "    ax.scatter(fd.mc_run.distribution[i][:,0], fd.mc_run.distribution[i][:,1],\n",
    "               color=cmap(norm(fd.mc_run.distribution[i][:,-1])),\n",
    "               s=50.\n",
    "               )\n",
    "    ax.title=ax.set_title('Population t = %.f' %fd.t[i], fontsize=fontsize)\n",
    "    ax.set_xlim(-fd.world.bounding_box/2, fd.world.bounding_box/2)\n",
    "    ax.set_ylim(-fd.world.bounding_box/2, fd.world.bounding_box/2)\n",
    "    ax.set_xlabel(r'$X$', fontsize=fontsize)\n",
    "    ax.set_ylabel(r'$Y$', fontsize=fontsize)\n",
    "    ax.tick_params(axis = 'both', which = 'major', labelsize=fontsize)\n",
    "    ax.tick_params(axis = 'both', which = 'minor', labelsize=fontsize)\n",
    "    figure.savefig('C:\\\\Users\\\\steph\\\\OneDrive\\\\University TUM\\\\PhD\\\\Plots\\\\Biolumi\\\\Frames\\\\frame_%d.png' %i)\n",
    "    plt.close(figure)\n",
    "import imageio\n",
    "images = []\n",
    "filenames = np.array([\n",
    "    'C:\\\\Users\\\\steph\\\\OneDrive\\\\University TUM\\\\PhD\\\\Plots\\\\Biolumi\\\\Frames\\\\frame_%d.png' %i\n",
    "    for i in range(len(fd.t))\n",
    "])\n",
    "for filename in filenames:\n",
    "    images.append(imageio.imread(filename))\n",
    "imageio.mimsave('C:\\\\Users\\\\steph\\\\OneDrive\\\\University TUM\\\\PhD\\\\Plots\\\\Biolumi\\\\Social_Distancing.gif',\n",
    "                images, duration=0.1)\n",
    "\"\"\""
   ]
  },
  {
   "cell_type": "code",
   "execution_count": null,
   "metadata": {},
   "outputs": [],
   "source": []
  }
 ],
 "metadata": {
  "kernelspec": {
   "display_name": "Python 3",
   "language": "python",
   "name": "python3"
  },
  "language_info": {
   "codemirror_mode": {
    "name": "ipython",
    "version": 3
   },
   "file_extension": ".py",
   "mimetype": "text/x-python",
   "name": "python",
   "nbconvert_exporter": "python",
   "pygments_lexer": "ipython3",
   "version": "3.7.4"
  }
 },
 "nbformat": 4,
 "nbformat_minor": 2
}
