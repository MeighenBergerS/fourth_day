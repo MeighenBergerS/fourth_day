{
 "cells": [
  {
   "cell_type": "code",
   "execution_count": 1,
   "metadata": {},
   "outputs": [
    {
     "data": {
      "text/plain": [
       "'\\nName: fd_MC.ipynb\\nAuthors: Stephan Meighen-Berger, Martina Karl\\nExample for the MC method runs\\n'"
      ]
     },
     "execution_count": 1,
     "metadata": {},
     "output_type": "execute_result"
    }
   ],
   "source": [
    "\"\"\"\n",
    "Name: fd_MC.ipynb\n",
    "Authors: Stephan Meighen-Berger, Martina Karl\n",
    "Example for the MC method runs\n",
    "\"\"\""
   ]
  },
  {
   "cell_type": "code",
   "execution_count": 2,
   "metadata": {},
   "outputs": [],
   "source": [
    "# General imports\n",
    "import numpy as np\n",
    "import matplotlib.pyplot as plt\n",
    "import sys\n",
    "from tqdm import tqdm"
   ]
  },
  {
   "cell_type": "code",
   "execution_count": 3,
   "metadata": {},
   "outputs": [],
   "source": [
    "# Latex text rendering\n",
    "from matplotlib import rc\n",
    "rc('font',**{'family':'sans-serif','sans-serif':['Helvetica']})\n",
    "rc('text', usetex=True)"
   ]
  },
  {
   "cell_type": "code",
   "execution_count": 4,
   "metadata": {},
   "outputs": [],
   "source": [
    "# Adding path to module\n",
    "sys.path.append(\"../core/\")"
   ]
  },
  {
   "cell_type": "code",
   "execution_count": 5,
   "metadata": {},
   "outputs": [],
   "source": [
    "# Module imports\n",
    "from fourth_day import FD\n",
    "from fd_config import config"
   ]
  },
  {
   "cell_type": "code",
   "execution_count": 6,
   "metadata": {},
   "outputs": [],
   "source": [
    "# Creating a fourth_day object\n",
    "fd = FD(org_filter='generous')"
   ]
  },
  {
   "cell_type": "code",
   "execution_count": 7,
   "metadata": {},
   "outputs": [
    {
     "name": "stderr",
     "output_type": "stream",
     "text": [
      "../core\\fd_roll_dice.py:315: RuntimeWarning: invalid value encountered in double_scalars\n",
      "  (np.linalg.norm(new_vec) * np.linalg.norm(current_vec))\n"
     ]
    }
   ],
   "source": [
    "# Launching solver\n",
    "seconds = 100\n",
    "pop = 100\n",
    "results, results_enc, results_shear = fd.solve(pop, 5., [0.], 1., seconds=seconds, regen=1e-4)"
   ]
  },
  {
   "cell_type": "code",
   "execution_count": 8,
   "metadata": {},
   "outputs": [],
   "source": [
    "# Plotting standards\n",
    "std_size = 10.\n",
    "fontsize = 20.\n",
    "lw=3.\n",
    "h_length=1.5"
   ]
  },
  {
   "cell_type": "code",
   "execution_count": null,
   "metadata": {},
   "outputs": [],
   "source": [
    "# Energy distributions\n",
    "figure, ax = plt.subplots(figsize=(std_size, std_size * 6. / 8.))\n",
    "ax.scatter(fd.t, results[0], s=lw*30, color='k', label=r'$Total$ $incl.$ $Regen$')\n",
    "ax.scatter(fd.t, results_enc[0], s=lw*30, color='r', label=r'$Encounter$', marker=\"+\")\n",
    "ax.scatter(fd.t, results_shear[0], s=lw*30, color='b', label=r'$Shear$', marker=\"x\")\n",
    "ax.set_xlim(1e0, max(fd.t))\n",
    "ax.set_ylim(1e-6, 1e3)\n",
    "ax.set_xscale('linear')\n",
    "ax.set_yscale('log')\n",
    "ax.set_xlabel(r'$t\\;[s]$', fontsize=fontsize)\n",
    "ax.set_ylabel(r'$Unweighted\\;Photons$', fontsize=fontsize)\n",
    "ax.tick_params(axis = 'both', which = 'major', labelsize=fontsize, direction='in')\n",
    "ax.tick_params(axis = 'both', which = 'minor', labelsize=fontsize, direction='in')\n",
    "plt.grid(True)\n",
    "h, l = ax.get_legend_handles_labels()\n",
    "lgd1 = ax.legend(h[:2],l[:2], loc=9, bbox_to_anchor=(0.5, +1.1),\n",
    "                 ncol=2, fontsize=fontsize, handlelength=h_length,\n",
    "                 fancybox=True, frameon=False)\n",
    "lgd2 = ax.legend(h[2:],l[2:], loc=9, bbox_to_anchor=(0.5, +1.2),\n",
    "                 ncol=2, fontsize=fontsize, handlelength=h_length,\n",
    "                 fancybox=True, frameon=False)\n",
    "ax.add_artist(lgd1)\n",
    "plt.show()"
   ]
  },
  {
   "cell_type": "code",
   "execution_count": null,
   "metadata": {},
   "outputs": [],
   "source": [
    "# figure.savefig(\"C:\\\\Users\\\\steph\\\\Desktop\\\\MC_Example.png\",\n",
    "#                bbox_inches='tight')"
   ]
  },
  {
   "cell_type": "code",
   "execution_count": null,
   "metadata": {},
   "outputs": [],
   "source": [
    "figure = plt.figure()\n",
    "ax = figure.add_subplot(111)\n",
    "im, = ax.plot(fd.mc_run.distribution[0][:,0], fd.mc_run.distribution[0][:,1],\n",
    "              linestyle='', marker='o')\n",
    "im, = ax.plot(fd.mc_run.distribution[0][:,0], fd.mc_run.distribution[0][:,2],\n",
    "              linestyle='', marker='o')\n",
    "im, = ax.plot(fd.mc_run.distribution[0][:,1], fd.mc_run.distribution[0][:,2],\n",
    "              linestyle='', marker='o')\n",
    "ax.set_xlim(-fd.world.bounding_box/2, fd.world.bounding_box/2)\n",
    "ax.set_ylim(-fd.world.bounding_box/2, fd.world.bounding_box/2)"
   ]
  },
  {
   "cell_type": "code",
   "execution_count": null,
   "metadata": {},
   "outputs": [],
   "source": [
    "from mpl_toolkits.mplot3d import Axes3D\n",
    "figure = plt.figure()\n",
    "ax = figure.add_subplot(111, projection='3d')\n",
    "im, = ax.plot(fd.mc_run.distribution[0][:,0],\n",
    "              fd.mc_run.distribution[0][:,1],\n",
    "              fd.mc_run.distribution[0][:,2],\n",
    "              linestyle='', marker='o')\n",
    "ax.set_xlim(-fd.world.bounding_box/2, fd.world.bounding_box/2)\n",
    "ax.set_ylim(-fd.world.bounding_box/2, fd.world.bounding_box/2)\n",
    "ax.set_zlim(-fd.world.bounding_box/2, fd.world.bounding_box/2)"
   ]
  },
  {
   "cell_type": "code",
   "execution_count": null,
   "metadata": {},
   "outputs": [],
   "source": [
    "\"\"\"\n",
    "# Animation stack\n",
    "# This requires \"save population\" in config to be set to true\n",
    "fontsize = 15.\n",
    "import matplotlib.colors as colors\n",
    "from mpl_toolkits.mplot3d import Axes3D\n",
    "# The frames are created in a loop\n",
    "cmap = plt.cm.inferno\n",
    "norm = colors.Normalize(vmin=0., vmax=1.)\n",
    "for i, _ in tqdm(enumerate(fd.t)):\n",
    "    figure = plt.figure(figsize=(std_size, std_size * 6. / 8.))\n",
    "    ax = figure.add_subplot(111, projection='3d')\n",
    "    ax.scatter(fd.mc_run.distribution[i][:,0], fd.mc_run.distribution[i][:,1], fd.mc_run.distribution[i][:,2],\n",
    "               color=cmap(norm(fd.mc_run.distribution[i][:,-1] / fd.mc_run.distribution[i][:,-2])),\n",
    "               s=50.\n",
    "               )\n",
    "    ax.title=ax.set_title('Population t = %.f s' %fd.t[i], fontsize=fontsize)\n",
    "    ax.set_xlim(-fd.world.bounding_box/2, fd.world.bounding_box/2)\n",
    "    ax.set_ylim(-fd.world.bounding_box/2, fd.world.bounding_box/2)\n",
    "    ax.set_zlim(-fd.world.bounding_box/2, fd.world.bounding_box/2)\n",
    "    ax.set_xlabel(r'$X\\;[\\mathrm{mm}]$', fontsize=fontsize)\n",
    "    ax.set_ylabel(r'$Y\\;[\\mathrm{mm}]$', fontsize=fontsize)\n",
    "    ax.set_zlabel(r'$Z\\;[\\mathrm{mm}]$', fontsize=fontsize)\n",
    "    ax.tick_params(axis = 'both', which = 'major', labelsize=fontsize)\n",
    "    ax.tick_params(axis = 'both', which = 'minor', labelsize=fontsize)\n",
    "    figure.savefig('C:\\\\Users\\\\steph\\\\OneDrive\\\\University TUM\\\\PhD\\\\Plots\\\\Biolumi\\\\Frames\\\\frame_%d.png' %i)\n",
    "    plt.close(figure)\n",
    "import imageio\n",
    "images = []\n",
    "filenames = np.array([\n",
    "    'C:\\\\Users\\\\steph\\\\OneDrive\\\\University TUM\\\\PhD\\\\Plots\\\\Biolumi\\\\Frames\\\\frame_%d.png' %i\n",
    "    for i in range(len(fd.t))\n",
    "])\n",
    "for filename in filenames:\n",
    "    images.append(imageio.imread(filename))\n",
    "imageio.mimsave('C:\\\\Users\\\\steph\\\\OneDrive\\\\University TUM\\\\PhD\\\\Plots\\\\Biolumi\\\\sphere.gif',\n",
    "                images, duration=0.1)\n",
    "\"\"\""
   ]
  },
  {
   "cell_type": "code",
   "execution_count": null,
   "metadata": {},
   "outputs": [],
   "source": []
  }
 ],
 "metadata": {
  "kernelspec": {
   "display_name": "Python 3",
   "language": "python",
   "name": "python3"
  },
  "language_info": {
   "codemirror_mode": {
    "name": "ipython",
    "version": 3
   },
   "file_extension": ".py",
   "mimetype": "text/x-python",
   "name": "python",
   "nbconvert_exporter": "python",
   "pygments_lexer": "ipython3",
   "version": "3.7.4"
  }
 },
 "nbformat": 4,
 "nbformat_minor": 2
}
