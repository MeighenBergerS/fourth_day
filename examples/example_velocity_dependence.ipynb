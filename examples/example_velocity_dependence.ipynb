{
 "cells": [
  {
   "cell_type": "code",
   "execution_count": 1,
   "metadata": {},
   "outputs": [],
   "source": [
    "# Name: example_velocity_dependence.ipynb\n",
    "# Authors: Stephan Meighen-Berger\n",
    "# Studies the velocity dependence of the emissions"
   ]
  },
  {
   "cell_type": "code",
   "execution_count": 14,
   "metadata": {},
   "outputs": [],
   "source": [
    "# General imports\n",
    "import numpy as np\n",
    "import matplotlib.pyplot as plt\n",
    "import sys\n",
    "import pickle\n",
    "from tqdm import tqdm"
   ]
  },
  {
   "cell_type": "code",
   "execution_count": 3,
   "metadata": {},
   "outputs": [],
   "source": [
    "# Adding path to module\n",
    "sys.path.append(\"../\")"
   ]
  },
  {
   "cell_type": "code",
   "execution_count": 4,
   "metadata": {},
   "outputs": [],
   "source": [
    "# picture path\n",
    "PICS = '../pics/'"
   ]
  },
  {
   "cell_type": "code",
   "execution_count": 5,
   "metadata": {},
   "outputs": [],
   "source": [
    "# Module imports\n",
    "from fourth_day import Fourth_Day, config"
   ]
  },
  {
   "cell_type": "code",
   "execution_count": 6,
   "metadata": {},
   "outputs": [],
   "source": [
    "# Scenario Settings\n",
    "# These are general settings pertaining to the simulation run\n",
    "config['scenario']['population size'] = 2  # The starting population size\n",
    "config['scenario']['exclusion'] = True  # If an exclusion zone should be used (the detector)\n",
    "config['scenario']['injection']['y range'] = [0.5 * 15. - 0.15 - 2.5, 0.5 * 15. - 0.15 + 2.5]  # The y-range of injection\n",
    "config['scenario']['light prop'] = {  # Where the emitted light should be propagated to (typically the detector location)\n",
    "            \"switch\": False,  # If light should be propagated\n",
    "            \"x_pos\": 3.,  # The x-coordinates\n",
    "            \"y_pos\": 0.5 * 15. - 0.15,  # The y-coordinates\n",
    "        }\n",
    "config['scenario']['detector'] = {  # detector specific properties, positions are defined as offsets from the light prop values\n",
    "    \"switch\": False,  # If the detector should be modelled\n",
    "    \"type\": \"PMTSpec\",  # Detector name, implemented types are given in the config\n",
    "    \"response\": True,  # If a detector response should be used\n",
    "    \"acceptance\": \"Flat\",  # Flat acceptance\n",
    "    \"mean detection prob\": 0.5  # Used for the acceptance calculation\n",
    "}\n",
    "# ---------------------------------------------\n",
    "# Organisms\n",
    "# Organisms properties are defined here\n",
    "config['organisms']['emission fraction'] = 0.05  # Amount of energy an organism uses per pulse\n",
    "config['organisms']['alpha'] = 1e0  # Proportionality factor for the emission probability\n",
    "config['organisms'][\"minimal shear stress\"] = 0.1  # The minimal amount of shear stress needed to emit (generic units)\n",
    "config[\"organisms\"][\"filter\"] = 'depth'  # Method of filtering organisms (here depth)\n",
    "config[\"organisms\"][\"depth filter\"] = 1000.  # Organisms need to exist below this depth\n",
    "# ---------------------------------------------\n",
    "# Geometry\n",
    "# These settings define the geometry of the system\n",
    "# Typically a box (simulation volume) with a spherical exclusion zone (detector)\n",
    "config['geometry']['volume'] = {\n",
    "    'function': 'rectangle',\n",
    "    'x_length': 30.,\n",
    "    'y_length': 15.,\n",
    "    'offset': None,\n",
    "}\n",
    "# Reduce the observation size to reduce the computational load\n",
    "config['geometry']['observation'] = {\n",
    "    'function': 'rectangle',\n",
    "    'x_length': 30.,\n",
    "    'y_length': 15.,\n",
    "    \"offset\": np.array([0., 0.]),\n",
    "}\n",
    "# The detector volume\n",
    "config['geometry'][\"exclusion\"] = {\n",
    "    \"function\": \"sphere\",\n",
    "    \"radius\": 0.15,\n",
    "    \"x_pos\": 3.,\n",
    "    \"y_pos\": 0.5 * 15. - 0.15,\n",
    "}\n",
    "# ---------------------------------------------\n",
    "# Water\n",
    "# Properties of the current model\n",
    "config['water']['model']['name'] = 'custom'  # Use a custom (non analytic) model\n",
    "config['water']['model']['off set'] = np.array([0., 0.])  # Offset of the custom model"
   ]
  },
  {
   "cell_type": "code",
   "execution_count": 7,
   "metadata": {},
   "outputs": [],
   "source": [
    "# Density function\n",
    "# Converts a given density organisms/m^3 to something usable by Fourth Day\n",
    "def dens2fd(density, ylength, current_velocity):\n",
    "    # Injection density\n",
    "    injection_volume_per_time_step = ylength * current_velocity\n",
    "    org_per_time_step = injection_volume_per_time_step * density\n",
    "    return org_per_time_step"
   ]
  },
  {
   "cell_type": "code",
   "execution_count": 16,
   "metadata": {},
   "outputs": [
    {
     "name": "stderr",
     "output_type": "stream",
     "text": [
      "100%|█████████████████████████████████████████████████████████████████████████████| 100/100 [3:31:00<00:00, 126.60s/it]\n",
      "100%|██████████████████████████████████████████████████████████████████████████████| 100/100 [1:49:04<00:00, 65.44s/it]\n",
      "100%|████████████████████████████████████████████████████████████████████████████████| 100/100 [51:43<00:00, 31.04s/it]\n"
     ]
    }
   ],
   "source": [
    "# The final value is the conversion factor to hours\n",
    "water_models = [\n",
    "    [\"run_2cm_npy/\", 0.02, 5, r'$2\\;\\mathrm{cm/s}$', 'pink', 2.4],\n",
    "    [\"run_5cm_npy/\", 0.05, 2.5, r'$5\\;\\mathrm{cm/s}$', 'purple', 6.],\n",
    "    [\"run_10cm_npy/\", 0.1, 1, r'$10\\;\\mathrm{cm/s}$', 'r', 12.]]  # The arrays in this analysis have differing time steps, for the different velocities\n",
    "model_data = {}\n",
    "for model in water_models:\n",
    "    peak_arr = []\n",
    "    for seed in tqdm(range(100)):\n",
    "        inject_org = dens2fd(1e-1, 5., model[1])\n",
    "        config['general'][\"random state seed\"] = seed  # Seed\n",
    "        config['scenario']['duration'] = int(600 * model[2])  # Total simulation time in seconds\n",
    "        config['scenario']['injection']['rate'] = inject_org  #  Injection rate in per second, a distribution is constructed from this value\n",
    "        config['water']['model']['directory'] = \"../data/current/Parabola_5mm/\" + model[0]  # The files used by the custom model\n",
    "        config['water']['model']['time step'] = model[2]  # in Seconds\n",
    "        # Creating a fourth_day object\n",
    "        # Use this to interact with with the module\n",
    "        fd = Fourth_Day()\n",
    "        # Launching solver\n",
    "        # This might take a while depending on the settings\n",
    "        # Check the log file (standard setting is in the run folder) for the current iteration\n",
    "        fd.sim()\n",
    "        total_flashes = 0.\n",
    "        # Skipping the first cycle\n",
    "        warm_up = int(600 * model[2] / 2)\n",
    "        for stat in fd.statistics[warm_up:]:\n",
    "            total_flashes += np.sum(stat[\"pulse start\"])\n",
    "        peak_arr.append(total_flashes)\n",
    "    peak_arr = np.array(peak_arr)\n",
    "    model_data[model[0]] = peak_arr"
   ]
  },
  {
   "cell_type": "code",
   "execution_count": 32,
   "metadata": {},
   "outputs": [],
   "source": [
    "# Plotting standards\n",
    "std_size = 3.  # Size of the plot\n",
    "fontsize = 10.  # Fontsize in the plot\n",
    "lw=1.  # Linewidth\n",
    "h_length=0.2  # Handle length for the legends\n",
    "export_dpi = 1000  # Dpi for the image export"
   ]
  },
  {
   "cell_type": "code",
   "execution_count": 22,
   "metadata": {},
   "outputs": [],
   "source": [
    "# Font style\n",
    "from matplotlib import rc\n",
    "rc('font',**{'family':'sans-serif','sans-serif':['Helvetica']})\n",
    "rc('text', usetex=True)"
   ]
  },
  {
   "cell_type": "code",
   "execution_count": 41,
   "metadata": {},
   "outputs": [
    {
     "data": {
      "image/png": "[encoded data removed]",
      "text/plain": [
       "<Figure size 216x162 with 1 Axes>"
      ]
     },
     "metadata": {
      "needs_background": "light"
     },
     "output_type": "display_data"
    }
   ],
   "source": [
    "# Plot figure with subplots of different sizes\n",
    "fig, ax1 = plt.subplots(1, 1, figsize=(std_size, std_size * 6. / 8.), sharex=True)\n",
    "# ---------------------------------------------------------------------------------------------------\n",
    "# The average emissions\n",
    "m_styles = [\"+\", \"^\", \".\"]\n",
    "for id_model, model in enumerate(water_models):\n",
    "    ax1.scatter(\n",
    "        range(100),\n",
    "        model_data[model[0]] * model[5],\n",
    "        # yerr=np.sqrt(model_data[model[0]] * model[5]),\n",
    "        # ls='',\n",
    "        # elinewidth=lw, capsize=10.,\n",
    "        color=model[4], marker=m_styles[id_model])\n",
    "for id_model, model in enumerate(water_models):\n",
    "    ax1.axhline(np.mean(model_data[model[0]] * model[5]), 0., 1.,\n",
    "                color=model[4], lw=lw,\n",
    "                label=(model[3] + r'$:\\; %.1e\\;\\mathrm{h^{-1}}$' % (np.mean(model_data[model[0]] * model[5]))))\n",
    "ax1.set_xscale('linear')\n",
    "ax1.set_yscale('linear')\n",
    "ax1.tick_params(axis = 'both', which = 'major', labelsize=fontsize, direction='in')\n",
    "ax1.tick_params(axis = 'both', which = 'minor', labelsize=fontsize, direction='in')\n",
    "h, l = ax1.get_legend_handles_labels()\n",
    "lgd1 = ax1.legend(h[:2],l[:2], loc=9, bbox_to_anchor=(0.5, +1.3),\n",
    "                  ncol=3, fontsize=fontsize, handlelength=h_length,\n",
    "                  fancybox=True, frameon=False)\n",
    "lgd2 = ax1.legend(h[2:],l[2:], loc=9, bbox_to_anchor=(0.5, +1.2),\n",
    "                  ncol=3, fontsize=fontsize, handlelength=h_length,\n",
    "                  fancybox=True, frameon=False)\n",
    "ax1.add_artist(lgd1)\n",
    "# ---------------------------------------------------------------------------------------------------\n",
    "ax1.set_xlabel(r'$\\mathrm{Run}$', fontsize=fontsize)\n",
    "ax1.set_ylabel(r'$\\mathrm{Flashes}\\;\\left[\\mathrm{h}^{-1}\\right]$', fontsize=fontsize)\n",
    "# ---------------------------------------------------------------------------------------------------\n",
    "# General\n",
    "plt.subplots_adjust(wspace=0, hspace=0)\n",
    "plt.tight_layout()\n",
    "plt.show()\n",
    "fig.savefig(PICS + \"Velocity_Dependence.png\",\n",
    "            bbox_inches='tight', dpi=export_dpi)\n",
    "pickle.dump([water_models, model_data, 50], open(\"../data/storage/vel_plot.p\", \"wb\"))"
   ]
  },
  {
   "cell_type": "code",
   "execution_count": null,
   "metadata": {},
   "outputs": [],
   "source": []
  },
  {
   "cell_type": "code",
   "execution_count": null,
   "metadata": {},
   "outputs": [],
   "source": []
  }
 ],
 "metadata": {
  "kernelspec": {
   "display_name": "Python 3",
   "language": "python",
   "name": "python3"
  },
  "language_info": {
   "codemirror_mode": {
    "name": "ipython",
    "version": 3
   },
   "file_extension": ".py",
   "mimetype": "text/x-python",
   "name": "python",
   "nbconvert_exporter": "python",
   "pygments_lexer": "ipython3",
   "version": "3.7.6"
  }
 },
 "nbformat": 4,
 "nbformat_minor": 2
}
