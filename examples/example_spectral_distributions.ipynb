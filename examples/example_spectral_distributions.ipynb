{
 "cells": [
  {
   "cell_type": "code",
   "execution_count": 1,
   "metadata": {},
   "outputs": [],
   "source": [
    "# Name: example_spectral_distributions.ipynb\n",
    "# Authors: Stephan Meighen-Berger\n",
    "# Plots the spectral distributions of the different species"
   ]
  },
  {
   "cell_type": "code",
   "execution_count": 2,
   "metadata": {},
   "outputs": [],
   "source": [
    "# General imports\n",
    "import numpy as np\n",
    "import matplotlib.pyplot as plt\n",
    "import sys"
   ]
  },
  {
   "cell_type": "code",
   "execution_count": 3,
   "metadata": {},
   "outputs": [],
   "source": [
    "# Adding path to module\n",
    "sys.path.append(\"../\")"
   ]
  },
  {
   "cell_type": "code",
   "execution_count": 4,
   "metadata": {},
   "outputs": [],
   "source": [
    "# picture path\n",
    "PICS = '../pics/'"
   ]
  },
  {
   "cell_type": "code",
   "execution_count": 5,
   "metadata": {},
   "outputs": [],
   "source": [
    "# Module imports\n",
    "from fourth_day import Fourth_Day, config"
   ]
  },
  {
   "cell_type": "code",
   "execution_count": 6,
   "metadata": {},
   "outputs": [],
   "source": [
    "# Creating a fourth_day object\n",
    "config[\"organisms\"][\"filter\"] = \"depth\"\n",
    "config[\"organisms\"][\"depth filter\"] = 1000\n",
    "fd = Fourth_Day()"
   ]
  },
  {
   "cell_type": "code",
   "execution_count": 7,
   "metadata": {},
   "outputs": [],
   "source": [
    "# Plotting font\n",
    "from matplotlib import rc\n",
    "rc('font',**{'family':'sans-serif','sans-serif':['Helvetica']})\n",
    "rc('text', usetex=True)"
   ]
  },
  {
   "cell_type": "code",
   "execution_count": 8,
   "metadata": {},
   "outputs": [],
   "source": [
    "# Plotting standards\n",
    "std_size = 3.  # The plot size\n",
    "fontsize = 10. # The font size\n",
    "lw=1.5  # The line width"
   ]
  },
  {
   "cell_type": "code",
   "execution_count": 9,
   "metadata": {},
   "outputs": [
    {
     "data": {
      "image/png": "[encoded data removed]",
      "text/plain": [
       "<Figure size 216x162 with 1 Axes>"
      ]
     },
     "metadata": {
      "needs_background": "light"
     },
     "output_type": "display_data"
    }
   ],
   "source": [
    "# ---------------------------------------------\n",
    "# The nm range to use in the plot\n",
    "nm_range = np.linspace(350., 600., 1000)\n",
    "# ---------------------------------------------\n",
    "# The actual plot\n",
    "figure, (ax1) = plt.subplots(1, 1, figsize=(std_size, std_size * 6. / 8.), sharex=True)\n",
    "# Fetching the pdfs for every species used in this simulation\n",
    "for species in fd._life.Light_pdfs.keys():\n",
    "    # Plotting their corresponding emission pdf\n",
    "    ax1.plot(nm_range,\n",
    "             fd._life.Light_pdfs[species].pdf(nm_range), color='grey', lw=lw)\n",
    "# ---------------------------------------------\n",
    "# Additional plotting optins\n",
    "ax1.axvline(420, ls='--', lw=lw, color='r')\n",
    "ax1.set_xscale('linear')\n",
    "ax1.set_yscale('linear')\n",
    "ax1.text(340, 0.062, r\"$\\mathrm{Cherenkov}$\", fontsize=fontsize, color='r')\n",
    "ax1.text(364, 0.056, r\"$\\mathrm{Peak}$\", fontsize=fontsize, color='r')\n",
    "ax1.set_xlabel(r'$\\lambda\\;\\mathrm{[nm]}$', fontsize=fontsize)\n",
    "ax1.set_ylabel(r'$PDF$', fontsize=fontsize)\n",
    "ax1.tick_params(axis = 'both', which = 'major', labelsize=fontsize, direction='in')\n",
    "ax1.tick_params(axis = 'both', which = 'minor', labelsize=fontsize, direction='in')\n",
    "plt.tight_layout()\n",
    "plt.show()\n",
    "# ---------------------------------------------\n",
    "# Saving the figure\n",
    "figure.savefig(PICS + \"Spectral_Distribution.png\",\n",
    "               bbox_inches='tight')"
   ]
  },
  {
   "cell_type": "code",
   "execution_count": null,
   "metadata": {},
   "outputs": [],
   "source": []
  }
 ],
 "metadata": {
  "kernelspec": {
   "display_name": "Python 3",
   "language": "python",
   "name": "python3"
  },
  "language_info": {
   "codemirror_mode": {
    "name": "ipython",
    "version": 3
   },
   "file_extension": ".py",
   "mimetype": "text/x-python",
   "name": "python",
   "nbconvert_exporter": "python",
   "pygments_lexer": "ipython3",
   "version": "3.7.6"
  }
 },
 "nbformat": 4,
 "nbformat_minor": 2
}
