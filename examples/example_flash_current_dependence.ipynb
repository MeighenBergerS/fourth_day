{
 "cells": [
  {
   "cell_type": "code",
   "execution_count": 1,
   "metadata": {},
   "outputs": [],
   "source": [
    "# Name: example_flash_current_dependence.ipynb\n",
    "# Authors: Stephan Meighen-Berger\n",
    "# Example how to check the possible pulse shape changes due to detector positioning and water currents.\n",
    "# For a proper analysis we recommend to run the simulation with only a single organism type.\n",
    "# The easiest way to set this up, is to define a custom organism in the life files with some absurd depth\n",
    "# and then filter out anything above this depth"
   ]
  },
  {
   "cell_type": "code",
   "execution_count": 2,
   "metadata": {},
   "outputs": [],
   "source": [
    "# General imports\n",
    "import numpy as np\n",
    "import matplotlib.pyplot as plt\n",
    "import sys\n",
    "import pandas as pd\n",
    "import imageio\n",
    "from tqdm import tqdm\n",
    "import pickle"
   ]
  },
  {
   "cell_type": "code",
   "execution_count": 3,
   "metadata": {},
   "outputs": [],
   "source": [
    "# Adding path to module\n",
    "sys.path.append(\"../\")"
   ]
  },
  {
   "cell_type": "code",
   "execution_count": 4,
   "metadata": {},
   "outputs": [],
   "source": [
    "from matplotlib import rc\n",
    "rc('font',**{'family':'sans-serif','sans-serif':['Helvetica']})\n",
    "## for Palatino and other serif fonts use:\n",
    "#rc('font',**{'family':'serif','serif':['Palatino']})\n",
    "rc('text', usetex=True)"
   ]
  },
  {
   "cell_type": "code",
   "execution_count": 5,
   "metadata": {},
   "outputs": [],
   "source": [
    "# picture path\n",
    "PICS = '../pics/'"
   ]
  },
  {
   "cell_type": "code",
   "execution_count": 6,
   "metadata": {},
   "outputs": [],
   "source": [
    "# Module imports\n",
    "from fourth_day import Fourth_Day, config"
   ]
  },
  {
   "cell_type": "code",
   "execution_count": 7,
   "metadata": {},
   "outputs": [],
   "source": [
    "# Some example settings\n",
    "config['scenario']['population size'] = 100\n",
    "config['scenario']['duration'] = 6000\n",
    "config['scenario']['organism movement'] = False\n",
    "config['scenario']['exclusion'] = True\n",
    "config['scenario']['injection']['rate'] = 1\n",
    "config['scenario']['injection']['y range'] = [0., 10.]\n",
    "config['scenario']['light prop'] = {\n",
    "            \"switch\": True,\n",
    "            \"x_pos\": 5.,\n",
    "            \"y_pos\": 10.,\n",
    "        }\n",
    "config['scenario']['detector'] = {\n",
    "    \"switch\": True,\n",
    "    \"type\": \"Custom\",\n",
    "    \"response\": True,\n",
    "    \"acceptance\": \"Flat\",\n",
    "    \"mean detection prob\": 0.5\n",
    "}\n",
    "# Organisms \n",
    "config['organisms']['emission fraction'] = 0.1\n",
    "config['organisms']['alpha'] = 2.\n",
    "config['organisms']['photon yield'] = 1e10\n",
    "config[\"organisms\"][\"filter\"] = 'depth'\n",
    "config[\"organisms\"][\"depth filter\"] = 100000  # Note the absurd depth. This is used to exclusively simulate custom organisms\n",
    "# Geometry\n",
    "config['geometry']['volume'] = {\n",
    "    'function': 'rectangle',\n",
    "    'x_length': 26.,\n",
    "    'y_length': 10.,\n",
    "    'offset': None,\n",
    "}\n",
    "config['geometry']['observation'] = {\n",
    "    'function': 'rectangle',\n",
    "    'x_length': 26.,\n",
    "    'y_length': 10.,\n",
    "    \"offset\": np.array([0., 0.]),\n",
    "}\n",
    "config['geometry'][\"exclusion\"] = {\n",
    "    \"function\": \"sphere\",\n",
    "    \"radius\": 0.15,\n",
    "    \"x_pos\": 2.,\n",
    "    \"y_pos\": 5.,\n",
    "}\n",
    "# Water\n",
    "config['water']['model']['name'] = 'custom' # 'potential cylinder'\n",
    "config['water']['model']['directory'] = \"../data/current/Long_run_corr/\"\n",
    "config['water']['model']['time step'] = 0.1\n",
    "config['advanced']['starting step'] = 0\n",
    "# Detector\n",
    "config[\"geometry\"][\"detector properties\"][\"Custom\"] = {\n",
    "    \"x_pos\": 2.,\n",
    "    \"y_pos\": 5.,\n",
    "    \"det num\": 12, #12 pmts numbered by position \n",
    "    \"x_offsets\": np.array(\n",
    "        [0.1,0.,-0.1,0., 0.12,-0.12,-0.12,0.12, 0.2,-0.04,-0.2,0.04]\n",
    "    ) / 2., #test radius 0.3 meter, real radius 0.15 meter\n",
    "    \"y_offsets\": np.array(\n",
    "        [0.,0.1,0.,-0.1,  0.12,0.12,-0.12,-0.12, 0.04,0.2,-0.04,-0.2]\n",
    "    ) / 2.,\n",
    "    \"angle offset\": 0.,  # In which direction the detector points\n",
    "    \"opening angle\": 25.,  # 25., # from dark box rotation test result: +-25 degrees\n",
    "    \"wavelength acceptance\": [ #position number,center wavelength,quantum efficiency\n",
    "        [395., 405.,0.26], #0,400\n",
    "        [505., 515.,0.16], #1,510\n",
    "        [420., 430.,0.28], #2,425\n",
    "        [465., 475.,0.23], #3,470\n",
    "        [300., 600.,1.], #4,no filter\n",
    "        [487., 497.,0.1], #5,492\n",
    "        [540., 560.,0.1], #6,550\n",
    "        [515., 535.,0.13], #7,525\n",
    "        [475., 485.,0.2], #8,480\n",
    "        [445., 455.,0.2], #9,450\n",
    "        [455., 465.,0.23], #10,460\n",
    "        [325., 375.,0.3], #11,350                                     \n",
    "    ],\n",
    "}"
   ]
  },
  {
   "cell_type": "code",
   "execution_count": 8,
   "metadata": {},
   "outputs": [],
   "source": [
    "# Which detectors we want to use for the analysis\n",
    "wavelengths = {\n",
    "    \"Detector 1\": [\"1\", \"#4575b4\"],\n",
    "    \"Detector 5\": [\"2\", \"#91bfdb\"],\n",
    "    \"Detector 8\": [\"3\", \"#e0f3f8\"],\n",
    "    \"Detector 3\": [\"4\", \"#fee090\"],\n",
    "    \"Detector 10\": [\"5\", \"#fc8d59\"],\n",
    "}"
   ]
  },
  {
   "cell_type": "code",
   "execution_count": 9,
   "metadata": {},
   "outputs": [],
   "source": [
    "# Launching multiple simulations to use in the analysis\n",
    "seed = 1337\n",
    "# General\n",
    "config[\"general\"][\"random state seed\"] = seed\n",
    "# Creating a fourth_day object\n",
    "fd = Fourth_Day()"
   ]
  },
  {
   "cell_type": "code",
   "execution_count": 10,
   "metadata": {},
   "outputs": [
    {
     "name": "stdout",
     "output_type": "stream",
     "text": [
      "[-12.5, 12.5]\n"
     ]
    }
   ],
   "source": [
    "# Launching solver\n",
    "fd.sim()"
   ]
  },
  {
   "cell_type": "code",
   "execution_count": 11,
   "metadata": {},
   "outputs": [],
   "source": [
    "# Fetching relevant data\n",
    "# Totals\n",
    "totals = fd.measured[\"Detector 1\"].values\n",
    "for detector in wavelengths.keys():\n",
    "    if detector == \"Detector 1\":\n",
    "        continue\n",
    "    fd.measured[detector].values\n",
    "    totals += fd.measured[detector].values"
   ]
  },
  {
   "cell_type": "code",
   "execution_count": 12,
   "metadata": {},
   "outputs": [],
   "source": [
    "# Pre-processing results\n",
    "# Depending on the setup these values do need to be changed\n",
    "totals = totals  # The simulation has a \"warm-up\" phase. This depends on the water current. One cycle is recommended\n",
    "totals[totals < 1e2] = 0.  # Depending on the setup the cut-off needs to be lowered or increased"
   ]
  },
  {
   "cell_type": "code",
   "execution_count": 13,
   "metadata": {},
   "outputs": [],
   "source": [
    "# Smoothing function for plotting\n",
    "def smooth(y, box_pts):\n",
    "    box = np.ones(box_pts)/box_pts\n",
    "    y_smooth = np.convolve(y, box, mode='same')\n",
    "    return y_smooth"
   ]
  },
  {
   "cell_type": "code",
   "execution_count": 14,
   "metadata": {},
   "outputs": [],
   "source": [
    "# Plotting standards\n",
    "std_size = 3.\n",
    "fontsize = 10.\n",
    "lw=1.\n",
    "h_length=0.2"
   ]
  },
  {
   "cell_type": "code",
   "execution_count": 24,
   "metadata": {},
   "outputs": [
    {
     "name": "stdout",
     "output_type": "stream",
     "text": [
      "27\n"
     ]
    },
    {
     "data": {
      "image/png": "[encoded data removed]",
      "text/plain": [
       "<Figure size 216x162 with 16 Axes>"
      ]
     },
     "metadata": {},
     "output_type": "display_data"
    }
   ],
   "source": [
    "# Searching for peaks\n",
    "from itertools import groupby\n",
    "peaks = [list(v) for k,v in groupby(totals, key = lambda x: x != 0) if k != 0]\n",
    "number_of_peaks = len(peaks)\n",
    "peak_order = np.arange(len(peaks))\n",
    "print(number_of_peaks)\n",
    "# The appearing pulse shapes\n",
    "figure, axsarr = plt.subplots(4, 4, figsize=(std_size, std_size * 6. / 8.))\n",
    "axsarr = axsarr.ravel()\n",
    "lower_count = 11\n",
    "to_plot = 16\n",
    "for peak_id, peak in enumerate(peaks[lower_count:lower_count+to_plot]):\n",
    "    peak.insert(0, 0.)\n",
    "    peak.append(0.)\n",
    "    axsarr[peak_id].plot(\n",
    "        np.arange(len(peak)) + 10.,\n",
    "        smooth(peak, 1),\n",
    "        lw=lw, color='k')\n",
    "    axsarr[peak_id].set_xscale('linear')\n",
    "    axsarr[peak_id].set_yscale('log')\n",
    "    # ax1.set_xlabel(r'$\\mathrm{t}\\;[\\mathrm{s}]$', fontsize=fontsize)\n",
    "    # ax1.set_ylabel(r'$\\mathrm{Photons}$', fontsize=fontsize)\n",
    "    # axsarr[peak_id].tick_params(axis = 'both', which = 'major', labelsize=fontsize, direction='in')\n",
    "    # axsarr[peak_id].tick_params(axis = 'both', which = 'minor', labelsize=fontsize, direction='in')\n",
    "    # ax1.grid(True)\n",
    "    # Removing ticks\n",
    "    axsarr[peak_id].set_xticks([])\n",
    "    axsarr[peak_id].set_xticks([], minor=True)\n",
    "    axsarr[peak_id].set_yticks([])\n",
    "    axsarr[peak_id].set_yticks([], minor=True)\n",
    "    x_high = 100.\n",
    "    axsarr[peak_id].set_ylim(1e2,1e9)\n",
    "    axsarr[peak_id].set_xlim(0., x_high)\n",
    "    axsarr[peak_id].set_xticklabels([])\n",
    "    axsarr[peak_id].set_yticklabels([])\n",
    "plt.subplots_adjust(wspace=0, hspace=0)\n",
    "# plt.tight_layout()\n",
    "plt.show()\n",
    "figure.savefig(PICS + \"MC_Peak_Spread.pdf\",\n",
    "               bbox_inches='tight')"
   ]
  },
  {
   "cell_type": "code",
   "execution_count": 21,
   "metadata": {},
   "outputs": [
    {
     "name": "stdout",
     "output_type": "stream",
     "text": [
      "30.0\n",
      "10.0\n"
     ]
    },
    {
     "data": {
      "image/png": "[encoded data removed]",
      "text/plain": [
       "<Figure size 108x81 with 1 Axes>"
      ]
     },
     "metadata": {
      "needs_background": "light"
     },
     "output_type": "display_data"
    }
   ],
   "source": [
    "# The original pulse shape\n",
    "mean = fd.statistics[-1][\"pulse mean\"].values[0]\n",
    "sd = fd.statistics[-1][\"pulse sd\"].values[0]\n",
    "print(mean)\n",
    "print(sd)\n",
    "from fourth_day.pdfs import construct_pdf\n",
    "pdf = construct_pdf({\n",
    "    \"class\": config['organisms']['pdf pulse']['pdf'],\n",
    "    \"mean\": mean,\n",
    "    \"sd\": sd\n",
    "})\n",
    "x_grid = np.linspace(0., x_high * 10., 1000 * 10)\n",
    "# The appearing pulse shapes\n",
    "smaller_standard = std_size / 2.\n",
    "figure, axsarr = plt.subplots(1, 1, figsize=(smaller_standard, smaller_standard * 6. / 8.))\n",
    "axsarr.plot(\n",
    "    x_grid + 10.,\n",
    "    pdf.pdf(x_grid) * config['organisms']['photon yield'],\n",
    "    lw=lw, color='k')\n",
    "axsarr.set_xscale('linear')\n",
    "axsarr.set_yscale('log')\n",
    "axsarr.set_xlabel(r'$\\mathrm{t}\\;[\\mathrm{s}]$', fontsize=fontsize)\n",
    "axsarr.set_ylabel(r'$\\mathrm{Photons}$', fontsize=fontsize)\n",
    "axsarr.tick_params(axis = 'both', which = 'major', labelsize=fontsize, direction='in')\n",
    "axsarr.tick_params(axis = 'both', which = 'minor', labelsize=fontsize, direction='in')\n",
    "# ax1.grid(True)\n",
    "# Removing ticks\n",
    "axsarr.set_ylim(1e2,1e9)\n",
    "axsarr.set_xlim(0., 100.)\n",
    "plt.subplots_adjust(wspace=0, hspace=0)\n",
    "# plt.tight_layout()\n",
    "plt.show()\n",
    "figure.savefig(PICS + \"MC_Peak_Org.pdf\",\n",
    "               bbox_inches='tight')"
   ]
  },
  {
   "cell_type": "code",
   "execution_count": null,
   "metadata": {},
   "outputs": [],
   "source": []
  },
  {
   "cell_type": "code",
   "execution_count": null,
   "metadata": {},
   "outputs": [],
   "source": []
  }
 ],
 "metadata": {
  "kernelspec": {
   "display_name": "Python 3",
   "language": "python",
   "name": "python3"
  },
  "language_info": {
   "codemirror_mode": {
    "name": "ipython",
    "version": 3
   },
   "file_extension": ".py",
   "mimetype": "text/x-python",
   "name": "python",
   "nbconvert_exporter": "python",
   "pygments_lexer": "ipython3",
   "version": "3.7.6"
  }
 },
 "nbformat": 4,
 "nbformat_minor": 2
}
