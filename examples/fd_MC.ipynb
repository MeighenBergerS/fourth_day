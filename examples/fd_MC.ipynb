{
 "cells": [
  {
   "cell_type": "code",
   "execution_count": 1,
   "metadata": {},
   "outputs": [
    {
     "data": {
      "text/plain": [
       "'\\nName: fd_MC.ipynb\\nAuthors: Stephan Meighen-Berger, Martina Karl\\nExample for the MC method runs\\n'"
      ]
     },
     "execution_count": 1,
     "metadata": {},
     "output_type": "execute_result"
    }
   ],
   "source": [
    "\"\"\"\n",
    "Name: fd_MC.ipynb\n",
    "Authors: Stephan Meighen-Berger, Martina Karl\n",
    "Example for the MC method runs\n",
    "\"\"\""
   ]
  },
  {
   "cell_type": "code",
   "execution_count": 2,
   "metadata": {},
   "outputs": [],
   "source": [
    "# General imports\n",
    "import numpy as np\n",
    "import matplotlib.pyplot as plt\n",
    "import sys\n",
    "from tqdm import tqdm"
   ]
  },
  {
   "cell_type": "code",
   "execution_count": 3,
   "metadata": {},
   "outputs": [],
   "source": [
    "# Latex text rendering\n",
    "from matplotlib import rc\n",
    "rc('font',**{'family':'sans-serif','sans-serif':['Helvetica']})\n",
    "rc('text', usetex=True)"
   ]
  },
  {
   "cell_type": "code",
   "execution_count": 4,
   "metadata": {},
   "outputs": [],
   "source": [
    "# Adding path to module\n",
    "sys.path.append(\"../core/\")"
   ]
  },
  {
   "cell_type": "code",
   "execution_count": 5,
   "metadata": {},
   "outputs": [],
   "source": [
    "# picture path\n",
    "PICS = '../pics/'"
   ]
  },
  {
   "cell_type": "code",
   "execution_count": 6,
   "metadata": {},
   "outputs": [],
   "source": [
    "# Module imports\n",
    "from fourth_day import FD\n",
    "from fd_config import config"
   ]
  },
  {
   "cell_type": "code",
   "execution_count": 7,
   "metadata": {},
   "outputs": [
    {
     "name": "stderr",
     "output_type": "stream",
     "text": [
      "INFO: ---------------------------------------------------\n",
      "INFO: ---------------------------------------------------\n",
      "INFO: Welcome to FD!\n",
      "INFO: This package will help you model deep sea bioluminescence! (And some other things)\n",
      "INFO: ---------------------------------------------------\n",
      "INFO: ---------------------------------------------------\n",
      "INFO: Creating life...\n",
      "INFO: Loading phyla according to config\n",
      "INFO: Data extracted from Latz, M.I., Frank, T.M. & Case, J.F., Marine Biology 98 (1988)\n",
      "INFO: Loading and parsing Cnidaria_Scyphomedusae.txt\n",
      "INFO: Loading and parsing Cnidaria_Hydrozoa.txt\n",
      "INFO: Loading and parsing Cnidaria_Hydrozoa_Hydroidolina_Siphonophores_Calycophorae.txt\n",
      "INFO: Loading and parsing Cnidaria_Hydrozoa_Hydroidolina_Siphonophores_Physonectae.txt\n",
      "INFO: Loading and parsing Proteobacteria_Gammaproteobacteria.txt\n",
      "INFO: Creation finished\n",
      "INFO: ---------------------------------------------------\n",
      "INFO: ---------------------------------------------------\n",
      "INFO: Initializing flood\n",
      "INFO: Survivors collected!\n",
      "INFO: ---------------------------------------------------\n",
      "INFO: ---------------------------------------------------\n",
      "INFO: Starting genesis\n",
      "INFO: Finished genesis\n",
      "INFO: ---------------------------------------------------\n",
      "INFO: ---------------------------------------------------\n",
      "INFO: Forging combined distribution\n",
      "INFO: To use custom weights for the populations, \n",
      "INFO: run fd_smithing with custom weights\n",
      "INFO: Finished forging\n",
      "INFO: ---------------------------------------------------\n",
      "INFO: ---------------------------------------------------\n",
      "INFO: Creating the world\n",
      "INFO: Finished world building\n",
      "INFO: ---------------------------------------------------\n",
      "INFO: ---------------------------------------------------\n",
      "INFO: Random encounter model\n",
      "INFO: Using the Gerritsen_Strickler model\n",
      "INFO: Finished the encounter model\n",
      "INFO: ---------------------------------------------------\n",
      "INFO: ---------------------------------------------------\n",
      "INFO: To run the simulation use the solve method\n",
      "INFO: ---------------------------------------------------\n",
      "INFO: ---------------------------------------------------\n"
     ]
    }
   ],
   "source": [
    "# Creating a fourth_day object\n",
    "fd = FD()"
   ]
  },
  {
   "cell_type": "code",
   "execution_count": 8,
   "metadata": {},
   "outputs": [
    {
     "name": "stderr",
     "output_type": "stream",
     "text": [
      "INFO: ---------------------------------------------------\n",
      "INFO: ---------------------------------------------------\n",
      "INFO: Calculating light yields\n",
      "../core\\fd_roll_dice.py:289: RuntimeWarning: invalid value encountered in double_scalars\n",
      "  (np.linalg.norm(new_vec) * np.linalg.norm(current_vec))\n",
      "INFO: Finished calculation\n",
      "INFO: Get the results by typing self.results\n",
      "INFO: Structure of dictionray:\n",
      "INFO: [\"t\", \"total\", \"encounter\", \"shear\", \"history\"]\n",
      "INFO: ---------------------------------------------------\n",
      "INFO: ---------------------------------------------------\n"
     ]
    }
   ],
   "source": [
    "# Launching solver\n",
    "fd.sim()"
   ]
  },
  {
   "cell_type": "code",
   "execution_count": 9,
   "metadata": {},
   "outputs": [],
   "source": [
    "# Plotting standards\n",
    "std_size = 10.\n",
    "fontsize = 20.\n",
    "lw=3.\n",
    "h_length=1.5"
   ]
  },
  {
   "cell_type": "code",
   "execution_count": 12,
   "metadata": {},
   "outputs": [
    {
     "data": {
      "image/png": "[encoded data removed]",
      "text/plain": [
       "<Figure size 720x540 with 1 Axes>"
      ]
     },
     "metadata": {
      "needs_background": "light"
     },
     "output_type": "display_data"
    }
   ],
   "source": [
    "# Energy distributions\n",
    "figure, ax = plt.subplots(figsize=(std_size, std_size * 6. / 8.))\n",
    "ax.scatter(fd.results['t'], fd.results['total'], s=lw*30, color='k', label=r'$Total$ $incl.$ $Regen$')\n",
    "ax.scatter(fd.results['t'], fd.results['encounter'], s=lw*30, color='r', label=r'$Encounter$', marker=\"+\")\n",
    "ax.scatter(fd.results['t'], fd.results['shear'], s=lw*30, color='b', label=r'$Shear$', marker=\"x\")\n",
    "ax.set_xlim(1e0, max(fd.results['t']))\n",
    "ax.set_ylim(1e-2, 1e2)\n",
    "ax.set_xscale('linear')\n",
    "ax.set_yscale('log')\n",
    "ax.set_xlabel(r'$t\\;[s]$', fontsize=fontsize)\n",
    "ax.set_ylabel(r'$Unweighted\\;Photons$', fontsize=fontsize)\n",
    "ax.tick_params(axis = 'both', which = 'major', labelsize=fontsize, direction='in')\n",
    "ax.tick_params(axis = 'both', which = 'minor', labelsize=fontsize, direction='in')\n",
    "plt.grid(True)\n",
    "h, l = ax.get_legend_handles_labels()\n",
    "lgd1 = ax.legend(h[:2],l[:2], loc=9, bbox_to_anchor=(0.5, +1.1),\n",
    "                 ncol=2, fontsize=fontsize, handlelength=h_length,\n",
    "                 fancybox=True, frameon=False)\n",
    "lgd2 = ax.legend(h[2:],l[2:], loc=9, bbox_to_anchor=(0.5, +1.2),\n",
    "                 ncol=2, fontsize=fontsize, handlelength=h_length,\n",
    "                 fancybox=True, frameon=False)\n",
    "ax.add_artist(lgd1)\n",
    "plt.show()"
   ]
  },
  {
   "cell_type": "code",
   "execution_count": 14,
   "metadata": {},
   "outputs": [],
   "source": [
    "figure.savefig(PICS + \"MC_Example.png\",\n",
    "               bbox_inches='tight')"
   ]
  },
  {
   "cell_type": "code",
   "execution_count": null,
   "metadata": {},
   "outputs": [],
   "source": []
  }
 ],
 "metadata": {
  "kernelspec": {
   "display_name": "Python 3",
   "language": "python",
   "name": "python3"
  },
  "language_info": {
   "codemirror_mode": {
    "name": "ipython",
    "version": 3
   },
   "file_extension": ".py",
   "mimetype": "text/x-python",
   "name": "python",
   "nbconvert_exporter": "python",
   "pygments_lexer": "ipython3",
   "version": "3.7.4"
  }
 },
 "nbformat": 4,
 "nbformat_minor": 2
}
