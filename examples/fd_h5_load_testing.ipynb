{
 "cells": [
  {
   "cell_type": "code",
   "execution_count": 1,
   "metadata": {},
   "outputs": [
    {
     "data": {
      "text/plain": [
       "'\\nfd_h5_load_testing\\nAuthors: Stephan Meighen-Berger\\nTesting the loading of the h5 files generated for the currents\\n'"
      ]
     },
     "execution_count": 1,
     "metadata": {},
     "output_type": "execute_result"
    }
   ],
   "source": [
    "\"\"\"\n",
    "fd_h5_load_testing\n",
    "Authors: Stephan Meighen-Berger\n",
    "Testing the loading of the h5 files generated for the currents\n",
    "\"\"\""
   ]
  },
  {
   "cell_type": "code",
   "execution_count": 2,
   "metadata": {},
   "outputs": [],
   "source": [
    "# Imports\n",
    "import h5py\n",
    "import sys"
   ]
  },
  {
   "cell_type": "code",
   "execution_count": 3,
   "metadata": {},
   "outputs": [],
   "source": [
    "# Adding path to module\n",
    "sys.path.append(\"../core/\")"
   ]
  },
  {
   "cell_type": "code",
   "execution_count": 4,
   "metadata": {},
   "outputs": [],
   "source": [
    "f = h5py.File('../data/current/chkpt_punctured slanted ridge_fine.h5', 'r')"
   ]
  },
  {
   "cell_type": "code",
   "execution_count": 5,
   "metadata": {},
   "outputs": [
    {
     "data": {
      "text/plain": [
       "['fields']"
      ]
     },
     "execution_count": 5,
     "metadata": {},
     "output_type": "execute_result"
    }
   ],
   "source": [
    "list(f.keys())"
   ]
  },
  {
   "cell_type": "code",
   "execution_count": 6,
   "metadata": {},
   "outputs": [],
   "source": [
    "dset = f['fields']"
   ]
  },
  {
   "cell_type": "code",
   "execution_count": 7,
   "metadata": {},
   "outputs": [],
   "source": [
    "def print_names(name):\n",
    "    print(name)"
   ]
  },
  {
   "cell_type": "code",
   "execution_count": 8,
   "metadata": {},
   "outputs": [
    {
     "name": "stdout",
     "output_type": "stream",
     "text": [
      "function_43\n"
     ]
    }
   ],
   "source": [
    "dset.visit(print_names)"
   ]
  },
  {
   "cell_type": "code",
   "execution_count": 9,
   "metadata": {},
   "outputs": [],
   "source": [
    "sub_set = dset['function_43']"
   ]
  },
  {
   "cell_type": "code",
   "execution_count": 10,
   "metadata": {},
   "outputs": [
    {
     "data": {
      "text/plain": [
       "<HDF5 dataset \"function_43\": shape (131072,), type \"<f8\">"
      ]
     },
     "execution_count": 10,
     "metadata": {},
     "output_type": "execute_result"
    }
   ],
   "source": [
    "sub_set"
   ]
  },
  {
   "cell_type": "code",
   "execution_count": 11,
   "metadata": {},
   "outputs": [
    {
     "data": {
      "text/plain": [
       "array([ 0.00295394,  0.00295341, -0.00338926, -0.00338996, -0.00043578,\n",
       "       -0.00043617, -0.00295463, -0.0029545 , -0.0033897 , -0.00338907,\n",
       "       -0.00043482, -0.00043506, -0.0029514 , -0.0029493 , -0.00338479,\n",
       "       -0.00338139, -0.00043276, -0.00043294, -0.00294316, -0.0029402 ,\n",
       "       -0.0033744 , -0.00337014, -0.00043052, -0.00043069, -0.00293607,\n",
       "       -0.00293472, -0.00336573, -0.00336383, -0.00042927, -0.00042941,\n",
       "       -0.00293577, -0.00293678, -0.00336479, -0.0033657 , -0.00042896,\n",
       "       -0.000429  , -0.0029403 , -0.00294181, -0.00336884, -0.00336984,\n",
       "       -0.00042844, -0.00042835, -0.00294304, -0.00294318, -0.00337045,\n",
       "       -0.00336935, -0.00042699, -0.00042685, -0.00294121, -0.00294012,\n",
       "       -0.00336683, -0.00336422, -0.00042501, -0.00042487, -0.00293736,\n",
       "       -0.00293615, -0.00336106, -0.00335848, -0.0004231 , -0.000423  ,\n",
       "       -0.00293419, -0.00293336, -0.00335622, -0.00335431, -0.00042152,\n",
       "       -0.00042149, -0.00293213, -0.00293157, -0.00335282, -0.0033515 ,\n",
       "       -0.0004203 , -0.00042035, -0.00293057, -0.00293002, -0.00335024,\n",
       "       -0.00334924, -0.00041939, -0.00041954, -0.00292871, -0.00292795,\n",
       "       -0.00334765, -0.00334672, -0.00041873, -0.000419  , -0.00292652,\n",
       "       -0.0029259 , -0.0033452 , -0.00334498, -0.00041865, -0.00041906,\n",
       "       -0.00292637, -0.00292703, -0.00334573, -0.00334772, -0.00041971,\n",
       "       -0.00042022, -0.0029311 , -0.0029334 , -0.00335213, -0.00335631])"
      ]
     },
     "execution_count": 11,
     "metadata": {},
     "output_type": "execute_result"
    }
   ],
   "source": [
    "sub_set[0:100]"
   ]
  },
  {
   "cell_type": "code",
   "execution_count": null,
   "metadata": {},
   "outputs": [],
   "source": []
  }
 ],
 "metadata": {
  "kernelspec": {
   "display_name": "Python 3",
   "language": "python",
   "name": "python3"
  },
  "language_info": {
   "codemirror_mode": {
    "name": "ipython",
    "version": 3
   },
   "file_extension": ".py",
   "mimetype": "text/x-python",
   "name": "python",
   "nbconvert_exporter": "python",
   "pygments_lexer": "ipython3",
   "version": "3.7.4"
  }
 },
 "nbformat": 4,
 "nbformat_minor": 2
}
