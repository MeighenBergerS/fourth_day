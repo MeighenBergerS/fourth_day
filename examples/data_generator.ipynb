{
 "cells": [
  {
   "cell_type": "code",
   "execution_count": 1,
   "metadata": {},
   "outputs": [],
   "source": [
    "# Name: data_generator.ipynb\n",
    "# Authors: Stephan Meighen-Berger\n",
    "# Used to create a statistics dataset"
   ]
  },
  {
   "cell_type": "code",
   "execution_count": 2,
   "metadata": {},
   "outputs": [],
   "source": [
    "# General imports\n",
    "import numpy as np\n",
    "import matplotlib.pyplot as plt\n",
    "import sys\n",
    "import pickle"
   ]
  },
  {
   "cell_type": "code",
   "execution_count": 3,
   "metadata": {},
   "outputs": [],
   "source": [
    "# Adding path to module\n",
    "sys.path.append(\"../\")"
   ]
  },
  {
   "cell_type": "code",
   "execution_count": 4,
   "metadata": {},
   "outputs": [],
   "source": [
    "# picture path\n",
    "PICS = '../pics/'"
   ]
  },
  {
   "cell_type": "code",
   "execution_count": 5,
   "metadata": {},
   "outputs": [],
   "source": [
    "for seed in range(100):\n",
    "    # Module imports\n",
    "    from fourth_day import Fourth_Day, config\n",
    "    # ---------------------------------------------\n",
    "    # Some example settings\n",
    "    # For a full lost check the config file\n",
    "    # ---------------------------------------------\n",
    "    # Scenario Settings\n",
    "    # These are general settings pertaining to the simulation run\n",
    "    config[\"general\"][\"random state seed\"] = seed\n",
    "    config['scenario']['population size'] = 10  # The starting population size\n",
    "    config['scenario']['duration'] = 600 * 1  # Total simulation time in seconds\n",
    "    config['scenario']['exclusion'] = True  # If an exclusion zone should be used (the detector)\n",
    "    config['scenario']['injection']['rate'] = 1e0  #  Injection rate in per second, a distribution is constructed from this value\n",
    "    config['scenario']['injection']['y range'] = [0., 15.]  # The y-range of injection\n",
    "    config['scenario']['light prop'] = {  # Where the emitted light should be propagated to (typically the detector location)\n",
    "                \"switch\": True,  # If light should be propagated\n",
    "                \"x_pos\": 3.,  # The x-coordinates\n",
    "                \"y_pos\": 0.5 * 15. - 0.15,  # The y-coordinates\n",
    "            }\n",
    "    config['scenario']['detector'] = {  # detector specific properties, positions are defined as offsets from the light prop values\n",
    "        \"switch\": True,  # If the detector should be modelled\n",
    "        \"type\": \"PMTSpec\",  # Detector name, implemented types are given in the config\n",
    "        \"response\": True,  # If a detector response should be used\n",
    "        \"acceptance\": \"Flat\",  # Flat acceptance\n",
    "        \"mean detection prob\": 0.5  # Used for the acceptance calculation\n",
    "    }\n",
    "    # ---------------------------------------------\n",
    "    # Organisms\n",
    "    # Organisms properties are defined here\n",
    "    config['organisms']['emission fraction'] = 0.2  # Amount of energy an organism uses per pulse\n",
    "    config['organisms']['alpha'] = 1e0  # Proportionality factor for the emission probability\n",
    "    config['organisms'][\"minimal shear stress\"] = 0.005  # The minimal amount of shear stress needed to emit (generic units)\n",
    "    config[\"organisms\"][\"filter\"] = 'depth'  # Method of filtering organisms (here depth)\n",
    "    config[\"organisms\"][\"depth filter\"] = 10000.  # Organisms need to exist below this depth\n",
    "    # ---------------------------------------------\n",
    "    # Geometry\n",
    "    # These settings define the geometry of the system\n",
    "    # Typically a box (simulation volume) with a spherical exclusion zone (detector)\n",
    "    config['geometry']['volume'] = {\n",
    "        'function': 'rectangle',\n",
    "        'x_length': 30.,\n",
    "        'y_length': 15.,\n",
    "        'offset': None,\n",
    "    }\n",
    "    # Reduce the observation size to reduce the computational load\n",
    "    config['geometry']['observation'] = {\n",
    "        'function': 'rectangle',\n",
    "        'x_length': 30.,\n",
    "        'y_length': 15.,\n",
    "        \"offset\": np.array([0., 0.]),\n",
    "    }\n",
    "    # The detector volume\n",
    "    config['geometry'][\"exclusion\"] = {\n",
    "        \"function\": \"sphere\",\n",
    "        \"radius\": 0.15,\n",
    "        \"x_pos\": 3.,\n",
    "        \"y_pos\": 0.5 * 15. - 0.15,\n",
    "    }\n",
    "    # ---------------------------------------------\n",
    "    # Water\n",
    "    # Properties of the current model\n",
    "    config['water']['model']['name'] = 'custom'  # Use a custom (non analytic) model\n",
    "    config['water']['model']['off set'] = np.array([0., 0.])  # Offset of the custom model\n",
    "    config['water']['model']['directory'] = \"../data/current/Parabola_5mm/run_10cm_npy/\"  # The files used by the custom model\n",
    "    config['water']['model']['time step'] = 1.  # in Seconds\n",
    "    # Creating a fourth_day object\n",
    "    # Use this to interact with with the module\n",
    "    fd = Fourth_Day()\n",
    "    # Launching solver\n",
    "    # This might take a while depending on the settings\n",
    "    # Check the log file (standard setting is in the run folder) for the current iteration\n",
    "    fd.sim()\n",
    "    pickle.dump(fd.statistics[301:], open('storage/statistics_seed_%d.p' %seed, \"wb\"))"
   ]
  }
 ],
 "metadata": {
  "kernelspec": {
   "display_name": "Python 3",
   "language": "python",
   "name": "python3"
  },
  "language_info": {
   "codemirror_mode": {
    "name": "ipython",
    "version": 3
   },
   "file_extension": ".py",
   "mimetype": "text/x-python",
   "name": "python",
   "nbconvert_exporter": "python",
   "pygments_lexer": "ipython3",
   "version": "3.9.5"
  }
 },
 "nbformat": 4,
 "nbformat_minor": 2
}
