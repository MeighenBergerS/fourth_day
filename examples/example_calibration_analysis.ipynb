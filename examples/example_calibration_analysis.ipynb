{
 "cells": [
  {
   "cell_type": "code",
   "execution_count": 1,
   "metadata": {},
   "outputs": [],
   "source": [
    "# Name: example_calibration_analysis.ipynb\n",
    "# Authors: Stephan Meighen-Berger\n",
    "# Shows an example calibration analysis"
   ]
  },
  {
   "cell_type": "code",
   "execution_count": 2,
   "metadata": {},
   "outputs": [],
   "source": [
    "# General imports\n",
    "import numpy as np\n",
    "import matplotlib.pyplot as plt\n",
    "import sys\n",
    "import pandas as pd\n",
    "from tqdm import tqdm\n",
    "from scipy.interpolate import UnivariateSpline"
   ]
  },
  {
   "cell_type": "code",
   "execution_count": 3,
   "metadata": {},
   "outputs": [],
   "source": [
    "# Adding path to module\n",
    "sys.path.append(\"../\")"
   ]
  },
  {
   "cell_type": "code",
   "execution_count": 4,
   "metadata": {},
   "outputs": [],
   "source": [
    "# picture path\n",
    "PICS = '../pics/'"
   ]
  },
  {
   "cell_type": "code",
   "execution_count": 5,
   "metadata": {},
   "outputs": [],
   "source": [
    "# Module imports\n",
    "from fourth_day import Fourth_Day, config"
   ]
  },
  {
   "cell_type": "code",
   "execution_count": 6,
   "metadata": {},
   "outputs": [],
   "source": [
    "# Some example settings\n",
    "config['scenario']['class'] = 'Calibration'\n",
    "config['scenario']['light prop'] = {\n",
    "            \"switch\": True,\n",
    "            \"x_pos\": 5.,\n",
    "            \"y_pos\": 10.,\n",
    "        }\n",
    "config['scenario']['detector'] = {\n",
    "    \"switch\": True,\n",
    "    \"type\": \"PMTSpec_Func\",\n",
    "    \"response\": True,\n",
    "    \"acceptance\": \"Flat\",\n",
    "    \"mean detection prob\": 1.\n",
    "}\n",
    "# The flasher position\n",
    "config['calibration']['pos_arr'] = [2., 30.]\n",
    "# The injected pulse\n",
    "config['calibration']['light curve'] = {\n",
    "    396.: np.ones(100),\n",
    "    400.: np.ones(100),\n",
    "    506.: np.ones(100),\n",
    "    514.: np.ones(100),\n",
    "    545.: np.ones(100),\n",
    "    550.: np.ones(100),\n",
    "}"
   ]
  },
  {
   "cell_type": "code",
   "execution_count": 7,
   "metadata": {},
   "outputs": [
    {
     "name": "stderr",
     "output_type": "stream",
     "text": [
      "100%|██████████████████████████████████████████████████████████████████████████████████| 50/50 [00:12<00:00,  3.93it/s]\n"
     ]
    }
   ],
   "source": [
    "samples = 50\n",
    "sim_counts = []\n",
    "for sample in tqdm(range(samples)):\n",
    "    # Varying the angle pointing by 1%\n",
    "    angle_offset_var = np.random.uniform(-0.01, 0.01, 12)\n",
    "    # Varying the opening angle by 1%\n",
    "    angle_opening_var = np.random.uniform(-0.01, 0.01, 12)\n",
    "    # Varying the quantum efficiency functions by 5%\n",
    "    qe_var = np.random.uniform(-0.01, 0.01, (12, 3))\n",
    "    # Varying the attenuation curve by 10 % at each point\n",
    "    atten_var = np.random.uniform(-0.15, 0.15, 23)\n",
    "    config['geometry']['detector properties'][\"PMTSpec_Func\"] = {\n",
    "        \"x_pos\": 2.,\n",
    "        \"y_pos\": 5.,\n",
    "        \"det num\": 12, #12 pmts numbered by position \n",
    "        \"x_offsets\": np.array(\n",
    "            [0.1,0.,-0.1,0., 0.12,-0.12,-0.12,0.12, 0.2,-0.04,-0.2,0.04]\n",
    "        ) / 2., #test radius 0.3 meter, real radius 0.15 meter\n",
    "        \"y_offsets\": np.array(\n",
    "            [0.,0.1,0.,-0.1,  0.12,0.12,-0.12,-0.12, 0.04,0.2,-0.04,-0.2]\n",
    "        ) / 2.,\n",
    "        \"angle offset\": np.array([\n",
    "            90., 90., 90., 90., 90., 90.,\n",
    "            90., 90., 90., 90., 90., 90.]) * (1. + angle_offset_var),  # In which direction the detector(s) points\n",
    "        \"opening angle\": np.array([\n",
    "            25., 25., 25., 25., 25., 25.,\n",
    "            25., 25., 25., 25., 25., 25.]) * (1. + angle_opening_var),  # 25., # from dark box rotation test result: +-25 degrees\n",
    "        \"quantum efficiency\": \"Func\",  # whether flat or function\n",
    "        \"wavelength acceptance\": np.array([ #position number,center wavelength,quantum efficiency (if flat)\n",
    "            [395., 405.],\n",
    "            [505., 515.],\n",
    "            [420., 430.],\n",
    "            [465., 475.],\n",
    "            [300., 600.],\n",
    "            [487., 497.],\n",
    "            [540., 560.],\n",
    "            [515., 535.],\n",
    "            [475., 485.],\n",
    "            [445., 455.],\n",
    "            [455., 465.],\n",
    "            [325., 375.],                                     \n",
    "        ]),\n",
    "        \"quantum func\": np.array([\n",
    "            [[395., 400., 405.], np.array([0.26, 0.26, 0.26]) * (1. + qe_var[0])],\n",
    "            [[505., 510., 515.], np.array([0.16, 0.16, 0.16]) * (1. + qe_var[1])],\n",
    "            [[420., 425., 430.], np.array([0.28, 0.28, 0.28]) * (1. + qe_var[2])],\n",
    "            [[465., 470., 475.], np.array([0.23, 0.23, 0.23]) * (1. + qe_var[3])],\n",
    "            [[300., 500., 600.], np.array([1., 1., 1.]) * (1. + qe_var[4])],\n",
    "            [[487., 490., 497.], np.array([0.1, 0.1, 0.1]) * (1. + qe_var[5])],\n",
    "            [[540., 550., 560.], np.array([0.1, 0.1, 0.1]) * (1. + qe_var[6])],\n",
    "            [[515., 525., 535.], np.array([0.13, 0.13, 0.13]) * (1. + qe_var[7])],\n",
    "            [[475., 480., 485.], np.array([0.2, 0.2, 0.2]) * (1. + qe_var[8])],\n",
    "            [[445., 450., 455.], np.array([0.2, 0.2, 0.2]) * (1. + qe_var[9])],\n",
    "            [[455., 460., 465.], np.array([0.23, 0.23, 0.23]) * (1. + qe_var[10])],\n",
    "            [[325., 350., 375.], np.array([0.3, 0.3, 0.3]) * (1. + qe_var[11])],\n",
    "        ])\n",
    "    }\n",
    "    config['calibration']['attenuation curve'] = np.array([\n",
    "        [\n",
    "            299.,\n",
    "            329.14438502673795, 344.11764705882354, 362.2994652406417,\n",
    "            399.44415494181, 412.07970421102266, 425.75250006203635,\n",
    "            442.53703565845314, 457.1974490682151, 471.8380108687561,\n",
    "            484.3544504826423, 495.7939402962853, 509.29799746891985,\n",
    "            519.6903148961513, 530.0627807141617, 541.5022705278046,\n",
    "            553.9690811186382, 567.4929899004939, 580.9771954639073,\n",
    "            587.1609717362714, 593.3348222040249, 599.4391920395047,\n",
    "            602.4715253480235\n",
    "        ],\n",
    "        np.array([\n",
    "            0.8,\n",
    "            0.6279453220864465,0.3145701363176568,\n",
    "            0.12591648888305143,0.026410321551339357, 0.023168667048510762,\n",
    "            0.020703255370450736, 0.019552708373076478,\n",
    "            0.019526153330089138, 0.020236306473695613,\n",
    "            0.02217620815962483, 0.025694647290888873,\n",
    "            0.031468126242251794, 0.03646434475343956,\n",
    "            0.04385011375530569, 0.05080729755501162,\n",
    "            0.061086337538657706, 0.07208875589035815, 0.09162216168767365,\n",
    "            0.11022281058708046, 0.1350811713674855, 0.18848851206491904,\n",
    "            0.23106528395398912\n",
    "        ]) * (1. + atten_var)\n",
    "    ])\n",
    "    # Creating a fourth_day object\n",
    "    fd = Fourth_Day()\n",
    "    # Launching solver\n",
    "    fd.sim()\n",
    "    sim_counts.append(fd.measured)"
   ]
  },
  {
   "cell_type": "code",
   "execution_count": 8,
   "metadata": {},
   "outputs": [],
   "source": [
    "spl_atten = UnivariateSpline(\n",
    "    [\n",
    "        299.,\n",
    "        329.14438502673795, 344.11764705882354, 362.2994652406417,\n",
    "        399.44415494181, 412.07970421102266, 425.75250006203635,\n",
    "        442.53703565845314, 457.1974490682151, 471.8380108687561,\n",
    "        484.3544504826423, 495.7939402962853, 509.29799746891985,\n",
    "        519.6903148961513, 530.0627807141617, 541.5022705278046,\n",
    "        553.9690811186382, 567.4929899004939, 580.9771954639073,\n",
    "        587.1609717362714, 593.3348222040249, 599.4391920395047,\n",
    "        602.4715253480235\n",
    "    ],\n",
    "    np.array([\n",
    "        0.8,\n",
    "        0.6279453220864465,0.3145701363176568,\n",
    "        0.12591648888305143,0.026410321551339357, 0.023168667048510762,\n",
    "        0.020703255370450736, 0.019552708373076478,\n",
    "        0.019526153330089138, 0.020236306473695613,\n",
    "        0.02217620815962483, 0.025694647290888873,\n",
    "        0.031468126242251794, 0.03646434475343956,\n",
    "        0.04385011375530569, 0.05080729755501162,\n",
    "        0.061086337538657706, 0.07208875589035815, 0.09162216168767365,\n",
    "        0.11022281058708046, 0.1350811713674855, 0.18848851206491904,\n",
    "        0.23106528395398912\n",
    "    ]), k=1, s=0\n",
    ")"
   ]
  },
  {
   "cell_type": "code",
   "execution_count": 9,
   "metadata": {},
   "outputs": [],
   "source": [
    "# Distances\n",
    "distances = np.array([\n",
    "    (config['calibration']['pos_arr'][0] - (fd._lucifer._det_geom['x_pos'] + fd._lucifer._det_geom[\"x_offsets\"][i]))**2. +\n",
    "    (config['calibration']['pos_arr'][1] - (fd._lucifer._det_geom['y_pos'] + fd._lucifer._det_geom[\"y_offsets\"][i]))**2.\n",
    "    for i in range(0, fd._lucifer._det_geom[\"det num\"])])**(1./2.)\n",
    "# Attenuation function\n",
    "def atten_func(distance, atten):\n",
    "    factor = np.exp(-distance * atten) / (4. * np.pi * distance**2.)\n",
    "    if factor > 1./2.:\n",
    "        factor = 1./2.\n",
    "    return factor\n",
    "def dist_atten(distance):\n",
    "    return (4. * np.pi * distance**2.)"
   ]
  },
  {
   "cell_type": "code",
   "execution_count": 10,
   "metadata": {},
   "outputs": [],
   "source": [
    "# Plotting standards\n",
    "std_size = 6.\n",
    "fontsize = 20.\n",
    "lw=1.\n",
    "h_length=0.2\n",
    "export_dpi = 500"
   ]
  },
  {
   "cell_type": "code",
   "execution_count": 11,
   "metadata": {},
   "outputs": [],
   "source": [
    "from matplotlib import rc\n",
    "rc('font',**{'family':'sans-serif','sans-serif':['Helvetica']})\n",
    "rc('text', usetex=False)"
   ]
  },
  {
   "cell_type": "code",
   "execution_count": 12,
   "metadata": {},
   "outputs": [
    {
     "name": "stderr",
     "output_type": "stream",
     "text": [
      "findfont: Font family ['sans-serif'] not found. Falling back to DejaVu Sans.\n",
      "findfont: Generic family 'sans-serif' not found because none of the following families were found: Helvetica\n"
     ]
    },
    {
     "name": "stdout",
     "output_type": "stream",
     "text": [
      "1.0197711342527735\n",
      "0.9787683796816278\n",
      "1.0061770597230868\n"
     ]
    },
    {
     "data": {
      "image/png": "[encoded data removed]",
      "text/plain": [
       "<Figure size 432x324 with 1 Axes>"
      ]
     },
     "metadata": {
      "needs_background": "light"
     },
     "output_type": "display_data"
    }
   ],
   "source": [
    "# Detector 0 evaluation\n",
    "norm_fac = 1.\n",
    "figure, (ax1) = plt.subplots(1, 1, figsize=(std_size, std_size * 6. / 8.), sharex=True)\n",
    "det = 'Detector 0'\n",
    "for sample in sim_counts:\n",
    "    atten_facs = np.array([np.mean(-np.log(sample[det].values * dist_atten(distances[0]) / 4. / 0.26) / distances[0])\n",
    "                           for sample in sim_counts])\n",
    "ax1.scatter(\n",
    "    range(len(sim_counts)), atten_facs / norm_fac, label=r'$\\lambda = 398\\;\\mathrm{nm}$', color='b',\n",
    ")\n",
    "print(np.mean(atten_facs) / spl_atten(398.))\n",
    "det = 'Detector 1'\n",
    "for sample in sim_counts:\n",
    "    atten_facs = np.array([np.mean(-np.log(sample[det].values * dist_atten(distances[1]) / 8. / 0.16) / distances[1])\n",
    "                           for sample in sim_counts])\n",
    "ax1.scatter(\n",
    "    range(len(sim_counts)), atten_facs / norm_fac, label=r'$\\lambda = 510\\;\\mathrm{nm}$', color='g',\n",
    ")\n",
    "print(np.mean(atten_facs) / spl_atten(510.))\n",
    "det = 'Detector 6'\n",
    "for sample in sim_counts:\n",
    "    atten_facs = np.array([np.mean(-np.log(sample[det].values * dist_atten(distances[2]) / 5. / 0.1) / distances[2])\n",
    "                           for sample in sim_counts])\n",
    "ax1.scatter(\n",
    "    range(len(sim_counts)), atten_facs / norm_fac, label=r'$\\lambda = 547\\;\\mathrm{nm}$', color='r',\n",
    ")\n",
    "print(np.mean(atten_facs) / spl_atten(547.))\n",
    "ax1.axhline(spl_atten(398.), color='b', lw=lw)\n",
    "ax1.axhline(spl_atten(510.), color='g', lw=lw)\n",
    "ax1.axhline(spl_atten(547.), color='r', lw=lw)\n",
    "ax1.set_xscale('linear')\n",
    "ax1.set_yscale('linear')\n",
    "ax1.set_xlabel(r'$\\mathrm{Run}$', fontsize=fontsize)\n",
    "ax1.set_ylabel(r'$\\mathrm{Attenuation\\;Factor}$', fontsize=fontsize)\n",
    "ax1.tick_params(axis = 'both', which = 'major', labelsize=fontsize, direction='in')\n",
    "ax1.tick_params(axis = 'both', which = 'minor', labelsize=fontsize, direction='in')\n",
    "# ax1.grid(True)\n",
    "h, l = ax1.get_legend_handles_labels()\n",
    "lgd1 = ax1.legend(h,l, loc=9, bbox_to_anchor=(0.5, +1.25),\n",
    "                  ncol=6, fontsize=fontsize, handlelength=h_length,\n",
    "                  fancybox=True, frameon=False)\n",
    "# ax1.set_xlim(390., 400)\n",
    "plt.tight_layout()\n",
    "plt.show()\n",
    "figure.savefig(PICS + \"Calibration_Pop.png\",\n",
    "               bbox_inches='tight', dpi=export_dpi)"
   ]
  },
  {
   "cell_type": "code",
   "execution_count": null,
   "metadata": {},
   "outputs": [],
   "source": []
  }
 ],
 "metadata": {
  "kernelspec": {
   "display_name": "Python 3",
   "language": "python",
   "name": "python3"
  },
  "language_info": {
   "codemirror_mode": {
    "name": "ipython",
    "version": 3
   },
   "file_extension": ".py",
   "mimetype": "text/x-python",
   "name": "python",
   "nbconvert_exporter": "python",
   "pygments_lexer": "ipython3",
   "version": "3.9.5"
  }
 },
 "nbformat": 4,
 "nbformat_minor": 2
}
