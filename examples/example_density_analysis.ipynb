{
 "cells": [
  {
   "cell_type": "code",
   "execution_count": 1,
   "metadata": {},
   "outputs": [],
   "source": [
    "# Name: example_density_analysis.ipynb\n",
    "# Authors: Stephan Meighen-Berger\n",
    "# Example simulation runs to check the number of flashes vs organism density"
   ]
  },
  {
   "cell_type": "code",
   "execution_count": 2,
   "metadata": {},
   "outputs": [],
   "source": [
    "# General imports\n",
    "import numpy as np\n",
    "import matplotlib.pyplot as plt\n",
    "import sys\n",
    "import pandas as pd\n",
    "from tqdm import tqdm\n",
    "import pickle\n",
    "from scipy.signal import find_peaks"
   ]
  },
  {
   "cell_type": "code",
   "execution_count": 3,
   "metadata": {},
   "outputs": [],
   "source": [
    "# Adding path to module\n",
    "sys.path.append(\"../\")"
   ]
  },
  {
   "cell_type": "code",
   "execution_count": 4,
   "metadata": {},
   "outputs": [],
   "source": [
    "from matplotlib import rc\n",
    "rc('font',**{'family':'sans-serif','sans-serif':['Helvetica']})\n",
    "## for Palatino and other serif fonts use:\n",
    "#rc('font',**{'family':'serif','serif':['Palatino']})\n",
    "rc('text', usetex=True)"
   ]
  },
  {
   "cell_type": "code",
   "execution_count": 5,
   "metadata": {},
   "outputs": [],
   "source": [
    "# picture path\n",
    "PICS = '../pics/'"
   ]
  },
  {
   "cell_type": "code",
   "execution_count": 6,
   "metadata": {},
   "outputs": [],
   "source": [
    "# Module imports\n",
    "from fourth_day import Fourth_Day, config"
   ]
  },
  {
   "cell_type": "code",
   "execution_count": 7,
   "metadata": {},
   "outputs": [],
   "source": [
    "# Density function\n",
    "# Converts a given density organisms/m^3 to something usable by Fourth Day\n",
    "def dens2fd(density, xlength, ylength, current_velocity, time_step):\n",
    "    # Starting density\n",
    "    volume = xlength * ylength\n",
    "    start_dens = volume * density\n",
    "    # Injection density\n",
    "    injection_volume_per_time_step = ylength * current_velocity\n",
    "    org_per_time_step = injection_volume_per_time_step * density\n",
    "    return start_dens, org_per_time_step"
   ]
  },
  {
   "cell_type": "code",
   "execution_count": 8,
   "metadata": {},
   "outputs": [],
   "source": [
    "# Some example settings\n",
    "config[\"scenario\"][\"class\"] = \"Stored\"\n",
    "config[\"scenario\"][\"premature break\"] = False\n",
    "config['scenario']['duration'] = 6000\n",
    "config['scenario']['organism movement'] = False\n",
    "config['scenario']['exclusion'] = True\n",
    "config['scenario']['injection']['y range'] = [0., 10.]\n",
    "config['scenario']['light prop'] = {\n",
    "            \"switch\": True,\n",
    "            \"x_pos\": 5.,\n",
    "            \"y_pos\": 10.,\n",
    "        }\n",
    "config['scenario']['detector'] = {\n",
    "    \"switch\": True,\n",
    "    \"type\": \"Custom\",\n",
    "    \"response\": True,\n",
    "    \"acceptance\": \"Flat\",\n",
    "    \"mean detection prob\": 0.5\n",
    "}\n",
    "# Organisms \n",
    "config['organisms']['emission fraction'] = 0.1\n",
    "config['organisms']['alpha'] = 2.\n",
    "config[\"organisms\"][\"filter\"] = 'depth'\n",
    "config[\"organisms\"][\"depth filter\"] = 100000  # Note the absurd depth. This is used to exclusively simulate custom organisms\n",
    "# Geometry\n",
    "config['geometry']['volume'] = {\n",
    "    'function': 'rectangle',\n",
    "    'x_length': 26.,\n",
    "    'y_length': 10.,\n",
    "    'offset': None,\n",
    "}\n",
    "config['geometry']['observation'] = {\n",
    "    'function': 'rectangle',\n",
    "    'x_length': 26.,\n",
    "    'y_length': 10.,\n",
    "    \"offset\": np.array([0., 0.]),\n",
    "}\n",
    "config['geometry'][\"exclusion\"] = {\n",
    "    \"function\": \"sphere\",\n",
    "    \"radius\": 0.15,\n",
    "    \"x_pos\": 2.,\n",
    "    \"y_pos\": 5.,\n",
    "}\n",
    "# Water\n",
    "config['water']['model']['name'] = 'custom' # 'potential cylinder'\n",
    "config['water']['model']['directory'] = \"../data/current/Long_run_corr/\"\n",
    "config['water']['model']['time step'] = 0.1\n",
    "config['advanced']['starting step'] = 0\n",
    "# Detector\n",
    "config[\"geometry\"][\"detector properties\"][\"Custom\"] = {\n",
    "    \"x_pos\": 2.,\n",
    "    \"y_pos\": 5.,\n",
    "    \"det num\": 1,\n",
    "    \"x_offsets\": np.array(\n",
    "        [0.]\n",
    "    ),\n",
    "    \"y_offsets\": np.array(\n",
    "        [0.]\n",
    "    ),\n",
    "    \"angle offset\": 0.,  # In which direction the detector points\n",
    "    \"opening angle\": 360.,  # 25., # from dark box rotation test result: +-25 degrees\n",
    "    \"wavelength acceptance\": [ #position number,center wavelength,quantum efficiency\n",
    "        [325., 600.,1.],                               \n",
    "    ],\n",
    "}"
   ]
  },
  {
   "cell_type": "code",
   "execution_count": 9,
   "metadata": {},
   "outputs": [
    {
     "name": "stderr",
     "output_type": "stream",
     "text": [
      "100%|██████████████████████████████████████████████████████████████████████████████████| 20/20 [04:58<00:00, 14.93s/it]\n",
      "100%|██████████████████████████████████████████████████████████████████████████████████| 20/20 [05:41<00:00, 17.06s/it]\n",
      "100%|██████████████████████████████████████████████████████████████████████████████████| 20/20 [06:20<00:00, 19.02s/it]\n",
      "100%|██████████████████████████████████████████████████████████████████████████████████| 20/20 [07:57<00:00, 23.85s/it]\n",
      "100%|██████████████████████████████████████████████████████████████████████████████████| 20/20 [09:37<00:00, 28.87s/it]\n",
      "100%|██████████████████████████████████████████████████████████████████████████████████| 20/20 [10:34<00:00, 31.70s/it]\n",
      "100%|██████████████████████████████████████████████████████████████████████████████████| 20/20 [12:23<00:00, 37.17s/it]\n",
      "100%|██████████████████████████████████████████████████████████████████████████████████| 20/20 [13:58<00:00, 41.91s/it]\n",
      "100%|██████████████████████████████████████████████████████████████████████████████████| 20/20 [17:50<00:00, 53.52s/it]\n",
      "100%|██████████████████████████████████████████████████████████████████████████████████| 20/20 [23:12<00:00, 69.64s/it]\n"
     ]
    }
   ],
   "source": [
    "# Launching multiple simulations to use in the analysis\n",
    "seeds = range(20)\n",
    "warm_up = 3000\n",
    "densities = np.logspace(-3, -1, 10)\n",
    "flash_vs_dens = []\n",
    "flash_vs_dens_std = []\n",
    "for density in densities:\n",
    "    starting_org, inject_org = dens2fd(density, 26., 10., 0.1, 0.1)\n",
    "    peak_arr = []\n",
    "    for seed in tqdm(seeds):\n",
    "        # General\n",
    "        config[\"general\"][\"random state seed\"] = seed\n",
    "        config['scenario']['population size'] = 10\n",
    "        config['scenario']['injection']['rate'] = inject_org\n",
    "        config[\"scenario\"][\"statistics storage\"][\"name\"] = \"dens_run_dens_%.1e_seed_%d\" %(density, seed)\n",
    "        # Creating a fourth_day object\n",
    "        fd = Fourth_Day()\n",
    "        # Launching solver\n",
    "        fd.sim()\n",
    "        totals = fd.measured[\"Detector 0\"].values\n",
    "        # Skipping the warm-up phase\n",
    "        totals = totals[warm_up:]\n",
    "        peaks, _ = find_peaks(totals, height=0)\n",
    "        peak_arr.append(len(peaks))\n",
    "    peak_arr = np.array(peak_arr)\n",
    "    flash_vs_dens.append(np.mean(peak_arr))\n",
    "    flash_vs_dens_std.append(np.std(peak_arr))\n",
    "flash_vs_dens = np.array(flash_vs_dens)\n",
    "flash_vs_dens_std = np.array(flash_vs_dens_std)"
   ]
  },
  {
   "cell_type": "code",
   "execution_count": 10,
   "metadata": {},
   "outputs": [
    {
     "name": "stderr",
     "output_type": "stream",
     "text": [
      "findfont: Font family ['sans-serif'] not found. Falling back to DejaVu Sans.\n"
     ]
    },
    {
     "data": {
      "image/png": "[encoded data removed]",
      "text/plain": [
       "<Figure size 216x162 with 2 Axes>"
      ]
     },
     "metadata": {
      "needs_background": "light"
     },
     "output_type": "display_data"
    }
   ],
   "source": [
    "from scipy import stats\n",
    "plot_data = np.copy(flash_vs_dens)\n",
    "scaling = 12.\n",
    "plot_data = plot_data * scaling  # Average per hour\n",
    "z1 = np.polyfit(densities, plot_data, 1, w=1./flash_vs_dens_std)\n",
    "z = np.polyfit(densities, plot_data, 2, w=1./flash_vs_dens_std)\n",
    "p1 = np.poly1d(z1)\n",
    "p = np.poly1d(z)\n",
    "# Plotting standards\n",
    "std_size = 3.\n",
    "fontsize = 10.\n",
    "lw=1.\n",
    "h_length=1.\n",
    "# Plot figure with subplots of different sizes\n",
    "fig, (ax1, ax2) = plt.subplots(2, 1, figsize=(std_size, std_size * 6. / 8.), sharex=True)\n",
    "# ---------------------------------------------------------------------------------------------------\n",
    "# Plot parameters\n",
    "ylow = 1e-3\n",
    "yhigh = 0.1\n",
    "# xlow = 0\n",
    "# xhigh = 10\n",
    "# ---------------------------------------------------------------------------------------------------\n",
    "# The average emissions\n",
    "ax1.errorbar(\n",
    "    densities,\n",
    "    plot_data / 1e3,\n",
    "    yerr= flash_vs_dens_std * scaling / 1e3,\n",
    "    linestyle=\"None\", color='k', label=r'$\\mathrm{Simulation}$')\n",
    "ax1.plot(np.logspace(-4, 0, 100), p1(np.logspace(-4, 0, 100)) / 1e3, 'r', lw=lw, ls='--', label=r'$\\mathrm{Linear}$')\n",
    "ax1.plot(np.logspace(-4, 0, 100), p(np.logspace(-4, 0, 100)) / 1e3, 'b', ls='-', lw=lw, label=r'$\\mathrm{Poly.\\;2^{nd}}$')\n",
    "ax1.set_xscale('linear')\n",
    "ax1.set_yscale('linear')\n",
    "# ax1.set_ylabel(r'$\\mathrm{Flashes}\\;[\\mathrm{h}^{-1}]$', fontsize=fontsize)\n",
    "ax1.text(0.065, 1., r'$\\mathrm{Flashes}\\;[\\mathrm{h}^{-1}]$', fontsize=fontsize)\n",
    "ax1.text(0.001, 4.5, r'$\\times 1e3$', fontsize=fontsize)\n",
    "ax1.tick_params(axis = 'both', which = 'major', labelsize=fontsize, direction='in')\n",
    "ax1.tick_params(axis = 'both', which = 'minor', labelsize=fontsize, direction='in')\n",
    "ax1.set_xlim(ylow, yhigh)\n",
    "ax1.set_ylim(1e-1, 4e0)\n",
    "h, l = ax1.get_legend_handles_labels()\n",
    "lgd1 = ax1.legend(h[:2],l[:2], loc=9, bbox_to_anchor=(0.6, +1.6),\n",
    "                  ncol=5, fontsize=fontsize, handlelength=h_length,\n",
    "                  fancybox=True, frameon=False)\n",
    "lgd2 = ax1.legend([h[2]],[l[2]], loc=9, bbox_to_anchor=(0.6, +1.9),\n",
    "                  ncol=5, fontsize=fontsize, handlelength=h_length,\n",
    "                  fancybox=True, frameon=False)\n",
    "ax1.add_artist(lgd1)\n",
    "# ---------------------------------------------------------------------------------------------------\n",
    "# The fraction\n",
    "ax2.plot(np.logspace(-4, 0, 100), p(np.logspace(-4, 0, 100)) / p1(np.logspace(-4, 0, 100)), 'r', lw=lw, ls='--')\n",
    "ax2.set_xscale('linear')\n",
    "ax2.set_yscale('linear')\n",
    "ax2.set_xlabel(r'$\\mathrm{Density}$', fontsize=fontsize)\n",
    "ax2.set_ylabel(r'$\\mathrm{Flashes}\\;\\left[\\mathrm{h}^{-1}\\right]$', fontsize=fontsize)\n",
    "ax2.text(0.065, 1.3, r'$\\mathrm{Ratio}$', fontsize=fontsize)\n",
    "ax2.tick_params(axis = 'both', which = 'major', labelsize=fontsize, direction='in')\n",
    "ax2.tick_params(axis = 'both', which = 'minor', labelsize=fontsize, direction='in')\n",
    "ax2.set_xlim(ylow, yhigh)\n",
    "ax2.set_ylim(0.8, 1.6)\n",
    "ax2.hlines(1., 0., 1., color='b', lw=lw)\n",
    "# ---------------------------------------------------------------------------------------------------\n",
    "# General\n",
    "plt.tight_layout()\n",
    "plt.subplots_adjust(wspace=0, hspace=0)\n",
    "plt.show()\n",
    "fig.savefig(PICS + \"MC_Peak_Count_Average.pdf\",\n",
    "            bbox_inches='tight')"
   ]
  },
  {
   "cell_type": "code",
   "execution_count": 11,
   "metadata": {},
   "outputs": [],
   "source": [
    "# How to store\n",
    "plot_data = {\n",
    "    \"densities\": densities,\n",
    "    \"sim_Y\": plot_data / 1e3,\n",
    "    \"sim_Y_err\": flash_vs_dens_std * scaling / 1e3,\n",
    "}\n",
    "pickle.dump(plot_data, open( \"C:\\\\Users\\\\steph\\\\Documents\\\\PhD\\\\unified_thesis_plots\\\\data\\\\bio_dens_flash.p\", \"wb\"))"
   ]
  },
  {
   "cell_type": "code",
   "execution_count": null,
   "metadata": {},
   "outputs": [],
   "source": []
  }
 ],
 "metadata": {
  "kernelspec": {
   "display_name": "Python 3",
   "language": "python",
   "name": "python3"
  },
  "language_info": {
   "codemirror_mode": {
    "name": "ipython",
    "version": 3
   },
   "file_extension": ".py",
   "mimetype": "text/x-python",
   "name": "python",
   "nbconvert_exporter": "python",
   "pygments_lexer": "ipython3",
   "version": "3.7.6"
  }
 },
 "nbformat": 4,
 "nbformat_minor": 2
}
