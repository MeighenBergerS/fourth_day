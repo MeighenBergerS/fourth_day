{
 "cells": [
  {
   "cell_type": "code",
   "execution_count": 1,
   "metadata": {},
   "outputs": [],
   "source": [
    "# Name: example_density_analysis.ipynb\n",
    "# Authors: Stephan Meighen-Berger\n",
    "# Example simulation runs to check the number of flashes vs organism density\n",
    "# This includes an example how to construct a custom detector"
   ]
  },
  {
   "cell_type": "code",
   "execution_count": 2,
   "metadata": {},
   "outputs": [],
   "source": [
    "# General imports\n",
    "import numpy as np\n",
    "import matplotlib.pyplot as plt\n",
    "import sys\n",
    "from tqdm import tqdm\n",
    "import pickle\n",
    "from matplotlib.lines import Line2D"
   ]
  },
  {
   "cell_type": "code",
   "execution_count": 3,
   "metadata": {},
   "outputs": [],
   "source": [
    "# Adding path to module\n",
    "sys.path.append(\"../\")"
   ]
  },
  {
   "cell_type": "code",
   "execution_count": 4,
   "metadata": {},
   "outputs": [],
   "source": [
    "from matplotlib import rc\n",
    "rc('font',**{'family':'sans-serif','sans-serif':['Helvetica']})\n",
    "rc('text', usetex=True)"
   ]
  },
  {
   "cell_type": "code",
   "execution_count": 5,
   "metadata": {},
   "outputs": [],
   "source": [
    "# picture path\n",
    "PICS = '../pics/'"
   ]
  },
  {
   "cell_type": "code",
   "execution_count": 6,
   "metadata": {},
   "outputs": [],
   "source": [
    "# Module imports\n",
    "from fourth_day import Fourth_Day, config"
   ]
  },
  {
   "cell_type": "code",
   "execution_count": 7,
   "metadata": {},
   "outputs": [],
   "source": [
    "# Density function\n",
    "# Converts a given density organisms/m^3 to something usable by Fourth Day\n",
    "def dens2fd(density, ylength, current_velocity):\n",
    "    # Injection density\n",
    "    injection_volume_per_time_step = ylength * current_velocity\n",
    "    org_per_time_step = injection_volume_per_time_step * density\n",
    "    return org_per_time_step"
   ]
  },
  {
   "cell_type": "code",
   "execution_count": 8,
   "metadata": {},
   "outputs": [],
   "source": [
    "# Scenario Settings\n",
    "# These are general settings pertaining to the simulation run\n",
    "config['scenario']['population size'] = 10  # The starting population size\n",
    "config['scenario']['exclusion'] = True  # If an exclusion zone should be used (the detector)\n",
    "config['scenario']['injection']['rate'] = 1e-2  #  Injection rate in per second, a distribution is constructed from this value\n",
    "config['scenario']['injection']['y range'] = [0.5 * 15. - 0.15 - 2.5, 0.5 * 15. - 0.15 + 2.5]  # The y-range of injection\n",
    "config['scenario']['light prop'] = {  # Where the emitted light should be propagated to (typically the detector location)\n",
    "            \"switch\": False,  # If light should be propagated\n",
    "            \"x_pos\": 3.,  # The x-coordinates\n",
    "            \"y_pos\": 0.5 * 15. - 0.15,  # The y-coordinates\n",
    "        }\n",
    "config['scenario']['detector'] = {  # detector specific properties, positions are defined as offsets from the light prop values\n",
    "    \"switch\": False,  # If the detector should be modelled\n",
    "    \"type\": \"PMTSpec\",  # Detector name, implemented types are given in the config\n",
    "    \"response\": True,  # If a detector response should be used\n",
    "    \"acceptance\": \"Flat\",  # Flat acceptance\n",
    "    \"mean detection prob\": 0.5  # Used for the acceptance calculation\n",
    "}\n",
    "# ---------------------------------------------\n",
    "# Organisms\n",
    "# Organisms properties are defined here\n",
    "config['organisms']['emission fraction'] = 0.2  # Amount of energy an organism uses per pulse\n",
    "config['organisms']['alpha'] = 1e1  # Proportionality factor for the emission probability\n",
    "config['organisms'][\"minimal shear stress\"] = 0.05  # The minimal amount of shear stress needed to emit (generic units)\n",
    "config[\"organisms\"][\"filter\"] = 'depth'  # Method of filtering organisms (here depth)\n",
    "config[\"organisms\"][\"depth filter\"] = 1000.  # Organisms need to exist below this depth\n",
    "# ---------------------------------------------\n",
    "# Geometry\n",
    "# These settings define the geometry of the system\n",
    "# Typically a box (simulation volume) with a spherical exclusion zone (detector)\n",
    "config['geometry']['volume'] = {\n",
    "    'function': 'rectangle',\n",
    "    'x_length': 30.,\n",
    "    'y_length': 15.,\n",
    "    'offset': None,\n",
    "}\n",
    "# Reduce the observation size to reduce the computational load\n",
    "config['geometry']['observation'] = {\n",
    "    'function': 'rectangle',\n",
    "    'x_length': 30.,\n",
    "    'y_length': 15.,\n",
    "    \"offset\": np.array([0., 0.]),\n",
    "}\n",
    "# The detector volume\n",
    "config['geometry'][\"exclusion\"] = {\n",
    "    \"function\": \"sphere\",\n",
    "    \"radius\": 0.15,\n",
    "    \"x_pos\": 3.,\n",
    "    \"y_pos\": 0.5 * 15. - 0.15,\n",
    "}\n",
    "# ---------------------------------------------\n",
    "# Water\n",
    "# Properties of the current model\n",
    "config['water']['model']['name'] = 'custom'  # Use a custom (non analytic) model\n",
    "config['water']['model']['off set'] = np.array([0., 0.])  # Offset of the custom model"
   ]
  },
  {
   "cell_type": "code",
   "execution_count": 9,
   "metadata": {
    "scrolled": true
   },
   "outputs": [
    {
     "name": "stderr",
     "output_type": "stream",
     "text": [
      "100%|██████████████████████████████████████████████████████████████████████████████████| 50/50 [07:33<00:00,  9.07s/it]\n",
      "  0%|                                                                                           | 0/50 [00:00<?, ?it/s]"
     ]
    },
    {
     "name": "stdout",
     "output_type": "stream",
     "text": [
      "[0.02]\n"
     ]
    },
    {
     "name": "stderr",
     "output_type": "stream",
     "text": [
      "100%|██████████████████████████████████████████████████████████████████████████████████| 50/50 [07:38<00:00,  9.17s/it]\n",
      "  0%|                                                                                           | 0/50 [00:00<?, ?it/s]"
     ]
    },
    {
     "name": "stdout",
     "output_type": "stream",
     "text": [
      "[0.02, 0.02]\n"
     ]
    },
    {
     "name": "stderr",
     "output_type": "stream",
     "text": [
      "100%|██████████████████████████████████████████████████████████████████████████████████| 50/50 [07:39<00:00,  9.18s/it]\n",
      "  0%|                                                                                           | 0/50 [00:00<?, ?it/s]"
     ]
    },
    {
     "name": "stdout",
     "output_type": "stream",
     "text": [
      "[0.02, 0.02, 0.02]\n"
     ]
    },
    {
     "name": "stderr",
     "output_type": "stream",
     "text": [
      "100%|██████████████████████████████████████████████████████████████████████████████████| 50/50 [08:55<00:00, 10.71s/it]\n",
      "  0%|                                                                                           | 0/50 [00:00<?, ?it/s]"
     ]
    },
    {
     "name": "stdout",
     "output_type": "stream",
     "text": [
      "[0.02, 0.02, 0.02, 0.42]\n"
     ]
    },
    {
     "name": "stderr",
     "output_type": "stream",
     "text": [
      "100%|██████████████████████████████████████████████████████████████████████████████████| 50/50 [10:44<00:00, 12.89s/it]\n",
      "  0%|                                                                                           | 0/50 [00:00<?, ?it/s]"
     ]
    },
    {
     "name": "stdout",
     "output_type": "stream",
     "text": [
      "[0.02, 0.02, 0.02, 0.42, 1.66]\n"
     ]
    },
    {
     "name": "stderr",
     "output_type": "stream",
     "text": [
      "100%|██████████████████████████████████████████████████████████████████████████████████| 50/50 [12:25<00:00, 14.90s/it]\n",
      "  0%|                                                                                           | 0/50 [00:00<?, ?it/s]"
     ]
    },
    {
     "name": "stdout",
     "output_type": "stream",
     "text": [
      "[0.02, 0.02, 0.02, 0.42, 1.66, 2.74]\n"
     ]
    },
    {
     "name": "stderr",
     "output_type": "stream",
     "text": [
      "100%|██████████████████████████████████████████████████████████████████████████████████| 50/50 [16:33<00:00, 19.87s/it]\n",
      "  0%|                                                                                           | 0/50 [00:00<?, ?it/s]"
     ]
    },
    {
     "name": "stdout",
     "output_type": "stream",
     "text": [
      "[0.02, 0.02, 0.02, 0.42, 1.66, 2.74, 5.88]\n"
     ]
    },
    {
     "name": "stderr",
     "output_type": "stream",
     "text": [
      "100%|██████████████████████████████████████████████████████████████████████████████████| 50/50 [16:20<00:00, 19.61s/it]\n",
      "  0%|                                                                                           | 0/50 [00:00<?, ?it/s]"
     ]
    },
    {
     "name": "stdout",
     "output_type": "stream",
     "text": [
      "[0.02, 0.02, 0.02, 0.42, 1.66, 2.74, 5.88, 10.48]\n"
     ]
    },
    {
     "name": "stderr",
     "output_type": "stream",
     "text": [
      "100%|██████████████████████████████████████████████████████████████████████████████████| 50/50 [17:18<00:00, 20.77s/it]\n",
      "  0%|                                                                                           | 0/50 [00:00<?, ?it/s]"
     ]
    },
    {
     "name": "stdout",
     "output_type": "stream",
     "text": [
      "[0.02, 0.02, 0.02, 0.42, 1.66, 2.74, 5.88, 10.48, 17.82]\n"
     ]
    },
    {
     "name": "stderr",
     "output_type": "stream",
     "text": [
      "100%|██████████████████████████████████████████████████████████████████████████████████| 50/50 [19:06<00:00, 22.94s/it]\n",
      "  0%|                                                                                           | 0/50 [00:00<?, ?it/s]"
     ]
    },
    {
     "name": "stdout",
     "output_type": "stream",
     "text": [
      "[0.02, 0.02, 0.02, 0.42, 1.66, 2.74, 5.88, 10.48, 17.82, 29.5]\n"
     ]
    },
    {
     "name": "stderr",
     "output_type": "stream",
     "text": [
      "100%|██████████████████████████████████████████████████████████████████████████████████| 50/50 [22:57<00:00, 27.54s/it]\n",
      "  0%|                                                                                           | 0/50 [00:00<?, ?it/s]"
     ]
    },
    {
     "name": "stdout",
     "output_type": "stream",
     "text": [
      "[0.02, 0.02, 0.02, 0.42, 1.66, 2.74, 5.88, 10.48, 17.82, 29.5, 47.54]\n"
     ]
    },
    {
     "name": "stderr",
     "output_type": "stream",
     "text": [
      "100%|██████████████████████████████████████████████████████████████████████████████████| 50/50 [31:31<00:00, 37.83s/it]\n",
      "  0%|                                                                                           | 0/50 [00:00<?, ?it/s]"
     ]
    },
    {
     "name": "stdout",
     "output_type": "stream",
     "text": [
      "[0.02, 0.02, 0.02, 0.42, 1.66, 2.74, 5.88, 10.48, 17.82, 29.5, 47.54, 80.42]\n"
     ]
    },
    {
     "name": "stderr",
     "output_type": "stream",
     "text": [
      "100%|██████████████████████████████████████████████████████████████████████████████████| 50/50 [39:16<00:00, 47.13s/it]\n",
      "  0%|                                                                                           | 0/50 [00:00<?, ?it/s]"
     ]
    },
    {
     "name": "stdout",
     "output_type": "stream",
     "text": [
      "[0.02, 0.02, 0.02, 0.42, 1.66, 2.74, 5.88, 10.48, 17.82, 29.5, 47.54, 80.42, 131.94]\n"
     ]
    },
    {
     "name": "stderr",
     "output_type": "stream",
     "text": [
      "100%|██████████████████████████████████████████████████████████████████████████████████| 50/50 [51:17<00:00, 61.55s/it]\n",
      "  0%|                                                                                           | 0/50 [00:00<?, ?it/s]"
     ]
    },
    {
     "name": "stdout",
     "output_type": "stream",
     "text": [
      "[0.02, 0.02, 0.02, 0.42, 1.66, 2.74, 5.88, 10.48, 17.82, 29.5, 47.54, 80.42, 131.94, 217.2]\n"
     ]
    },
    {
     "name": "stderr",
     "output_type": "stream",
     "text": [
      "100%|████████████████████████████████████████████████████████████████████████████████| 50/50 [1:20:12<00:00, 96.26s/it]\n"
     ]
    },
    {
     "name": "stdout",
     "output_type": "stream",
     "text": [
      "[0.02, 0.02, 0.02, 0.42, 1.66, 2.74, 5.88, 10.48, 17.82, 29.5, 47.54, 80.42, 131.94, 217.2, 356.94]\n"
     ]
    },
    {
     "name": "stderr",
     "output_type": "stream",
     "text": [
      "findfont: Font family ['sans-serif'] not found. Falling back to DejaVu Sans.\n"
     ]
    },
    {
     "data": {
      "image/png": "[encoded data removed]",
      "text/plain": [
       "<Figure size 216x162 with 1 Axes>"
      ]
     },
     "metadata": {
      "needs_background": "light"
     },
     "output_type": "display_data"
    },
    {
     "name": "stderr",
     "output_type": "stream",
     "text": [
      "100%|██████████████████████████████████████████████████████████████████████████████████| 50/50 [17:53<00:00, 21.46s/it]\n",
      "  0%|                                                                                           | 0/50 [00:00<?, ?it/s]"
     ]
    },
    {
     "name": "stdout",
     "output_type": "stream",
     "text": [
      "[0.0]\n"
     ]
    },
    {
     "name": "stderr",
     "output_type": "stream",
     "text": [
      "100%|██████████████████████████████████████████████████████████████████████████████████| 50/50 [16:57<00:00, 20.35s/it]\n",
      "  0%|                                                                                           | 0/50 [00:00<?, ?it/s]"
     ]
    },
    {
     "name": "stdout",
     "output_type": "stream",
     "text": [
      "[0.0, 0.0]\n"
     ]
    },
    {
     "name": "stderr",
     "output_type": "stream",
     "text": [
      "100%|██████████████████████████████████████████████████████████████████████████████████| 50/50 [16:48<00:00, 20.17s/it]\n",
      "  0%|                                                                                           | 0/50 [00:00<?, ?it/s]"
     ]
    },
    {
     "name": "stdout",
     "output_type": "stream",
     "text": [
      "[0.0, 0.0, 0.0]\n"
     ]
    },
    {
     "name": "stderr",
     "output_type": "stream",
     "text": [
      "100%|██████████████████████████████████████████████████████████████████████████████████| 50/50 [21:29<00:00, 25.78s/it]\n",
      "  0%|                                                                                           | 0/50 [00:00<?, ?it/s]"
     ]
    },
    {
     "name": "stdout",
     "output_type": "stream",
     "text": [
      "[0.0, 0.0, 0.0, 0.86]\n"
     ]
    },
    {
     "name": "stderr",
     "output_type": "stream",
     "text": [
      "100%|██████████████████████████████████████████████████████████████████████████████████| 50/50 [27:58<00:00, 33.57s/it]\n",
      "  0%|                                                                                           | 0/50 [00:00<?, ?it/s]"
     ]
    },
    {
     "name": "stdout",
     "output_type": "stream",
     "text": [
      "[0.0, 0.0, 0.0, 0.86, 1.98]\n"
     ]
    },
    {
     "name": "stderr",
     "output_type": "stream",
     "text": [
      "100%|██████████████████████████████████████████████████████████████████████████████████| 50/50 [30:40<00:00, 36.81s/it]\n",
      "  0%|                                                                                           | 0/50 [00:00<?, ?it/s]"
     ]
    },
    {
     "name": "stdout",
     "output_type": "stream",
     "text": [
      "[0.0, 0.0, 0.0, 0.86, 1.98, 3.72]\n"
     ]
    },
    {
     "name": "stderr",
     "output_type": "stream",
     "text": [
      "100%|██████████████████████████████████████████████████████████████████████████████████| 50/50 [34:29<00:00, 41.39s/it]\n",
      "  0%|                                                                                           | 0/50 [00:00<?, ?it/s]"
     ]
    },
    {
     "name": "stdout",
     "output_type": "stream",
     "text": [
      "[0.0, 0.0, 0.0, 0.86, 1.98, 3.72, 7.28]\n"
     ]
    },
    {
     "name": "stderr",
     "output_type": "stream",
     "text": [
      "100%|██████████████████████████████████████████████████████████████████████████████████| 50/50 [40:41<00:00, 48.83s/it]\n",
      "  0%|                                                                                           | 0/50 [00:00<?, ?it/s]"
     ]
    },
    {
     "name": "stdout",
     "output_type": "stream",
     "text": [
      "[0.0, 0.0, 0.0, 0.86, 1.98, 3.72, 7.28, 14.5]\n"
     ]
    },
    {
     "name": "stderr",
     "output_type": "stream",
     "text": [
      "100%|██████████████████████████████████████████████████████████████████████████████████| 50/50 [48:12<00:00, 57.85s/it]\n",
      "  0%|                                                                                           | 0/50 [00:00<?, ?it/s]"
     ]
    },
    {
     "name": "stdout",
     "output_type": "stream",
     "text": [
      "[0.0, 0.0, 0.0, 0.86, 1.98, 3.72, 7.28, 14.5, 23.58]\n"
     ]
    },
    {
     "name": "stderr",
     "output_type": "stream",
     "text": [
      "100%|██████████████████████████████████████████████████████████████████████████████████| 50/50 [49:17<00:00, 59.14s/it]\n",
      "  0%|                                                                                           | 0/50 [00:00<?, ?it/s]"
     ]
    },
    {
     "name": "stdout",
     "output_type": "stream",
     "text": [
      "[0.0, 0.0, 0.0, 0.86, 1.98, 3.72, 7.28, 14.5, 23.58, 39.34]\n"
     ]
    },
    {
     "name": "stderr",
     "output_type": "stream",
     "text": [
      "100%|██████████████████████████████████████████████████████████████████████████████████| 50/50 [56:24<00:00, 67.69s/it]\n",
      "  0%|                                                                                           | 0/50 [00:00<?, ?it/s]"
     ]
    },
    {
     "name": "stdout",
     "output_type": "stream",
     "text": [
      "[0.0, 0.0, 0.0, 0.86, 1.98, 3.72, 7.28, 14.5, 23.58, 39.34, 64.06]\n"
     ]
    },
    {
     "name": "stderr",
     "output_type": "stream",
     "text": [
      "100%|████████████████████████████████████████████████████████████████████████████████| 50/50 [1:08:16<00:00, 81.93s/it]\n",
      "  0%|                                                                                           | 0/50 [00:00<?, ?it/s]"
     ]
    },
    {
     "name": "stdout",
     "output_type": "stream",
     "text": [
      "[0.0, 0.0, 0.0, 0.86, 1.98, 3.72, 7.28, 14.5, 23.58, 39.34, 64.06, 107.92]\n"
     ]
    },
    {
     "name": "stderr",
     "output_type": "stream",
     "text": [
      "100%|███████████████████████████████████████████████████████████████████████████████| 50/50 [1:26:57<00:00, 104.34s/it]\n",
      "  0%|                                                                                           | 0/50 [00:00<?, ?it/s]"
     ]
    },
    {
     "name": "stdout",
     "output_type": "stream",
     "text": [
      "[0.0, 0.0, 0.0, 0.86, 1.98, 3.72, 7.28, 14.5, 23.58, 39.34, 64.06, 107.92, 180.1]\n"
     ]
    },
    {
     "name": "stderr",
     "output_type": "stream",
     "text": [
      "100%|███████████████████████████████████████████████████████████████████████████████| 50/50 [1:27:06<00:00, 104.54s/it]\n",
      "  0%|                                                                                           | 0/50 [00:00<?, ?it/s]"
     ]
    },
    {
     "name": "stdout",
     "output_type": "stream",
     "text": [
      "[0.0, 0.0, 0.0, 0.86, 1.98, 3.72, 7.28, 14.5, 23.58, 39.34, 64.06, 107.92, 180.1, 292.56]\n"
     ]
    },
    {
     "name": "stderr",
     "output_type": "stream",
     "text": [
      "100%|███████████████████████████████████████████████████████████████████████████████| 50/50 [1:59:17<00:00, 143.15s/it]\n"
     ]
    },
    {
     "name": "stdout",
     "output_type": "stream",
     "text": [
      "[0.0, 0.0, 0.0, 0.86, 1.98, 3.72, 7.28, 14.5, 23.58, 39.34, 64.06, 107.92, 180.1, 292.56, 484.24]\n"
     ]
    },
    {
     "data": {
      "image/png": "[encoded data removed]",
      "text/plain": [
       "<Figure size 216x162 with 1 Axes>"
      ]
     },
     "metadata": {
      "needs_background": "light"
     },
     "output_type": "display_data"
    },
    {
     "name": "stderr",
     "output_type": "stream",
     "text": [
      "100%|██████████████████████████████████████████████████████████████████████████████████| 50/50 [37:02<00:00, 44.44s/it]\n",
      "  0%|                                                                                           | 0/50 [00:00<?, ?it/s]"
     ]
    },
    {
     "name": "stdout",
     "output_type": "stream",
     "text": [
      "[0.02]\n"
     ]
    },
    {
     "name": "stderr",
     "output_type": "stream",
     "text": [
      "100%|██████████████████████████████████████████████████████████████████████████████████| 50/50 [35:51<00:00, 43.02s/it]\n",
      "  0%|                                                                                           | 0/50 [00:00<?, ?it/s]"
     ]
    },
    {
     "name": "stdout",
     "output_type": "stream",
     "text": [
      "[0.02, 0.02]\n"
     ]
    },
    {
     "name": "stderr",
     "output_type": "stream",
     "text": [
      "100%|██████████████████████████████████████████████████████████████████████████████████| 50/50 [36:23<00:00, 43.67s/it]\n",
      "  0%|                                                                                           | 0/50 [00:00<?, ?it/s]"
     ]
    },
    {
     "name": "stdout",
     "output_type": "stream",
     "text": [
      "[0.02, 0.02, 0.02]\n"
     ]
    },
    {
     "name": "stderr",
     "output_type": "stream",
     "text": [
      "100%|██████████████████████████████████████████████████████████████████████████████████| 50/50 [44:33<00:00, 53.47s/it]\n",
      "  0%|                                                                                           | 0/50 [00:00<?, ?it/s]"
     ]
    },
    {
     "name": "stdout",
     "output_type": "stream",
     "text": [
      "[0.02, 0.02, 0.02, 0.86]\n"
     ]
    },
    {
     "name": "stderr",
     "output_type": "stream",
     "text": [
      "100%|██████████████████████████████████████████████████████████████████████████████████| 50/50 [54:25<00:00, 65.32s/it]\n",
      "  0%|                                                                                           | 0/50 [00:00<?, ?it/s]"
     ]
    },
    {
     "name": "stdout",
     "output_type": "stream",
     "text": [
      "[0.02, 0.02, 0.02, 0.86, 1.86]\n"
     ]
    },
    {
     "name": "stderr",
     "output_type": "stream",
     "text": [
      "100%|██████████████████████████████████████████████████████████████████████████████████| 50/50 [59:42<00:00, 71.65s/it]\n",
      "  0%|                                                                                           | 0/50 [00:00<?, ?it/s]"
     ]
    },
    {
     "name": "stdout",
     "output_type": "stream",
     "text": [
      "[0.02, 0.02, 0.02, 0.86, 1.86, 3.28]\n"
     ]
    },
    {
     "name": "stderr",
     "output_type": "stream",
     "text": [
      "100%|████████████████████████████████████████████████████████████████████████████████| 50/50 [1:07:32<00:00, 81.05s/it]\n",
      "  0%|                                                                                           | 0/50 [00:00<?, ?it/s]"
     ]
    },
    {
     "name": "stdout",
     "output_type": "stream",
     "text": [
      "[0.02, 0.02, 0.02, 0.86, 1.86, 3.28, 6.7]\n"
     ]
    },
    {
     "name": "stderr",
     "output_type": "stream",
     "text": [
      "100%|████████████████████████████████████████████████████████████████████████████████| 50/50 [1:11:45<00:00, 86.11s/it]\n",
      "  0%|                                                                                           | 0/50 [00:00<?, ?it/s]"
     ]
    },
    {
     "name": "stdout",
     "output_type": "stream",
     "text": [
      "[0.02, 0.02, 0.02, 0.86, 1.86, 3.28, 6.7, 13.78]\n"
     ]
    },
    {
     "name": "stderr",
     "output_type": "stream",
     "text": [
      "100%|████████████████████████████████████████████████████████████████████████████████| 50/50 [1:23:10<00:00, 99.80s/it]\n",
      "  0%|                                                                                           | 0/50 [00:00<?, ?it/s]"
     ]
    },
    {
     "name": "stdout",
     "output_type": "stream",
     "text": [
      "[0.02, 0.02, 0.02, 0.86, 1.86, 3.28, 6.7, 13.78, 22.44]\n"
     ]
    },
    {
     "name": "stderr",
     "output_type": "stream",
     "text": [
      "100%|███████████████████████████████████████████████████████████████████████████████| 50/50 [1:35:05<00:00, 114.11s/it]\n",
      "  0%|                                                                                           | 0/50 [00:00<?, ?it/s]"
     ]
    },
    {
     "name": "stdout",
     "output_type": "stream",
     "text": [
      "[0.02, 0.02, 0.02, 0.86, 1.86, 3.28, 6.7, 13.78, 22.44, 35.58]\n"
     ]
    },
    {
     "name": "stderr",
     "output_type": "stream",
     "text": [
      "100%|███████████████████████████████████████████████████████████████████████████████| 50/50 [1:47:22<00:00, 128.86s/it]\n",
      "  0%|                                                                                           | 0/50 [00:00<?, ?it/s]"
     ]
    },
    {
     "name": "stdout",
     "output_type": "stream",
     "text": [
      "[0.02, 0.02, 0.02, 0.86, 1.86, 3.28, 6.7, 13.78, 22.44, 35.58, 58.64]\n"
     ]
    },
    {
     "name": "stderr",
     "output_type": "stream",
     "text": [
      "100%|███████████████████████████████████████████████████████████████████████████████| 50/50 [2:18:01<00:00, 165.63s/it]\n",
      "  0%|                                                                                           | 0/50 [00:00<?, ?it/s]"
     ]
    },
    {
     "name": "stdout",
     "output_type": "stream",
     "text": [
      "[0.02, 0.02, 0.02, 0.86, 1.86, 3.28, 6.7, 13.78, 22.44, 35.58, 58.64, 101.42]\n"
     ]
    },
    {
     "name": "stderr",
     "output_type": "stream",
     "text": [
      "100%|███████████████████████████████████████████████████████████████████████████████| 50/50 [2:47:10<00:00, 200.60s/it]\n",
      "  0%|                                                                                           | 0/50 [00:00<?, ?it/s]"
     ]
    },
    {
     "name": "stdout",
     "output_type": "stream",
     "text": [
      "[0.02, 0.02, 0.02, 0.86, 1.86, 3.28, 6.7, 13.78, 22.44, 35.58, 58.64, 101.42, 161.84]\n"
     ]
    },
    {
     "name": "stderr",
     "output_type": "stream",
     "text": [
      "100%|███████████████████████████████████████████████████████████████████████████████| 50/50 [3:17:20<00:00, 236.80s/it]\n",
      "  0%|                                                                                           | 0/50 [00:00<?, ?it/s]"
     ]
    },
    {
     "name": "stdout",
     "output_type": "stream",
     "text": [
      "[0.02, 0.02, 0.02, 0.86, 1.86, 3.28, 6.7, 13.78, 22.44, 35.58, 58.64, 101.42, 161.84, 263.72]\n"
     ]
    },
    {
     "name": "stderr",
     "output_type": "stream",
     "text": [
      "100%|███████████████████████████████████████████████████████████████████████████████| 50/50 [4:41:57<00:00, 338.34s/it]\n"
     ]
    },
    {
     "name": "stdout",
     "output_type": "stream",
     "text": [
      "[0.02, 0.02, 0.02, 0.86, 1.86, 3.28, 6.7, 13.78, 22.44, 35.58, 58.64, 101.42, 161.84, 263.72, 437.28]\n"
     ]
    },
    {
     "data": {
      "image/png": "[encoded data removed]",
      "text/plain": [
       "<Figure size 216x162 with 1 Axes>"
      ]
     },
     "metadata": {
      "needs_background": "light"
     },
     "output_type": "display_data"
    }
   ],
   "source": [
    "# Launching multiple simulations to use in the analysis\n",
    "seeds = range(50)\n",
    "densities = np.logspace(-3., 0., 15)\n",
    "water_models = [\n",
    "    [\"run_10cm_npy/\", 0.1, 1, r'$10\\;\\mathrm{cm/s}$', '10cm', 12.],\n",
    "    [\"run_5cm_npy/\", 0.05, 2, r'$5\\;\\mathrm{cm/s}$', '5cm', 6.],\n",
    "    [\"run_2cm_npy/\", 0.02, 5, r'$2\\;\\mathrm{cm/s}$', '2cm', 2.4]\n",
    "    ]\n",
    "for model in water_models:\n",
    "    flash_vs_dens = []\n",
    "    flash_vs_dens_std = []\n",
    "    for density in densities:\n",
    "        inject_org = dens2fd(density, 5., model[1])\n",
    "        peak_arr = []\n",
    "        for seed in tqdm(seeds):\n",
    "            # General\n",
    "            config[\"general\"][\"random state seed\"] = seed\n",
    "            config['scenario']['population size'] = 10\n",
    "            config['scenario']['injection']['rate'] = inject_org\n",
    "            config['scenario']['duration'] = 600 * model[2]  # Total simulation time in seconds\n",
    "            config[\"scenario\"][\"statistics storage\"][\"name\"] = \"dens_run_dens_2cm_%.1e_seed_%d\" %(density, seed)\n",
    "            config['water']['model']['directory'] = \"../data/current/Parabola_5mm/\" + model[0]  # The files used by the custom model\n",
    "            config['water']['model']['time step'] = model[2]  # in Seconds\n",
    "            # Creating a fourth_day object\n",
    "            fd = Fourth_Day()\n",
    "            # Launching solver\n",
    "            fd.sim()\n",
    "            # Skipping the warm-up phase\n",
    "            total_flashes = 0.\n",
    "            # Skipping the first cycle\n",
    "            warm_up = int(600 * model[2] / 2)\n",
    "            for stat in fd.statistics[warm_up:]:\n",
    "                total_flashes += np.sum(stat[\"pulse start\"])\n",
    "            peak_arr.append(total_flashes)\n",
    "        peak_arr = np.array(peak_arr)\n",
    "        flash_vs_dens.append(np.mean(peak_arr))\n",
    "        flash_vs_dens_std.append(np.std(peak_arr))\n",
    "    flash_vs_dens = np.array(flash_vs_dens)\n",
    "    flash_vs_dens_std = np.array(flash_vs_dens_std)\n",
    "    # ---------------------------------------------------------------------------------------------------\n",
    "    # Plotting\n",
    "    plot_data = np.copy(flash_vs_dens)\n",
    "    scaling = model[5]  # Conversion to per hour\n",
    "    plot_data = plot_data * scaling  # Average per hour\n",
    "    # z1 = np.polyfit(densities, plot_data, 1, w=1./flash_vs_dens_std)\n",
    "    # z = np.polyfit(densities, plot_data, 2, w=1./flash_vs_dens_std)\n",
    "    # p1 = np.poly1d(z1)\n",
    "    # p = np.poly1d(z)\n",
    "    # Plotting standards\n",
    "    std_size = 3.\n",
    "    fontsize = 10.\n",
    "    lw=1.\n",
    "    h_length=1.\n",
    "    # Plot figure with subplots of different sizes\n",
    "    fig, ax1 = plt.subplots(1, 1, figsize=(std_size, std_size * 6. / 8.), sharex=True)\n",
    "    # ---------------------------------------------------------------------------------------------------\n",
    "    # Plot parameters\n",
    "    ylow = 1e-3\n",
    "    yhigh = 0.2\n",
    "    # xlow = 0\n",
    "    # xhigh = 10\n",
    "    # ---------------------------------------------------------------------------------------------------\n",
    "    # The average emissions\n",
    "    ax1.errorbar(\n",
    "        densities,\n",
    "        plot_data,\n",
    "        yerr= flash_vs_dens_std * scaling,\n",
    "        linestyle=\"None\", color='k', label=r'$\\mathrm{Simulation}$')\n",
    "    # ax1.plot(np.logspace(-4, 0, 100), p1(np.logspace(-4, 0, 100)), 'r', lw=lw, ls='--', label=r'$\\mathrm{Linear}$')\n",
    "    ax1.set_xscale('log')\n",
    "    ax1.set_yscale('log')\n",
    "    ax1.tick_params(axis = 'both', which = 'major', labelsize=fontsize, direction='in')\n",
    "    ax1.tick_params(axis = 'both', which = 'minor', labelsize=fontsize, direction='in')\n",
    "    # ax1.set_xlim(ylow, yhigh)\n",
    "    # ax1.set_ylim(1e0, 1e4)\n",
    "    h, l = ax1.get_legend_handles_labels()\n",
    "    lgd1 = ax1.legend(h[:2],l[:2], loc=9, bbox_to_anchor=(0.5, +1.2),\n",
    "                      ncol=5, fontsize=fontsize, handlelength=h_length,\n",
    "                      fancybox=True, frameon=False)\n",
    "    ax1.add_artist(lgd1)\n",
    "    # ---------------------------------------------------------------------------------------------------\n",
    "    ax1.set_xlabel(r'$\\mathrm{Density}$', fontsize=fontsize)\n",
    "    ax1.set_ylabel(r'$\\mathrm{Flashes}\\;\\left[\\mathrm{h}^{-1}\\right]$', fontsize=fontsize)\n",
    "    # ---------------------------------------------------------------------------------------------------\n",
    "    # General\n",
    "    plt.tight_layout()\n",
    "    plt.subplots_adjust(wspace=0, hspace=0)\n",
    "    plt.show()\n",
    "    fig.savefig(PICS + \"MC_Peak_Count_Average_\" + model[4] + '.png',\n",
    "                bbox_inches='tight')\n",
    "    # Storing plot data\n",
    "    pickle.dump([densities, plot_data, flash_vs_dens_std * scaling], open(\"../data/storage/density_data_\" + model[4] + '.p',\n",
    "                                                                                 \"wb\"))"
   ]
  },
  {
   "cell_type": "code",
   "execution_count": 8,
   "metadata": {},
   "outputs": [],
   "source": [
    "def priede_function(rad_sphere, rad_animal, v, density):\n",
    "    \"\"\" calculates the expected number of flashes according to priede\n",
    "    https://www.sciencedirect.com/science/article/pii/S0967063708001465\n",
    "\n",
    "    Parameters\n",
    "    ----------\n",
    "    rad_shere : float\n",
    "        The radius of the sphere in m\n",
    "    rad_animal : float\n",
    "        The radius of the animal in m\n",
    "    v : float\n",
    "        The water current velocity in m/s\n",
    "    density: np.array / float\n",
    "        The density of organisms m^{-3}\n",
    "\n",
    "    Returns\n",
    "    -------\n",
    "    np.array / float\n",
    "        The expected number of flashes \n",
    "    \"\"\"\n",
    "    return (\n",
    "        np.pi * (rad_sphere + rad_animal)**2. * v * density\n",
    "    )"
   ]
  },
  {
   "cell_type": "code",
   "execution_count": 9,
   "metadata": {},
   "outputs": [],
   "source": [
    "data_priede = np.array([\n",
    "    [0.622, 16.59],\n",
    "    [0.068, 1.84],\n",
    "    [0.043, 1.16],\n",
    "    [0.018, 0.49]\n",
    "])\n",
    "water_models = [\n",
    "    [\"run_10cm_npy/\", 0.1, 1, r'$10\\;\\mathrm{cm/s}$', '10cm', 12.],\n",
    "    [\"run_5cm_npy/\", 0.05, 2, r'$5\\;\\mathrm{cm/s}$', '5cm', 6.],\n",
    "    [\"run_2cm_npy/\", 0.02, 5, r'$2\\;\\mathrm{cm/s}$', '2cm', 2.4]\n",
    "]"
   ]
  },
  {
   "cell_type": "code",
   "execution_count": 25,
   "metadata": {},
   "outputs": [
    {
     "name": "stdout",
     "output_type": "stream",
     "text": [
      "[4258.96006407   -7.55582915]\n",
      "[2850.49406289   -5.07874519]\n",
      "[1044.65740762   -1.85817524]\n"
     ]
    },
    {
     "data": {
      "image/png": "[encoded data removed]",
      "text/plain": [
       "<Figure size 216x162 with 1 Axes>"
      ]
     },
     "metadata": {
      "needs_background": "light"
     },
     "output_type": "display_data"
    }
   ],
   "source": [
    "# Creating plots\n",
    "densities = {}\n",
    "plot_data = {}\n",
    "flash_dens = {}\n",
    "fit_lin = {}\n",
    "fit_poly = {}\n",
    "colors = ['#1b9e77', '#d95f02', '#7570b3']\n",
    "for model in water_models:\n",
    "    loaded_data = pickle.load(open(\"../data/storage/density_data_\" + model[4] + '.p', \"rb\"))\n",
    "    densities[model[4]] = loaded_data[0]\n",
    "    plot_data[model[4]] = loaded_data[1]\n",
    "    flash_dens[model[4]] = loaded_data[2]\n",
    "    z1 = np.polyfit(densities[model[4]], plot_data[model[4]], 1, w=1./(flash_dens[model[4]]+1.))\n",
    "    print(z1)\n",
    "    z2 = np.polyfit(densities[model[4]], plot_data[model[4]], 3)\n",
    "    fit_lin[model[4]] = np.poly1d(z1)\n",
    "    fit_poly[model[4]] = np.poly1d(z2)\n",
    "# ---------------------------------------------------------------------------------------------------\n",
    "# Plotting\n",
    "\n",
    "# Plotting standards\n",
    "std_size = 3.\n",
    "fontsize = 10.\n",
    "lw=1.\n",
    "h_length=1.\n",
    "export_dpi = 500  # Dpi for the image export\n",
    "# Plot figure with subplots of different sizes\n",
    "fig, ax1 = plt.subplots(1, 1, figsize=(std_size, std_size * 6. / 8.), sharex=True)\n",
    "# ---------------------------------------------------------------------------------------------------\n",
    "# Plot parameters\n",
    "ylow = 1e-3\n",
    "yhigh = 0.2\n",
    "# xlow = 0\n",
    "# xhigh = 10\n",
    "# ---------------------------------------------------------------------------------------------------\n",
    "# The average emissions\n",
    "for id_model, model in enumerate(water_models):\n",
    "    ax1.errorbar(\n",
    "        densities[model[4]],\n",
    "        plot_data[model[4]],\n",
    "        yerr=np.sqrt(plot_data[model[4]])*5.,\n",
    "        linestyle=\"None\", marker='o', markersize=2, elinewidth=1, capsize=2., color=colors[id_model])\n",
    "    ax1.plot(np.logspace(-4, 0, 100), fit_lin[model[4]](np.logspace(-4, 0, 100)),\n",
    "             lw=lw, ls='-', color=colors[id_model], label=model[3])\n",
    "    ax1.plot(np.logspace(-4, 0, 100),\n",
    "             priede_function(0.15, 0.05, model[1], np.logspace(-4, 0, 100)) * 60. * 60.,\n",
    "             lw=lw, ls='--', color=colors[id_model])\n",
    "    ax1.errorbar(densities[model[4]],\n",
    "             priede_function(0.15, 0.05, model[1], densities[model[4]]) * 60. * 60.,\n",
    "             yerr=priede_function(0.15, 0.05, model[1], densities[model[4]]) * 60. * 60. * 0.1,\n",
    "             lw=lw, ls='', color=colors[id_model], marker='*', markersize=2)\n",
    "    # ax1.plot(np.logspace(-4, 0, 100), fit_poly[model[4]](np.logspace(-4, 0, 100)),\n",
    "    #          lw=lw, ls='-', color=colors[id_model])\n",
    "# ax1.scatter(data_priede[:, 0], data_priede[:, 1], color='k')\n",
    "# ---------------------------------------------------------------------------------------------------\n",
    "ax1.set_xlabel(r'$\\mathrm{Density\\; [Org. / m^{-3}]}$', fontsize=fontsize)\n",
    "ax1.set_ylabel(r'$\\mathrm{Flashes}\\;\\left[\\mathrm{h}^{-1}\\right]$', fontsize=fontsize)\n",
    "ax1.set_xscale('log')\n",
    "ax1.set_yscale('log')\n",
    "ax1.tick_params(axis = 'both', which = 'major', labelsize=fontsize, direction='in')\n",
    "ax1.tick_params(axis = 'both', which = 'minor', labelsize=fontsize, direction='in')\n",
    "ax1.set_xlim(1e-3, 2e0)\n",
    "ax1.set_ylim(1e-2, 1e4)\n",
    "# --------------------------------------------------------------------------------------------------\n",
    "custom_lines = [Line2D([0], [0], color='k', lw=1, ls='-', label=r'$\\mathrm{MC\\;Fit}$'),\n",
    "                Line2D([0], [0], color='k', lw=1, ls='--', label=r'$\\mathrm{Encounters}$')]\n",
    "h, l = ax1.get_legend_handles_labels()\n",
    "lgd1 = ax1.legend(h[:3],l[:3], loc=9, bbox_to_anchor=(0.5, +1.3),\n",
    "                  ncol=5, fontsize=fontsize, handlelength=h_length,\n",
    "                  fancybox=True, frameon=False)\n",
    "lgd2 = ax1.legend(custom_lines, [r'$\\mathrm{MC\\;Fit}$', r'$\\mathrm{Encounters}$'],\n",
    "                  loc=9, bbox_to_anchor=(0.5, +1.2),\n",
    "                  ncol=5, fontsize=fontsize, handlelength=h_length,\n",
    "                  fancybox=True, frameon=False)\n",
    "ax1.add_artist(lgd1)\n",
    "# ---------------------------------------------------------------------------------------------------\n",
    "# General\n",
    "plt.tight_layout()\n",
    "plt.subplots_adjust(wspace=0, hspace=0)\n",
    "plt.show()\n",
    "fig.savefig(PICS + \"MC_Peak_Count_Average.png\",\n",
    "            bbox_inches='tight', dpi=export_dpi)"
   ]
  }
 ],
 "metadata": {
  "interpreter": {
   "hash": "904ccb1227efbef717d526345be67ea66dc100e23c9cff416769e656c3d92628"
  },
  "kernelspec": {
   "display_name": "Python 3.9.5 64-bit ('fd': conda)",
   "name": "python3"
  },
  "language_info": {
   "codemirror_mode": {
    "name": "ipython",
    "version": 3
   },
   "file_extension": ".py",
   "mimetype": "text/x-python",
   "name": "python",
   "nbconvert_exporter": "python",
   "pygments_lexer": "ipython3",
   "version": "3.9.5"
  }
 },
 "nbformat": 4,
 "nbformat_minor": 2
}
