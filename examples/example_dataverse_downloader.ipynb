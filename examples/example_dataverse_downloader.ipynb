{
 "cells": [
  {
   "cell_type": "code",
   "execution_count": 1,
   "id": "e2f972bb",
   "metadata": {},
   "outputs": [],
   "source": [
    "# example_dataverse_downloader\n",
    "# Authors: Stephan Meighen-Berger\n",
    "# A very basic example how to use the pyDataverse package (which you need to install using pip) to download\n",
    "# Fourth Day water current data. Note this is a very SLOW example!!!\n",
    "# For more details please check https://pydataverse.readthedocs.io/en/latest/user/basic-usage.html\n",
    "# TODO: Add a checker, which makes sure the files have been written correctly"
   ]
  },
  {
   "cell_type": "code",
   "execution_count": 2,
   "id": "36a7efa7",
   "metadata": {},
   "outputs": [],
   "source": [
    "# Imports\n",
    "from pyDataverse.api import NativeApi, DataAccessApi\n",
    "from pyDataverse.models import Dataverse\n",
    "import os\n",
    "from tqdm import tqdm  # used to keep track how far along the writer is"
   ]
  },
  {
   "cell_type": "code",
   "execution_count": 3,
   "id": "314bc893",
   "metadata": {},
   "outputs": [],
   "source": [
    "# The basic url for the dataverse data location\n",
    "base_url = 'https://dataverse.harvard.edu/'"
   ]
  },
  {
   "cell_type": "code",
   "execution_count": 4,
   "id": "4bbf79b7",
   "metadata": {},
   "outputs": [],
   "source": [
    "# Setting up some apis\n",
    "api = NativeApi(base_url)\n",
    "data_api = DataAccessApi(base_url)"
   ]
  },
  {
   "cell_type": "code",
   "execution_count": 5,
   "id": "2aef3946",
   "metadata": {},
   "outputs": [],
   "source": [
    "# The data doi. This is the basic water current simulation we currently recommend using\n",
    "DOI = \"doi:10.7910/DVN/CNMW2S\""
   ]
  },
  {
   "cell_type": "code",
   "execution_count": 6,
   "id": "785b1892",
   "metadata": {},
   "outputs": [],
   "source": [
    "# Downloading the data. The size is approximately 4.3 GB so please make sure you have room\n",
    "dataset = api.get_dataset(DOI)"
   ]
  },
  {
   "cell_type": "code",
   "execution_count": 7,
   "id": "73f1b340",
   "metadata": {},
   "outputs": [],
   "source": [
    "# The list of all files in the data set\n",
    "files_list = dataset.json()['data']['latestVersion']['files']\n",
    "# The storage location, this can be customized\n",
    "storage_location = '../data/current/Parabola_5mm/'"
   ]
  },
  {
   "cell_type": "code",
   "execution_count": 8,
   "id": "4b6bb0c8",
   "metadata": {},
   "outputs": [],
   "source": [
    "# Function to make sure the required directory structure is created\n",
    "def ensure_dir(file_path):\n",
    "    directory = os.path.dirname(file_path)\n",
    "    if not os.path.exists(directory):\n",
    "        os.makedirs(directory)"
   ]
  },
  {
   "cell_type": "code",
   "execution_count": 9,
   "id": "771f43d4",
   "metadata": {},
   "outputs": [
    {
     "name": "stderr",
     "output_type": "stream",
     "text": [
      "100%|██████████████████████████████████████████████████████████████████████████████| 3612/3612 [14:03<00:00,  4.28it/s]\n"
     ]
    }
   ],
   "source": [
    "# Writing files\n",
    "# Connection is required here.\n",
    "for file in tqdm(files_list):\n",
    "    filename = file[\"dataFile\"][\"filename\"]\n",
    "    file_id = file[\"dataFile\"][\"id\"]\n",
    "    file_path = file[\"directoryLabel\"]\n",
    "    storage_path = storage_location + file_path + \"/\" + filename\n",
    "    ensure_dir(storage_path)\n",
    "    if os.path.isfile(storage_path):\n",
    "        continue\n",
    "    else:\n",
    "        response = data_api.get_datafile(file_id)\n",
    "        with open(storage_path, \"wb\") as f:\n",
    "            f.write(response.content)"
   ]
  },
  {
   "cell_type": "code",
   "execution_count": null,
   "id": "52d3c037",
   "metadata": {},
   "outputs": [],
   "source": []
  }
 ],
 "metadata": {
  "kernelspec": {
   "display_name": "Python 3",
   "language": "python",
   "name": "python3"
  },
  "language_info": {
   "codemirror_mode": {
    "name": "ipython",
    "version": 3
   },
   "file_extension": ".py",
   "mimetype": "text/x-python",
   "name": "python",
   "nbconvert_exporter": "python",
   "pygments_lexer": "ipython3",
   "version": "3.9.5"
  }
 },
 "nbformat": 4,
 "nbformat_minor": 5
}
