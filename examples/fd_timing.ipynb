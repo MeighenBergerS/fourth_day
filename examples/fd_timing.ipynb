{
 "cells": [
  {
   "cell_type": "code",
   "execution_count": 1,
   "metadata": {},
   "outputs": [
    {
     "data": {
      "text/plain": [
       "'\\nName: fd_timing.ipynb\\nAuthors: Stephan Meighen-Berger, Martina Karl\\nTests the simulation time depending on population\\n'"
      ]
     },
     "execution_count": 1,
     "metadata": {},
     "output_type": "execute_result"
    }
   ],
   "source": [
    "\"\"\"\n",
    "Name: fd_timing.ipynb\n",
    "Authors: Stephan Meighen-Berger, Martina Karl\n",
    "Tests the simulation time depending on population\n",
    "\"\"\""
   ]
  },
  {
   "cell_type": "code",
   "execution_count": 2,
   "metadata": {},
   "outputs": [],
   "source": [
    "# General imports\n",
    "import numpy as np\n",
    "import matplotlib.pyplot as plt\n",
    "import sys\n",
    "from time import time\n",
    "from tqdm import tqdm"
   ]
  },
  {
   "cell_type": "code",
   "execution_count": 3,
   "metadata": {},
   "outputs": [],
   "source": [
    "# Latex text rendering\n",
    "from matplotlib import rc\n",
    "rc('font',**{'family':'sans-serif','sans-serif':['Helvetica']})\n",
    "rc('text', usetex=True)"
   ]
  },
  {
   "cell_type": "code",
   "execution_count": 4,
   "metadata": {},
   "outputs": [],
   "source": [
    "# Adding path to module\n",
    "sys.path.append(\"../core/\")"
   ]
  },
  {
   "cell_type": "code",
   "execution_count": 5,
   "metadata": {},
   "outputs": [],
   "source": [
    "# picture path\n",
    "PICS = '../pics/'"
   ]
  },
  {
   "cell_type": "code",
   "execution_count": 6,
   "metadata": {},
   "outputs": [],
   "source": [
    "# Module imports\n",
    "from fourth_day import FD\n",
    "from fd_config import config"
   ]
  },
  {
   "cell_type": "code",
   "execution_count": 7,
   "metadata": {},
   "outputs": [
    {
     "name": "stderr",
     "output_type": "stream",
     "text": [
      "  0%|                                                                                           | 0/19 [00:00<?, ?it/s]../core\\fd_roll_dice.py:280: RuntimeWarning: invalid value encountered in double_scalars\n",
      "  (np.linalg.norm(new_vec) * np.linalg.norm(current_vec))\n",
      "100%|██████████████████████████████████████████████████████████████████████████████████| 19/19 [09:18<00:00, 29.40s/it]\n"
     ]
    }
   ],
   "source": [
    "populations = [10, 20, 30, 40, 50, 60, 70, 80, 90,\n",
    "               100, 200, 300, 400, 500, 600, 700, 800, 900,\n",
    "               1000\n",
    "              ]\n",
    "timing = []\n",
    "for pop in tqdm(populations):\n",
    "    start = time()\n",
    "    # Setting population\n",
    "    config['population'] = pop\n",
    "    # Creating a fourth_day object\n",
    "    fd = FD(config=config)\n",
    "    # Launching solver\n",
    "    fd.sim()\n",
    "    end = time()\n",
    "    timing.append(end - start)"
   ]
  },
  {
   "cell_type": "code",
   "execution_count": 8,
   "metadata": {},
   "outputs": [],
   "source": [
    "# Plotting standards\n",
    "std_size = 10.\n",
    "fontsize = 20.\n",
    "lw=3.\n",
    "h_length=1.5"
   ]
  },
  {
   "cell_type": "code",
   "execution_count": 9,
   "metadata": {},
   "outputs": [
    {
     "data": {
      "image/png": "[encoded data removed]",
      "text/plain": [
       "<Figure size 720x540 with 1 Axes>"
      ]
     },
     "metadata": {
      "needs_background": "light"
     },
     "output_type": "display_data"
    }
   ],
   "source": [
    "# Energy distributions\n",
    "figure, ax = plt.subplots(figsize=(std_size, std_size * 6. / 8.))\n",
    "ax.scatter(populations, timing, s=lw*30, color='k')\n",
    "# ax.set_xlim(1e0, max(fd.results['t']))\n",
    "# ax.set_ylim(1e-2, 1e2)\n",
    "ax.set_xscale('log')\n",
    "ax.set_yscale('linear')\n",
    "ax.set_xlabel(r'$Population$', fontsize=fontsize)\n",
    "ax.set_ylabel(r'$Time$ $[s]$', fontsize=fontsize)\n",
    "ax.tick_params(axis = 'both', which = 'major', labelsize=fontsize, direction='in')\n",
    "ax.tick_params(axis = 'both', which = 'minor', labelsize=fontsize, direction='in')\n",
    "plt.grid(True)\n",
    "plt.show()"
   ]
  },
  {
   "cell_type": "code",
   "execution_count": 10,
   "metadata": {},
   "outputs": [],
   "source": [
    "figure.savefig(PICS + \"Timing.png\",\n",
    "               bbox_inches='tight')"
   ]
  },
  {
   "cell_type": "code",
   "execution_count": null,
   "metadata": {},
   "outputs": [],
   "source": []
  }
 ],
 "metadata": {
  "kernelspec": {
   "display_name": "Python 3",
   "language": "python",
   "name": "python3"
  },
  "language_info": {
   "codemirror_mode": {
    "name": "ipython",
    "version": 3
   },
   "file_extension": ".py",
   "mimetype": "text/x-python",
   "name": "python",
   "nbconvert_exporter": "python",
   "pygments_lexer": "ipython3",
   "version": "3.7.4"
  }
 },
 "nbformat": 4,
 "nbformat_minor": 2
}
