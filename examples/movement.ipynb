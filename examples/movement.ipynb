{
 "cells": [
  {
   "cell_type": "code",
   "execution_count": 1,
   "metadata": {},
   "outputs": [
    {
     "data": {
      "text/plain": [
       "'\\nName: movement.ipynb\\nAuthors: Stephan Meighen-Berger, Martina Karl\\nExample how to create a video of the simulation\\nRequires mpl_toolkits and imageio\\n'"
      ]
     },
     "execution_count": 1,
     "metadata": {},
     "output_type": "execute_result"
    }
   ],
   "source": [
    "\"\"\"\n",
    "Name: movement.ipynb\n",
    "Authors: Stephan Meighen-Berger, Martina Karl\n",
    "Example how to create a video of the simulation\n",
    "Requires mpl_toolkits and imageio\n",
    "\"\"\""
   ]
  },
  {
   "cell_type": "code",
   "execution_count": 2,
   "metadata": {},
   "outputs": [],
   "source": [
    "# General imports\n",
    "import numpy as np\n",
    "import matplotlib.pyplot as plt\n",
    "import sys\n",
    "from tqdm import tqdm\n",
    "import matplotlib.colors as colors\n",
    "import imageio"
   ]
  },
  {
   "cell_type": "code",
   "execution_count": 3,
   "metadata": {},
   "outputs": [],
   "source": [
    "# Adding path to module\n",
    "sys.path.append(\"../\")"
   ]
  },
  {
   "cell_type": "code",
   "execution_count": 4,
   "metadata": {},
   "outputs": [],
   "source": [
    "# picture path\n",
    "PICS = '../pics/'"
   ]
  },
  {
   "cell_type": "code",
   "execution_count": 5,
   "metadata": {},
   "outputs": [],
   "source": [
    "# Module imports\n",
    "from fourth_day import Fourth_Day as FD\n",
    "from fourth_day import config"
   ]
  },
  {
   "cell_type": "code",
   "execution_count": 6,
   "metadata": {},
   "outputs": [],
   "source": [
    "# Scenario\n",
    "config['scenario']['population size'] = 100\n",
    "config['scenario']['duration'] = 720\n",
    "config['scenario']['organism movement'] = False\n",
    "config['scenario']['exclusion'] = True\n",
    "config['scenario']['injection']['rate'] = 0.1\n",
    "config['scenario']['injection']['y range'] = [7.5, 12.5]\n",
    "config['scenario']['light prop']: {\n",
    "            \"switch\": True,\n",
    "            \"x_pos\": 5.,\n",
    "            \"y_pos\": 10.,\n",
    "        }\n",
    "# Organisms\n",
    "config['organisms']['emission fraction'] = 0.1\n",
    "config['organisms']['alpha'] = 1.\n",
    "# Geometry\n",
    "config['geometry']['volume'] = {\n",
    "    'function': 'rectangle',\n",
    "    'x_length': 40.,\n",
    "    'y_length': 20.,\n",
    "    'offset': None,\n",
    "}\n",
    "config['geometry']['observation'] = {\n",
    "    'function': 'rectangle',\n",
    "    'x_length': 30.,\n",
    "    'y_length': 5.,\n",
    "    \"offset\": np.array([0., 7.5]),\n",
    "}\n",
    "config['geometry'][\"exclusion\"]: {\n",
    "    \"function\": \"sphere\",\n",
    "    \"radius\": 0.3,\n",
    "    \"x_pos\": 5.,\n",
    "    \"y_pos\": 10.,\n",
    "}\n",
    "# Water\n",
    "config['water']['model']['name'] = 'custom'\n",
    "config['water']['model']['directory'] = \"../data/current/cyclic/\"\n",
    "config['advanced']['starting step'] = 575\n",
    "config['water']['model']['time step'] = 60"
   ]
  },
  {
   "cell_type": "code",
   "execution_count": 7,
   "metadata": {},
   "outputs": [],
   "source": [
    "# Creating a fourth_day object\n",
    "fd = FD()"
   ]
  },
  {
   "cell_type": "code",
   "execution_count": 8,
   "metadata": {},
   "outputs": [],
   "source": [
    "# Launching solver\n",
    "fd.sim()"
   ]
  },
  {
   "cell_type": "code",
   "execution_count": 9,
   "metadata": {},
   "outputs": [],
   "source": [
    "# Plotting standards\n",
    "std_size = 15\n",
    "fontsize = 20.\n",
    "lw=3.\n",
    "h_length=1.5"
   ]
  },
  {
   "cell_type": "code",
   "execution_count": 10,
   "metadata": {
    "scrolled": true
   },
   "outputs": [
    {
     "name": "stderr",
     "output_type": "stream",
     "text": [
      "720it [01:24,  7.45it/s]\n"
     ]
    }
   ],
   "source": [
    "# Animation stack\n",
    "fontsize = 12.\n",
    "# The frames are created in a loop\n",
    "cmap = plt.cm.inferno\n",
    "norm = colors.Normalize(vmin=0., vmax=1.)\n",
    "for i, _ in tqdm(enumerate(fd.t)):\n",
    "    figure = plt.figure(figsize=(std_size, std_size * 6. / 8.))\n",
    "    ax = figure.add_subplot(111)\n",
    "    ax.scatter(fd.statistics[i].loc[:, 'pos_x'].values,\n",
    "               fd.statistics[i].loc[:, 'pos_y'].values,\n",
    "               color=cmap(norm(fd.statistics[i].loc[:, 'energy'].values)),\n",
    "               s=30.\n",
    "    )\n",
    "    # Exclusion\n",
    "    # theta goes from 0 to 2pi\n",
    "    theta = np.linspace(0, 2*np.pi, 50)\n",
    "    # the radius of the circle\n",
    "    r = config['geometry']['exclusion']['radius']\n",
    "    # compute x1 and x2\n",
    "    x1 = r*np.cos(theta)\n",
    "    x2 = r*np.sin(theta)\n",
    "    ax.plot(x1 + config['geometry']['exclusion']['x_pos'], x2 + config['geometry']['exclusion']['y_pos'],\n",
    "            lw=lw, color='k')\n",
    "    # Additional options\n",
    "    ax.set_xlabel(r'$X\\;[\\mathrm{m}]$', fontsize=fontsize)\n",
    "    ax.set_ylabel(r'$Y\\;[\\mathrm{m}]$', fontsize=fontsize)\n",
    "    ax.tick_params(axis = 'both', which = 'major', labelsize=fontsize)\n",
    "    ax.tick_params(axis = 'both', which = 'minor', labelsize=fontsize)\n",
    "    ax.title=ax.set_title('Population t = %.f s' %fd.t[i], fontsize=fontsize)\n",
    "    ax.set_xlim(0., 40.)\n",
    "    ax.set_ylim(0., 20.)\n",
    "    figure.savefig(PICS + '\\\\Frames\\\\frame_%d.jpeg' %i, quality=50)\n",
    "    plt.close(figure)"
   ]
  },
  {
   "cell_type": "code",
   "execution_count": 11,
   "metadata": {},
   "outputs": [],
   "source": [
    "images = []\n",
    "filenames = np.array([\n",
    "    PICS + 'Frames\\\\frame_%d.jpeg' %i\n",
    "    for i in range(len(fd.t))\n",
    "])\n",
    "for filename in filenames:\n",
    "    images.append(imageio.imread(filename))\n",
    "imageio.mimsave(PICS + '%s.gif' %config['water']['model']['name'],\n",
    "                images, fps=20)"
   ]
  },
  {
   "cell_type": "code",
   "execution_count": null,
   "metadata": {},
   "outputs": [],
   "source": [
    "\n"
   ]
  }
 ],
 "metadata": {
  "kernelspec": {
   "display_name": "Python 3",
   "language": "python",
   "name": "python3"
  },
  "language_info": {
   "codemirror_mode": {
    "name": "ipython",
    "version": 3
   },
   "file_extension": ".py",
   "mimetype": "text/x-python",
   "name": "python",
   "nbconvert_exporter": "python",
   "pygments_lexer": "ipython3",
   "version": "3.7.6"
  }
 },
 "nbformat": 4,
 "nbformat_minor": 2
}
