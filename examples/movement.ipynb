{
 "cells": [
  {
   "cell_type": "code",
   "execution_count": 1,
   "metadata": {},
   "outputs": [
    {
     "data": {
      "text/plain": [
       "'\\nName: fd_video.ipynb\\nAuthors: Stephan Meighen-Berger, Martina Karl\\nExample how to create a video of the simulation\\nRequires mpl_toolkits and imageio\\n'"
      ]
     },
     "execution_count": 1,
     "metadata": {},
     "output_type": "execute_result"
    }
   ],
   "source": [
    "\"\"\"\n",
    "Name: movement.ipynb\n",
    "Authors: Stephan Meighen-Berger, Martina Karl\n",
    "Example how to create a video of the simulation\n",
    "Requires mpl_toolkits and imageio\n",
    "\"\"\""
   ]
  },
  {
   "cell_type": "code",
   "execution_count": 2,
   "metadata": {},
   "outputs": [],
   "source": [
    "# General imports\n",
    "import numpy as np\n",
    "import matplotlib.pyplot as plt\n",
    "import sys\n",
    "from tqdm import tqdm\n",
    "import matplotlib.colors as colors\n",
    "import imageio"
   ]
  },
  {
   "cell_type": "code",
   "execution_count": 3,
   "metadata": {},
   "outputs": [],
   "source": [
    "# Adding path to module\n",
    "sys.path.append(\"../\")"
   ]
  },
  {
   "cell_type": "code",
   "execution_count": 4,
   "metadata": {},
   "outputs": [],
   "source": [
    "# picture path\n",
    "PICS = '../pics/'"
   ]
  },
  {
   "cell_type": "code",
   "execution_count": 5,
   "metadata": {},
   "outputs": [],
   "source": [
    "# Module imports\n",
    "from fourth_day import Fourth_Day as FD\n",
    "from fourth_day import config"
   ]
  },
  {
   "cell_type": "code",
   "execution_count": 6,
   "metadata": {},
   "outputs": [],
   "source": [
    "config['geometry']['box size'] = 5e-1\n",
    "config['geometry']['bounding box'] = 5.1e-1\n",
    "config['organisms']['emission fraction'] = 0.5"
   ]
  },
  {
   "cell_type": "code",
   "execution_count": 7,
   "metadata": {},
   "outputs": [],
   "source": [
    "# Creating a fourth_day object\n",
    "fd = FD()"
   ]
  },
  {
   "cell_type": "code",
   "execution_count": 8,
   "metadata": {},
   "outputs": [],
   "source": [
    "# Launching solver\n",
    "fd.sim()"
   ]
  },
  {
   "cell_type": "code",
   "execution_count": 9,
   "metadata": {},
   "outputs": [],
   "source": [
    "# Plotting standards\n",
    "std_size = 10.\n",
    "fontsize = 20.\n",
    "lw=3.\n",
    "h_length=1.5"
   ]
  },
  {
   "cell_type": "code",
   "execution_count": 10,
   "metadata": {},
   "outputs": [
    {
     "name": "stderr",
     "output_type": "stream",
     "text": [
      "100it [00:08, 11.27it/s]\n"
     ]
    }
   ],
   "source": [
    "# Animation stack\n",
    "fontsize = 15.\n",
    "# The frames are created in a loop\n",
    "cmap = plt.cm.inferno\n",
    "norm = colors.Normalize(vmin=0., vmax=1.)\n",
    "for i, _ in tqdm(enumerate(fd.t)):\n",
    "    figure = plt.figure(figsize=(std_size, std_size * 6. / 8.))\n",
    "    ax = figure.add_subplot(111)\n",
    "    ax.scatter(fd.statistics[i].loc[:, 'pos_x'].values,\n",
    "               fd.statistics[i].loc[:, 'pos_y'].values,\n",
    "               color=cmap(norm(fd.statistics[i].loc[:, 'energy'].values)),\n",
    "               s=50.\n",
    "    )\n",
    "    ax.title=ax.set_title('Population t = %.f s' %fd.t[i], fontsize=fontsize)\n",
    "    ax.set_xlim(-fd._world.bounding_box / 2., fd._world.bounding_box / 2.)\n",
    "    ax.set_ylim(-fd._world.bounding_box / 2., fd._world.bounding_box / 2.)\n",
    "    ax.set_xlabel(r'$X\\;[\\mathrm{m}]$', fontsize=fontsize)\n",
    "    ax.set_ylabel(r'$Y\\;[\\mathrm{m}]$', fontsize=fontsize)\n",
    "    ax.tick_params(axis = 'both', which = 'major', labelsize=fontsize)\n",
    "    ax.tick_params(axis = 'both', which = 'minor', labelsize=fontsize)\n",
    "    figure.savefig(PICS + '\\\\Frames\\\\frame_%d.png' %i)\n",
    "    plt.close(figure)"
   ]
  },
  {
   "cell_type": "code",
   "execution_count": 11,
   "metadata": {},
   "outputs": [],
   "source": [
    "images = []\n",
    "filenames = np.array([\n",
    "    PICS + 'Frames\\\\frame_%d.png' %i\n",
    "    for i in range(len(fd.t))\n",
    "])\n",
    "for filename in filenames:\n",
    "    images.append(imageio.imread(filename))\n",
    "imageio.mimsave(PICS + '%s.gif' %config['geometry']['volume'],\n",
    "                images, duration=0.1)"
   ]
  },
  {
   "cell_type": "code",
   "execution_count": null,
   "metadata": {},
   "outputs": [],
   "source": []
  }
 ],
 "metadata": {
  "kernelspec": {
   "display_name": "Python 3",
   "language": "python",
   "name": "python3"
  },
  "language_info": {
   "codemirror_mode": {
    "name": "ipython",
    "version": 3
   },
   "file_extension": ".py",
   "mimetype": "text/x-python",
   "name": "python",
   "nbconvert_exporter": "python",
   "pygments_lexer": "ipython3",
   "version": "3.7.7"
  }
 },
 "nbformat": 4,
 "nbformat_minor": 2
}
