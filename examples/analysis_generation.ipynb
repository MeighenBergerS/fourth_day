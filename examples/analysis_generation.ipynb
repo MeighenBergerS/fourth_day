{
 "cells": [
  {
   "cell_type": "code",
   "execution_count": 1,
   "metadata": {},
   "outputs": [
    {
     "data": {
      "text/plain": [
       "'\\nName: analysis_generation.ipynb\\nAuthors: Stephan Meighen-Berger\\nCreates the data sets for analysis. It is highly recommended to store the results instead of re-simulating them\\n'"
      ]
     },
     "execution_count": 1,
     "metadata": {},
     "output_type": "execute_result"
    }
   ],
   "source": [
    "\"\"\"\n",
    "Name: analysis_generation.ipynb\n",
    "Authors: Stephan Meighen-Berger\n",
    "Creates the data sets for analysis. It is highly recommended to store the results instead of re-simulating them\n",
    "\"\"\""
   ]
  },
  {
   "cell_type": "code",
   "execution_count": 2,
   "metadata": {},
   "outputs": [],
   "source": [
    "# General imports\n",
    "import numpy as np\n",
    "import matplotlib.pyplot as plt\n",
    "import sys\n",
    "import pickle\n",
    "import pandas as pd\n",
    "from tqdm import tqdm"
   ]
  },
  {
   "cell_type": "code",
   "execution_count": 3,
   "metadata": {},
   "outputs": [],
   "source": [
    "# Adding path to module\n",
    "sys.path.append(\"../\")"
   ]
  },
  {
   "cell_type": "code",
   "execution_count": 4,
   "metadata": {},
   "outputs": [],
   "source": [
    "# Module imports\n",
    "from fourth_day import Fourth_Day, config"
   ]
  },
  {
   "cell_type": "code",
   "execution_count": 5,
   "metadata": {},
   "outputs": [],
   "source": [
    "run_count = 300\n",
    "time_dur = 10000"
   ]
  },
  {
   "cell_type": "code",
   "execution_count": 6,
   "metadata": {},
   "outputs": [],
   "source": [
    "# Scenario\n",
    "config['scenario']['population size'] = 10\n",
    "config['scenario']['duration'] = time_dur\n",
    "config['scenario']['organism movement'] = False\n",
    "config['scenario']['exclusion'] = True \n",
    "config['scenario']['injection']['rate'] = 1e-3\n",
    "config['scenario']['injection']['y range'] = [7.5, 12.5]\n",
    "config['scenario']['light prop'] = {\n",
    "            \"switch\": True,\n",
    "            \"x_pos\": 5.,\n",
    "            \"y_pos\": 10.,\n",
    "        }\n",
    "config['scenario']['detector'] = {\n",
    "    \"response\": True,\n",
    "    \"type\": \"Flat\",\n",
    "    \"mean detection prob\": 0.3\n",
    "}\n",
    "# Organisms \n",
    "config['organisms']['emission fraction'] = 0.1\n",
    "config['organisms']['alpha'] = 1.\n",
    "# Geometry\n",
    "config['geometry']['volume'] = {\n",
    "    'function': 'rectangle',\n",
    "    'x_length': 40.,\n",
    "    'y_length': 20.,\n",
    "    'offset': None,\n",
    "}\n",
    "config['geometry']['observation'] = {\n",
    "    'function': 'rectangle',\n",
    "    'x_length': 35.,\n",
    "    'y_length': 5.,\n",
    "    \"offset\": np.array([0., 7.5]),\n",
    "}\n",
    "config['geometry'][\"exclusion\"]: {\n",
    "    \"function\": \"sphere\",\n",
    "    \"radius\": 0.3,\n",
    "    \"x_pos\": 5.,\n",
    "    \"y_pos\": 10.,\n",
    "}\n",
    "# Water\n",
    "config['water']['model']['name'] = 'custom'\n",
    "config['water']['model']['directory'] = \"../data/current/cyclic/\"\n",
    "config['water']['model']['time step'] = 60\n",
    "config['advanced']['starting step'] = 575"
   ]
  },
  {
   "cell_type": "code",
   "execution_count": null,
   "metadata": {},
   "outputs": [
    {
     "name": "stderr",
     "output_type": "stream",
     "text": [
      "\r",
      "  0%|                                                                                          | 0/300 [00:00<?, ?it/s]"
     ]
    }
   ],
   "source": [
    "for i in tqdm(range(run_count)):\n",
    "    config['general'][\"random state seed\"] = i\n",
    "    # Creating a fourth_day object\n",
    "    fd = Fourth_Day()\n",
    "    # Launching solver\n",
    "    fd.sim()\n",
    "    data = fd.measured\n",
    "    # Storing for later use\n",
    "    np.save('../data/storage/benchmark_v2_%s.npy' % str(i), data)\n",
    "    np.save('../data/storage/benchmark_v2_time_%s.npy' % str(i), fd.t)"
   ]
  },
  {
   "cell_type": "code",
   "execution_count": null,
   "metadata": {},
   "outputs": [],
   "source": []
  }
 ],
 "metadata": {
  "kernelspec": {
   "display_name": "Python 3",
   "language": "python",
   "name": "python3"
  },
  "language_info": {
   "codemirror_mode": {
    "name": "ipython",
    "version": 3
   },
   "file_extension": ".py",
   "mimetype": "text/x-python",
   "name": "python",
   "nbconvert_exporter": "python",
   "pygments_lexer": "ipython3",
   "version": "3.7.6"
  }
 },
 "nbformat": 4,
 "nbformat_minor": 2
}
