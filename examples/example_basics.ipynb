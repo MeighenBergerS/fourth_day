{
 "cells": [
  {
   "cell_type": "code",
   "execution_count": 1,
   "metadata": {},
   "outputs": [],
   "source": [
    "# Name: example_basics.ipynb\n",
    "# Authors: Stephan Meighen-Berger\n",
    "# Basic example for the package, includes the typically used options\n",
    "# For a full list of options, please check the config file"
   ]
  },
  {
   "cell_type": "code",
   "execution_count": 2,
   "metadata": {},
   "outputs": [],
   "source": [
    "# General imports\n",
    "import numpy as np\n",
    "import matplotlib.pyplot as plt\n",
    "import sys\n",
    "import pickle"
   ]
  },
  {
   "cell_type": "code",
   "execution_count": 3,
   "metadata": {},
   "outputs": [],
   "source": [
    "# Adding path to module\n",
    "sys.path.append(\"../\")"
   ]
  },
  {
   "cell_type": "code",
   "execution_count": 4,
   "metadata": {},
   "outputs": [],
   "source": [
    "# picture path\n",
    "PICS = '../pics/'"
   ]
  },
  {
   "cell_type": "code",
   "execution_count": 5,
   "metadata": {},
   "outputs": [],
   "source": [
    "# Module imports\n",
    "from fourth_day import Fourth_Day, config"
   ]
  },
  {
   "cell_type": "code",
   "execution_count": 6,
   "metadata": {},
   "outputs": [],
   "source": [
    "# ---------------------------------------------\n",
    "# Some example settings\n",
    "# For a full lost check the config file\n",
    "# ---------------------------------------------\n",
    "# Scenario Settings\n",
    "# These are general settings pertaining to the simulation run\n",
    "config['scenario']['population size'] = 10  # The starting population size\n",
    "config['scenario']['duration'] = 75 * 1  # Total simulation time in seconds\n",
    "config['scenario']['exclusion'] = True  # If an exclusion zone should be used (the detector)\n",
    "config['scenario']['injection']['rate'] = 1e-1  #  Injection rate in per second, a distribution is constructed from this value\n",
    "config['scenario']['injection']['y range'] = [0., 15.]  # The y-range of injection\n",
    "config['scenario']['light prop'] = {  # Where the emitted light should be propagated to (typically the detector location)\n",
    "            \"switch\": True,  # If light should be propagated\n",
    "            \"x_pos\": 3.,  # The x-coordinates\n",
    "            \"y_pos\": 0.5 * 15. - 0.15,  # The y-coordinates\n",
    "        }\n",
    "config['scenario']['detector'] = {  # detector specific properties, positions are defined as offsets from the light prop values\n",
    "    \"switch\": True,  # If the detector should be modelled\n",
    "    \"type\": \"POM\",  # Detector name, implemented types are given in the config\n",
    "    \"response\": True,  # If a detector response should be used\n",
    "    \"acceptance\": \"Flat\",  # Flat acceptance\n",
    "    \"mean detection prob\": 0.5  # Used for the acceptance calculation\n",
    "}\n",
    "# ---------------------------------------------\n",
    "# Organisms\n",
    "# Organisms properties are defined here\n",
    "config['organisms']['emission fraction'] = 0.1  # Amount of energy an organism uses per pulse\n",
    "config['organisms']['alpha'] = 1e0  # Proportionality factor for the emission probability\n",
    "config['organisms'][\"minimal shear stress\"] = 0.005  # The minimal amount of shear stress needed to emit (generic units)\n",
    "config[\"organisms\"][\"filter\"] = 'depth'  # Method of filtering organisms (here depth)\n",
    "config[\"organisms\"][\"depth filter\"] = 10000.  # Organisms need to exist below this depth\n",
    "# ---------------------------------------------\n",
    "# Geometry\n",
    "# These settings define the geometry of the system\n",
    "# Typically a box (simulation volume) with a spherical exclusion zone (detector)\n",
    "config['geometry']['volume'] = {\n",
    "    \"function\": 'rectangle',  # the geometry type\n",
    "    \"x_length\": 40.,  # in meters\n",
    "    \"y_length\": 20.,  # in meters\n",
    "    \"z_length\": 10., # in meters\n",
    "    \"offset\": None,  # The bounding volume requires no offset\n",
    "}\n",
    "# Reduce the observation size to reduce the computational load\n",
    "config['geometry']['observation'] = {\n",
    "    \"function\": 'rectangle',\n",
    "    \"x_length\": 40.,  # in meters\n",
    "    \"y_length\": 5.,  # in meters\n",
    "    \"z_length\": 1.,  # in meters\n",
    "    \"offset\": np.array([0., 7.5, 4.5]),  # The offset of [0,0] (bottom left)\n",
    "}\n",
    "# The detector volume\n",
    "config['geometry'][\"exclusion\"] = {\n",
    "    \"function\": \"ellipsoid\",\n",
    "    \"major_axis\": 0.30,\n",
    "    \"minor_axis\": 0.22,\n",
    "    \"x_pos\": 5.,\n",
    "    \"y_pos\": 10.,\n",
    "    \"z_pos\": 5.,\n",
    "}\n",
    "# ---------------------------------------------\n",
    "# Water\n",
    "# Properties of the current model\n",
    "config['water']['model']['name'] = 'custom'  # Use a custom (non analytic) model\n",
    "config['water']['model']['off set'] = np.array([0., 0., 0.])  # Offset of the custom model\n",
    "config['water']['model']['directory'] = \"Parabola_5mm/run_10cm_npy/\"  # The files used by the custom model\n",
    "config['water']['model']['time step'] = 1.  # in Seconds"
   ]
  },
  {
   "cell_type": "code",
   "execution_count": 7,
   "metadata": {
    "scrolled": false
   },
   "outputs": [],
   "source": [
    "# Creating a fourth_day object\n",
    "# Use this to interact with with the module\n",
    "fd = Fourth_Day()"
   ]
  },
  {
   "cell_type": "code",
   "execution_count": 8,
   "metadata": {},
   "outputs": [],
   "source": [
    "# Use this method if you need to download files.\n",
    "#fd.load_data()"
   ]
  },
  {
   "cell_type": "code",
   "execution_count": 9,
   "metadata": {},
   "outputs": [],
   "source": [
    "#test=np.load('../fourth_day/data/current/Parabola_5mm/run_10cm_npy/npy_values_grad/data_1.npy')"
   ]
  },
  {
   "cell_type": "code",
   "execution_count": 10,
   "metadata": {},
   "outputs": [],
   "source": [
    "#test"
   ]
  },
  {
   "cell_type": "code",
   "execution_count": 11,
   "metadata": {},
   "outputs": [
    {
     "name": "stdout",
     "output_type": "stream",
     "text": [
      "/data/current/Parabola_5mm/run_10cm_npy/npy_values_wind//data_0.npy\n",
      "1 (106889, 2)\n",
      "2 (106889, 3)\n",
      "3 (106889, 3)\n",
      "/data/current/Parabola_5mm/run_10cm_npy/npy_values_grad//data_0.npy\n",
      "1 (106889, 1)\n",
      "2 (106889, 2)\n",
      "3 (106889, 2)\n"
     ]
    }
   ],
   "source": [
    "# Launching solver\n",
    "# This might take a while depending on the settings\n",
    "# Check the log file (standard setting is in the run folder) for the current iteration\n",
    "fd.sim()"
   ]
  },
  {
   "cell_type": "code",
   "execution_count": 12,
   "metadata": {},
   "outputs": [
    {
     "ename": "SyntaxError",
     "evalue": "'break' outside loop (668683560.py, line 1)",
     "output_type": "error",
     "traceback": [
      "\u001b[0;36m  File \u001b[0;32m\"/tmp/ipykernel_1224131/668683560.py\"\u001b[0;36m, line \u001b[0;32m1\u001b[0m\n\u001b[0;31m    break\u001b[0m\n\u001b[0m    ^\u001b[0m\n\u001b[0;31mSyntaxError\u001b[0m\u001b[0;31m:\u001b[0m 'break' outside loop\n"
     ]
    }
   ],
   "source": [
    "break"
   ]
  },
  {
   "cell_type": "code",
   "execution_count": null,
   "metadata": {
    "scrolled": false
   },
   "outputs": [],
   "source": [
    "# Example poplation state\n",
    "# This includes all information needed for analyses except the light propagation and detector response\n",
    "# For those values check \"fd.measured\"\n",
    "fd.statistics[-1]"
   ]
  },
  {
   "cell_type": "code",
   "execution_count": null,
   "metadata": {},
   "outputs": [],
   "source": [
    "# Plotting standards\n",
    "std_size = 3.  # Size of the plot\n",
    "fontsize = 10.  # Fontsize in the plot\n",
    "lw=0.5  # Linewidth\n",
    "h_length=0.2  # Handle length for the legends\n",
    "export_dpi = 500  # Dpi for the image export"
   ]
  },
  {
   "cell_type": "code",
   "execution_count": null,
   "metadata": {},
   "outputs": [],
   "source": [
    "# Font style\n",
    "from matplotlib import rc\n",
    "#rc('font',**{'family':'sans-serif','sans-serif':['Helvetica']})\n",
    "rc('text', usetex=False)"
   ]
  },
  {
   "cell_type": "code",
   "execution_count": null,
   "metadata": {
    "scrolled": false
   },
   "outputs": [],
   "source": [
    "# ---------------------------------------------\n",
    "# Detector light yields\n",
    "# These are stored in fd.measured\n",
    "# ---------------------------------------------\n",
    "# The different detectors (each measuring different wavelengths here)\n",
    "wavelengths = {\n",
    "    \"Detector 1\": [\"1\", \"#4575b4\"],\n",
    "    \"Detector 5\": [\"2\", \"#91bfdb\"],\n",
    "    \"Detector 8\": [\"3\", \"#e0f3f8\"],\n",
    "    \"Detector 3\": [\"4\", \"#fee090\"],\n",
    "    \"Detector 10\": [\"5\", \"#fc8d59\"],\n",
    "}\n",
    "# ---------------------------------------------\n",
    "figure, (ax1) = plt.subplots(1, 1, figsize=(std_size, std_size * 6. / 8.), sharex=True)\n",
    "# Plotting the different detector values\n",
    "# Random noise (e.g. electric)\n",
    "noise = {}\n",
    "for detector in wavelengths.keys():\n",
    "    noise[detector] = np.random.normal(1e3, 2e2, fd.measured[detector].values.shape)\n",
    "for detector in wavelengths.keys():\n",
    "    ax1.plot(fd.t,\n",
    "             fd.measured[detector].values + noise[detector],\n",
    "             lw=lw, label=r\"$\\mathrm{Channel\\;%s}$\" % wavelengths[detector][0], color=wavelengths[detector][1])\n",
    "# Constructing and plotting the totals\n",
    "total = fd.measured[\"Detector 1\"].values + noise[detector]\n",
    "for detector in wavelengths.keys():\n",
    "    if detector == \"Detector 1\":\n",
    "        continue\n",
    "    total += fd.measured[detector].values + noise[detector]\n",
    "ax1.plot(fd.t, total, color='k')\n",
    "# ---------------------------------------------\n",
    "# Plotting options\n",
    "ax1.set_xscale('linear')\n",
    "ax1.set_yscale('log')\n",
    "ax1.set_xlabel(r'$\\mathrm{t}\\;[\\mathrm{s}]$', fontsize=fontsize)\n",
    "ax1.set_ylabel(r'$\\mathrm{Photons}$', fontsize=fontsize)\n",
    "ax1.tick_params(axis = 'both', which = 'major', labelsize=fontsize, direction='in')\n",
    "ax1.tick_params(axis = 'both', which = 'minor', labelsize=fontsize, direction='in')\n",
    "h, l = ax1.get_legend_handles_labels()\n",
    "lgd1 = ax1.legend(h[:3],l[:3], loc=9, bbox_to_anchor=(0.5, +1.27),\n",
    "                  ncol=3, fontsize=fontsize, handlelength=h_length,\n",
    "                  fancybox=True, frameon=False)\n",
    "lgd2 = ax1.legend(h[3:],l[3:], loc=9, bbox_to_anchor=(0.5, +1.17),\n",
    "                  ncol=3, fontsize=fontsize, handlelength=h_length,\n",
    "                  fancybox=True, frameon=False)\n",
    "ax1.add_artist(lgd1)\n",
    "ax1.set_ylim(1e2, 1e8)\n",
    "ax1.set_xlim(300, 600)\n",
    "plt.show()\n",
    "# ---------------------------------------------\n",
    "# Storing the image\n",
    "figure.savefig(PICS + \"MC_Example.png\",\n",
    "               bbox_inches='tight', dpi=export_dpi)"
   ]
  },
  {
   "cell_type": "code",
   "execution_count": null,
   "metadata": {},
   "outputs": [],
   "source": [
    "# ---------------------------------------------\n",
    "# Creating a view plot\n",
    "# This shows the water current and organisms (emitting or not)\n",
    "# ---------------------------------------------\n",
    "# The first view plot, this tries to show the individual vortices\n",
    "figure, (ax1, ax2) = plt.subplots(2, 1, figsize=(std_size, std_size * 6. / 8.), sharex=True)\n",
    "# ---------------------------------------------\n",
    "# Constructing the water current grid\n",
    "courseness = 1000  # The plotting precision\n",
    "# The grids used for the water current plot\n",
    "x_grid = np.linspace(0., config['geometry']['volume']['x_length'], courseness)\n",
    "y_grid = (\n",
    "    np.linspace(0., config['geometry']['volume']['y_length'], courseness) +\n",
    "    config['water']['model']['off set'][1]\n",
    ")\n",
    "X, Y = np.meshgrid(x_grid, y_grid)\n",
    "all_points = []\n",
    "for i in range(0, len(x_grid)):\n",
    "    all_points.append(np.vstack((X[i], Y[i])).T)\n",
    "# The water current\n",
    "x_vel = []\n",
    "y_vel = []\n",
    "grad = []\n",
    "for j in range(0, len(x_grid)):\n",
    "    # x_vel_tmp, y_vel_tmp, vel_abs = fd._current.velocities(all_points[j], q + config['advanced']['starting step'])\n",
    "    grad_tmp = fd._current.gradients(all_points[j], 600)\n",
    "    # x_vel.append(x_vel_tmp)\n",
    "    # y_vel.append(y_vel_tmp)\n",
    "    grad.append(grad_tmp)\n",
    "grad = np.array(grad)\n",
    "# ---------------------------------------------\n",
    "# Creating the plots\n",
    "vmax = 1.\n",
    "vmin = 0.\n",
    "# Water current\n",
    "ax1.imshow(grad.reshape(courseness, courseness), cmap='plasma',\n",
    "           vmax=vmax, vmin=vmin, extent=[0., 30., 0., 15.])\n",
    "# The organisms\n",
    "emission_mask = fd.statistics[-1].loc[:, 'is_emitting']\n",
    "# Not emitting\n",
    "ax1.scatter(fd.statistics[-1].loc[~emission_mask, 'pos_x'].values,\n",
    "            fd.statistics[-1].loc[~emission_mask, 'pos_y'].values,\n",
    "            color='g',\n",
    "            s=3.\n",
    ")\n",
    "# Emitting\n",
    "ax1.scatter(fd.statistics[-1].loc[emission_mask, 'pos_x'].values,\n",
    "            fd.statistics[-1].loc[emission_mask, 'pos_y'].values,\n",
    "            color='r',\n",
    "            s=3.\n",
    ")\n",
    "# ---------------------------------------------\n",
    "# Visualizing the detector\n",
    "# Exclusion\n",
    "theta = np.linspace(0, 2*np.pi, 50)\n",
    "r = config['geometry']['exclusion']['radius']  # The detector radius\n",
    "x1 = r*np.cos(theta)  # The plotting circle x\n",
    "x2 = r*np.sin(theta)  # The plotting circle y\n",
    "# The actual detector plot\n",
    "ax1.plot(x1 + config['geometry']['exclusion']['x_pos'], x2 + config['geometry']['exclusion']['y_pos'],\n",
    "         lw=lw/2, color='k')\n",
    "# ---------------------------------------------\n",
    "# Additional options\n",
    "ax1.set_ylabel(r'$Y\\;[\\mathrm{m}]$', fontsize=fontsize)\n",
    "ax1.tick_params(axis = 'both', which = 'major', labelsize=fontsize)\n",
    "ax1.tick_params(axis = 'both', which = 'minor', labelsize=fontsize)\n",
    "ax1.set_xlim(0., 30.)\n",
    "ax1.set_ylim(0., 15.)\n",
    "# ---------------------------------------------\n",
    "# The general area where emission is likely visualized\n",
    "vmax = 0.05\n",
    "vmin = 0.\n",
    "# Water current\n",
    "ax2.imshow(grad.reshape(courseness, courseness), cmap='plasma',\n",
    "           vmax=vmax, vmin=vmin, extent=[0., 30., 0., 15.])\n",
    "# The organisms\n",
    "emission_mask = fd.statistics[-1].loc[:, 'is_emitting']\n",
    "# Not emitting\n",
    "ax2.scatter(fd.statistics[-1].loc[~emission_mask, 'pos_x'].values,\n",
    "            fd.statistics[-1].loc[~emission_mask, 'pos_y'].values,\n",
    "            color='g',\n",
    "            s=3.\n",
    ")\n",
    "# Emitting\n",
    "ax2.scatter(fd.statistics[-1].loc[emission_mask, 'pos_x'].values,\n",
    "            fd.statistics[-1].loc[emission_mask, 'pos_y'].values,\n",
    "            color='r',\n",
    "            s=3.\n",
    ")\n",
    "# ---------------------------------------------\n",
    "# Exclusion\n",
    "theta = np.linspace(0, 2*np.pi, 50)\n",
    "r = config['geometry']['exclusion']['radius']\n",
    "x1 = r*np.cos(theta)\n",
    "x2 = r*np.sin(theta)\n",
    "ax2.plot(x1 + config['geometry']['exclusion']['x_pos'], x2 + config['geometry']['exclusion']['y_pos'],\n",
    "         lw=lw/2, color='k')\n",
    "# ---------------------------------------------\n",
    "# Additional options\n",
    "ax2.set_xlabel(r'$X\\;[\\mathrm{m}]$', fontsize=fontsize)\n",
    "ax2.set_ylabel(r'$Y\\;[\\mathrm{m}]$', fontsize=fontsize)\n",
    "ax2.tick_params(axis = 'both', which = 'major', labelsize=fontsize)\n",
    "ax2.tick_params(axis = 'both', which = 'minor', labelsize=fontsize)\n",
    "ax2.set_xlim(0., 30.)\n",
    "ax2.set_ylim(0., 15.)\n",
    "plt.show()\n",
    "# ---------------------------------------------\n",
    "# Storing\n",
    "figure.savefig(PICS + \"MC_Pop.png\",\n",
    "               bbox_inches='tight', dpi=export_dpi)"
   ]
  },
  {
   "cell_type": "code",
   "execution_count": null,
   "metadata": {},
   "outputs": [],
   "source": []
  }
 ],
 "metadata": {
  "kernelspec": {
   "display_name": "Python 3 (ipykernel)",
   "language": "python",
   "name": "python3"
  },
  "language_info": {
   "codemirror_mode": {
    "name": "ipython",
    "version": 3
   },
   "file_extension": ".py",
   "mimetype": "text/x-python",
   "name": "python",
   "nbconvert_exporter": "python",
   "pygments_lexer": "ipython3",
   "version": "3.9.12"
  }
 },
 "nbformat": 4,
 "nbformat_minor": 2
}
