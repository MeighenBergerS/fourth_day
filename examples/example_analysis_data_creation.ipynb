{
 "cells": [
  {
   "cell_type": "code",
   "execution_count": 1,
   "metadata": {},
   "outputs": [
    {
     "data": {
      "text/plain": [
       "'\\nName: example_analysis.ipynb\\nAuthors: Stephan Meighen-Berger\\nExample how to construct a frequency analysis\\n'"
      ]
     },
     "execution_count": 1,
     "metadata": {},
     "output_type": "execute_result"
    }
   ],
   "source": [
    "\"\"\"\n",
    "Name: example_analysis_data_creation.ipynb\n",
    "Authors: Stephan Meighen-Berger\n",
    "Example how to construct a frequency analysis\n",
    "\"\"\""
   ]
  },
  {
   "cell_type": "code",
   "execution_count": 2,
   "metadata": {},
   "outputs": [],
   "source": [
    "# General imports\n",
    "import numpy as np\n",
    "import matplotlib.pyplot as plt\n",
    "import sys\n",
    "import pandas as pd\n",
    "import imageio\n",
    "from tqdm import tqdm\n",
    "import pickle"
   ]
  },
  {
   "cell_type": "code",
   "execution_count": 3,
   "metadata": {},
   "outputs": [],
   "source": [
    "# Adding path to module\n",
    "sys.path.append(\"../\")"
   ]
  },
  {
   "cell_type": "code",
   "execution_count": 4,
   "metadata": {},
   "outputs": [],
   "source": [
    "# picture path\n",
    "PICS = '../pics/'"
   ]
  },
  {
   "cell_type": "code",
   "execution_count": 5,
   "metadata": {},
   "outputs": [],
   "source": [
    "# Module imports\n",
    "from fourth_day import Fourth_Day, config"
   ]
  },
  {
   "cell_type": "code",
   "execution_count": 6,
   "metadata": {},
   "outputs": [],
   "source": [
    "# Some example settings\n",
    "config['scenario']['population size'] = 100\n",
    "config['scenario']['duration'] = 6000\n",
    "config['scenario']['organism movement'] = False\n",
    "config['scenario']['exclusion'] = True\n",
    "config['scenario']['injection']['rate'] = 1\n",
    "config['scenario']['injection']['y range'] = [0., 10.]\n",
    "config['scenario']['light prop'] = {\n",
    "            \"switch\": True,\n",
    "            \"x_pos\": 5.,\n",
    "            \"y_pos\": 10.,\n",
    "        }\n",
    "config['scenario']['detector'] = {\n",
    "    \"switch\": True,\n",
    "    \"type\": \"PMTSpec\",\n",
    "    \"response\": True,\n",
    "    \"acceptance\": \"Flat\",\n",
    "    \"mean detection prob\": 0.5\n",
    "}\n",
    "# Organisms \n",
    "config['organisms']['emission fraction'] = 0.1\n",
    "config['organisms']['alpha'] = 2.\n",
    "config['organisms']['photon yield'] = 1e10\n",
    "# Geometry\n",
    "config['geometry']['volume'] = {\n",
    "    'function': 'rectangle',\n",
    "    'x_length': 26.,\n",
    "    'y_length': 10.,\n",
    "    'offset': None,\n",
    "}\n",
    "config['geometry']['observation'] = {\n",
    "    'function': 'rectangle',\n",
    "    'x_length': 26.,\n",
    "    'y_length': 10.,\n",
    "    \"offset\": np.array([0., 0.]),\n",
    "}\n",
    "config['geometry'][\"exclusion\"] = {\n",
    "    \"function\": \"sphere\",\n",
    "    \"radius\": 0.15,\n",
    "    \"x_pos\": 2.,\n",
    "    \"y_pos\": 5.,\n",
    "}\n",
    "# Water\n",
    "config['water']['model']['name'] = 'custom' # 'potential cylinder'\n",
    "config['water']['model']['directory'] = \"../data/current/long_run/\"\n",
    "config['water']['model']['time step'] = 0.1\n",
    "config['advanced']['starting step'] = 0"
   ]
  },
  {
   "cell_type": "code",
   "execution_count": 7,
   "metadata": {},
   "outputs": [],
   "source": [
    "# Which detectors we want to use\n",
    "wavelengths = {\n",
    "    \"Detector 1\": [\"1\", \"#4575b4\"],\n",
    "    \"Detector 5\": [\"2\", \"#91bfdb\"],\n",
    "    \"Detector 8\": [\"3\", \"#e0f3f8\"],\n",
    "    \"Detector 3\": [\"4\", \"#fee090\"],\n",
    "    \"Detector 10\": [\"5\", \"#fc8d59\"],\n",
    "}"
   ]
  },
  {
   "cell_type": "code",
   "execution_count": null,
   "metadata": {},
   "outputs": [
    {
     "name": "stderr",
     "output_type": "stream",
     "text": [
      " 25%|██████████████████▌                                                       | 25/100 [7:44:01<24:18:05, 1166.47s/it]"
     ]
    }
   ],
   "source": [
    "# Launching multiple simulations to use in the analysis\n",
    "seeds = np.arange(100)\n",
    "counter = 0\n",
    "for seed in tqdm(seeds):\n",
    "    # General\n",
    "    config[\"general\"][\"random state seed\"] = seed\n",
    "    # Creating a fourth_day object\n",
    "    fd = Fourth_Day()\n",
    "    # Launching solver\n",
    "    fd.sim()\n",
    "    # Fetching relevant data\n",
    "    # Totals\n",
    "    total = fd.measured[\"Detector 1\"].values\n",
    "    for detector in wavelengths.keys():\n",
    "        if detector == \"Detector 1\":\n",
    "            continue\n",
    "        fd.measured[detector].values\n",
    "        total += fd.measured[detector].values\n",
    "    storage_dic = {\n",
    "        \"time\": fd.t,\n",
    "        \"data\": total\n",
    "    }\n",
    "    pickle.dump(storage_dic, open(\"../data/storage/run_%d.p\" % counter, \"wb\"))\n",
    "    counter += 1"
   ]
  },
  {
   "cell_type": "code",
   "execution_count": null,
   "metadata": {},
   "outputs": [],
   "source": [
    "# Plotting standards\n",
    "std_size = 3.\n",
    "fontsize = 10.\n",
    "lw=1.\n",
    "h_length=0.2"
   ]
  },
  {
   "cell_type": "code",
   "execution_count": null,
   "metadata": {},
   "outputs": [],
   "source": [
    "from matplotlib import rc\n",
    "rc('font',**{'family':'sans-serif','sans-serif':['Helvetica']})\n",
    "## for Palatino and other serif fonts use:\n",
    "#rc('font',**{'family':'serif','serif':['Palatino']})\n",
    "rc('text', usetex=True)"
   ]
  },
  {
   "cell_type": "code",
   "execution_count": null,
   "metadata": {},
   "outputs": [],
   "source": [
    "def smooth(y, box_pts):\n",
    "    box = np.ones(box_pts)/box_pts\n",
    "    y_smooth = np.convolve(y, box, mode='same')\n",
    "    return y_smooth"
   ]
  },
  {
   "cell_type": "code",
   "execution_count": null,
   "metadata": {},
   "outputs": [],
   "source": [
    "from itertools import groupby\n",
    "def scramble_data(data, toprint=False):\n",
    "    peaks = np.array([list(v) for k,v in groupby(data, key = lambda x: x != 0) if k != 0])\n",
    "    number_of_peaks = len(peaks)\n",
    "    number_of_elements = np.sum(np.array([len(it) for it in peaks]))\n",
    "    total_number_of_elements = data.shape[0]\n",
    "    number_of_pauses = total_number_of_elements - number_of_elements\n",
    "    peak_order = np.arange(len(peaks))\n",
    "    np.random.shuffle(peak_order)\n",
    "    if toprint:\n",
    "        print(number_of_pauses)\n",
    "        print(number_of_peaks)\n",
    "    peak_pos = np.random.choice(number_of_pauses, size=number_of_peaks, replace=False)\n",
    "    peak_pos = np.sort(peak_pos)\n",
    "    peak_diffs = np.diff(peak_pos)\n",
    "    zero_arrs = np.array([\n",
    "        np.zeros(peak_diff)\n",
    "        for peak_diff in peak_diffs\n",
    "    ])\n",
    "    # Need to add 0\n",
    "    to_add = np.zeros(number_of_pauses - np.sum(peak_diffs))\n",
    "    list_form = zero_arrs.tolist()\n",
    "    list_form.append(to_add)\n",
    "    zero_arrs = np.array(list_form)\n",
    "    splitting_base = np.array([\n",
    "        np.concatenate((zero_arrs[i], peaks[i]))\n",
    "        for i in peak_order\n",
    "    ])\n",
    "    new_data = np.array([item for sublist in splitting_base for item in sublist])\n",
    "    return new_data"
   ]
  },
  {
   "cell_type": "code",
   "execution_count": null,
   "metadata": {},
   "outputs": [],
   "source": [
    "# Loading data\n",
    "counter = 0\n",
    "totals = []\n",
    "for seed in seeds:\n",
    "    totals.append(pickle.load(open(\"../data/storage/run_%d.p\" % counter, \"rb\"))[\"data\"])\n",
    "    counter += 1\n",
    "totals = np.array(totals)"
   ]
  },
  {
   "cell_type": "code",
   "execution_count": null,
   "metadata": {},
   "outputs": [],
   "source": [
    "# Scambling multiple times\n",
    "scrambled_array = np.array([\n",
    "    scramble_data(totals[i], toprint=False)\n",
    "    for i in range(len(totals))\n",
    "])\n",
    "# The fft\n",
    "fft_det_data = np.fft.fft(totals, norm='ortho', axis=1)\n",
    "fft_freq_data = np.fft.fftfreq(totals[0].size, d=0.1)\n",
    "fft_det_bkgrd = np.fft.fft(scrambled_array, norm='ortho', axis=1)\n",
    "fft_freq_bkgrd = np.fft.fftfreq(scrambled_array[0].size, d=0.1)\n",
    "# The mean and std\n",
    "mean_arr_data = np.mean(np.abs(fft_det_data.real) / 1e7, axis=0, dtype=np.float64)\n",
    "mean_arr_bkgrd = np.mean(np.abs(fft_det_bkgrd.real) / 1e7, axis=0, dtype=np.float64)\n",
    "std_arr_bkgrd = np.std(np.abs(fft_det_bkgrd.real) / 1e7, axis=0, dtype=np.float64)"
   ]
  },
  {
   "cell_type": "code",
   "execution_count": null,
   "metadata": {},
   "outputs": [],
   "source": [
    "# Energy distributions\n",
    "figure, (ax1) = plt.subplots(1, 1, figsize=(std_size, std_size * 6. / 8.), sharex=True)\n",
    "cut_off = np.argmax(fft_freq_data)\n",
    "ax1.fill_between(fft_freq_bkgrd[:cut_off],\n",
    "                 mean_arr_bkgrd.real[:cut_off] - 2. * std_arr_bkgrd[:cut_off] * mean_arr_bkgrd.real[:cut_off],\n",
    "                 mean_arr_bkgrd.real[:cut_off] + 2. * std_arr_bkgrd[:cut_off] * mean_arr_bkgrd.real[:cut_off],\n",
    "                 color='#009C3B', alpha=1.)\n",
    "ax1.fill_between(fft_freq_bkgrd[:cut_off],\n",
    "                 mean_arr_bkgrd.real[:cut_off] - std_arr_bkgrd[:cut_off] * mean_arr_bkgrd.real[:cut_off],\n",
    "                 mean_arr_bkgrd.real[:cut_off] + std_arr_bkgrd[:cut_off] * mean_arr_bkgrd.real[:cut_off],\n",
    "                 color='#FFDF00', alpha=1.)\n",
    "ax1.plot(fft_freq_data[:cut_off],\n",
    "         mean_arr_data.real[:cut_off],\n",
    "         lw=lw, color='k')\n",
    "ax1.plot(fft_freq_bkgrd[:cut_off],\n",
    "         mean_arr_bkgrd.real[:cut_off],\n",
    "         lw=lw, color='r')\n",
    "ax1.set_xscale('linear')\n",
    "ax1.set_yscale('linear')\n",
    "ax1.set_xlabel(r'$\\nu\\;[\\mathrm{Hz}]$', fontsize=fontsize)\n",
    "ax1.set_ylabel(r'$|\\mathrm{FFT}(N_\\gamma)| / 1e7$', fontsize=fontsize)\n",
    "ax1.tick_params(axis = 'both', which = 'major', labelsize=fontsize, direction='in')\n",
    "ax1.tick_params(axis = 'both', which = 'minor', labelsize=fontsize, direction='in')\n",
    "# ax1.grid(True)\n",
    "ax1.set_ylim(0.,1.)\n",
    "ax1.set_xlim(0., 5.)\n",
    "plt.tight_layout()\n",
    "plt.show()"
   ]
  },
  {
   "cell_type": "code",
   "execution_count": null,
   "metadata": {},
   "outputs": [],
   "source": [
    "figure.savefig(PICS + \"MC_FFT.pdf\",\n",
    "               bbox_inches='tight')"
   ]
  },
  {
   "cell_type": "code",
   "execution_count": null,
   "metadata": {},
   "outputs": [],
   "source": []
  }
 ],
 "metadata": {
  "kernelspec": {
   "display_name": "Python 3",
   "language": "python",
   "name": "python3"
  },
  "language_info": {
   "codemirror_mode": {
    "name": "ipython",
    "version": 3
   },
   "file_extension": ".py",
   "mimetype": "text/x-python",
   "name": "python",
   "nbconvert_exporter": "python",
   "pygments_lexer": "ipython3",
   "version": "3.7.6"
  }
 },
 "nbformat": 4,
 "nbformat_minor": 2
}
