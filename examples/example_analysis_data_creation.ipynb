{
 "cells": [
  {
   "cell_type": "code",
   "execution_count": null,
   "metadata": {},
   "outputs": [],
   "source": [
    "# Name: example_analysis_data_creation.ipynb\n",
    "# uthors: Stephan Meighen-Berger\n",
    "# Example how to construct a data set to use for later analyses"
   ]
  },
  {
   "cell_type": "code",
   "execution_count": null,
   "metadata": {},
   "outputs": [],
   "source": [
    "# General imports\n",
    "import numpy as np\n",
    "import matplotlib.pyplot as plt\n",
    "import sys\n",
    "from tqdm import tqdm\n",
    "import pickle"
   ]
  },
  {
   "cell_type": "code",
   "execution_count": null,
   "metadata": {},
   "outputs": [],
   "source": [
    "# Adding path to module\n",
    "sys.path.append(\"../\")"
   ]
  },
  {
   "cell_type": "code",
   "execution_count": null,
   "metadata": {},
   "outputs": [],
   "source": [
    "# picture path\n",
    "PICS = '../pics/'"
   ]
  },
  {
   "cell_type": "code",
   "execution_count": null,
   "metadata": {},
   "outputs": [],
   "source": [
    "# Module imports\n",
    "from fourth_day import Fourth_Day, config"
   ]
  },
  {
   "cell_type": "code",
   "execution_count": null,
   "metadata": {},
   "outputs": [],
   "source": [
    "# Settings used in this analysis\n",
    "config['scenario']['population size'] = 100\n",
    "config['scenario']['duration'] = 6000\n",
    "config['scenario']['organism movement'] = False\n",
    "config['scenario']['exclusion'] = True\n",
    "config['scenario']['injection']['rate'] = 1\n",
    "config['scenario']['injection']['y range'] = [0., 10.]\n",
    "config['scenario']['light prop'] = {\n",
    "            \"switch\": True,\n",
    "            \"x_pos\": 5.,\n",
    "            \"y_pos\": 10.,\n",
    "        }\n",
    "config['scenario']['detector'] = {\n",
    "    \"switch\": True,\n",
    "    \"type\": \"PMTSpec2\",\n",
    "    \"response\": True,\n",
    "    \"acceptance\": \"Flat\",\n",
    "    \"mean detection prob\": 0.5\n",
    "}\n",
    "# Organisms \n",
    "config['organisms']['emission fraction'] = 0.1\n",
    "config['organisms']['alpha'] = 2.\n",
    "# Geometry\n",
    "config['geometry']['volume'] = {\n",
    "    'function': 'rectangle',\n",
    "    'x_length': 26.,\n",
    "    'y_length': 10.,\n",
    "    'offset': None,\n",
    "}\n",
    "config['geometry']['observation'] = {\n",
    "    'function': 'rectangle',\n",
    "    'x_length': 26.,\n",
    "    'y_length': 10.,\n",
    "    \"offset\": np.array([0., 0.]),\n",
    "}\n",
    "config['geometry'][\"exclusion\"] = {\n",
    "    \"function\": \"sphere\",\n",
    "    \"radius\": 0.15,\n",
    "    \"x_pos\": 2.,\n",
    "    \"y_pos\": 5.,\n",
    "}\n",
    "# Water\n",
    "config['water']['model']['name'] = 'custom' # 'potential cylinder'\n",
    "config['water']['model']['directory'] = \"../data/current/long_run/\"\n",
    "config['water']['model']['time step'] = 0.1\n",
    "config['advanced']['starting step'] = 0\n",
    "# Detector\n",
    "config['geometry'][\"detector properties\"][\"PMTSpec2\"] = {\n",
    "    \"x_pos\": 2.,\n",
    "    \"y_pos\": 5.,\n",
    "    \"det num\": 12, #12 pmts numbered by position \n",
    "    \"x_offsets\": np.array(\n",
    "        [0.1,0.,-0.1,0., 0.12,-0.12,-0.12,0.12, 0.2,-0.04,-0.2,0.04]\n",
    "    ) / 2., #test radius 0.3 meter, real radius 0.15 meter\n",
    "    \"y_offsets\": np.array(\n",
    "        [0.,0.1,0.,-0.1,  0.12,0.12,-0.12,-0.12, 0.04,0.2,-0.04,-0.2]\n",
    "    ) / 2.,\n",
    "    \"opening angle\": 360., # Allowing for a full view of the surroundings\n",
    "    \"wavelength acceptance\": [ #position number,center wavelength,quantum efficiency\n",
    "        [395., 405.,0.26], #0,400\n",
    "        [505., 515.,0.16], #1,510\n",
    "        [420., 430.,0.28], #2,425\n",
    "        [465., 475.,0.23], #3,470\n",
    "        [300., 600.,1.], #4,no filter\n",
    "        [487., 497.,0.1], #5,492\n",
    "        [540., 560.,0.1], #6,550\n",
    "        [515., 535.,0.13], #7,525\n",
    "        [475., 485.,0.2], #8,480\n",
    "        [445., 455.,0.2], #9,450\n",
    "        [455., 465.,0.23], #10,460\n",
    "        [325., 375.,0.3], #11,350                                     \n",
    "    ],\n",
    "}"
   ]
  },
  {
   "cell_type": "code",
   "execution_count": null,
   "metadata": {},
   "outputs": [],
   "source": [
    "# Which detectors we want to use\n",
    "wavelengths = {\n",
    "    \"Detector 1\": [\"1\", \"#4575b4\"],\n",
    "    \"Detector 5\": [\"2\", \"#91bfdb\"],\n",
    "    \"Detector 8\": [\"3\", \"#e0f3f8\"],\n",
    "    \"Detector 3\": [\"4\", \"#fee090\"],\n",
    "    \"Detector 10\": [\"5\", \"#fc8d59\"],\n",
    "}"
   ]
  },
  {
   "cell_type": "code",
   "execution_count": null,
   "metadata": {},
   "outputs": [],
   "source": [
    "# Launching multiple simulations to use in the analysis\n",
    "seeds = np.arange(100)[1:]\n",
    "print(seeds)\n",
    "counter = 0\n",
    "for seed in tqdm(seeds):\n",
    "    # General\n",
    "    config[\"general\"][\"random state seed\"] = seed\n",
    "    # Creating a fourth_day object\n",
    "    fd = Fourth_Day()\n",
    "    # Launching solver\n",
    "    fd.sim()\n",
    "    # Fetching relevant data\n",
    "    # Totals\n",
    "    total = fd.measured[\"Detector 1\"].values\n",
    "    for detector in wavelengths.keys():\n",
    "        if detector == \"Detector 1\":\n",
    "            continue\n",
    "        fd.measured[detector].values\n",
    "        total += fd.measured[detector].values\n",
    "    storage_dic = {\n",
    "        \"time\": fd.t,\n",
    "        \"data\": total\n",
    "    }\n",
    "    pickle.dump(storage_dic, open(\"../data/storage/vort_run_%d.p\" % counter, \"wb\"))\n",
    "    counter += 1"
   ]
  }
 ],
 "metadata": {
  "kernelspec": {
   "display_name": "Python 3",
   "language": "python",
   "name": "python3"
  },
  "language_info": {
   "codemirror_mode": {
    "name": "ipython",
    "version": 3
   },
   "file_extension": ".py",
   "mimetype": "text/x-python",
   "name": "python",
   "nbconvert_exporter": "python",
   "pygments_lexer": "ipython3",
   "version": "3.7.6"
  }
 },
 "nbformat": 4,
 "nbformat_minor": 2
}
